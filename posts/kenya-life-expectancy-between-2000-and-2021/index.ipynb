{
 "cells": [
  {
   "cell_type": "markdown",
   "metadata": {},
   "source": [
    "<!-- metadata: title -->\n",
    "# Life Expectancy by sex between 2000 and 2021 in Kenya (WHO)\n",
    "\n",
    "<!-- metadata: subtitle -->\n",
    "> ### Plot showing the life expectancy using data from the World Health Organization (WHO) between 2000 and 2021 in Kenya.\n",
    "<!-- metadata: -->\n",
    "\n",
    "**Published Date:**\n",
    "<!-- metadata: date -->\n",
    "2025-03-10\n",
    "<!-- metadata: -->\n",
    "\n",
    "**Keywords:**\n",
    "<!-- metadata: keywords, is_array=true -->\n",
    "  - kenya\n",
    "  - population\n",
    "  - year-2000\n",
    "  - year-2021\n",
    "  - life-expectancy\n",
    "  - WHO\n",
    "<!-- metadata: -->\n",
    "\n",
    "**Categories:**\n",
    "<!-- metadata: categories, is_array=true -->\n",
    "  - data-science\n",
    "<!-- metadata: -->"
   ]
  },
  {
   "cell_type": "markdown",
   "metadata": {},
   "source": [
    "#### Imports"
   ]
  },
  {
   "cell_type": "code",
   "execution_count": 5,
   "metadata": {},
   "outputs": [],
   "source": [
    "#| code-fold: true\n",
    "\n",
    "import pandas as pd\n",
    "import urllib.parse\n",
    "import matplotlib.pyplot as plt\n",
    "import seaborn as sns\n",
    "\n",
    "def plot_who_data(\n",
    "        raw_data: pd.DataFrame, \n",
    "        title: str, \n",
    "        year_col = \"Year\", \n",
    "        value_col = \"Value\", \n",
    "        pivot_columns = \"Sex\", \n",
    "        pivot_data_columns = [\n",
    "            {\n",
    "                \"name\": \"TOTAL\",\n",
    "                \"options\": {\n",
    "                    'marker': 'o',\n",
    "                    'linewidth': 2,\n",
    "                    'color': 'purple'\n",
    "                }\n",
    "            },\n",
    "            {\n",
    "                \"name\": \"MALE\",\n",
    "                \"options\": {\n",
    "                    'marker': 's',\n",
    "                    'linewidth': 2,\n",
    "                    'color': 'blue'\n",
    "                }\n",
    "            },\n",
    "            {\n",
    "                \"name\": \"FEMALE\",\n",
    "                \"options\": {\n",
    "                    'marker': '^',\n",
    "                    'linewidth': 2,\n",
    "                    'color': 'pink'\n",
    "                }\n",
    "            },\n",
    "        ]):\n",
    "    data = raw_data.copy()\n",
    "    # Convert Year to numeric and Value to float\n",
    "    data[year_col] = pd.to_numeric(data[year_col])\n",
    "    data[value_col] = pd.to_numeric(data[value_col])\n",
    "    # Pivot the data to have columns for each sex category\n",
    "    pivot_data = data.pivot_table(index=year_col, columns=pivot_columns, values=value_col)\n",
    "    # Set the style\n",
    "    sns.set_style(\"whitegrid\")\n",
    "    fig, ax = plt.subplots(figsize=(12, 6))\n",
    "    # Plot the data\n",
    "    for column in pivot_data_columns:\n",
    "        sex = column['name']\n",
    "        ax.plot(pivot_data.index, pivot_data[sex], label=sex, **column['options'])\n",
    "    # Add title and labels\n",
    "    ax.set_title(title, fontsize=16)\n",
    "    ax.set_xlabel(year_col, fontsize=12)\n",
    "    ax.set_ylabel(value_col, fontsize=12)\n",
    "    ax.legend(title=pivot_columns)\n",
    "    ax.grid(True, alpha=0.3)\n",
    "    # Add some annotations - show max and min values\n",
    "    for sex in pivot_data.columns:\n",
    "        max_year = pivot_data[sex].idxmax()\n",
    "        max_val = pivot_data[sex].max()\n",
    "        ax.annotate(f\"max: {max_val:.1f}\", \n",
    "                    xy=(max_year, max_val),\n",
    "                    xytext=(5, 5),\n",
    "                    textcoords='offset points',\n",
    "                    fontsize=9)\n",
    "    # Adjust the layout\n",
    "    fig.tight_layout()\n",
    "    # Add data source note\n",
    "    fig.text(0.1, 0.01, \"Data Source: WHO Xmart API\", fontsize=8, style='italic')\n",
    "    # Add a watermark to the center of the plot\n",
    "    ax.text(0.95, 0.02, 'ToKnow.ai', ha='right', va='bottom', \n",
    "        fontsize=18, color='gray', alpha=0.5, transform=ax.transAxes, rotation=45)\n",
    "\n",
    "def url_encode(url):\n",
    "    return urllib.parse.quote(url, safe=\":/?&=$\")"
   ]
  },
  {
   "cell_type": "markdown",
   "metadata": {},
   "source": [
    "### Life expectancy, Kenya\n",
    "\n",
    "The average number of years that a newborn could expect to live. Kenya, by sex, 2000 - 2021."
   ]
  },
  {
   "cell_type": "code",
   "execution_count": 6,
   "metadata": {},
   "outputs": [
    {
     "data": {
      "application/vnd.microsoft.datawrangler.viewer.v0+json": {
       "columns": [
        {
         "name": "index",
         "rawType": "int64",
         "type": "integer"
        },
        {
         "name": "Country Code",
         "rawType": "int64",
         "type": "integer"
        },
        {
         "name": "Country",
         "rawType": "object",
         "type": "string"
        },
        {
         "name": "Year",
         "rawType": "int64",
         "type": "integer"
        },
        {
         "name": "Indicator",
         "rawType": "object",
         "type": "string"
        },
        {
         "name": "Sex",
         "rawType": "object",
         "type": "string"
        },
        {
         "name": "Life expectancy (at birth)",
         "rawType": "float64",
         "type": "float"
        }
       ],
       "conversionMethod": "pd.DataFrame",
       "ref": "2ba009c9-0415-4e7c-8f38-296541ce28be",
       "rows": [
        [
         "0",
         "404",
         "Kenya",
         "2009",
         "Life expectancy (at birth)",
         "TOTAL",
         "60.49062126"
        ],
        [
         "1",
         "404",
         "Kenya",
         "2010",
         "Life expectancy (at birth)",
         "TOTAL",
         "61.28276083"
        ],
        [
         "2",
         "404",
         "Kenya",
         "2012",
         "Life expectancy (at birth)",
         "TOTAL",
         "62.61585724"
        ],
        [
         "3",
         "404",
         "Kenya",
         "2014",
         "Life expectancy (at birth)",
         "TOTAL",
         "63.63694431"
        ],
        [
         "4",
         "404",
         "Kenya",
         "2001",
         "Life expectancy (at birth)",
         "TOTAL",
         "54.33283599"
        ],
        [
         "5",
         "404",
         "Kenya",
         "2000",
         "Life expectancy (at birth)",
         "MALE",
         "52.94196865"
        ],
        [
         "6",
         "404",
         "Kenya",
         "2013",
         "Life expectancy (at birth)",
         "MALE",
         "60.66287275"
        ],
        [
         "7",
         "404",
         "Kenya",
         "2015",
         "Life expectancy (at birth)",
         "MALE",
         "61.87347295"
        ],
        [
         "8",
         "404",
         "Kenya",
         "2019",
         "Life expectancy (at birth)",
         "MALE",
         "64.06662086"
        ],
        [
         "9",
         "404",
         "Kenya",
         "2005",
         "Life expectancy (at birth)",
         "MALE",
         "55.00233198"
        ],
        [
         "10",
         "404",
         "Kenya",
         "2006",
         "Life expectancy (at birth)",
         "MALE",
         "55.92117369"
        ],
        [
         "11",
         "404",
         "Kenya",
         "2016",
         "Life expectancy (at birth)",
         "MALE",
         "62.60123826"
        ],
        [
         "12",
         "404",
         "Kenya",
         "2002",
         "Life expectancy (at birth)",
         "TOTAL",
         "54.58698847"
        ],
        [
         "13",
         "404",
         "Kenya",
         "2004",
         "Life expectancy (at birth)",
         "TOTAL",
         "55.51027953"
        ],
        [
         "14",
         "404",
         "Kenya",
         "2005",
         "Life expectancy (at birth)",
         "TOTAL",
         "56.3951405"
        ],
        [
         "15",
         "404",
         "Kenya",
         "2015",
         "Life expectancy (at birth)",
         "TOTAL",
         "64.29968929"
        ],
        [
         "16",
         "404",
         "Kenya",
         "2016",
         "Life expectancy (at birth)",
         "TOTAL",
         "65.03249549"
        ],
        [
         "17",
         "404",
         "Kenya",
         "2020",
         "Life expectancy (at birth)",
         "TOTAL",
         "66.79345007"
        ],
        [
         "18",
         "404",
         "Kenya",
         "2008",
         "Life expectancy (at birth)",
         "TOTAL",
         "59.48455643"
        ],
        [
         "19",
         "404",
         "Kenya",
         "2011",
         "Life expectancy (at birth)",
         "TOTAL",
         "61.98126671"
        ],
        [
         "20",
         "404",
         "Kenya",
         "2007",
         "Life expectancy (at birth)",
         "TOTAL",
         "58.55063756"
        ],
        [
         "21",
         "404",
         "Kenya",
         "2013",
         "Life expectancy (at birth)",
         "TOTAL",
         "63.11575218"
        ],
        [
         "22",
         "404",
         "Kenya",
         "2000",
         "Life expectancy (at birth)",
         "TOTAL",
         "54.09203911"
        ],
        [
         "23",
         "404",
         "Kenya",
         "2003",
         "Life expectancy (at birth)",
         "TOTAL",
         "54.91168271"
        ],
        [
         "24",
         "404",
         "Kenya",
         "2000",
         "Life expectancy (at birth)",
         "FEMALE",
         "55.21709328"
        ],
        [
         "25",
         "404",
         "Kenya",
         "2001",
         "Life expectancy (at birth)",
         "FEMALE",
         "55.4471532"
        ],
        [
         "26",
         "404",
         "Kenya",
         "2004",
         "Life expectancy (at birth)",
         "FEMALE",
         "56.75644333"
        ],
        [
         "27",
         "404",
         "Kenya",
         "2009",
         "Life expectancy (at birth)",
         "FEMALE",
         "62.30661294"
        ],
        [
         "28",
         "404",
         "Kenya",
         "2013",
         "Life expectancy (at birth)",
         "FEMALE",
         "65.6549994"
        ],
        [
         "29",
         "404",
         "Kenya",
         "2014",
         "Life expectancy (at birth)",
         "FEMALE",
         "66.14180191"
        ],
        [
         "30",
         "404",
         "Kenya",
         "2020",
         "Life expectancy (at birth)",
         "FEMALE",
         "69.67346734"
        ],
        [
         "31",
         "404",
         "Kenya",
         "2021",
         "Life expectancy (at birth)",
         "FEMALE",
         "69.21556653"
        ],
        [
         "32",
         "404",
         "Kenya",
         "2014",
         "Life expectancy (at birth)",
         "MALE",
         "61.21060467"
        ],
        [
         "33",
         "404",
         "Kenya",
         "2017",
         "Life expectancy (at birth)",
         "MALE",
         "63.14667616"
        ],
        [
         "34",
         "404",
         "Kenya",
         "2018",
         "Life expectancy (at birth)",
         "MALE",
         "63.62994007"
        ],
        [
         "35",
         "404",
         "Kenya",
         "2020",
         "Life expectancy (at birth)",
         "MALE",
         "64.06213434"
        ],
        [
         "36",
         "404",
         "Kenya",
         "2001",
         "Life expectancy (at birth)",
         "MALE",
         "53.19375135"
        ],
        [
         "37",
         "404",
         "Kenya",
         "2003",
         "Life expectancy (at birth)",
         "MALE",
         "53.74264828"
        ],
        [
         "38",
         "404",
         "Kenya",
         "2004",
         "Life expectancy (at birth)",
         "MALE",
         "54.24843597"
        ],
        [
         "39",
         "404",
         "Kenya",
         "2008",
         "Life expectancy (at birth)",
         "MALE",
         "57.70174496"
        ],
        [
         "40",
         "404",
         "Kenya",
         "2009",
         "Life expectancy (at birth)",
         "MALE",
         "58.68102551"
        ],
        [
         "41",
         "404",
         "Kenya",
         "2012",
         "Life expectancy (at birth)",
         "MALE",
         "60.20588179"
        ],
        [
         "42",
         "404",
         "Kenya",
         "2021",
         "Life expectancy (at birth)",
         "MALE",
         "64.39587676"
        ],
        [
         "43",
         "404",
         "Kenya",
         "2015",
         "Life expectancy (at birth)",
         "FEMALE",
         "66.7976816"
        ],
        [
         "44",
         "404",
         "Kenya",
         "2016",
         "Life expectancy (at birth)",
         "FEMALE",
         "67.52974996"
        ],
        [
         "45",
         "404",
         "Kenya",
         "2017",
         "Life expectancy (at birth)",
         "FEMALE",
         "68.14162501"
        ],
        [
         "46",
         "404",
         "Kenya",
         "2003",
         "Life expectancy (at birth)",
         "FEMALE",
         "56.0563909"
        ],
        [
         "47",
         "404",
         "Kenya",
         "2008",
         "Life expectancy (at birth)",
         "FEMALE",
         "61.27799403"
        ],
        [
         "48",
         "404",
         "Kenya",
         "2010",
         "Life expectancy (at birth)",
         "FEMALE",
         "63.13132468"
        ],
        [
         "49",
         "404",
         "Kenya",
         "2007",
         "Life expectancy (at birth)",
         "MALE",
         "56.89152192"
        ]
       ],
       "shape": {
        "columns": 6,
        "rows": 65
       }
      },
      "text/html": [
       "<div>\n",
       "<style scoped>\n",
       "    .dataframe tbody tr th:only-of-type {\n",
       "        vertical-align: middle;\n",
       "    }\n",
       "\n",
       "    .dataframe tbody tr th {\n",
       "        vertical-align: top;\n",
       "    }\n",
       "\n",
       "    .dataframe thead th {\n",
       "        text-align: right;\n",
       "    }\n",
       "</style>\n",
       "<table border=\"1\" class=\"dataframe\">\n",
       "  <thead>\n",
       "    <tr style=\"text-align: right;\">\n",
       "      <th></th>\n",
       "      <th>Country Code</th>\n",
       "      <th>Country</th>\n",
       "      <th>Year</th>\n",
       "      <th>Indicator</th>\n",
       "      <th>Sex</th>\n",
       "      <th>Life expectancy (at birth)</th>\n",
       "    </tr>\n",
       "  </thead>\n",
       "  <tbody>\n",
       "    <tr>\n",
       "      <th>0</th>\n",
       "      <td>404</td>\n",
       "      <td>Kenya</td>\n",
       "      <td>2009</td>\n",
       "      <td>Life expectancy (at birth)</td>\n",
       "      <td>TOTAL</td>\n",
       "      <td>60.490621</td>\n",
       "    </tr>\n",
       "    <tr>\n",
       "      <th>1</th>\n",
       "      <td>404</td>\n",
       "      <td>Kenya</td>\n",
       "      <td>2010</td>\n",
       "      <td>Life expectancy (at birth)</td>\n",
       "      <td>TOTAL</td>\n",
       "      <td>61.282761</td>\n",
       "    </tr>\n",
       "    <tr>\n",
       "      <th>2</th>\n",
       "      <td>404</td>\n",
       "      <td>Kenya</td>\n",
       "      <td>2012</td>\n",
       "      <td>Life expectancy (at birth)</td>\n",
       "      <td>TOTAL</td>\n",
       "      <td>62.615857</td>\n",
       "    </tr>\n",
       "    <tr>\n",
       "      <th>3</th>\n",
       "      <td>404</td>\n",
       "      <td>Kenya</td>\n",
       "      <td>2014</td>\n",
       "      <td>Life expectancy (at birth)</td>\n",
       "      <td>TOTAL</td>\n",
       "      <td>63.636944</td>\n",
       "    </tr>\n",
       "    <tr>\n",
       "      <th>4</th>\n",
       "      <td>404</td>\n",
       "      <td>Kenya</td>\n",
       "      <td>2001</td>\n",
       "      <td>Life expectancy (at birth)</td>\n",
       "      <td>TOTAL</td>\n",
       "      <td>54.332836</td>\n",
       "    </tr>\n",
       "    <tr>\n",
       "      <th>...</th>\n",
       "      <td>...</td>\n",
       "      <td>...</td>\n",
       "      <td>...</td>\n",
       "      <td>...</td>\n",
       "      <td>...</td>\n",
       "      <td>...</td>\n",
       "    </tr>\n",
       "    <tr>\n",
       "      <th>60</th>\n",
       "      <td>404</td>\n",
       "      <td>Kenya</td>\n",
       "      <td>2019</td>\n",
       "      <td>Life expectancy (at birth)</td>\n",
       "      <td>FEMALE</td>\n",
       "      <td>68.991063</td>\n",
       "    </tr>\n",
       "    <tr>\n",
       "      <th>61</th>\n",
       "      <td>404</td>\n",
       "      <td>Kenya</td>\n",
       "      <td>2006</td>\n",
       "      <td>Life expectancy (at birth)</td>\n",
       "      <td>FEMALE</td>\n",
       "      <td>59.008718</td>\n",
       "    </tr>\n",
       "    <tr>\n",
       "      <th>62</th>\n",
       "      <td>404</td>\n",
       "      <td>Kenya</td>\n",
       "      <td>2007</td>\n",
       "      <td>Life expectancy (at birth)</td>\n",
       "      <td>FEMALE</td>\n",
       "      <td>60.214093</td>\n",
       "    </tr>\n",
       "    <tr>\n",
       "      <th>63</th>\n",
       "      <td>404</td>\n",
       "      <td>Kenya</td>\n",
       "      <td>2011</td>\n",
       "      <td>Life expectancy (at birth)</td>\n",
       "      <td>FEMALE</td>\n",
       "      <td>64.116368</td>\n",
       "    </tr>\n",
       "    <tr>\n",
       "      <th>64</th>\n",
       "      <td>404</td>\n",
       "      <td>Kenya</td>\n",
       "      <td>2018</td>\n",
       "      <td>Life expectancy (at birth)</td>\n",
       "      <td>FEMALE</td>\n",
       "      <td>68.566521</td>\n",
       "    </tr>\n",
       "  </tbody>\n",
       "</table>\n",
       "<p>65 rows × 6 columns</p>\n",
       "</div>"
      ],
      "text/plain": [
       "    Country Code Country  Year                   Indicator     Sex  \\\n",
       "0            404   Kenya  2009  Life expectancy (at birth)   TOTAL   \n",
       "1            404   Kenya  2010  Life expectancy (at birth)   TOTAL   \n",
       "2            404   Kenya  2012  Life expectancy (at birth)   TOTAL   \n",
       "3            404   Kenya  2014  Life expectancy (at birth)   TOTAL   \n",
       "4            404   Kenya  2001  Life expectancy (at birth)   TOTAL   \n",
       "..           ...     ...   ...                         ...     ...   \n",
       "60           404   Kenya  2019  Life expectancy (at birth)  FEMALE   \n",
       "61           404   Kenya  2006  Life expectancy (at birth)  FEMALE   \n",
       "62           404   Kenya  2007  Life expectancy (at birth)  FEMALE   \n",
       "63           404   Kenya  2011  Life expectancy (at birth)  FEMALE   \n",
       "64           404   Kenya  2018  Life expectancy (at birth)  FEMALE   \n",
       "\n",
       "    Life expectancy (at birth)  \n",
       "0                    60.490621  \n",
       "1                    61.282761  \n",
       "2                    62.615857  \n",
       "3                    63.636944  \n",
       "4                    54.332836  \n",
       "..                         ...  \n",
       "60                   68.991063  \n",
       "61                   59.008718  \n",
       "62                   60.214093  \n",
       "63                   64.116368  \n",
       "64                   68.566521  \n",
       "\n",
       "[65 rows x 6 columns]"
      ]
     },
     "execution_count": 6,
     "metadata": {},
     "output_type": "execute_result"
    }
   ],
   "source": [
    "life_expectancy_filter = \"IND_ID eq '90E2E48WHOSIS_000001' and GEO_NAME_SHORT eq 'Kenya'\"\n",
    "life_expectancy_select = \"DIM_GEO_CODE_M49, GEO_NAME_SHORT, DIM_TIME, IND_NAME, DIM_SEX, AMOUNT_N\"\n",
    "life_expectancy_data = pd.read_csv(url_encode(\n",
    "    f\"https://xmart-api-public.who.int/DATA_/RELAY_WHS?$filter={life_expectancy_filter}&$select={life_expectancy_select}&$format=csv\"),\n",
    "    names=[\n",
    "        \"Country Code\",\n",
    "        \"Country\",\n",
    "        \"Year\",\n",
    "        \"Indicator\",\n",
    "        \"Sex\",\n",
    "        \"Life expectancy (at birth)\"\n",
    "    ],\n",
    "    header=1)\n",
    "\n",
    "life_expectancy_data"
   ]
  },
  {
   "cell_type": "code",
   "execution_count": 7,
   "metadata": {},
   "outputs": [
    {
     "data": {
      "image/png": "[encoded data removed]",
      "text/plain": [
       "<Figure size 1200x600 with 1 Axes>"
      ]
     },
     "metadata": {},
     "output_type": "display_data"
    }
   ],
   "source": [
    "#| label: preview-image\n",
    "\n",
    "plot_who_data(\n",
    "    life_expectancy_data, \n",
    "    \"Life expectancy (at birth) in Kenya\", \n",
    "    value_col=\"Life expectancy (at birth)\")"
   ]
  },
  {
   "cell_type": "markdown",
   "metadata": {},
   "source": [
    "Summary Statistics"
   ]
  },
  {
   "cell_type": "code",
   "execution_count": 8,
   "metadata": {},
   "outputs": [
    {
     "data": {
      "application/vnd.microsoft.datawrangler.viewer.v0+json": {
       "columns": [
        {
         "name": "index",
         "rawType": "object",
         "type": "string"
        },
        {
         "name": "FEMALE",
         "rawType": "float64",
         "type": "float"
        },
        {
         "name": "MALE",
         "rawType": "float64",
         "type": "float"
        },
        {
         "name": "TOTAL",
         "rawType": "float64",
         "type": "float"
        }
       ],
       "conversionMethod": "pd.DataFrame",
       "ref": "48804542-4898-48f2-972d-f32d1cc5e4c8",
       "rows": [
        [
         "count",
         "22.0",
         "22.0",
         "21.0"
        ],
        [
         "mean",
         "62.856167588181826",
         "58.951729631363634",
         "61.05033939285715"
        ],
        [
         "std",
         "5.099056592751965",
         "3.9849221459614745",
         "4.563089054898606"
        ],
        [
         "min",
         "55.21709328",
         "52.94196865",
         "54.09203911"
        ],
        [
         "25%",
         "58.0878465925",
         "55.2320424075",
         "56.3951405"
        ],
        [
         "50%",
         "63.623846310000005",
         "59.656871295",
         "61.98126671"
        ],
        [
         "75%",
         "67.34673287000001",
         "62.4192969325",
         "65.03249549"
        ],
        [
         "max",
         "69.67346734",
         "64.39587676",
         "66.79345007"
        ]
       ],
       "shape": {
        "columns": 3,
        "rows": 8
       }
      },
      "text/html": [
       "<div>\n",
       "<style scoped>\n",
       "    .dataframe tbody tr th:only-of-type {\n",
       "        vertical-align: middle;\n",
       "    }\n",
       "\n",
       "    .dataframe tbody tr th {\n",
       "        vertical-align: top;\n",
       "    }\n",
       "\n",
       "    .dataframe thead th {\n",
       "        text-align: right;\n",
       "    }\n",
       "</style>\n",
       "<table border=\"1\" class=\"dataframe\">\n",
       "  <thead>\n",
       "    <tr style=\"text-align: right;\">\n",
       "      <th>Sex</th>\n",
       "      <th>FEMALE</th>\n",
       "      <th>MALE</th>\n",
       "      <th>TOTAL</th>\n",
       "    </tr>\n",
       "  </thead>\n",
       "  <tbody>\n",
       "    <tr>\n",
       "      <th>count</th>\n",
       "      <td>22.000000</td>\n",
       "      <td>22.000000</td>\n",
       "      <td>21.000000</td>\n",
       "    </tr>\n",
       "    <tr>\n",
       "      <th>mean</th>\n",
       "      <td>62.856168</td>\n",
       "      <td>58.951730</td>\n",
       "      <td>61.050339</td>\n",
       "    </tr>\n",
       "    <tr>\n",
       "      <th>std</th>\n",
       "      <td>5.099057</td>\n",
       "      <td>3.984922</td>\n",
       "      <td>4.563089</td>\n",
       "    </tr>\n",
       "    <tr>\n",
       "      <th>min</th>\n",
       "      <td>55.217093</td>\n",
       "      <td>52.941969</td>\n",
       "      <td>54.092039</td>\n",
       "    </tr>\n",
       "    <tr>\n",
       "      <th>25%</th>\n",
       "      <td>58.087847</td>\n",
       "      <td>55.232042</td>\n",
       "      <td>56.395140</td>\n",
       "    </tr>\n",
       "    <tr>\n",
       "      <th>50%</th>\n",
       "      <td>63.623846</td>\n",
       "      <td>59.656871</td>\n",
       "      <td>61.981267</td>\n",
       "    </tr>\n",
       "    <tr>\n",
       "      <th>75%</th>\n",
       "      <td>67.346733</td>\n",
       "      <td>62.419297</td>\n",
       "      <td>65.032495</td>\n",
       "    </tr>\n",
       "    <tr>\n",
       "      <th>max</th>\n",
       "      <td>69.673467</td>\n",
       "      <td>64.395877</td>\n",
       "      <td>66.793450</td>\n",
       "    </tr>\n",
       "  </tbody>\n",
       "</table>\n",
       "</div>"
      ],
      "text/plain": [
       "Sex       FEMALE       MALE      TOTAL\n",
       "count  22.000000  22.000000  21.000000\n",
       "mean   62.856168  58.951730  61.050339\n",
       "std     5.099057   3.984922   4.563089\n",
       "min    55.217093  52.941969  54.092039\n",
       "25%    58.087847  55.232042  56.395140\n",
       "50%    63.623846  59.656871  61.981267\n",
       "75%    67.346733  62.419297  65.032495\n",
       "max    69.673467  64.395877  66.793450"
      ]
     },
     "execution_count": 8,
     "metadata": {},
     "output_type": "execute_result"
    }
   ],
   "source": [
    "life_expectancy_data.pivot_table(\n",
    "    index=\"Year\", \n",
    "    columns=\"Sex\", \n",
    "    values=\"Life expectancy (at birth)\").describe()"
   ]
  },
  {
   "cell_type": "markdown",
   "metadata": {},
   "source": [
    "### Healthy life expectancy (HALE) at birth\n",
    "\n",
    "\n",
    "The average number of years that a person can expect to live in \"full health\" from birth. Kenya, by sex, 2000 - 2021."
   ]
  },
  {
   "cell_type": "code",
   "execution_count": 9,
   "metadata": {},
   "outputs": [
    {
     "data": {
      "application/vnd.microsoft.datawrangler.viewer.v0+json": {
       "columns": [
        {
         "name": "index",
         "rawType": "int64",
         "type": "integer"
        },
        {
         "name": "Country Code",
         "rawType": "int64",
         "type": "integer"
        },
        {
         "name": "Country",
         "rawType": "object",
         "type": "string"
        },
        {
         "name": "Year",
         "rawType": "int64",
         "type": "integer"
        },
        {
         "name": "Indicator",
         "rawType": "object",
         "type": "string"
        },
        {
         "name": "Sex",
         "rawType": "object",
         "type": "string"
        },
        {
         "name": "Healthy life expectancy (at birth)",
         "rawType": "float64",
         "type": "float"
        }
       ],
       "conversionMethod": "pd.DataFrame",
       "ref": "33a5c57e-4185-4cae-bc25-f0210244d545",
       "rows": [
        [
         "0",
         "404",
         "Kenya",
         "2009",
         "Life expectancy (at birth)",
         "TOTAL",
         "60.49062126"
        ],
        [
         "1",
         "404",
         "Kenya",
         "2010",
         "Life expectancy (at birth)",
         "TOTAL",
         "61.28276083"
        ],
        [
         "2",
         "404",
         "Kenya",
         "2012",
         "Life expectancy (at birth)",
         "TOTAL",
         "62.61585724"
        ],
        [
         "3",
         "404",
         "Kenya",
         "2014",
         "Life expectancy (at birth)",
         "TOTAL",
         "63.63694431"
        ],
        [
         "4",
         "404",
         "Kenya",
         "2001",
         "Life expectancy (at birth)",
         "TOTAL",
         "54.33283599"
        ],
        [
         "5",
         "404",
         "Kenya",
         "2000",
         "Life expectancy (at birth)",
         "MALE",
         "52.94196865"
        ],
        [
         "6",
         "404",
         "Kenya",
         "2013",
         "Life expectancy (at birth)",
         "MALE",
         "60.66287275"
        ],
        [
         "7",
         "404",
         "Kenya",
         "2015",
         "Life expectancy (at birth)",
         "MALE",
         "61.87347295"
        ],
        [
         "8",
         "404",
         "Kenya",
         "2019",
         "Life expectancy (at birth)",
         "MALE",
         "64.06662086"
        ],
        [
         "9",
         "404",
         "Kenya",
         "2005",
         "Life expectancy (at birth)",
         "MALE",
         "55.00233198"
        ],
        [
         "10",
         "404",
         "Kenya",
         "2006",
         "Life expectancy (at birth)",
         "MALE",
         "55.92117369"
        ],
        [
         "11",
         "404",
         "Kenya",
         "2016",
         "Life expectancy (at birth)",
         "MALE",
         "62.60123826"
        ],
        [
         "12",
         "404",
         "Kenya",
         "2002",
         "Life expectancy (at birth)",
         "TOTAL",
         "54.58698847"
        ],
        [
         "13",
         "404",
         "Kenya",
         "2004",
         "Life expectancy (at birth)",
         "TOTAL",
         "55.51027953"
        ],
        [
         "14",
         "404",
         "Kenya",
         "2005",
         "Life expectancy (at birth)",
         "TOTAL",
         "56.3951405"
        ],
        [
         "15",
         "404",
         "Kenya",
         "2015",
         "Life expectancy (at birth)",
         "TOTAL",
         "64.29968929"
        ],
        [
         "16",
         "404",
         "Kenya",
         "2016",
         "Life expectancy (at birth)",
         "TOTAL",
         "65.03249549"
        ],
        [
         "17",
         "404",
         "Kenya",
         "2020",
         "Life expectancy (at birth)",
         "TOTAL",
         "66.79345007"
        ],
        [
         "18",
         "404",
         "Kenya",
         "2008",
         "Life expectancy (at birth)",
         "TOTAL",
         "59.48455643"
        ],
        [
         "19",
         "404",
         "Kenya",
         "2011",
         "Life expectancy (at birth)",
         "TOTAL",
         "61.98126671"
        ],
        [
         "20",
         "404",
         "Kenya",
         "2007",
         "Life expectancy (at birth)",
         "TOTAL",
         "58.55063756"
        ],
        [
         "21",
         "404",
         "Kenya",
         "2013",
         "Life expectancy (at birth)",
         "TOTAL",
         "63.11575218"
        ],
        [
         "22",
         "404",
         "Kenya",
         "2000",
         "Life expectancy (at birth)",
         "TOTAL",
         "54.09203911"
        ],
        [
         "23",
         "404",
         "Kenya",
         "2003",
         "Life expectancy (at birth)",
         "TOTAL",
         "54.91168271"
        ],
        [
         "24",
         "404",
         "Kenya",
         "2000",
         "Life expectancy (at birth)",
         "FEMALE",
         "55.21709328"
        ],
        [
         "25",
         "404",
         "Kenya",
         "2001",
         "Life expectancy (at birth)",
         "FEMALE",
         "55.4471532"
        ],
        [
         "26",
         "404",
         "Kenya",
         "2004",
         "Life expectancy (at birth)",
         "FEMALE",
         "56.75644333"
        ],
        [
         "27",
         "404",
         "Kenya",
         "2009",
         "Life expectancy (at birth)",
         "FEMALE",
         "62.30661294"
        ],
        [
         "28",
         "404",
         "Kenya",
         "2013",
         "Life expectancy (at birth)",
         "FEMALE",
         "65.6549994"
        ],
        [
         "29",
         "404",
         "Kenya",
         "2014",
         "Life expectancy (at birth)",
         "FEMALE",
         "66.14180191"
        ],
        [
         "30",
         "404",
         "Kenya",
         "2020",
         "Life expectancy (at birth)",
         "FEMALE",
         "69.67346734"
        ],
        [
         "31",
         "404",
         "Kenya",
         "2021",
         "Life expectancy (at birth)",
         "FEMALE",
         "69.21556653"
        ],
        [
         "32",
         "404",
         "Kenya",
         "2014",
         "Life expectancy (at birth)",
         "MALE",
         "61.21060467"
        ],
        [
         "33",
         "404",
         "Kenya",
         "2017",
         "Life expectancy (at birth)",
         "MALE",
         "63.14667616"
        ],
        [
         "34",
         "404",
         "Kenya",
         "2018",
         "Life expectancy (at birth)",
         "MALE",
         "63.62994007"
        ],
        [
         "35",
         "404",
         "Kenya",
         "2020",
         "Life expectancy (at birth)",
         "MALE",
         "64.06213434"
        ],
        [
         "36",
         "404",
         "Kenya",
         "2001",
         "Life expectancy (at birth)",
         "MALE",
         "53.19375135"
        ],
        [
         "37",
         "404",
         "Kenya",
         "2003",
         "Life expectancy (at birth)",
         "MALE",
         "53.74264828"
        ],
        [
         "38",
         "404",
         "Kenya",
         "2004",
         "Life expectancy (at birth)",
         "MALE",
         "54.24843597"
        ],
        [
         "39",
         "404",
         "Kenya",
         "2008",
         "Life expectancy (at birth)",
         "MALE",
         "57.70174496"
        ],
        [
         "40",
         "404",
         "Kenya",
         "2009",
         "Life expectancy (at birth)",
         "MALE",
         "58.68102551"
        ],
        [
         "41",
         "404",
         "Kenya",
         "2012",
         "Life expectancy (at birth)",
         "MALE",
         "60.20588179"
        ],
        [
         "42",
         "404",
         "Kenya",
         "2021",
         "Life expectancy (at birth)",
         "MALE",
         "64.39587676"
        ],
        [
         "43",
         "404",
         "Kenya",
         "2015",
         "Life expectancy (at birth)",
         "FEMALE",
         "66.7976816"
        ],
        [
         "44",
         "404",
         "Kenya",
         "2016",
         "Life expectancy (at birth)",
         "FEMALE",
         "67.52974996"
        ],
        [
         "45",
         "404",
         "Kenya",
         "2017",
         "Life expectancy (at birth)",
         "FEMALE",
         "68.14162501"
        ],
        [
         "46",
         "404",
         "Kenya",
         "2003",
         "Life expectancy (at birth)",
         "FEMALE",
         "56.0563909"
        ],
        [
         "47",
         "404",
         "Kenya",
         "2008",
         "Life expectancy (at birth)",
         "FEMALE",
         "61.27799403"
        ],
        [
         "48",
         "404",
         "Kenya",
         "2010",
         "Life expectancy (at birth)",
         "FEMALE",
         "63.13132468"
        ],
        [
         "49",
         "404",
         "Kenya",
         "2007",
         "Life expectancy (at birth)",
         "MALE",
         "56.89152192"
        ]
       ],
       "shape": {
        "columns": 6,
        "rows": 65
       }
      },
      "text/html": [
       "<div>\n",
       "<style scoped>\n",
       "    .dataframe tbody tr th:only-of-type {\n",
       "        vertical-align: middle;\n",
       "    }\n",
       "\n",
       "    .dataframe tbody tr th {\n",
       "        vertical-align: top;\n",
       "    }\n",
       "\n",
       "    .dataframe thead th {\n",
       "        text-align: right;\n",
       "    }\n",
       "</style>\n",
       "<table border=\"1\" class=\"dataframe\">\n",
       "  <thead>\n",
       "    <tr style=\"text-align: right;\">\n",
       "      <th></th>\n",
       "      <th>Country Code</th>\n",
       "      <th>Country</th>\n",
       "      <th>Year</th>\n",
       "      <th>Indicator</th>\n",
       "      <th>Sex</th>\n",
       "      <th>Healthy life expectancy (at birth)</th>\n",
       "    </tr>\n",
       "  </thead>\n",
       "  <tbody>\n",
       "    <tr>\n",
       "      <th>0</th>\n",
       "      <td>404</td>\n",
       "      <td>Kenya</td>\n",
       "      <td>2009</td>\n",
       "      <td>Life expectancy (at birth)</td>\n",
       "      <td>TOTAL</td>\n",
       "      <td>60.490621</td>\n",
       "    </tr>\n",
       "    <tr>\n",
       "      <th>1</th>\n",
       "      <td>404</td>\n",
       "      <td>Kenya</td>\n",
       "      <td>2010</td>\n",
       "      <td>Life expectancy (at birth)</td>\n",
       "      <td>TOTAL</td>\n",
       "      <td>61.282761</td>\n",
       "    </tr>\n",
       "    <tr>\n",
       "      <th>2</th>\n",
       "      <td>404</td>\n",
       "      <td>Kenya</td>\n",
       "      <td>2012</td>\n",
       "      <td>Life expectancy (at birth)</td>\n",
       "      <td>TOTAL</td>\n",
       "      <td>62.615857</td>\n",
       "    </tr>\n",
       "    <tr>\n",
       "      <th>3</th>\n",
       "      <td>404</td>\n",
       "      <td>Kenya</td>\n",
       "      <td>2014</td>\n",
       "      <td>Life expectancy (at birth)</td>\n",
       "      <td>TOTAL</td>\n",
       "      <td>63.636944</td>\n",
       "    </tr>\n",
       "    <tr>\n",
       "      <th>4</th>\n",
       "      <td>404</td>\n",
       "      <td>Kenya</td>\n",
       "      <td>2001</td>\n",
       "      <td>Life expectancy (at birth)</td>\n",
       "      <td>TOTAL</td>\n",
       "      <td>54.332836</td>\n",
       "    </tr>\n",
       "    <tr>\n",
       "      <th>...</th>\n",
       "      <td>...</td>\n",
       "      <td>...</td>\n",
       "      <td>...</td>\n",
       "      <td>...</td>\n",
       "      <td>...</td>\n",
       "      <td>...</td>\n",
       "    </tr>\n",
       "    <tr>\n",
       "      <th>60</th>\n",
       "      <td>404</td>\n",
       "      <td>Kenya</td>\n",
       "      <td>2019</td>\n",
       "      <td>Life expectancy (at birth)</td>\n",
       "      <td>FEMALE</td>\n",
       "      <td>68.991063</td>\n",
       "    </tr>\n",
       "    <tr>\n",
       "      <th>61</th>\n",
       "      <td>404</td>\n",
       "      <td>Kenya</td>\n",
       "      <td>2006</td>\n",
       "      <td>Life expectancy (at birth)</td>\n",
       "      <td>FEMALE</td>\n",
       "      <td>59.008718</td>\n",
       "    </tr>\n",
       "    <tr>\n",
       "      <th>62</th>\n",
       "      <td>404</td>\n",
       "      <td>Kenya</td>\n",
       "      <td>2007</td>\n",
       "      <td>Life expectancy (at birth)</td>\n",
       "      <td>FEMALE</td>\n",
       "      <td>60.214093</td>\n",
       "    </tr>\n",
       "    <tr>\n",
       "      <th>63</th>\n",
       "      <td>404</td>\n",
       "      <td>Kenya</td>\n",
       "      <td>2011</td>\n",
       "      <td>Life expectancy (at birth)</td>\n",
       "      <td>FEMALE</td>\n",
       "      <td>64.116368</td>\n",
       "    </tr>\n",
       "    <tr>\n",
       "      <th>64</th>\n",
       "      <td>404</td>\n",
       "      <td>Kenya</td>\n",
       "      <td>2018</td>\n",
       "      <td>Life expectancy (at birth)</td>\n",
       "      <td>FEMALE</td>\n",
       "      <td>68.566521</td>\n",
       "    </tr>\n",
       "  </tbody>\n",
       "</table>\n",
       "<p>65 rows × 6 columns</p>\n",
       "</div>"
      ],
      "text/plain": [
       "    Country Code Country  Year                   Indicator     Sex  \\\n",
       "0            404   Kenya  2009  Life expectancy (at birth)   TOTAL   \n",
       "1            404   Kenya  2010  Life expectancy (at birth)   TOTAL   \n",
       "2            404   Kenya  2012  Life expectancy (at birth)   TOTAL   \n",
       "3            404   Kenya  2014  Life expectancy (at birth)   TOTAL   \n",
       "4            404   Kenya  2001  Life expectancy (at birth)   TOTAL   \n",
       "..           ...     ...   ...                         ...     ...   \n",
       "60           404   Kenya  2019  Life expectancy (at birth)  FEMALE   \n",
       "61           404   Kenya  2006  Life expectancy (at birth)  FEMALE   \n",
       "62           404   Kenya  2007  Life expectancy (at birth)  FEMALE   \n",
       "63           404   Kenya  2011  Life expectancy (at birth)  FEMALE   \n",
       "64           404   Kenya  2018  Life expectancy (at birth)  FEMALE   \n",
       "\n",
       "    Healthy life expectancy (at birth)  \n",
       "0                            60.490621  \n",
       "1                            61.282761  \n",
       "2                            62.615857  \n",
       "3                            63.636944  \n",
       "4                            54.332836  \n",
       "..                                 ...  \n",
       "60                           68.991063  \n",
       "61                           59.008718  \n",
       "62                           60.214093  \n",
       "63                           64.116368  \n",
       "64                           68.566521  \n",
       "\n",
       "[65 rows x 6 columns]"
      ]
     },
     "execution_count": 9,
     "metadata": {},
     "output_type": "execute_result"
    }
   ],
   "source": [
    "healthy_life_expectancy_filter = \"IND_ID eq 'C64284DWHOSIS_000002' and GEO_NAME_SHORT eq 'Kenya'\"\n",
    "healthy_life_expectancy_select = \"DIM_GEO_CODE_M49, GEO_NAME_SHORT, DIM_TIME, IND_NAME, DIM_SEX, AMOUNT_N\"\n",
    "healthy_life_expectancy_data = pd.read_csv(url_encode(\n",
    "    f\"https://xmart-api-public.who.int/DATA_/RELAY_WHS?$filter={life_expectancy_filter}&$select={life_expectancy_select}&$format=csv\"),\n",
    "    names=[\n",
    "        \"Country Code\",\n",
    "        \"Country\",\n",
    "        \"Year\",\n",
    "        \"Indicator\",\n",
    "        \"Sex\",\n",
    "        \"Healthy life expectancy (at birth)\"\n",
    "    ],\n",
    "    header=1)\n",
    "\n",
    "healthy_life_expectancy_data"
   ]
  },
  {
   "cell_type": "code",
   "execution_count": 10,
   "metadata": {},
   "outputs": [
    {
     "data": {
      "image/png": "[encoded data removed]",
      "text/plain": [
       "<Figure size 1200x600 with 1 Axes>"
      ]
     },
     "metadata": {},
     "output_type": "display_data"
    }
   ],
   "source": [
    "plot_who_data(\n",
    "    healthy_life_expectancy_data, \n",
    "    \"Healthy life expectancy (HALE) at birth in Kenya\", \n",
    "    value_col=\"Healthy life expectancy (at birth)\")"
   ]
  },
  {
   "cell_type": "markdown",
   "metadata": {},
   "source": [
    "Summary Statistics"
   ]
  },
  {
   "cell_type": "code",
   "execution_count": 11,
   "metadata": {},
   "outputs": [
    {
     "data": {
      "application/vnd.microsoft.datawrangler.viewer.v0+json": {
       "columns": [
        {
         "name": "index",
         "rawType": "object",
         "type": "string"
        },
        {
         "name": "FEMALE",
         "rawType": "float64",
         "type": "float"
        },
        {
         "name": "MALE",
         "rawType": "float64",
         "type": "float"
        },
        {
         "name": "TOTAL",
         "rawType": "float64",
         "type": "float"
        }
       ],
       "conversionMethod": "pd.DataFrame",
       "ref": "4fee1a1c-114c-4d01-9eaa-22a79199d9ea",
       "rows": [
        [
         "count",
         "22.0",
         "22.0",
         "21.0"
        ],
        [
         "mean",
         "62.856167588181826",
         "58.951729631363634",
         "61.05033939285715"
        ],
        [
         "std",
         "5.099056592751965",
         "3.9849221459614745",
         "4.563089054898606"
        ],
        [
         "min",
         "55.21709328",
         "52.94196865",
         "54.09203911"
        ],
        [
         "25%",
         "58.0878465925",
         "55.2320424075",
         "56.3951405"
        ],
        [
         "50%",
         "63.623846310000005",
         "59.656871295",
         "61.98126671"
        ],
        [
         "75%",
         "67.34673287000001",
         "62.4192969325",
         "65.03249549"
        ],
        [
         "max",
         "69.67346734",
         "64.39587676",
         "66.79345007"
        ]
       ],
       "shape": {
        "columns": 3,
        "rows": 8
       }
      },
      "text/html": [
       "<div>\n",
       "<style scoped>\n",
       "    .dataframe tbody tr th:only-of-type {\n",
       "        vertical-align: middle;\n",
       "    }\n",
       "\n",
       "    .dataframe tbody tr th {\n",
       "        vertical-align: top;\n",
       "    }\n",
       "\n",
       "    .dataframe thead th {\n",
       "        text-align: right;\n",
       "    }\n",
       "</style>\n",
       "<table border=\"1\" class=\"dataframe\">\n",
       "  <thead>\n",
       "    <tr style=\"text-align: right;\">\n",
       "      <th>Sex</th>\n",
       "      <th>FEMALE</th>\n",
       "      <th>MALE</th>\n",
       "      <th>TOTAL</th>\n",
       "    </tr>\n",
       "  </thead>\n",
       "  <tbody>\n",
       "    <tr>\n",
       "      <th>count</th>\n",
       "      <td>22.000000</td>\n",
       "      <td>22.000000</td>\n",
       "      <td>21.000000</td>\n",
       "    </tr>\n",
       "    <tr>\n",
       "      <th>mean</th>\n",
       "      <td>62.856168</td>\n",
       "      <td>58.951730</td>\n",
       "      <td>61.050339</td>\n",
       "    </tr>\n",
       "    <tr>\n",
       "      <th>std</th>\n",
       "      <td>5.099057</td>\n",
       "      <td>3.984922</td>\n",
       "      <td>4.563089</td>\n",
       "    </tr>\n",
       "    <tr>\n",
       "      <th>min</th>\n",
       "      <td>55.217093</td>\n",
       "      <td>52.941969</td>\n",
       "      <td>54.092039</td>\n",
       "    </tr>\n",
       "    <tr>\n",
       "      <th>25%</th>\n",
       "      <td>58.087847</td>\n",
       "      <td>55.232042</td>\n",
       "      <td>56.395140</td>\n",
       "    </tr>\n",
       "    <tr>\n",
       "      <th>50%</th>\n",
       "      <td>63.623846</td>\n",
       "      <td>59.656871</td>\n",
       "      <td>61.981267</td>\n",
       "    </tr>\n",
       "    <tr>\n",
       "      <th>75%</th>\n",
       "      <td>67.346733</td>\n",
       "      <td>62.419297</td>\n",
       "      <td>65.032495</td>\n",
       "    </tr>\n",
       "    <tr>\n",
       "      <th>max</th>\n",
       "      <td>69.673467</td>\n",
       "      <td>64.395877</td>\n",
       "      <td>66.793450</td>\n",
       "    </tr>\n",
       "  </tbody>\n",
       "</table>\n",
       "</div>"
      ],
      "text/plain": [
       "Sex       FEMALE       MALE      TOTAL\n",
       "count  22.000000  22.000000  21.000000\n",
       "mean   62.856168  58.951730  61.050339\n",
       "std     5.099057   3.984922   4.563089\n",
       "min    55.217093  52.941969  54.092039\n",
       "25%    58.087847  55.232042  56.395140\n",
       "50%    63.623846  59.656871  61.981267\n",
       "75%    67.346733  62.419297  65.032495\n",
       "max    69.673467  64.395877  66.793450"
      ]
     },
     "execution_count": 11,
     "metadata": {},
     "output_type": "execute_result"
    }
   ],
   "source": [
    "healthy_life_expectancy_data.pivot_table(\n",
    "    index=\"Year\", \n",
    "    columns=\"Sex\", \n",
    "    values=\"Healthy life expectancy (at birth)\").describe()"
   ]
  },
  {
   "cell_type": "markdown",
   "metadata": {},
   "source": [
    "### References\n",
    "\n",
    "Source: [World Health Organization (WHO)](https://data.who.int/countries/404)"
   ]
  }
 ],
 "metadata": {
  "kernelspec": {
   "display_name": ".venv",
   "language": "python",
   "name": "python3"
  },
  "language_info": {
   "codemirror_mode": {
    "name": "ipython",
    "version": 3
   },
   "file_extension": ".py",
   "mimetype": "text/x-python",
   "name": "python",
   "nbconvert_exporter": "python",
   "pygments_lexer": "ipython3",
   "version": "3.10.12"
  }
 },
 "nbformat": 4,
 "nbformat_minor": 2
}
