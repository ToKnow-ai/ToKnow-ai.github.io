{
 "cells": [
  {
   "cell_type": "code",
   "execution_count": 3,
   "metadata": {},
   "outputs": [],
   "source": [
    "# | echo: false\n",
    "# | output: false\n",
    "\n",
    "import sys\n",
    "import os\n",
    "\n",
    "sys.path.append(os.path.abspath(\"../../\"))\n",
    "sys.path.append(os.path.abspath(\"./social-media-handle-checker\"))\n",
    "\n",
    "%reload_ext autoreload\n",
    "%autoreload 2\n",
    "\n",
    "import asyncio\n",
    "from typing import Any, Literal\n",
    "from python_utils.get_browser import get_browser_page_async\n",
    "from app import check_social_media_handle"
   ]
  },
  {
   "cell_type": "markdown",
   "metadata": {},
   "source": [
    "## Instagram Account"
   ]
  },
  {
   "cell_type": "code",
   "execution_count": 7,
   "metadata": {},
   "outputs": [
    {
     "data": {
      "text/plain": [
       "{'available': True,\n",
       " 'message': 'username <b>\"test\"</b> is ✅ Available. However, usernames from disabled or deleted accounts may also appear available but you can\\'t choose them, eg: usernames like <b>\"we\"</b>, <b>\"us\"</b>, and <b>\"the\"</b>. Go to <a target=\"_blank\" href=\"https://accountscenter.instagram.com/\">accounts center</a> and try changing the username of an existing account and see if it it\\'s available',\n",
       " 'url': 'https://www.instagram.com/test/',\n",
       " 'logs': [{'key': 'profile_response_username', 'value': ''},\n",
       "  {'key': 'web_profile_response.status_code', 'value': 400},\n",
       "  {'key': 'username_is_available_uri',\n",
       "   'value': ('test', False, 'https://www.instagram.com/test/')}]}"
      ]
     },
     "execution_count": 7,
     "metadata": {},
     "output_type": "execute_result"
    }
   ],
   "source": [
    "await check_social_media_handle(\"instagram\", \"test\")"
   ]
  },
  {
   "cell_type": "code",
   "execution_count": 2,
   "metadata": {},
   "outputs": [
    {
     "data": {
      "text/plain": [
       "[{'available': True,\n",
       "  'message': 'we: ✅ Available',\n",
       "  'url': 'https://www.instagram.com/we/'},\n",
       " {'available': True,\n",
       "  'message': 'us: ✅ Available',\n",
       "  'url': 'https://www.instagram.com/us/'},\n",
       " {'available': False,\n",
       "  'message': 'instagram: ❌ Taken',\n",
       "  'url': 'https://www.instagram.com/instagram/'}]"
      ]
     },
     "execution_count": 2,
     "metadata": {},
     "output_type": "execute_result"
    }
   ],
   "source": [
    "tasks = [\n",
    "    async_availability_status(resolve_instagram_username(username, lambda x, y: None)) \n",
    "    for username \n",
    "    in ['we', 'us', 'instagram']\n",
    "]\n",
    "await asyncio.gather(*tasks)"
   ]
  },
  {
   "cell_type": "markdown",
   "metadata": {},
   "source": [
    "## LinkedIn User Account"
   ]
  },
  {
   "cell_type": "code",
   "execution_count": 11,
   "metadata": {},
   "outputs": [
    {
     "data": {
      "text/plain": [
       "{'available': True,\n",
       " 'message': 'USERNAME: ✅ Available',\n",
       " 'url': 'https://www.linkedin.com/in/USERNAME'}"
      ]
     },
     "execution_count": 11,
     "metadata": {},
     "output_type": "execute_result"
    }
   ],
   "source": [
    "await async_availability_status(resolve_linkedin_username(\"USERNAME\", \"in\"))"
   ]
  },
  {
   "cell_type": "markdown",
   "metadata": {},
   "source": [
    "## LinkedIn Company Account"
   ]
  },
  {
   "cell_type": "code",
   "execution_count": 13,
   "metadata": {},
   "outputs": [
    {
     "data": {
      "text/plain": [
       "{'available': True,\n",
       " 'message': 'USERNAME: ✅ Available',\n",
       " 'url': 'https://www.linkedin.com/company/USERNAME'}"
      ]
     },
     "execution_count": 13,
     "metadata": {},
     "output_type": "execute_result"
    }
   ],
   "source": [
    "await async_availability_status(resolve_linkedin_username(\"USERNAME\", \"company\"))"
   ]
  },
  {
   "cell_type": "code",
   "execution_count": null,
   "metadata": {},
   "outputs": [],
   "source": [
    "\n",
    "\n",
    "\n",
    "\n",
    "def resolve_username_from_title(username: str):\n",
    "    async def resolve(uri: str) -> bool:\n",
    "        page, close = await get_browser_page_async()\n",
    "        await page.goto(uri, wait_until='load')\n",
    "        await page.wait_for_timeout(300)\n",
    "        title: str = await page.title()\n",
    "        await close()\n",
    "        return username.lower() in title.lower()\n",
    "    return resolve\n",
    "\n",
    "def resolve_document_contains(search: str, evaluate_str: str) -> bool:\n",
    "    async def resolve(uri: str) -> bool:\n",
    "        page, close = await get_browser_page_async()\n",
    "        await page.goto(uri)\n",
    "        inner_text = await page.evaluate(evaluate_str)\n",
    "        await close()\n",
    "        return search.lower() in inner_text.lower()\n",
    "    return resolve\n",
    "\n",
    "class UsernameChecker:\n",
    "    def __init__(self, username):\n",
    "        self.username = username\n",
    "        self.platforms: dict[Literal[\"name\", \"uri\", \"resolve\", \"message\"], Any]= [\n",
    "            # {\n",
    "            #     \"name\": \"LinkedIn Company Page\",\n",
    "            #     # can replace \"www.\" with \"de.\", \".ke\", \".ug\", etc\n",
    "            #     \"uri\": f\"https://www.linkedin.com/company/{username}\",\n",
    "            #     \"resolve\": resolve_linkedin_username,\n",
    "            # },\n",
    "            # {\n",
    "            #     \"name\": \"LinkedIn User Account\",\n",
    "            #     # can replace \"www.\" with \"de.\", \".ke\", \".ug\", etc\n",
    "                  #     # # linkedin private user => kamau\n",
    "            #     \"uri\": f\"https://www.linkedin.com/in/{username}\",\n",
    "            #     \"resolve\": resolve_linkedin_username,\n",
    "            #     # https://github.com/tomquirk/linkedin-api\n",
    "            #     \"message\": (\n",
    "            #         \"❌ Taken or Private.\"\n",
    "            #         \" 😶 LinkedIn private user profiles are not easy to check,\"\n",
    "            #         \" login into LinkedIn and go to\"\n",
    "            #         f' \"https://www.linkedin.com/in/{username}\"')\n",
    "            # },\n",
    "            {\n",
    "                \"name\": \"Instagram Account\",\n",
    "                \"resolve\": resolve_instagram_username(username),\n",
    "            },\n",
    "            # {\n",
    "            #     \"name\": \"Threads Account\",\n",
    "            #     # trailing / is important here\n",
    "            #     \"uri\": f\"https://www.instagram.com/{username}/\",\n",
    "            #     \"resolve\": resolve_instagram_username(username),\n",
    "            # },\n",
    "            # {\n",
    "            #     \"name\": \"Youtube Channel\",\n",
    "            #     \"uri\": f\"https://www.youtube.com/@{username}\",\n",
    "            #     \"resolve\": resolve_document_contains(f\"@{username}\", \"document.body.outerHTML\"),\n",
    "            # },\n",
    "            # {\n",
    "            #     \"name\": \"Tiktok Account\",\n",
    "            #     \"uri\": f\"https://www.tiktok.com/@{username}\",\n",
    "            #     \"resolve\": resolve_username_from_title(username),\n",
    "            # },\n",
    "            # {\n",
    "            #     \"name\": \"X/Twitter Account\",\n",
    "            #     \"uri\": f\"https://x.com/{username}\",\n",
    "            #     # not accurate!\n",
    "            #     # https://github.com/sherlock-project/sherlock/blob/master/sherlock_project/resources/data.json\n",
    "            #     \"resolve\": resolve_document_contains(\"doesn't exist\", \"document.body.innerText\"),\n",
    "            # },\n",
    "            # {\n",
    "            #     \"name\": \"Pinterest Account\",\n",
    "            #     \"uri\": f\"https://www.pinterest.com/{username}/\",\n",
    "            #     \"resolve\": resolve_document_contains(\"doesn't exist\", \"document.body.innerText\"),\n",
    "            # },\n",
    "            # {\n",
    "            #     \"name\": \"Snapchat Account\",\n",
    "            #     \"uri\": f\"https://www.pinterest.com/{username}/\",\n",
    "            #     \"resolve\": resolve_document_contains(\"doesn't exist\", \"document.body.innerText\"),\n",
    "            # },\n",
    "            # {\n",
    "            #     \"name\": \"Facebook User Account\",\n",
    "            #     \"uri\": f\"https://www.pinterest.com/{username}/\",\n",
    "            #     \"resolve\": resolve_document_contains(\"doesn't exist\", \"document.body.innerText\"),\n",
    "            # },\n",
    "            # {\n",
    "            #     \"name\": \"Facebook Page\",\n",
    "            #     \"uri\": f\"https://www.pinterest.com/{username}/\",\n",
    "            #     \"resolve\": resolve_document_contains(\"doesn't exist\", \"document.body.innerText\"),\n",
    "            # },\n",
    "            # {\n",
    "            #     \"name\": \"Reddit User\",\n",
    "            #     \"uri\": f\"https://www.pinterest.com/{username}/\",\n",
    "            #     \"resolve\": resolve_document_contains(\"doesn't exist\", \"document.body.innerText\"),\n",
    "            # },\n",
    "            # {\n",
    "            #     \"name\": \"Reddit Subreddit\",\n",
    "            #     \"uri\": f\"https://www.pinterest.com/{username}/\",\n",
    "            #     \"resolve\": resolve_document_contains(\"doesn't exist\", \"document.body.innerText\"),\n",
    "            # },\n",
    "            # {\n",
    "            #     \"name\": \"Gmail Email\",\n",
    "            #     \"uri\": f\"https://www.pinterest.com/{username}/\",\n",
    "            #     \"resolve\": resolve_document_contains(\"doesn't exist\", \"document.body.innerText\"),\n",
    "            # }\n",
    "        ]\n",
    "\n",
    "    async def check_async(self):\n",
    "        tasks = [self._check_async(**platform) for platform in self.platforms]\n",
    "        return await asyncio.gather(*tasks)\n",
    "\n",
    "\n"
   ]
  },
  {
   "cell_type": "code",
   "execution_count": null,
   "metadata": {},
   "outputs": [],
   "source": [
    "\n",
    "# Create checker instance\n",
    "checker = UsernameChecker(\"One_MorePlace\")\n",
    "# Check availability\n",
    "await checker.check_async()"
   ]
  }
 ],
 "metadata": {
  "kernelspec": {
   "display_name": ".venv",
   "language": "python",
   "name": "python3"
  },
  "language_info": {
   "codemirror_mode": {
    "name": "ipython",
    "version": 3
   },
   "file_extension": ".py",
   "mimetype": "text/x-python",
   "name": "python",
   "nbconvert_exporter": "python",
   "pygments_lexer": "ipython3",
   "version": "3.10.12"
  }
 },
 "nbformat": 4,
 "nbformat_minor": 2
}
