{
 "cells": [
  {
   "cell_type": "code",
   "execution_count": 3,
   "metadata": {},
   "outputs": [],
   "source": [
    "# | echo: false\n",
    "# | output: false\n",
    "\n",
    "import sys\n",
    "import os\n",
    "\n",
    "sys.path.append(os.path.abspath(\"../../\"))\n",
    "sys.path.append(os.path.abspath(\"./social-media-handle-checker\"))\n",
    "\n",
    "%reload_ext autoreload\n",
    "%autoreload 2\n",
    "\n",
    "import asyncio\n",
    "from typing import Any, Literal\n",
    "from python_utils.get_browser import get_browser_page_async\n",
    "from app import check_social_media_handle"
   ]
  },
  {
   "cell_type": "markdown",
   "metadata": {},
   "source": [
    "## Instagram Account"
   ]
  },
  {
   "cell_type": "code",
   "execution_count": null,
   "metadata": {},
   "outputs": [],
   "source": [
    "await check_social_media_handle(\"instagram\", \"test\")"
   ]
  },
  {
   "cell_type": "code",
   "execution_count": null,
   "metadata": {},
   "outputs": [],
   "source": [
    "tasks = [\n",
    "    async_availability_status(resolve_instagram_username(username, lambda x, y: None)) \n",
    "    for username \n",
    "    in ['we', 'us', 'instagram']\n",
    "]\n",
    "await asyncio.gather(*tasks)"
   ]
  },
  {
   "cell_type": "markdown",
   "metadata": {},
   "source": [
    "## LinkedIn User Account"
   ]
  },
  {
   "cell_type": "code",
   "execution_count": null,
   "metadata": {},
   "outputs": [],
   "source": [
    "await async_availability_status(resolve_linkedin_username(\"USERNAME\", \"in\"))"
   ]
  },
  {
   "cell_type": "markdown",
   "metadata": {},
   "source": [
    "## LinkedIn Company Account"
   ]
  },
  {
   "cell_type": "code",
   "execution_count": null,
   "metadata": {},
   "outputs": [],
   "source": [
    "await async_availability_status(resolve_linkedin_username(\"USERNAME\", \"company\"))"
   ]
  },
  {
   "cell_type": "code",
   "execution_count": null,
   "metadata": {},
   "outputs": [],
   "source": [
    "\n",
    "\n",
    "\n",
    "\n",
    "def resolve_username_from_title(username: str):\n",
    "    async def resolve(uri: str) -> bool:\n",
    "        page, close = await get_browser_page_async()\n",
    "        await page.goto(uri, wait_until='load')\n",
    "        await page.wait_for_timeout(300)\n",
    "        title: str = await page.title()\n",
    "        await close()\n",
    "        return username.lower() in title.lower()\n",
    "    return resolve\n",
    "\n",
    "def resolve_document_contains(search: str, evaluate_str: str) -> bool:\n",
    "    async def resolve(uri: str) -> bool:\n",
    "        page, close = await get_browser_page_async()\n",
    "        await page.goto(uri)\n",
    "        inner_text = await page.evaluate(evaluate_str)\n",
    "        await close()\n",
    "        return search.lower() in inner_text.lower()\n",
    "    return resolve\n",
    "\n",
    "class UsernameChecker:\n",
    "    def __init__(self, username):\n",
    "        self.username = username\n",
    "        self.platforms: dict[Literal[\"name\", \"uri\", \"resolve\", \"message\"], Any]= [\n",
    "            # {\n",
    "            #     \"name\": \"LinkedIn Company Page\",\n",
    "            #     # can replace \"www.\" with \"de.\", \".ke\", \".ug\", etc\n",
    "            #     \"uri\": f\"https://www.linkedin.com/company/{username}\",\n",
    "            #     \"resolve\": resolve_linkedin_username,\n",
    "            # },\n",
    "            # {\n",
    "            #     \"name\": \"LinkedIn User Account\",\n",
    "            #     # can replace \"www.\" with \"de.\", \".ke\", \".ug\", etc\n",
    "                  #     # # linkedin private user => kamau\n",
    "            #     \"uri\": f\"https://www.linkedin.com/in/{username}\",\n",
    "            #     \"resolve\": resolve_linkedin_username,\n",
    "            #     # https://github.com/tomquirk/linkedin-api\n",
    "            #     \"message\": (\n",
    "            #         \"❌ Taken or Private.\"\n",
    "            #         \" 😶 LinkedIn private user profiles are not easy to check,\"\n",
    "            #         \" login into LinkedIn and go to\"\n",
    "            #         f' \"https://www.linkedin.com/in/{username}\"')\n",
    "            # },\n",
    "            {\n",
    "                \"name\": \"Instagram Account\",\n",
    "                \"resolve\": resolve_instagram_username(username),\n",
    "            },\n",
    "            # {\n",
    "            #     \"name\": \"Threads Account\",\n",
    "            #     # trailing / is important here\n",
    "            #     \"uri\": f\"https://www.instagram.com/{username}/\",\n",
    "            #     \"resolve\": resolve_instagram_username(username),\n",
    "            # },\n",
    "            # {\n",
    "            #     \"name\": \"Youtube Channel\",\n",
    "            #     \"uri\": f\"https://www.youtube.com/@{username}\",\n",
    "            #     \"resolve\": resolve_document_contains(f\"@{username}\", \"document.body.outerHTML\"),\n",
    "            # },\n",
    "            # {\n",
    "            #     \"name\": \"Tiktok Account\",\n",
    "            #     \"uri\": f\"https://www.tiktok.com/@{username}\",\n",
    "            #     \"resolve\": resolve_username_from_title(username),\n",
    "            # },\n",
    "            # {\n",
    "            #     \"name\": \"X/Twitter Account\",\n",
    "            #     \"uri\": f\"https://x.com/{username}\",\n",
    "            #     # not accurate!\n",
    "            #     # https://github.com/sherlock-project/sherlock/blob/master/sherlock_project/resources/data.json\n",
    "            #     \"resolve\": resolve_document_contains(\"doesn't exist\", \"document.body.innerText\"),\n",
    "            # },\n",
    "            # {\n",
    "            #     \"name\": \"Pinterest Account\",\n",
    "            #     \"uri\": f\"https://www.pinterest.com/{username}/\",\n",
    "            #     \"resolve\": resolve_document_contains(\"doesn't exist\", \"document.body.innerText\"),\n",
    "            # },\n",
    "            # {\n",
    "            #     \"name\": \"Snapchat Account\",\n",
    "            #     \"uri\": f\"https://www.pinterest.com/{username}/\",\n",
    "            #     \"resolve\": resolve_document_contains(\"doesn't exist\", \"document.body.innerText\"),\n",
    "            # },\n",
    "            # {\n",
    "            #     \"name\": \"Facebook User Account\",\n",
    "            #     \"uri\": f\"https://www.pinterest.com/{username}/\",\n",
    "            #     \"resolve\": resolve_document_contains(\"doesn't exist\", \"document.body.innerText\"),\n",
    "            # },\n",
    "            # {\n",
    "            #     \"name\": \"Facebook Page\",\n",
    "            #     \"uri\": f\"https://www.pinterest.com/{username}/\",\n",
    "            #     \"resolve\": resolve_document_contains(\"doesn't exist\", \"document.body.innerText\"),\n",
    "            # },\n",
    "            # {\n",
    "            #     \"name\": \"Reddit User\",\n",
    "            #     \"uri\": f\"https://www.pinterest.com/{username}/\",\n",
    "            #     \"resolve\": resolve_document_contains(\"doesn't exist\", \"document.body.innerText\"),\n",
    "            # },\n",
    "            # {\n",
    "            #     \"name\": \"Reddit Subreddit\",\n",
    "            #     \"uri\": f\"https://www.pinterest.com/{username}/\",\n",
    "            #     \"resolve\": resolve_document_contains(\"doesn't exist\", \"document.body.innerText\"),\n",
    "            # },\n",
    "            # {\n",
    "            #     \"name\": \"Gmail Email\",\n",
    "            #     \"uri\": f\"https://www.pinterest.com/{username}/\",\n",
    "            #     \"resolve\": resolve_document_contains(\"doesn't exist\", \"document.body.innerText\"),\n",
    "            # }\n",
    "        ]\n",
    "\n",
    "    async def check_async(self):\n",
    "        tasks = [self._check_async(**platform) for platform in self.platforms]\n",
    "        return await asyncio.gather(*tasks)\n",
    "\n",
    "\n"
   ]
  },
  {
   "cell_type": "code",
   "execution_count": null,
   "metadata": {},
   "outputs": [],
   "source": [
    "\n",
    "# Create checker instance\n",
    "checker = UsernameChecker(\"One_MorePlace\")\n",
    "# Check availability\n",
    "await checker.check_async()"
   ]
  },
  {
   "cell_type": "code",
   "execution_count": 112,
   "metadata": {},
   "outputs": [
    {
     "name": "stdout",
     "output_type": "stream",
     "text": [
      "192.42.116.211\n"
     ]
    }
   ],
   "source": [
    "from requests_tor import RequestsTor\n",
    "\n",
    "rt = RequestsTor(tor_ports=(9050,), tor_cport=9051)\n",
    "\n",
    "# Make a GET request through the Tor network\n",
    "response = rt.get('https://api.ipify.org/')\n",
    "\n",
    "# Print the IP address obtained through Tor\n",
    "print(response.text) "
   ]
  },
  {
   "cell_type": "code",
   "execution_count": 113,
   "metadata": {},
   "outputs": [
    {
     "name": "stdout",
     "output_type": "stream",
     "text": [
      "192.42.116.211\n"
     ]
    }
   ],
   "source": [
    "response = rt.get('https://api.ipify.org/')\n",
    "\n",
    "# Print the IP address obtained through Tor\n",
    "print(response.text) "
   ]
  },
  {
   "cell_type": "code",
   "execution_count": 133,
   "metadata": {},
   "outputs": [
    {
     "name": "stdout",
     "output_type": "stream",
     "text": [
      "{\n",
      "  \"origin\": \"185.220.101.107\"\n",
      "}\n",
      "\n"
     ]
    }
   ],
   "source": [
    "import shutil\n",
    "from playwright.async_api import async_playwright\n",
    "\n",
    "playwright = await async_playwright().start()\n",
    "browser = await playwright.chromium.launch(\n",
    "headless = True,\n",
    "proxy = { \"server\": \"socks5://localhost:9050\" },\n",
    "executable_path = shutil.which(\"google-chrome\") or shutil.which(\"chromium-browser\") or shutil.which(\"chromium\"))\n",
    "context = await browser.new_context(\n",
    "    user_agent = 'Mozilla/5.0 (Windows NT 10.0; Win64; x64) AppleWebKit/537.36 (KHTML, like Gecko) Chrome/131.0.0.0 Safari/537.36 Edg/131.0.0.0')\n",
    "page = await browser.new_page()\n",
    "page_response = await page.goto(\"http://httpbin.org/ip\", referer=\"https://www.instagram.com/\")\n",
    "print((await page_response.body()).decode())"
   ]
  },
  {
   "cell_type": "code",
   "execution_count": 114,
   "metadata": {},
   "outputs": [
    {
     "data": {
      "text/plain": [
       "('LIEhmFKHlvz3RYhbJ2bzly', '936619743392459', '1019001996', '936619743392459')"
      ]
     },
     "execution_count": 114,
     "metadata": {},
     "output_type": "execute_result"
    }
   ],
   "source": [
    "import re\n",
    "\n",
    "def get_json_value(page_source, key, value_pattern):\n",
    "    pattern = rf'[\\'\"]?{key}[\\'\"]?\\s*:\\s*[\\'\"]?({value_pattern})[\\'\"]?'\n",
    "    match = re.search(pattern, page_source, flags=re.IGNORECASE)\n",
    "    return match.group(1) if match else None\n",
    "\n",
    "profile_response = rt.get(\n",
    "    \"https://www.instagram.com/\", \n",
    "    allow_redirects = False,\n",
    "    headers = {\n",
    "        'user-agent': 'Mozilla/5.0 (Windows NT 10.0; Win64; x64) AppleWebKit/537.36 (KHTML, like Gecko) Chrome/131.0.0.0 Safari/537.36 Edg/131.0.0.0',\n",
    "    }\n",
    "    )\n",
    "\n",
    "csrf_token = get_json_value(profile_response.text, \"csrf_token\", \"[\\w-]+\") or \"\"\n",
    "appId = get_json_value(profile_response.text, \"appId\", \"\\d+\") or \"\"\n",
    "client_revision = get_json_value(profile_response.text, \"client_revision\", \"\\d+\") or \"\"\n",
    "x_ig_app_id = get_json_value(profile_response.text, \"X-IG-App-ID\", \"\\d+\")\n",
    "               \n",
    "csrf_token, appId, client_revision, x_ig_app_id"
   ]
  },
  {
   "cell_type": "code",
   "execution_count": 115,
   "metadata": {},
   "outputs": [
    {
     "data": {
      "text/plain": [
       "{'csrftoken': 'LIEhmFKHlvz3RYhbJ2bzly'}"
      ]
     },
     "execution_count": 115,
     "metadata": {},
     "output_type": "execute_result"
    }
   ],
   "source": [
    "profile_response.cookies.get_dict()"
   ]
  },
  {
   "cell_type": "code",
   "execution_count": 116,
   "metadata": {},
   "outputs": [
    {
     "data": {
      "text/plain": [
       "'{\"message\":\"\",\"spam\":true,\"status\":\"fail\"}'"
      ]
     },
     "execution_count": 116,
     "metadata": {},
     "output_type": "execute_result"
    }
   ],
   "source": [
    "response = rt.post(\n",
    "    'https://www.instagram.com/api/v1/web/accounts/web_create_ajax/attempt/', \n",
    "    headers = {\n",
    "        \"Content-Type\": 'application/x-www-form-urlencoded',\n",
    "        \"x-csrftoken\": csrf_token,\n",
    "        \"x-ig-app-id\": x_ig_app_id,\n",
    "        'user-agent': 'Mozilla/5.0 (Windows NT 10.0; Win64; x64) AppleWebKit/537.36 (KHTML, like Gecko) Chrome/131.0.0.0 Safari/537.36 Edg/131.0.0.0',\n",
    "        # # not very much important\n",
    "        # \"X-Requested-With\": \"XMLHttpRequest\",\n",
    "        # \"X-Instagram-AJAX\": client_revision,\n",
    "        # \"X-IG-App-ID\": appId,\n",
    "    }, \n",
    "    data = {\n",
    "        'email': '',\n",
    "        'failed_birthday_year_count': '{}',\n",
    "        'first_name': '',\n",
    "        'username': 'yellow',\n",
    "        'opt_into_one_tap': 'false',\n",
    "        'use_new_suggested_user_name': 'true'\n",
    "    },\n",
    "    \n",
    "    # data = \"email=&failed_birthday_year_count=%7B%7D&first_name=&username=saut11&opt_into_one_tap=false&use_new_suggested_user_name=true\",\n",
    "    cookies = profile_response.cookies\n",
    "    )\n",
    "response.text"
   ]
  },
  {
   "cell_type": "code",
   "execution_count": 118,
   "metadata": {},
   "outputs": [
    {
     "data": {
      "text/plain": [
       "('email=&failed_birthday_year_count=%7B%7D&first_name=&username=yellow&opt_into_one_tap=false&use_new_suggested_user_name=true',\n",
       " {'user-agent': 'Mozilla/5.0 (Windows NT 10.0; Win64; x64) AppleWebKit/537.36 (KHTML, like Gecko) Chrome/131.0.0.0 Safari/537.36 Edg/131.0.0.0', 'Accept-Encoding': 'gzip, deflate, br', 'Accept': '*/*', 'Connection': 'keep-alive', 'Content-Type': 'application/x-www-form-urlencoded', 'x-csrftoken': 'LIEhmFKHlvz3RYhbJ2bzly', 'x-ig-app-id': '936619743392459', 'Cookie': 'csrftoken=LIEhmFKHlvz3RYhbJ2bzly', 'Content-Length': '124'})"
      ]
     },
     "execution_count": 118,
     "metadata": {},
     "output_type": "execute_result"
    }
   ],
   "source": [
    "response.request.body"
   ]
  }
 ],
 "metadata": {
  "kernelspec": {
   "display_name": ".venv",
   "language": "python",
   "name": "python3"
  },
  "language_info": {
   "codemirror_mode": {
    "name": "ipython",
    "version": 3
   },
   "file_extension": ".py",
   "mimetype": "text/x-python",
   "name": "python",
   "nbconvert_exporter": "python",
   "pygments_lexer": "ipython3",
   "version": "3.10.12"
  }
 },
 "nbformat": 4,
 "nbformat_minor": 2
}
