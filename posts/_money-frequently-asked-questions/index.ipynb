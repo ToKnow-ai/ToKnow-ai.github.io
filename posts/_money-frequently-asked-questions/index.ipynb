{
 "cells": [
  {
   "cell_type": "markdown",
   "metadata": {},
   "source": [
    "# Money Explained: Frequently asked Questions about Money\n",
    "\n",
    "> ### Genuine Questions asked by People starting to Learn about Money."
   ]
  },
  {
   "cell_type": "markdown",
   "metadata": {},
   "source": [
    "## Introduction"
   ]
  },
  {
   "cell_type": "markdown",
   "metadata": {},
   "source": [
    "## What would you do you got 5 million Kenya Shillings (approximately <xxx USD>) after fininishing Colledge or University, what would you do with it?\n",
    "\n",
    "I was asking a friend and he mentioned bonds and real estate. I think real estate makes sense.\n",
    "\n",
    "> "
   ]
  },
  {
   "cell_type": "code",
   "execution_count": null,
   "metadata": {},
   "outputs": [],
   "source": [
    "# Create currency converter that autodetects and replaces currencies on a \n",
    "# page depending on where you are viweing it from. prefarable a JS script that\n",
    "# has a dropdown to also select currency, without backend"
   ]
  },
  {
   "cell_type": "markdown",
   "metadata": {},
   "source": [
    "What is the difference between various unit trust investments?"
   ]
  },
  {
   "cell_type": "markdown",
   "metadata": {},
   "source": [
    "https://web.archive.org/web/20240730214559/https://www.cma.or.ke/download/34/regulations/5017/the-capital-markets-collective-investment-schemes-regulations-2023.pdf"
   ]
  }
 ],
 "metadata": {
  "language_info": {
   "name": "python"
  }
 },
 "nbformat": 4,
 "nbformat_minor": 2
}
