{
 "cells": [
  {
   "cell_type": "markdown",
   "metadata": {},
   "source": [
    "![Test the app below this page](post.png)"
   ]
  },
  {
   "cell_type": "markdown",
   "metadata": {},
   "source": [
    "<!-- metadata: title -->\n",
    "# Convert Your Shazam Playlist to YouTube Playlist\n",
    "\n",
    "<!-- metadata: subtitle -->\n",
    "> ### Listen to Your Shazam Discoveries for Free.\n",
    "\n",
    "<!-- metadata: keywords, type=array -->\n",
    "**Keywords:**\n",
    "  - shazam\n",
    "  - playlist\n",
    "  - youtube\n",
    "\n",
    "<!-- metadata: categories, type=array -->\n",
    "**Categories:**\n",
    "  - ideas\n",
    "  - shazam\n",
    "  - youtube\n",
    "\n",
    "<!-- metadata: -->\n",
    "**Description:**\n",
    "<!-- metadata: description -->\n",
    "[Shazam](https://www.shazam.com/) is an incredible app for identifying music playing around you. Whether you're at a cafe, watching a movie, or just hearing a catchy tune on the radio, Shazam helps you discover new music effortlessly. However, the app's main limitation is that it doesn't allow you to play full songs unless you have a linked music streaming subscription."
   ]
  },
  {
   "cell_type": "markdown",
   "metadata": {},
   "source": [
    "## Introduction\n",
    "Have you ever found yourself in a situation where you've Shazamed a bunch of great songs, but can't listen to them without subscribing to a premium music service? Well, we've got great news for you! There's a free and easy way to enjoy your Shazam discoveries without breaking the bank. Let's dive into how you can convert your Shazam playlist to a YouTube playlist and start listening right away.\n",
    "\n",
    "## Enter the Shazam to YouTube Converter\n",
    "We have developed a web application that takes your Shazam playlist and converts it into a YouTube playlist. This means you can listen to full versions of your discovered songs without paying for a subscription!\n",
    "\n",
    "## How It Works\n",
    "The process is surprisingly simple:\n",
    "\n",
    "1. **Export Your Shazam Library**: \n",
    "First, you'll need to export your Shazam library as a CSV file. You can do this by visiting [https://www.shazam.com/myshazam](https://www.shazam.com/myshazam) and downloading your list of identified songs.\n",
    "\n",
    "2. **Upload to the Converter**: Visit the [Shazam Playlist to YouTube Playlist converter]({{<pagepath apps/shazam-playlist-to-youtube-playlist.qmd>}}). Here, you'll see an option to upload your CSV file.\n",
    "\n",
    "3. **Watch the Magic Happen**: Once you upload your file, the application processes your Shazam list and creates a YouTube playlist on the fly.\n",
    "\n",
    "4. **Start Listening**: A YouTube player will appear, ready to play through your entire list of songs. You can also see a table of all your tracks, allowing you to easily jump to any song in the list."
   ]
  },
  {
   "cell_type": "markdown",
   "metadata": {},
   "source": [
    "## Code"
   ]
  },
  {
   "cell_type": "markdown",
   "metadata": {},
   "source": [
    "### Imports"
   ]
  },
  {
   "cell_type": "code",
   "execution_count": 1,
   "metadata": {},
   "outputs": [],
   "source": [
    "%load_ext autoreload\n",
    "%autoreload 2\n",
    "\n",
    "import sys\n",
    "sys.path.append(\"./shazam-playlist-to-youtube-playlist\")"
   ]
  },
  {
   "cell_type": "code",
   "execution_count": 2,
   "metadata": {},
   "outputs": [],
   "source": [
    "from IPython.display import HTML\n",
    "import pandas as pd\n",
    "from pytube import YouTube\n",
    "from app import get_youtube_song"
   ]
  },
  {
   "cell_type": "markdown",
   "metadata": {},
   "source": [
    "### Preview Data"
   ]
  },
  {
   "cell_type": "code",
   "execution_count": 3,
   "metadata": {},
   "outputs": [
    {
     "data": {
      "text/html": [
       "<div>\n",
       "<style scoped>\n",
       "    .dataframe tbody tr th:only-of-type {\n",
       "        vertical-align: middle;\n",
       "    }\n",
       "\n",
       "    .dataframe tbody tr th {\n",
       "        vertical-align: top;\n",
       "    }\n",
       "\n",
       "    .dataframe thead th {\n",
       "        text-align: right;\n",
       "    }\n",
       "</style>\n",
       "<table border=\"1\" class=\"dataframe\">\n",
       "  <thead>\n",
       "    <tr style=\"text-align: right;\">\n",
       "      <th></th>\n",
       "      <th>Index</th>\n",
       "      <th>TagTime</th>\n",
       "      <th>Title</th>\n",
       "      <th>Artist</th>\n",
       "      <th>URL</th>\n",
       "      <th>TrackKey</th>\n",
       "    </tr>\n",
       "  </thead>\n",
       "  <tbody>\n",
       "    <tr>\n",
       "      <th>0</th>\n",
       "      <td>1</td>\n",
       "      <td>2024-06-13</td>\n",
       "      <td>Until I Found You (Em Beihold Version)</td>\n",
       "      <td>Stephen Sanchez &amp; Em Beihold</td>\n",
       "      <td>https://www.shazam.com/track/581828191/until-i...</td>\n",
       "      <td>581828191</td>\n",
       "    </tr>\n",
       "    <tr>\n",
       "      <th>1</th>\n",
       "      <td>2</td>\n",
       "      <td>2024-06-13</td>\n",
       "      <td>Capitals of Europe: Nordic Region</td>\n",
       "      <td>Katrina Holland</td>\n",
       "      <td>https://www.shazam.com/track/651866832/capital...</td>\n",
       "      <td>651866832</td>\n",
       "    </tr>\n",
       "    <tr>\n",
       "      <th>2</th>\n",
       "      <td>3</td>\n",
       "      <td>2024-06-13</td>\n",
       "      <td>Capitals of Europe: Nordic Region</td>\n",
       "      <td>Katrina Holland</td>\n",
       "      <td>https://www.shazam.com/track/651866832/capital...</td>\n",
       "      <td>651866832</td>\n",
       "    </tr>\n",
       "    <tr>\n",
       "      <th>3</th>\n",
       "      <td>4</td>\n",
       "      <td>2024-06-11</td>\n",
       "      <td>Ven Ven</td>\n",
       "      <td>Lotus Beatz</td>\n",
       "      <td>https://www.shazam.com/track/696779462/ven-ven</td>\n",
       "      <td>696779462</td>\n",
       "    </tr>\n",
       "    <tr>\n",
       "      <th>4</th>\n",
       "      <td>5</td>\n",
       "      <td>2024-05-30</td>\n",
       "      <td>Ava</td>\n",
       "      <td>Famy</td>\n",
       "      <td>https://www.shazam.com/track/127047942/ava</td>\n",
       "      <td>127047942</td>\n",
       "    </tr>\n",
       "    <tr>\n",
       "      <th>...</th>\n",
       "      <td>...</td>\n",
       "      <td>...</td>\n",
       "      <td>...</td>\n",
       "      <td>...</td>\n",
       "      <td>...</td>\n",
       "      <td>...</td>\n",
       "    </tr>\n",
       "    <tr>\n",
       "      <th>222</th>\n",
       "      <td>223</td>\n",
       "      <td>2018-03-10</td>\n",
       "      <td>Lose Yourself</td>\n",
       "      <td>Felax</td>\n",
       "      <td>https://www.shazam.com/track/340620006/lose-yo...</td>\n",
       "      <td>340620006</td>\n",
       "    </tr>\n",
       "    <tr>\n",
       "      <th>223</th>\n",
       "      <td>224</td>\n",
       "      <td>2018-03-08</td>\n",
       "      <td>This Is What It Feels Like (feat. Trevor Guthrie)</td>\n",
       "      <td>Armin van Buuren</td>\n",
       "      <td>https://www.shazam.com/track/89020928/this-is-...</td>\n",
       "      <td>83795151</td>\n",
       "    </tr>\n",
       "    <tr>\n",
       "      <th>224</th>\n",
       "      <td>225</td>\n",
       "      <td>2018-03-04</td>\n",
       "      <td>Roulette</td>\n",
       "      <td>Katy Perry</td>\n",
       "      <td>https://www.shazam.com/track/358615884/roulette</td>\n",
       "      <td>358615884</td>\n",
       "    </tr>\n",
       "    <tr>\n",
       "      <th>225</th>\n",
       "      <td>226</td>\n",
       "      <td>2018-03-04</td>\n",
       "      <td>Roulette</td>\n",
       "      <td>Katy Perry</td>\n",
       "      <td>https://www.shazam.com/track/358615884/roulette</td>\n",
       "      <td>358615884</td>\n",
       "    </tr>\n",
       "    <tr>\n",
       "      <th>226</th>\n",
       "      <td>227</td>\n",
       "      <td>2018-02-08</td>\n",
       "      <td>If You Need to, Keep Time on Me</td>\n",
       "      <td>Fleet Foxes</td>\n",
       "      <td>https://www.shazam.com/track/357910030/if-you-...</td>\n",
       "      <td>357910030</td>\n",
       "    </tr>\n",
       "  </tbody>\n",
       "</table>\n",
       "<p>227 rows × 6 columns</p>\n",
       "</div>"
      ],
      "text/plain": [
       "     Index     TagTime                                              Title  \\\n",
       "0        1  2024-06-13             Until I Found You (Em Beihold Version)   \n",
       "1        2  2024-06-13                  Capitals of Europe: Nordic Region   \n",
       "2        3  2024-06-13                  Capitals of Europe: Nordic Region   \n",
       "3        4  2024-06-11                                            Ven Ven   \n",
       "4        5  2024-05-30                                                Ava   \n",
       "..     ...         ...                                                ...   \n",
       "222    223  2018-03-10                                      Lose Yourself   \n",
       "223    224  2018-03-08  This Is What It Feels Like (feat. Trevor Guthrie)   \n",
       "224    225  2018-03-04                                           Roulette   \n",
       "225    226  2018-03-04                                           Roulette   \n",
       "226    227  2018-02-08                    If You Need to, Keep Time on Me   \n",
       "\n",
       "                           Artist  \\\n",
       "0    Stephen Sanchez & Em Beihold   \n",
       "1                 Katrina Holland   \n",
       "2                 Katrina Holland   \n",
       "3                     Lotus Beatz   \n",
       "4                            Famy   \n",
       "..                            ...   \n",
       "222                         Felax   \n",
       "223              Armin van Buuren   \n",
       "224                    Katy Perry   \n",
       "225                    Katy Perry   \n",
       "226                   Fleet Foxes   \n",
       "\n",
       "                                                   URL   TrackKey  \n",
       "0    https://www.shazam.com/track/581828191/until-i...  581828191  \n",
       "1    https://www.shazam.com/track/651866832/capital...  651866832  \n",
       "2    https://www.shazam.com/track/651866832/capital...  651866832  \n",
       "3       https://www.shazam.com/track/696779462/ven-ven  696779462  \n",
       "4           https://www.shazam.com/track/127047942/ava  127047942  \n",
       "..                                                 ...        ...  \n",
       "222  https://www.shazam.com/track/340620006/lose-yo...  340620006  \n",
       "223  https://www.shazam.com/track/89020928/this-is-...   83795151  \n",
       "224    https://www.shazam.com/track/358615884/roulette  358615884  \n",
       "225    https://www.shazam.com/track/358615884/roulette  358615884  \n",
       "226  https://www.shazam.com/track/357910030/if-you-...  357910030  \n",
       "\n",
       "[227 rows x 6 columns]"
      ]
     },
     "execution_count": 3,
     "metadata": {},
     "output_type": "execute_result"
    }
   ],
   "source": [
    "# Load the Shazam library from a CSV file and return the DataFrame.\n",
    "shazamlibrary_df = pd.read_csv('shazamlibrary.csv', header=1)\n",
    "shazamlibrary_df"
   ]
  },
  {
   "cell_type": "markdown",
   "metadata": {},
   "source": [
    "### Format data"
   ]
  },
  {
   "cell_type": "code",
   "execution_count": 4,
   "metadata": {},
   "outputs": [
    {
     "data": {
      "text/html": [
       "<div>\n",
       "<style scoped>\n",
       "    .dataframe tbody tr th:only-of-type {\n",
       "        vertical-align: middle;\n",
       "    }\n",
       "\n",
       "    .dataframe tbody tr th {\n",
       "        vertical-align: top;\n",
       "    }\n",
       "\n",
       "    .dataframe thead th {\n",
       "        text-align: right;\n",
       "    }\n",
       "</style>\n",
       "<table border=\"1\" class=\"dataframe\">\n",
       "  <thead>\n",
       "    <tr style=\"text-align: right;\">\n",
       "      <th></th>\n",
       "      <th>Title</th>\n",
       "      <th>Artist</th>\n",
       "    </tr>\n",
       "  </thead>\n",
       "  <tbody>\n",
       "    <tr>\n",
       "      <th>0</th>\n",
       "      <td>Until I Found You (Em Beihold Version)</td>\n",
       "      <td>Stephen Sanchez &amp; Em Beihold</td>\n",
       "    </tr>\n",
       "    <tr>\n",
       "      <th>1</th>\n",
       "      <td>Capitals of Europe: Nordic Region</td>\n",
       "      <td>Katrina Holland</td>\n",
       "    </tr>\n",
       "    <tr>\n",
       "      <th>3</th>\n",
       "      <td>Ven Ven</td>\n",
       "      <td>Lotus Beatz</td>\n",
       "    </tr>\n",
       "    <tr>\n",
       "      <th>4</th>\n",
       "      <td>Ava</td>\n",
       "      <td>Famy</td>\n",
       "    </tr>\n",
       "    <tr>\n",
       "      <th>5</th>\n",
       "      <td>Hero</td>\n",
       "      <td>Bryan Todd Feat. Ashley Argota</td>\n",
       "    </tr>\n",
       "    <tr>\n",
       "      <th>...</th>\n",
       "      <td>...</td>\n",
       "      <td>...</td>\n",
       "    </tr>\n",
       "    <tr>\n",
       "      <th>221</th>\n",
       "      <td>恋人心</td>\n",
       "      <td>Wei Xin Yu</td>\n",
       "    </tr>\n",
       "    <tr>\n",
       "      <th>222</th>\n",
       "      <td>Lose Yourself</td>\n",
       "      <td>Felax</td>\n",
       "    </tr>\n",
       "    <tr>\n",
       "      <th>223</th>\n",
       "      <td>This Is What It Feels Like (feat. Trevor Guthrie)</td>\n",
       "      <td>Armin van Buuren</td>\n",
       "    </tr>\n",
       "    <tr>\n",
       "      <th>224</th>\n",
       "      <td>Roulette</td>\n",
       "      <td>Katy Perry</td>\n",
       "    </tr>\n",
       "    <tr>\n",
       "      <th>226</th>\n",
       "      <td>If You Need to, Keep Time on Me</td>\n",
       "      <td>Fleet Foxes</td>\n",
       "    </tr>\n",
       "  </tbody>\n",
       "</table>\n",
       "<p>201 rows × 2 columns</p>\n",
       "</div>"
      ],
      "text/plain": [
       "                                                 Title  \\\n",
       "0               Until I Found You (Em Beihold Version)   \n",
       "1                    Capitals of Europe: Nordic Region   \n",
       "3                                              Ven Ven   \n",
       "4                                                  Ava   \n",
       "5                                                 Hero   \n",
       "..                                                 ...   \n",
       "221                                                恋人心   \n",
       "222                                      Lose Yourself   \n",
       "223  This Is What It Feels Like (feat. Trevor Guthrie)   \n",
       "224                                           Roulette   \n",
       "226                    If You Need to, Keep Time on Me   \n",
       "\n",
       "                             Artist  \n",
       "0      Stephen Sanchez & Em Beihold  \n",
       "1                   Katrina Holland  \n",
       "3                       Lotus Beatz  \n",
       "4                              Famy  \n",
       "5    Bryan Todd Feat. Ashley Argota  \n",
       "..                              ...  \n",
       "221                      Wei Xin Yu  \n",
       "222                           Felax  \n",
       "223                Armin van Buuren  \n",
       "224                      Katy Perry  \n",
       "226                     Fleet Foxes  \n",
       "\n",
       "[201 rows x 2 columns]"
      ]
     },
     "execution_count": 4,
     "metadata": {},
     "output_type": "execute_result"
    }
   ],
   "source": [
    "# Remove Duplicates and Select `Title` and `Artist`.\n",
    "shazamlibrary_df = shazamlibrary_df.drop_duplicates(subset=['TrackKey'])[['Title', 'Artist']]\n",
    "shazamlibrary_df"
   ]
  },
  {
   "cell_type": "code",
   "execution_count": 5,
   "metadata": {},
   "outputs": [
    {
     "data": {
      "text/plain": [
       "'https://youtube.com/watch?v=kPlSyYtE63M'"
      ]
     },
     "execution_count": 5,
     "metadata": {},
     "output_type": "execute_result"
    }
   ],
   "source": [
    "# Test search\n",
    "search_title, search_artist = shazamlibrary_df.loc[0].values\n",
    "youtube: YouTube = get_youtube_song(search_title, search_artist)\n",
    "youtube.watch_url"
   ]
  },
  {
   "cell_type": "markdown",
   "metadata": {},
   "source": [
    "### Code to run the player"
   ]
  },
  {
   "cell_type": "markdown",
   "metadata": {},
   "source": [
    "Below is the code used to run the server at Huggingface:\n",
    "```python\n",
    "{{< include shazam-playlist-to-youtube-playlist/app.py >}}\n",
    "```\n",
    "Below is the HTML page that renders the page:\n",
    "```html\n",
    "{{< include shazam-playlist-to-youtube-playlist/index.html >}}\n",
    "```"
   ]
  },
  {
   "cell_type": "markdown",
   "metadata": {},
   "source": [
    "## Test the App\n",
    "\n",
    "> [/apps/shazam-playlist-to-youtube-playlist]({{<pagepath apps/shazam-playlist-to-youtube-playlist.qmd>}})"
   ]
  },
  {
   "cell_type": "code",
   "execution_count": 6,
   "metadata": {},
   "outputs": [
    {
     "data": {
      "text/html": [
       "<iframe\n",
       "\tsrc=\"https://toknow-ai-shazam-playlist-to-youtube-playlist.hf.space\"\n",
       "\tframeborder=\"0\"\n",
       "\twidth=\"100%\"\n",
       "\theight=\"600\"\n",
       "\tstyle=\"width:100%\"\n",
       "></iframe>"
      ],
      "text/plain": [
       "<IPython.core.display.HTML object>"
      ]
     },
     "execution_count": 6,
     "metadata": {},
     "output_type": "execute_result"
    }
   ],
   "source": [
    "#|output-when-format: \"html\"\n",
    "\n",
    "HTML('''<iframe\n",
    "\tsrc=\"https://toknow-ai-shazam-playlist-to-youtube-playlist.hf.space\"\n",
    "\tframeborder=\"0\"\n",
    "\twidth=\"100%\"\n",
    "\theight=\"600\"\n",
    "\tstyle=\"width:100%\"\n",
    "></iframe>''')"
   ]
  },
  {
   "cell_type": "markdown",
   "metadata": {},
   "source": [
    "## Conclusion\n",
    "\n",
    "The Shazam to YouTube Playlist converter offers a fantastic, free alternative for enjoying your music discoveries. It bridges the gap between Shazam's identification capabilities and the vast library of music available on YouTube. Whether you're a casual music listener or an avid discoverer of new tunes, this tool provides a valuable service without the need for paid subscriptions.\n",
    "Give it a try and turn your Shazam discoveries into a personalized YouTube concert. Happy listening!"
   ]
  }
 ],
 "metadata": {
  "kernelspec": {
   "display_name": ".venv",
   "language": "python",
   "name": "python3"
  },
  "language_info": {
   "codemirror_mode": {
    "name": "ipython",
    "version": 3
   },
   "file_extension": ".py",
   "mimetype": "text/x-python",
   "name": "python",
   "nbconvert_exporter": "python",
   "pygments_lexer": "ipython3",
   "version": "3.10.12"
  }
 },
 "nbformat": 4,
 "nbformat_minor": 2
}
