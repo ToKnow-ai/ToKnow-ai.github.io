{
 "cells": [
  {
   "cell_type": "markdown",
   "metadata": {},
   "source": [
    "<!-- metadata: title -->\n",
    "# Protecting Against Domain Front-Running by Registrars\n",
    "\n",
    "<!-- metadata: subtitle -->\n",
    "> ### Understanding and Mitigating Domain Registration Interception\n",
    "<!-- metadata: -->\n",
    "\n",
    "**Published Date:**\n",
    "<!-- metadata: date -->\n",
    "2024-10-25\n",
    "<!-- metadata: -->\n",
    "\n",
    "**Keywords:**\n",
    "<!-- metadata: keywords, is_array=true -->\n",
    "  - domain-front-running\n",
    "  - WHOIS-privacy\n",
    "  - RDAP\n",
    "  - domain-registrars\n",
    "  - cybersquatting\n",
    "  - domain-privacy\n",
    "  - DNS-security\n",
    "  - domain-tasting\n",
    "<!-- metadata: -->\n",
    "\n",
    "**Categories:**\n",
    "<!-- metadata: categories, is_array=true -->\n",
    "  - cyber-security\n",
    "<!-- metadata: -->"
   ]
  },
  {
   "cell_type": "markdown",
   "metadata": {},
   "source": [
    "## Description\n",
    "<!-- metadata: description -->\n",
    "This article examines the practice of domain front-running by registrars and presents a transparent, open-source solution for private domain availability checking. Drawing from personal experiences and community reports, we explore how registrars potentially monitor domain searches and preemptively register domains of interest, and propose methods to conduct domain searches more privately.\n",
    "<!-- metadata: -->"
   ]
  },
  {
   "cell_type": "markdown",
   "metadata": {},
   "source": [
    "## Introduction"
   ]
  },
  {
   "cell_type": "markdown",
   "metadata": {},
   "source": [
    "Domain front-running^[https://en.wikipedia.org/wiki/Domain_name_front_running] typically occurs when a domain registrar or associated party monitors search queries entered by users looking for available domain names. If the domain appears promising or marketable, the registrar may register it before the user, intending to profit by reselling it at a higher price. While registrars deny engaging in this practice, affected individuals and businesses find it challenging to prove due to limited transparency regarding how domain search data is managed and monitored.\n",
    "\n",
    "On a personal level, I, along with several friends and family members, have encountered domain front-running. In one instance, after conducting an availability search for a domain through a popular registrar's website, the exact domain was unexpectedly registered within minutes (literally!). On average, short and simple domain names are typically lost within `12-72 hours` after searching, depending on where you searched and the TLD of the domain.\n",
    "\n",
    "Such incidents are far from isolated. Numerous domain seekers report similar patterns, noting that after searching for specific domains, these names quickly become registered by the same or affiliated registrars. This behavior leaves many users without clear explanations, contributing to widespread suspicion and concern. Evidence from personal experiences and community reports suggests that domain front-running remains an ongoing concern that affects domain seekers.\n",
    "\n",
    "\n",
    "Recent discussions across various forums highlight ongoing concerns about domain front-running:\n",
    "\n",
    " - [*Domain Front Running?*](https://www.reddit.com/r/Domains/comments/1ejjsjr/domain_front_running/) - <small>Sunday, August 4, 2024</small>\n",
    " - [*Safe way to search for availability to avoid front running?*](https://www.reddit.com/r/Domains/comments/pujp0o/safe_way_to_search_for_availability_to_avoid/) - <small>Friday, September 24, 2021</small>\n",
    " - [*Did GoDaddy just front run me?*](https://www.reddit.com/r/Domains/comments/1c0to8b/did_godaddy_just_front_run_me/) - <small>Wednesday, April 10, 2024</small>\n",
    " - [*I just confirmed that Namecheap buys available domains that you search for*](https://www.reddit.com/r/NameCheap/comments/124pctw/i_just_confirmed_that_namecheap_buys_available/) - <small>Tuesday, March 28, 2023</small>\n",
    " - Others - <https://www.google.com/search?q=domain+front-running+site%3Areddit.com>"
   ]
  },
  {
   "cell_type": "markdown",
   "metadata": {},
   "source": [
    "### Understanding Domain Registration Systems"
   ]
  },
  {
   "cell_type": "markdown",
   "metadata": {},
   "source": [
    "Domain registration involves multiple levels of authority:\n",
    "\n",
    " - Country-level registries (e.g., [KENIC](https://rdap.kenic.or.ke/) for `.ke` domains)\n",
    " - Global registries (e.g., [Verisign](https://rdap.verisign.com/com/v1/) for `.com` and `.net`)\n",
    " - Individual registrars (e.g., GoDaddy, Namecheap)\n",
    "\n",
    " Each registry maintains authoritative records of registered and unregistered domains through their `WHOIS` or `RDAP` protocols. Some TLDs face stability issues, such as Libya's `.ly` domain, where the official registrar ([whois.nic.ly](https://whois.nic.ly)) is non-functional, leaving only unofficial services like [reg.ly](https://reg.ly/ly-domain/).\n",
    "\n",
    "There are two main protocols for checking domain availability, `WHOIS` and `RDAP`:\n",
    "\n",
    "<table>\n",
    "    <tr>\n",
    "        <th>Feature</th>\n",
    "        <th>WHOIS Protocol</th>\n",
    "        <th>RDAP (Registration Data Access Protocol)</th>\n",
    "    </tr>\n",
    "    <tr>\n",
    "        <td><strong>Introduced</strong></td>\n",
    "        <td>1982</td>\n",
    "        <td>2015</td>\n",
    "    </tr>\n",
    "    <tr>\n",
    "        <td><strong>Status</strong></td>\n",
    "        <td>Legacy but still widely used</td>\n",
    "        <td>Modern replacement for WHOIS</td>\n",
    "    </tr>\n",
    "    <tr>\n",
    "        <td><strong>Privacy Features</strong></td>\n",
    "        <td>Limited</td>\n",
    "        <td>Built-in</td>\n",
    "    </tr>\n",
    "    <tr>\n",
    "        <td><strong>Standardization</strong></td>\n",
    "        <td>Varies by registrar</td>\n",
    "        <td>JSON-based, consistent</td>\n",
    "    </tr>\n",
    "    <tr>\n",
    "        <td><strong>Accuracy</strong></td>\n",
    "        <td>Can be inconsistent</td>\n",
    "        <td>Generally more reliable</td>\n",
    "    </tr>\n",
    "    <tr>\n",
    "        <td><strong>Advantages</strong></td>\n",
    "        <td>\n",
    "            <ul>\n",
    "                <li>Widespread support</li>\n",
    "                <li>Simple protocol</li>\n",
    "            </ul>\n",
    "        </td>\n",
    "        <td>\n",
    "            <ul>\n",
    "                <li>Standardized JSON responses</li>\n",
    "                <li>Better privacy controls</li>\n",
    "                <li>More efficient queries</li>\n",
    "            </ul>\n",
    "        </td>\n",
    "    </tr>\n",
    "    <tr>\n",
    "        <td><strong>Disadvantages</strong></td>\n",
    "        <td>\n",
    "            <ul>\n",
    "                <li>No standardized format</li>\n",
    "                <li>Limited privacy protections</li>\n",
    "                <li>Rate limiting issues</li>\n",
    "            </ul>\n",
    "        </td>\n",
    "        <td>\n",
    "            <ul>\n",
    "                <li>Not yet universally adopted</li>\n",
    "                <li>Requires more complex implementation</li>\n",
    "            </ul>\n",
    "        </td>\n",
    "    </tr>\n",
    "</table>\n"
   ]
  },
  {
   "cell_type": "markdown",
   "metadata": {},
   "source": [
    "### Best Practices for Private Domain Searches\n",
    "\n",
    "Claims of domain snatching by domain registrars underscore the need for domain seekers to understand the risks and methods for safeguarding their domain searches.\n",
    "\n",
    "1. Use Official WHOIS Lookup Sites:\n",
    "   Instead of searching on a registrar's website, consider using a neutral WHOIS lookup service. Many of these services do not track or record searches, reducing the likelihood of domain front-running.\n",
    "   - ICANN lookup (https://lookup.icann.org/en) for `.com` domains\n",
    "   - Direct registry websites (e.g., [KENIC](https://rdap.kenic.or.ke/) for `.ke` domains)\n",
    "   - Avoid commercial registrars for initial searches, such as [GoDaddy](https://www.godaddy.com/domains) or [NameCheap](https://www.namecheap.com/domains/domain-name-search/)\n",
    "\n",
    "2. Utilize command-line tools:\n",
    "   - Use terminal `whois` command (e.g., `whois example.com`). whois program is usually preinstalled in most unix systems. For Windows users, Microsoft offers a WHOIS utility that can be downloaded from [Sysinternals site](https://learn.microsoft.com/en-us/sysinternals/downloads/whois).\n",
    "   - Minimizes exposure to potential monitoring\n",
    "\n",
    "3. Time your searches strategically:\n",
    "   - Only search on commercial registrars when ready to purchase immediately\n",
    "   - Make sure you test your payment method before searching\n",
    "\n",
    "4. Research the Registrar's Reputation:\n",
    "   Before using a registrar, check reviews and forums for any reports or complaints about front-running. Users often share their experiences, which can help identify registrars with questionable practices.\n",
    "   - Avoid small resellers who may have less secure practices\n",
    "   - Understand that most resellers ultimately use major registrars' services, thus have less control over the monitoring of the domain searches\n",
    "\n",
    "5. Use Independent Domain Search Tools:\n",
    "   - Utilize unaffiliated services like our [private domain checker - https://toknow.ai/apps/private-domain-checker](https://toknow.ai/apps/private-domain-checker)\n",
    "   - Prefer open-source solutions for transparency\n",
    "\n",
    "\n",
    "### Transparent Solution: Private Domain Checker\n",
    "\n",
    "[Private Domain Checker](https://toknow-ai-private-domain-checker.hf.space), hosted on [Hugging Face Spaces](https://huggingface.co/spaces/ToKnow-ai/private-domain-checker) and with publicly available [source code](https://huggingface.co/spaces/ToKnow-ai/private-domain-checker/tree/main), provides a privacy-focused alternative for domain availability checks. Key features include:\n",
    "\n",
    "- Multiple checking methods (DNS, RDAP, WHOIS)\n",
    "- No registrar affiliations\n",
    "- [Open-source codebase](https://huggingface.co/spaces/ToKnow-ai/private-domain-checker/tree/main)\n",
    "- Support for nearly all TLDs\n",
    "\n",
    "**Limitations**:\n",
    "\n",
    "The tool has some constraints:\n",
    "\n",
    "- Cannot check certain TLDs (e.g., `.ly`) due to non-functional official registries\n",
    "- Platform accessibility issues in some regions (e.g., China^[whois.cnnic.cn is timming out in huggingface: https://www.chinatalk.media/p/hugging-face-blocked-self-castrating]) due to Hugging Face hosting restrictions. Consequently, domains with TLDs in restricted regions cannot be searched, such as `.cn` when Hugging Face is blocked\n",
    "- Dependent on registry API availability and response times\n",
    "- Dependent on Hugging Face Space resources and availability"
   ]
  },
  {
   "cell_type": "markdown",
   "metadata": {},
   "source": [
    "#### Demo"
   ]
  },
  {
   "cell_type": "markdown",
   "metadata": {},
   "source": [
    "[Please visit <{{< meta html_uri >}}> to view the demo]{.content-visible when-format=\"pdf\"}"
   ]
  },
  {
   "cell_type": "markdown",
   "metadata": {},
   "source": [
    "<!-- #| .content-visible unless-format=\"pdf\" -->\n",
    "\n",
    "{{< iframe \n",
    "  'loading private domain checker...' \n",
    "  src=\"https://toknow-ai-private-domain-checker.hf.space\"\n",
    "  frameborder=\"0\"\n",
    "  width=\"100%\"\n",
    "  height=\"440px\" >}}"
   ]
  },
  {
   "cell_type": "markdown",
   "metadata": {},
   "source": [
    "#### Code\n",
    "\n",
    "Below is the code running the flask app running the above [private domain checker](https://huggingface.co/spaces/ToKnow-ai/private-domain-checker/blob/main/app.py)\n",
    "\n",
    "```python\n",
    "\n",
    "# https://huggingface.co/spaces/ToKnow-ai/private-domain-checker/blob/main/app.py\n",
    "\n",
    "{{< include private-domain-checker/app.py >}}\n",
    "```"
   ]
  },
  {
   "cell_type": "code",
   "execution_count": 1,
   "metadata": {},
   "outputs": [],
   "source": [
    "# | echo: false\n",
    "# | output: false\n",
    "\n",
    "import sys\n",
    "import os\n",
    "\n",
    "sys.path.append(os.path.abspath(\"private-domain-checker\"))\n",
    "\n",
    "%reload_ext autoreload\n",
    "%autoreload 2"
   ]
  },
  {
   "cell_type": "markdown",
   "metadata": {},
   "source": [
    "#### Test"
   ]
  },
  {
   "cell_type": "code",
   "execution_count": 24,
   "metadata": {},
   "outputs": [],
   "source": [
    "# | echo: false\n",
    "# | output: false\n",
    "\n",
    "def check_domain(domain: str):\n",
    "    from app import check_domain\n",
    "    import json\n",
    "    result = check_domain(domain)\n",
    "    print(json.dumps(result, indent=2))"
   ]
  },
  {
   "cell_type": "code",
   "execution_count": 23,
   "metadata": {},
   "outputs": [
    {
     "name": "stdout",
     "output_type": "stream",
     "text": [
      "{\n",
      "  \"domain\": \"examplerhccvu.ly\",\n",
      "  \"available\": false,\n",
      "  \"method\": \"Unsupported TLD, try at https://reg.ly/ly-domain/\",\n",
      "  \"logs\": []\n",
      "}\n"
     ]
    }
   ],
   "source": [
    "check_domain(\"examplerhccvu.ly\")"
   ]
  },
  {
   "cell_type": "code",
   "execution_count": 19,
   "metadata": {},
   "outputs": [
    {
     "name": "stdout",
     "output_type": "stream",
     "text": [
      "{\n",
      "  \"domain\": \"examplerhccvu.cn\",\n",
      "  \"method\": \"Checked via WHOIS:whois.cnnic.cn\",\n",
      "  \"available\": true,\n",
      "  \"logs\": [\n",
      "    \"dns_is_available:NS:Exception::The DNS query name does not exist: examplerhccvu.cn.\",\n",
      "    \"dns_is_available:A:Exception::The DNS query name does not exist: examplerhccvu.cn.\",\n",
      "    \"dns_is_available:AAAA:Exception::The DNS query name does not exist: examplerhccvu.cn.\",\n",
      "    \"dns_is_available:MX:Exception::The DNS query name does not exist: examplerhccvu.cn.\",\n",
      "    \"dns_is_available:CNAME:Exception::The DNS query name does not exist: examplerhccvu.cn.\",\n",
      "    \"get_whois_server:no RDAP\"\n",
      "  ]\n",
      "}\n"
     ]
    }
   ],
   "source": [
    "check_domain(\"examplerhccvu.cn\")"
   ]
  },
  {
   "cell_type": "code",
   "execution_count": 21,
   "metadata": {},
   "outputs": [
    {
     "name": "stdout",
     "output_type": "stream",
     "text": [
      "{\n",
      "  \"domain\": \"examplerhccvu.com\",\n",
      "  \"method\": \"Checked via RDAP:https://rdap.verisign.com/com/v1/\",\n",
      "  \"available\": true,\n",
      "  \"logs\": [\n",
      "    \"dns_is_available:NS:Exception::The DNS query name does not exist: examplerhccvu.com.\",\n",
      "    \"dns_is_available:A:Exception::The DNS query name does not exist: examplerhccvu.com.\",\n",
      "    \"dns_is_available:AAAA:Exception::The DNS query name does not exist: examplerhccvu.com.\",\n",
      "    \"dns_is_available:MX:Exception::The DNS query name does not exist: examplerhccvu.com.\",\n",
      "    \"dns_is_available:CNAME:Exception::The DNS query name does not exist: examplerhccvu.com.\"\n",
      "  ]\n",
      "}\n"
     ]
    }
   ],
   "source": [
    "check_domain(\"examplerhccvu.com\")"
   ]
  },
  {
   "cell_type": "code",
   "execution_count": 22,
   "metadata": {},
   "outputs": [
    {
     "name": "stdout",
     "output_type": "stream",
     "text": [
      "{\n",
      "  \"domain\": \"example.com\",\n",
      "  \"method\": \"Checked via DNS:NS\",\n",
      "  \"available\": false,\n",
      "  \"logs\": []\n",
      "}\n"
     ]
    }
   ],
   "source": [
    "check_domain(\"example.com\")"
   ]
  },
  {
   "cell_type": "markdown",
   "metadata": {},
   "source": [
    "## Conclusion\n",
    "\n",
    "While domain front-running remains challenging to prove conclusively, the abundance of user experiences and technical evidence suggests the need for private domain checking solutions. Our open-source tool provides one approach to mitigating these risks, though industry-wide changes and improved regulations may be necessary for long-term solutions."
   ]
  }
 ],
 "metadata": {
  "kernelspec": {
   "display_name": ".venv",
   "language": "python",
   "name": "python3"
  },
  "language_info": {
   "codemirror_mode": {
    "name": "ipython",
    "version": 3
   },
   "file_extension": ".py",
   "mimetype": "text/x-python",
   "name": "python",
   "nbconvert_exporter": "python",
   "pygments_lexer": "ipython3",
   "version": "3.10.12"
  }
 },
 "nbformat": 4,
 "nbformat_minor": 2
}
