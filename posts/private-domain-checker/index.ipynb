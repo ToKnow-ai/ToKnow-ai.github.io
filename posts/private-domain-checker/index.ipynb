{
 "cells": [
  {
   "cell_type": "markdown",
   "metadata": {},
   "source": [
    "<!-- metadata: title -->\n",
    "# Protecting Against Domain Front-Running by Registras\n",
    "\n",
    "<!-- metadata: subtitle -->\n",
    "> ### Understanding and Mitigating Domain Registration Interception\n",
    "<!-- metadata: -->\n",
    "\n",
    "**Published Date:**\n",
    "<!-- metadata: date -->\n",
    "2024-10-25\n",
    "<!-- metadata: -->\n",
    "\n",
    "**Keywords:**\n",
    "<!-- metadata: keywords, is_array=true -->\n",
    "  - domain-front-running\n",
    "  - WHOIS-privacy\n",
    "  - RDAP\n",
    "  - domain-registrars\n",
    "  - cybersquatting\n",
    "  - domain-privacy\n",
    "  - DNS-security\n",
    "  - domain-tasting\n",
    "<!-- metadata: -->\n",
    "\n",
    "**Categories:**\n",
    "<!-- metadata: categories, is_array=true -->\n",
    "  - cyber-security\n",
    "<!-- metadata: -->"
   ]
  },
  {
   "cell_type": "markdown",
   "metadata": {},
   "source": [
    "## Description\n",
    "<!-- metadata: description -->\n",
    "This article examines the practice of domain front-running by registrars and presents a transparent, open-source solution for private domain availability checking. Drawing from personal experiences and community reports, we explore how registrars potentially monitor domain searches and preemptively register domains of interest, and propose methods to conduct domain searches more privately.\n",
    "<!-- metadata: -->"
   ]
  },
  {
   "cell_type": "markdown",
   "metadata": {},
   "source": [
    "## Introduction\n",
    "Domain front-running^[https://en.wikipedia.org/wiki/Domain_name_front_running], a controversial practice where domain registrars or affiliated parties monitor domain searches and preemptively register searched domains, has been a persistent concern in the domain name industry. While officially denied by major registrars, numerous personal experiences and community reports suggest the practice continues to affect domain name seekers. Forums such [*domain front running?*](https://www.reddit.com/r/Domains/comments/1ejjsjr/domain_front_running/), [*Safe way to search for availability to avoid front running?*](https://www.reddit.com/r/Domains/comments/pujp0o/safe_way_to_search_for_availability_to_avoid/), [*Did GoDaddy just front run me?*](https://www.reddit.com/r/Domains/comments/1c0to8b/did_godaddy_just_front_run_me/), [*I just confirmed that Namecheap buys available domains that you search for*](https://www.reddit.com/r/NameCheap/comments/124pctw/i_just_confirmed_that_namecheap_buys_available/) among many other old and recent domain snatching by registras ^[https://www.google.com/search?q=domain+front-running+site%3Areddit.com]. Several of my family members and friends share the same stories.\n",
    "\n",
    "***\n",
    "\n",
    "On a personal experience, several domains I searched on major registrar platforms like Namecheap and GoDaddy became unavailable shortly after the initial search. The time before they became unavailable varied and it also depends with the domain name. For example, if you are able to creact a very unique, short and pure or almost intuative english domain name with a `.com` TDL, you can be guareanteed that it will be taken wilthin less than 12-72 hours after searching it. Most notably, a three letter, `.ke` domain related to tax services was registered within minutes of my search, suggesting automated monitoring of search queries. \n",
    "\n",
    "### Domain Checking Methods\n",
    "Whenever you want a domain name, there i no short cut to searching it. the true designited registras of the domains keep a record or one or several country level  or global TLDs. For example, Kenic is reposible for any domain ending with `.ke`, such as `.ke`, `.co.ke`, `gov.ke`, `ac.ke`, `or.ke`, etc. Verison is resposiblefor `.com`, `.net` among others. there are domains which have been unstable such as `.ly` from libya. for .ly, there is un official registra: https://reg.ly/ly-domain/. The official https://whois.nic.ly is dead and not functional or working. these registras have a database of registerdd and unregisted domains published at their `whois` protocol. recently, there have been an update of a new protocol, RDAP, means to replace and standadize the domain search.\n",
    "\n",
    "| Feature              | WHOIS Protocol                       | RDAP (Registration Data Access Protocol) |\n",
    "|----------------------|--------------------------------------|------------------------------------------|\n",
    "| **Introduced**       | 1982                                 | 2015                                     |\n",
    "| **Status**           | Legacy but still widely used         | Modern replacement for WHOIS             |\n",
    "| **Privacy Features** | Limited                              | Built-in                                 |\n",
    "| **Standardization**  | Varies by registrar                  | JSON-based, consistent                   |\n",
    "| **Accuracy**         | Can be inconsistent                  | Generally more reliable                  |\n",
    "| **Advantages**       | \n",
    "- Widespread support<br>\n",
    "- Simple protocol \n",
    "| \n",
    "- Standardized JSON responses<br>\n",
    "- Better privacy controls<br>\n",
    "- More efficient queries                                                                                 |\n",
    "| **Disadvantages**    | \n",
    "- No standardized format<br>\n",
    "- Limited privacy protections<br>\n",
    "- Rate limiting issues \n",
    "| \n",
    "- Not yet universally adopted<br>\n",
    "- Requires more complex implementation                                                                   |\n",
    "\n",
    "### Best Practices for Private Domain Searches\n",
    "\n",
    "1. Search directly in the official domain owners , such as https://lookup.icann.org/en for .com domain or kenic for.ke domains. avoid registras such as namecheap and godaddy.\n",
    "2. Sunce searching keeping a record of each domain whois ius haed, use terminal `whois`, for example, `whois example.com`\n",
    "3. Only search at registas such as namecheap when you are buying the domain immediately\n",
    "4. Avoid small or reseller domain regisras. in essense, you are actually using the big registras.\n",
    "5. use free unaffiliated services, such as /apps/private-domain-checker\n",
    "\n",
    "### Transparent Solution\n",
    "\n",
    "Our tool, hosted on Hugging Face and with publicly available source code, provides a transparent alternative to registrar-based domain checks. Key features:\n",
    "- No affiliation with registrars\n",
    "- Open-source code for transparency\n",
    "- Multiple checking methods\n",
    "- Privacy-focused design\n",
    "- Community-driven development\n",
    "\n",
    "Why use the helper tool here: /apps/private-domain-checker\n",
    "- uses DNS, RDAP and WHOIS to check availability\n",
    "- not affictaed with any registra\n",
    "- can search nearly all domains\n",
    "\n",
    "Limitations of /apps/private-domain-checker\n",
    "- Some TLD like .ly cant be searched becase the official registra is not functiona\n",
    "- huggingface may be blocked in some countries like china ^[whois.cnnic.cn is timming out in huggingface: https://www.chinatalk.media/p/hugging-face-blocked-self-castrating]. as such, even though this utility may work on another server, t may not work in all countries or for registras whose countries huggingface is blocked.\n",
    "\n",
    "<iframe\n",
    "\tsrc=\"https://toknow-ai-private-domain-checker.hf.space\"\n",
    "\tframeborder=\"0\"\n",
    "\twidth=\"100%\"\n",
    "\theight=\"450\"\n",
    "></iframe>"
   ]
  },
  {
   "cell_type": "code",
   "execution_count": 9,
   "metadata": {},
   "outputs": [],
   "source": [
    "import sys\n",
    "import os\n",
    "\n",
    "root_dir = os.path.abspath(\"private-domain-checker\")\n",
    "sys.path.append(root_dir)\n",
    "\n",
    "%reload_ext autoreload\n",
    "%autoreload 2\n",
    "\n",
    "from app import check_domain"
   ]
  },
  {
   "cell_type": "code",
   "execution_count": 11,
   "metadata": {},
   "outputs": [
    {
     "data": {
      "text/plain": [
       "{'domain': 'examplerhccvu.ly',\n",
       " 'available': False,\n",
       " 'method': 'Unsupported TLD, try at https://reg.ly/ly-domain/',\n",
       " 'logs': []}"
      ]
     },
     "execution_count": 11,
     "metadata": {},
     "output_type": "execute_result"
    }
   ],
   "source": [
    "check_domain(\"examplerhccvu.ly\")"
   ]
  },
  {
   "cell_type": "code",
   "execution_count": 12,
   "metadata": {},
   "outputs": [
    {
     "data": {
      "text/plain": [
       "{'domain': 'examplerhccvu.cn',\n",
       " 'method': 'Checked via WHOIS:whois.cnnic.cn',\n",
       " 'available': True,\n",
       " 'logs': ['dns_is_available:Exception::The DNS query name does not exist: examplerhccvu.cn.',\n",
       "  'dns_is_available:Exception::The DNS query name does not exist: examplerhccvu.cn.',\n",
       "  'dns_is_available:Exception::The DNS query name does not exist: examplerhccvu.cn.',\n",
       "  'dns_is_available:Exception::The DNS query name does not exist: examplerhccvu.cn.',\n",
       "  'dns_is_available:Exception::The DNS query name does not exist: examplerhccvu.cn.',\n",
       "  'get_whois_server:no RDAP']}"
      ]
     },
     "execution_count": 12,
     "metadata": {},
     "output_type": "execute_result"
    }
   ],
   "source": [
    "check_domain(\"examplerhccvu.cn\")"
   ]
  },
  {
   "cell_type": "code",
   "execution_count": 13,
   "metadata": {},
   "outputs": [
    {
     "data": {
      "text/plain": [
       "{'domain': 'examplerhccvu.com',\n",
       " 'method': 'Checked via RDAP:https://rdap.verisign.com/com/v1/',\n",
       " 'available': True,\n",
       " 'logs': ['dns_is_available:Exception::The DNS query name does not exist: examplerhccvu.com.',\n",
       "  'dns_is_available:Exception::The DNS query name does not exist: examplerhccvu.com.',\n",
       "  'dns_is_available:Exception::The DNS query name does not exist: examplerhccvu.com.',\n",
       "  'dns_is_available:Exception::The DNS query name does not exist: examplerhccvu.com.',\n",
       "  'dns_is_available:Exception::The DNS query name does not exist: examplerhccvu.com.']}"
      ]
     },
     "execution_count": 13,
     "metadata": {},
     "output_type": "execute_result"
    }
   ],
   "source": [
    "check_domain(\"examplerhccvu.com\")"
   ]
  },
  {
   "cell_type": "code",
   "execution_count": 14,
   "metadata": {},
   "outputs": [
    {
     "data": {
      "text/plain": [
       "{'domain': 'example.com',\n",
       " 'method': 'Checked via DNS:NS',\n",
       " 'available': False,\n",
       " 'logs': []}"
      ]
     },
     "execution_count": 14,
     "metadata": {},
     "output_type": "execute_result"
    }
   ],
   "source": [
    "check_domain(\"example.com\")"
   ]
  },
  {
   "cell_type": "markdown",
   "metadata": {},
   "source": [
    "Code"
   ]
  },
  {
   "cell_type": "markdown",
   "metadata": {},
   "source": [
    "## Conclusion\n",
    "\n",
    "While domain front-running remains difficult to prove conclusively, the abundance of user experiences and technical evidence suggests the need for private domain checking solutions. Our open-source tool provides one approach to mitigating these risks, while industry-wide changes and better regulations may be needed for long-term solutions."
   ]
  }
 ],
 "metadata": {
  "kernelspec": {
   "display_name": ".venv",
   "language": "python",
   "name": "python3"
  },
  "language_info": {
   "codemirror_mode": {
    "name": "ipython",
    "version": 3
   },
   "file_extension": ".py",
   "mimetype": "text/x-python",
   "name": "python",
   "nbconvert_exporter": "python",
   "pygments_lexer": "ipython3",
   "version": "3.10.12"
  }
 },
 "nbformat": 4,
 "nbformat_minor": 2
}
