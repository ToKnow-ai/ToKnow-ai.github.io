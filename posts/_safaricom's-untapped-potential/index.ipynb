{
 "cells": [
  {
   "cell_type": "markdown",
   "metadata": {},
   "source": [
    "# Safaricom's Untapped Potential"
   ]
  },
  {
   "cell_type": "markdown",
   "metadata": {},
   "source": [
    "https://claude.ai/chat/bba605c7-1a5b-4d8a-bbd4-a12eb62c64c2\n",
    "\n",
    "https://scholar.google.com/scholar?hl=en&as_sdt=0,5&q=Safaricom&scisbd=1\n",
    "\n",
    "https://g.co/gemini/share/3aced7b0d667\n",
    "\n",
    "\n",
    "Titles\n",
    "\n",
    " - \"An Analysis of Safaricom PLC: Evaluating Achievements and Missed Opportunities\"\n",
    " - \"Strategic Assessment of Safaricom PLC: Achievements, Missed Opportunities, and Implications\"\n",
    " - \"Achievements and Missed Opportunities: A Case Study of Safaricom PLC\"\n",
    " - \"Exploring Successes and Failures: A Study of Safaricom PLC's Strategic Landscape\""
   ]
  },
  {
   "cell_type": "markdown",
   "metadata": {},
   "source": [
    "\"A Critical Analysis of Strategic Achievements and Unrealized Potential of Safaricom PLC\"\n",
    "\n",
    "http://erepository.uonbi.ac.ke/handle/11295/21467\n",
    "\n",
    "https://claude.ai/chat/cd9a6b2d-1452-4ebb-9960-5dd4c6e1ea9b"
   ]
  },
  {
   "cell_type": "markdown",
   "metadata": {},
   "source": [
    "Safaricom has baby courts for mothers\n",
    "safaricom votted the best employer in the world (around 2018)\n",
    "\n",
    "Potential\n",
    " - Need to maining local monopoly - divest\n",
    " - Not letting MPESA grow on its own\n",
    " - Expanding slowly to other countries\n",
    " - Not being listed in major exchanges - https://g.co/gemini/share/3aced7b0d667\n",
    "***\n",
    " - slow pace of innovation\n",
    " - management - managed as a single org - make multiple like google or microsoft\n",
    " - paying all the taxes - not using the system to grow further like tax avoidance.\n",
    " - failed experiments due to poor strategy - ag: safaricom cloud.\n",
    " - not divesting their operations from influence of governemnts - eg: internet interuptions. perhaps invest in acquiring starlink.\n",
    " - heavily and directly participating in elections: SMS, internet\n",
    " - "
   ]
  },
  {
   "cell_type": "markdown",
   "metadata": {},
   "source": [
    " - safaricom ups and downs; legal diputes; mpesa licence and patent."
   ]
  }
 ],
 "metadata": {
  "language_info": {
   "name": "python"
  }
 },
 "nbformat": 4,
 "nbformat_minor": 2
}
