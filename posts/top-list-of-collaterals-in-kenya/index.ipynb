{
 "cells": [
  {
   "cell_type": "markdown",
   "metadata": {},
   "source": [
    "https://www.businessdailyafrica.com/bd/economy/cars-fridges-tvs-top-list-of-collateral-for-sh5-1trn-loans--4652856"
   ]
  },
  {
   "cell_type": "code",
   "execution_count": null,
   "metadata": {},
   "outputs": [],
   "source": []
  },
  {
   "cell_type": "markdown",
   "metadata": {},
   "source": [
    "<!-- metadata: categories, type=array -->\n",
    "**Categories:**\n",
    "  - data science "
   ]
  }
 ],
 "metadata": {
  "language_info": {
   "name": "python"
  }
 },
 "nbformat": 4,
 "nbformat_minor": 2
}
