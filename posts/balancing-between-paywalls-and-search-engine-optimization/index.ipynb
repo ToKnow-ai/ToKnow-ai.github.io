{
 "cells": [
  {
   "cell_type": "markdown",
   "metadata": {},
   "source": [
    "<!-- metadata: title -->\n",
    "# Balancing between Paywalls and Search Engine Optimization\n",
    "\n",
    "<!-- metadata: subtitle -->\n",
    "> ### How Media Paywalls Should Work: A Research Case for Nation Media Group\n",
    "<!-- metadata: -->\n",
    "\n",
    "**Published Date:**\n",
    "<!-- metadata: date -->\n",
    "2024-10-21\n",
    "<!-- metadata: -->\n",
    "\n",
    "**Keywords:**\n",
    "<!-- metadata: keywords, is_array=true -->\n",
    "  - nation-media-group\n",
    "  - paywalls\n",
    "  - search-engine-optimization\n",
    "  - cloudflare\n",
    "<!-- metadata: -->\n",
    "\n",
    "**Categories:**\n",
    "<!-- metadata: categories, is_array=true -->\n",
    "  - cyber-security\n",
    "<!-- metadata: -->"
   ]
  },
  {
   "cell_type": "markdown",
   "metadata": {},
   "source": [
    "**Disclaimer:**\n",
    "<!-- metadata: disclaimer, strip_markdown=false -->\n",
    "You will be peronally liable for any misuse of the information provided here. We [contacted Nation Media Group](https://www.nationmedia.com/contact/) on Jun 3, 2024, 2:30 PM East African Time, but they did not respond ^[We [contacted Nation Media Group](https://www.nationmedia.com/contact/) through the following emails: <support@nation.africa>, <sales_inquiries@ke.nationmedia.com>, <newsdesk@ke.nationmedia.com>, <publiceditor@ke.nationmedia.com>, <mailbox@ke.nationmedia.com>, <epaper@ke.nationmedia.com>, <Customercare@ke.nationmedia.com> on Jun 3, 2024, 2:30 PM East African Time]."
   ]
  },
  {
   "cell_type": "markdown",
   "metadata": {},
   "source": [
    "![Nation Media Group logo](nation-media-group.jpg)"
   ]
  },
  {
   "cell_type": "markdown",
   "metadata": {},
   "source": [
    "### Description\n",
    "\n",
    "<!-- metadata: description -->\n",
    "This case study examines the challenges faced by media companies in implementing effective paywalls while maintaining search engine optimization (SEO). Using Nation Media Group as a primary example, we explore the evolution of paywall strategies and propose a sophisticated solution that balances content protection with discoverability."
   ]
  },
  {
   "cell_type": "markdown",
   "metadata": {},
   "source": [
    "## Introduction"
   ]
  },
  {
   "cell_type": "markdown",
   "metadata": {},
   "source": [
    "To maintain independence in content creation, creators and authors need sustainable monetization models. One of the most common monetization methods for written content is through advertising. However, paywalls offer another viable path for revenue generation.\n",
    "\n",
    "In this context, paywalls represent a model that restricts content to paying subscribers while limiting the reach for non-subscribers. When implemented poorly, paywalls can hurt discoverability, often leading to reduced traffic and lower engagement. This research provides insights into maintaining a balance between paywalls and SEO, particularly for media companies like Nation Media Group."
   ]
  },
  {
   "cell_type": "markdown",
   "metadata": {},
   "source": [
    "## Paywalls and SEO: A Delicate Balance"
   ]
  },
  {
   "cell_type": "markdown",
   "metadata": {},
   "source": [
    "For users to discover your content, they need to find it in search engines such as Google, Bing, or DuckDuckGo. For best results, it makes sense to allow search engines to see the entire premium article, enabling them to suggest it when users search for similar content. This practice is called search engine optimization (SEO). You might have the best news content, but if no one can find it, it's essentially useless.\n",
    "\n",
    "The challenge of allowing partial access to premium content while still restricting it to paid users is a delicate balance that most media houses must maintain. Users often find clever ways to circumvent paywalls to access paid content for free. There are online forums dedicated to discovering these vulnerabilities, such as \"[Bypassing Daily Nation Paywall](https://www.reddit.com/r/Kenya/comments/s96k01/bypassing_daily_nation_paywall/?rdt=48760)\" and \"[You can bypass most soft paywalls with a little CSS knowledge](https://www.reddit.com/r/educationalgifs/comments/lk1not/you_can_bypass_most_soft_paywalls_with_a_little/)\". The ideas shared in these forums are often simple but require basic programming skills to execute. Consequently, most people would prefer to pay rather than learn how to implement these bypasses.\n",
    "\n",
    "However, some users create browser plugins that automatically do the heavy lifting, allowing effortless access to premium content. Browser plugin stores and code repositories containing paywall bypass tools are usually taken down, such as the well-known <https://github.com/iamadamdev/bypass-paywalls-chrome>. Yet, the code often finds a new home before removal, as seen with <https://github.com/nikolqyy/bypass-paywalls-chrome/releases/tag/most-recent> ^[https://news.ycombinator.com/item?id=41294166].\n",
    "\n",
    "This cat-and-mouse game is time-consuming for media companies, as they must constantly identify which plugins are currently bypassing their paywalls. Additionally, executing DMCA takedown notices is not instantaneous. Even after a successful takedown, someone with a cloned repository can reupload the code or plugin, and the cycle continues. This strategy only affects publicly available plugins and ideas, and ironically, the more control attempts are made, the more it spreads awareness that the website can be bypassed. This may prompt users who previously paid willingly to feel short-changed and start seeking bypass methods.\n",
    "\n",
    "Furthermore, this approach tends to target only well-known plugins and repositories. Lesser-known repositories continue to grow unnoticed (e.g., <https://github.com/nikolqyy/bypass-paywalls-chrome>). It's unlikely that users accustomed to accessing content for free will start paying even if access is restricted. Moreover, users who have already installed these plugins will continue to enjoy premium content without paying."
   ]
  },
  {
   "cell_type": "markdown",
   "metadata": {},
   "source": [
    "## A Better Solution\n",
    "\n",
    "After issuing a DMCA takedown notice, the next logical step is typically to modify aspects of your website, such as class names and arrangement of site contents, to render old bypass plugins ineffective. However, there's a more sophisticated solution that is scalable, cost-effective, and doesn't compromise search engine optimization.\n",
    "This improved approach involves maintaining a select list of search engines that are allowed to access all premium content for SEO purposes. This list may include Google, Bing, DuckDuckGo, Yandex, Baidu, Yahoo, and Ahrefs. On your web servers, you would check the IP address of the calling client and perform a reverse DNS lookup to determine if the IP address is associated with the whitelisted search engines.\n",
    "Of course, this operation is nerwork expensive and should be optimized by caching the results for a set period, such as one week. This means that an IP address identified as belonging to a search engine would not need to be re-evaluated for approximately seven days. This strategy maintains a good balance between functionality and performance."
   ]
  },
  {
   "cell_type": "markdown",
   "metadata": {},
   "source": [
    "## Nation Media Group's Case"
   ]
  },
  {
   "cell_type": "markdown",
   "metadata": {},
   "source": [
    "Nation Media Group, a leading media house in East Africa, is in a unique position to improve its paywall strategy. Currently, they leverage **Cloudflare** as their content delivery network (CDN). This presents an opportunity to optimize their paywall solution using Cloudflare's services without significant overhead.\n",
    "\n",
    "The vulnerabilities detailed here affect <https://nation.africa/> and <https://www.businessdailyafrica.com/>."
   ]
  },
  {
   "cell_type": "markdown",
   "metadata": {},
   "source": [
    "### Initial CSS-Based Paywall\n",
    "\n",
    "Nation Media Group's intial attempt used simple CSS classes to hide premium content, which could be easily bypassed with basic JavaScript.\n",
    "\n",
    "```js\n",
    "setTimeout(() => {\n",
    "    // https://nation.africa/\n",
    "    // Remove the paywall element\n",
    "    document.querySelector('.wall-guard')?.remove();\n",
    "    // Allow copying the text\n",
    "    document.querySelectorAll('.blk-txt')?.forEach(\n",
    "      i => i.classList.remove('blk-txt'));\n",
    "\n",
    "    // https://www.businessdailyafrica.com/\n",
    "    // Remove the paywall spinner\n",
    "    document.querySelector('.spinner')?.remove();\n",
    "    // Remove the paywall element\n",
    "    document.querySelector('.paywall')?.remove();\n",
    "    // Remove the call for action\n",
    "    document.querySelector('.grid-container-medium')?.remove();\n",
    "\n",
    "    // https://www.businessdailyafrica.com/ AND https://nation.africa/\n",
    "    // Show the hidden content\n",
    "    document.querySelectorAll('.paragraph-wrapper.nmgp')?.forEach(\n",
    "      i => i.classList.remove('nmgp'));\n",
    "}, 1);\n",
    "```"
   ]
  },
  {
   "cell_type": "markdown",
   "metadata": {},
   "source": [
    "### Enhanced JavaScript Security Layer\n",
    "\n",
    "After we reported the issue to them[^contacted-nmg], Nation Media Group added a JavaScript layer to prevent easy access to premium content. They implemented a more sophisticated JavaScript-based security measure. \n",
    "\n",
    "The new JavaScript code now removes the actual content from the Document Object Model (DOM), meaning that CSS manipulation alone is no longer sufficient to reveal the hidden content. Nevertheless, there remains a way to silently disable JavaScript by re-fetching the HTML and parsing it as DOM without executing the JavaScript. This method essentially allows the old CSS-based bypass technique to continue functioning.\n",
    "\n",
    "This more advanced bypass script operates by fetching the original HTML, removing paywall elements, enabling images, and replacing the entire body content. By doing so, it effectively circumvents the enhanced security measures put in place by the media outlet.\n",
    "\n",
    "```js\n",
    "{{< include bypassing-nation-media-group-paywall/content.js >}}\n",
    "```"
   ]
  },
  {
   "cell_type": "markdown",
   "metadata": {},
   "source": [
    "To validate, you can use the article that was premium before June 2024, and is still premium now, such as <https://nation.africa/kenya/business/inside-world-bank-tough-terms-sh158bn-loan-kenya-4642634>. To test the old logic, use an archived version of the premium article at <https://web.archive.org/web/20240601075749/https://nation.africa/kenya/business/inside-world-bank-tough-terms-sh158bn-loan-kenya-4642634>. Please note this may stop working at any time depending on changes they make on their platforms."
   ]
  },
  {
   "cell_type": "markdown",
   "metadata": {},
   "source": [
    "### Implementing the Suggested Approach (`python code`)"
   ]
  },
  {
   "cell_type": "markdown",
   "metadata": {},
   "source": [
    "This approach would significantly increase the difficulty of bypassing the paywall while still allowing search engines to index the full content. However, it's worth noting that determined users could potentially access the content by routing their requests through services like Google's PageSpeed Insights (<https://pagespeed.web.dev/>).\n",
    "\n",
    "**Implementation Considerations**\n",
    "\n",
    "To implement this solution effectively, consider the following:\n",
    "\n",
    "1. **Performance Optimization**: Ensure that the IP lookup and content serving process is optimized to minimize latency. Utilize caching.\n",
    "2. **Regular Updates**: Continuously monitor and update the list of whitelisted search engine hostnames.\n",
    "3. **Fallback Mechanism**: Implement a fallback strategy for cases where the reverse DNS lookup fails or times out.\n",
    "4. **User Experience**: Design the system to handle edge cases gracefully, ensuring a smooth experience for legitimate users and search engine crawlers.\n",
    "5. **Compliance**: Ensure that the implementation complies with relevant data protection and privacy regulations, such as implementing a secure storage for cached IP information.\n",
    "\n",
    "By addressing these considerations, you can create a robust system that balances content protection with search engine accessibility."
   ]
  },
  {
   "cell_type": "code",
   "execution_count": 2,
   "metadata": {},
   "outputs": [
    {
     "data": {
      "text/plain": [
       "True"
      ]
     },
     "execution_count": 2,
     "metadata": {},
     "output_type": "execute_result"
    }
   ],
   "source": [
    "import socket\n",
    "from ipaddress import ip_address as parse_ip_address\n",
    "\n",
    "async def reverse_dns_lookup(ip_address: str, *host_names: str) -> bool:\n",
    "    \"\"\"\n",
    "    Perform reverse DNS lookup.\n",
    "    Usage example:\n",
    "        await reverse_dns_lookup(\"66.249.66.1\", \"googlebot.com\", \"google.com\")\n",
    "    \n",
    "    Parameters\n",
    "    ----------\n",
    "    ip_address : str\n",
    "        the ip address of the client that called the server, \n",
    "        or the header value of \"X-Forwarded-For\" incase a \n",
    "        proxy/CDN such as cloudflare is used!\n",
    "    host_names : list[str]\n",
    "        allowed search engines\n",
    "        eg: \"googlebot.com\", \"search.msn.com\", \"duckduckgo.com\", etc\n",
    "\n",
    "    More Information:\n",
    "    Verifying Googlebot: \n",
    "        https://developers.google.com/search/docs/advanced/crawling/verifying-googlebot\n",
    "    How to access the sitemap.xml file of stackoverflow.com\n",
    "        https://meta.stackexchange.com/a/324471\n",
    "    Reverse IP Domain Check?\n",
    "        https://stackoverflow.com/a/716753/3563013\n",
    "    \"\"\"\n",
    "    try:\n",
    "        if len(host_names) > 0:\n",
    "            # Raises `ValueError`if ip_address is not valid IPv4 or IPv6 \n",
    "            # address.\n",
    "            valid_ip_address: str = str(parse_ip_address(ip_address))\n",
    "            # Perform reverse DNS lookup\n",
    "            # Get hostname from IP, \n",
    "            # eg: ('crawl-66-249-66-1.googlebot.com', [], ['66.249.66.1'])\n",
    "            ip_address_hostname, aliases_1, _ = socket.gethostbyaddr(\n",
    "                valid_ip_address)\n",
    "            # Get all IP addesses resolving the hostname (both IPv4 and IPv6)\n",
    "            ip_address_list = list(set(\n",
    "                [ip[4][0] \n",
    "                 for ip \n",
    "                 in socket.getaddrinfo(ip_address_hostname, None)]))\n",
    "            # Check if IP matches any of the addresses for the hostname\n",
    "            if valid_ip_address in ip_address_list:\n",
    "                # Perform forward DNS lookup to get all aliases\n",
    "                _, aliases_2, _ = socket.gethostbyname_ex(ip_address_hostname)\n",
    "                all_aliases = list(set(\n",
    "                    [ip_address_hostname] + aliases_1 + aliases_2))\n",
    "                # Check if hostname or its aliases match any of the allowed \n",
    "                # hosts\n",
    "                return any(\n",
    "                    host_name \n",
    "                    for host_name \n",
    "                    in host_names\n",
    "                    if any(\n",
    "                        alias \n",
    "                        for alias \n",
    "                        in all_aliases \n",
    "                        if alias.casefold().strip() == \\\n",
    "                            host_name.casefold().strip() \\\n",
    "                            or alias.casefold().strip().endswith(\n",
    "                                f\".{host_name.casefold().strip()}\")))\n",
    "    except:\n",
    "        pass\n",
    "    return False\n",
    "\n",
    "# Test\n",
    "await reverse_dns_lookup(\n",
    "    \"66.249.66.1\", \"googlebot.com\", \"googleusercontent.com\", \"google.com\")"
   ]
  },
  {
   "cell_type": "markdown",
   "metadata": {},
   "source": [
    "### Leveraging Cloudflare's Web Workers\n",
    "\n",
    "Given Nation Media Group's existing infrastructure with Cloudflare, they don't need to rewrite their server code. Instead, they can utilize an intermediary service from Cloudflare known as [Web Workers](https://workers.cloudflare.com/). [Cloudflare Workers](https://workers.cloudflare.com/) allow for the interception of requests and the implementation of more complex logic, such as reverse DNS lookups, without requiring changes to the core server infrastructure.\n",
    "\n",
    "Cloudflare Workers provide first-class support for JavaScript, TypeScript, Python, and Rust, and they can support any programming language via [WebAssembly](https://developers.cloudflare.com/workers/runtime-apis/webassembly/). Additionally, the cost model is favorable, with the first `100,000` requests per day being free and a modest fee of `$5` for every `10 million` requests beyond that.\n",
    "\n",
    "**Advantages of Cloudflare Workers:**\n",
    "\n",
    "1. **Efficiency**: Minimal impact on server infrastructure.\n",
    "2. **Scalability**: Cloudflare's global infrastructure can handle large-scale traffic.\n",
    "3. **Cost-effectiveness**: Free for low to moderate usage, with low costs for higher volumes.\n",
    "4. **Performance**: Requests can be intercepted and resolved in [**pararell**]{.underline} with reverse DNS lookup, ensuring faster response times."
   ]
  },
  {
   "cell_type": "markdown",
   "metadata": {},
   "source": [
    "## Conclusion\n",
    "\n",
    "No system is foolproof, and it's important for media companies to maintain ongoing vigilance and updates to ensure the integrity of their paywalls. As the digital media landscape continues to evolve, so too must the strategies for protecting and monetizing content.\n",
    "\n",
    "[^contacted-nmg]: We [contacted Nation Media Group](https://www.nationmedia.com/contact/) through the following emails: <support@nation.africa>, <sales_inquiries@ke.nationmedia.com>, <newsdesk@ke.nationmedia.com>, <publiceditor@ke.nationmedia.com>, <mailbox@ke.nationmedia.com>, <epaper@ke.nationmedia.com>, <Customercare@ke.nationmedia.com> on Jun 3, 2024, 2:30 PM East African Time"
   ]
  }
 ],
 "metadata": {
  "kernelspec": {
   "display_name": ".venv",
   "language": "python",
   "name": "python3"
  },
  "language_info": {
   "codemirror_mode": {
    "name": "ipython",
    "version": 3
   },
   "file_extension": ".py",
   "mimetype": "text/x-python",
   "name": "python",
   "nbconvert_exporter": "python",
   "pygments_lexer": "ipython3",
   "version": "3.10.12"
  }
 },
 "nbformat": 4,
 "nbformat_minor": 2
}
