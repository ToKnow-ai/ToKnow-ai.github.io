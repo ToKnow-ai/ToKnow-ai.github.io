{
 "cells": [
  {
   "cell_type": "markdown",
   "metadata": {},
   "source": [
    "<!-- metadata: title -->\n",
    "# Text To Music using MusicGen from Meta/Facebook\n",
    "\n",
    "<!-- metadata: subtitle -->\n",
    "> ### Music Generation and Editing using a Text Prompt\n",
    "<!-- metadata: -->\n",
    "\n",
    "**Published Date:**\n",
    "<!-- metadata: date -->\n",
    "2024-10-31\n",
    "<!-- metadata: -->\n",
    "\n",
    "**Keywords:**\n",
    "<!-- metadata: keywords, is_array=true -->\n",
    "  - model\n",
    "  - music-generation\n",
    "  - text-to-music\n",
    "<!-- metadata: -->\n",
    "\n",
    "**Categories:**\n",
    "<!-- metadata: categories, is_array=true -->\n",
    "  - machine-learning\n",
    "  - artificial-intelligence\n",
    "<!-- metadata: -->"
   ]
  },
  {
   "cell_type": "code",
   "execution_count": null,
   "metadata": {},
   "outputs": [],
   "source": [
    "from audiocraft.models import musicgen\n",
    "from audiocraft.utils.notebook import display_audio\n",
    "import torch"
   ]
  },
  {
   "cell_type": "code",
   "execution_count": null,
   "metadata": {},
   "outputs": [],
   "source": [
    "model = musicgen.MusicGen.get_pretrained('medium', device='cuda')\n",
    "model.set_generation_params(duration=8)"
   ]
  },
  {
   "cell_type": "code",
   "execution_count": null,
   "metadata": {},
   "outputs": [],
   "source": [
    "res = model.generate([\n",
    "    'crazy EDM, heavy bang', \n",
    "    'classic reggae track with an electronic guitar solo',\n",
    "    'lofi slow bpm electro chill with organic samples',\n",
    "    'rock with saturated guitars, a heavy bass line and crazy drum break and fills.',\n",
    "    'earthy tones, environmentally conscious, ukulele-infused, harmonic, breezy, easygoing, organic instrumentation, gentle grooves',\n",
    "], \n",
    "    progress=True)\n",
    "display_audio(res, 32000)"
   ]
  },
  {
   "cell_type": "markdown",
   "metadata": {},
   "source": [
    "Meta has released Melody Flow!🚀 🎵 \n",
    "\n",
    "😮 High fidelity Music Generation and editing using text prompt! [Sound: ON]\n",
    "\n",
    "Model is based on a diffusion transformer architecture trained on a flow-matching objective the model can Generate and Edit diverse high quality stereo samples of variable duration, with simple text descriptions.\n",
    "\n",
    "The official Gradio app is up on Hugging Face Spaces: https://lnkd.in/gRJ52YB9\n",
    "Model on Hugging Face hub: https://lnkd.in/gJ6AuArS"
   ]
  }
 ],
 "metadata": {
  "kernelspec": {
   "display_name": ".venv",
   "language": "python",
   "name": "python3"
  },
  "language_info": {
   "name": "python",
   "version": "3.10.12"
  }
 },
 "nbformat": 4,
 "nbformat_minor": 2
}
