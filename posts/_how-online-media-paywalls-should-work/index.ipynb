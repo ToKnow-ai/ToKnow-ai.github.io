{
 "cells": [
  {
   "cell_type": "markdown",
   "metadata": {},
   "source": [
    "<!-- metadata: title -->\n",
    "# How Online Media Paywalls Should Work\n",
    "\n",
    "<!-- metadata: subtitle -->\n",
    "> ### Balancing between Paywalls and Search Engine Optimization\n",
    "\n",
    "<!-- metadata: keywords, is_array=true -->\n",
    "**Keywords:**\n",
    "  - nation-media-group\n",
    "  - paywalls\n",
    "  - search-engine-optimization\n",
    "  - cloudflare\n",
    "\n",
    "<!-- metadata: categories, is_array=true -->\n",
    "**Categories:**\n",
    "  - cyber-security\n",
    "\n",
    "<!-- metadata: -->\n",
    "**Disclaimer:**\n",
    "<!-- metadata: disclaimer, strip_markdown=false -->\n",
    "We [contacted Nation Media Group](https://www.nationmedia.com/contact/) for on Jun 3, 2024, 2:30 PM but they did not respond. ^[We [contacted Nation Media Group](https://www.nationmedia.com/contact/) through the following emails: <support@nation.africa>, <sales_inquiries@ke.nationmedia.com>, <newsdesk@ke.nationmedia.com>, <publiceditor@ke.nationmedia.com>, <mailbox@ke.nationmedia.com>, <epaper@ke.nationmedia.com>, <Customercare@ke.nationmedia.com>]"
   ]
  },
  {
   "cell_type": "markdown",
   "metadata": {},
   "source": [
    "## Old Code that worked"
   ]
  },
  {
   "cell_type": "markdown",
   "metadata": {},
   "source": [
    "The old vulnerability only required css to bypass, see code below:"
   ]
  },
  {
   "cell_type": "markdown",
   "metadata": {},
   "source": [
    "content.js\n",
    "\n",
    "```js\n",
    "setTimeout(() => {\n",
    "    // https://nation.africa/\n",
    "    // Remove the paywall element\n",
    "    document.querySelector('.wall-guard')?.remove();\n",
    "    // Allow copying the text\n",
    "    document.querySelectorAll('.blk-txt')?.forEach(i => i.classList.remove('blk-txt'));\n",
    "\n",
    "    // https://www.businessdailyafrica.com/\n",
    "    // Remove the paywall spinner\n",
    "    document.querySelector('.spinner')?.remove();\n",
    "    // Remove the paywall element\n",
    "    document.querySelector('.paywall')?.remove();\n",
    "    // Remove the call for action\n",
    "    document.querySelector('.grid-container-medium')?.remove();\n",
    "\n",
    "    // https://www.businessdailyafrica.com/ AND https://nation.africa/\n",
    "    // Show the hidden content\n",
    "    document.querySelectorAll('.paragraph-wrapper.nmgp')?.forEach(i => i.classList.remove('nmgp'));\n",
    "    // Stop all events\n",
    "    // document.body.outerHTML += ''\n",
    "}, 1)\n",
    "```\n",
    "\n",
    "***\n",
    "\n",
    "manifest.json\n",
    "```js\n",
    "{\n",
    "    \"manifest_version\": 3,\n",
    "    \"name\": \"Free Nation Media Articles - (For Education Purposes)\",\n",
    "    \"version\": \"1.0\",\n",
    "    \"description\": \"Free Nation Media Articles - (For Education Purposes). This is a proof of concept how to read premium articles from Nation Media Group for free.\",\n",
    "    \"content_scripts\": [\n",
    "      {\n",
    "        \"matches\": [\"https://nation.africa/*\"],\n",
    "        \"js\": [\"content.js\"]\n",
    "      },\n",
    "      {\n",
    "        \"matches\": [\"https://www.businessdailyafrica.com/*\"],\n",
    "        \"js\": [\"content.js\"]\n",
    "      }\n",
    "    ]\n",
    "  }\n",
    "\n",
    "```"
   ]
  },
  {
   "cell_type": "markdown",
   "metadata": {},
   "source": [
    "## New Code"
   ]
  },
  {
   "cell_type": "markdown",
   "metadata": {},
   "source": [
    "After my promt, they added some security, by adding some javascript layer of security."
   ]
  },
  {
   "cell_type": "markdown",
   "metadata": {},
   "source": [
    "content.js\n",
    "```js\n",
    "setTimeout(async () => {\n",
    "    // remove popup and make page scrollable\n",
    "    const removePopup = (maxRetries, retries) => {\n",
    "        setTimeout(() => {\n",
    "            const popUp = document.querySelector('.fc-ab-root')\n",
    "            if (popUp) {\n",
    "                popUp?.remove()\n",
    "                document.body.style = \"\"\n",
    "            } else if (retries < maxRetries) {\n",
    "                removePopup(maxRetries, retries + 1)\n",
    "            }\n",
    "        }, 300);\n",
    "    };\n",
    "    // fetch html src\n",
    "    const htmlString = await fetch(location.href).then(resp => resp.text())\n",
    "    const newHtmlDocument = new DOMParser().parseFromString(htmlString, 'text/html');\n",
    "    // https://nation.africa/\n",
    "    // Remove the paywall element\n",
    "    newHtmlDocument.querySelector('.wall-guard')?.remove();\n",
    "    // Allow copying the text\n",
    "    newHtmlDocument.querySelectorAll('.blk-txt')?.forEach(i => i.classList.remove('blk-txt'));\n",
    "\n",
    "    // https://www.businessdailyafrica.com/\n",
    "    // Remove the paywall spinner\n",
    "    newHtmlDocument.querySelector('.spinner')?.remove();\n",
    "    // Remove the paywall element\n",
    "    newHtmlDocument.querySelector('.paywall')?.remove();\n",
    "    // Remove the call for action\n",
    "    newHtmlDocument.querySelector('.grid-container-medium')?.remove();\n",
    "\n",
    "    // https://www.businessdailyafrica.com/ AND https://nation.africa/\n",
    "    // Show the hidden content\n",
    "    newHtmlDocument.querySelectorAll('.paragraph-wrapper.nmgp')?.forEach(i => i.classList.remove('nmgp'));\n",
    "    // Stop all events\n",
    "    // document.body.outerHTML += ''\n",
    "    // Enable images\n",
    "    newHtmlDocument.querySelectorAll('img.lazy-img').forEach(i => i.classList.remove('lazy-img'))\n",
    "    newHtmlDocument.querySelectorAll('img[data-src]').forEach(img => {\n",
    "        const { dataset } = img;\n",
    "        img.src = dataset.src ?? img.src;\n",
    "        img.srcset = dataset.srcset ?? img.srcset;\n",
    "    });\n",
    "    // Remove spinners\n",
    "    newHtmlDocument.querySelectorAll('.spinner').forEach(i => i.remove());\n",
    "    // Remove cloundflare email protection label\n",
    "    newHtmlDocument.querySelector('.__cf_email__')?.closest('.paragraph-wrapper')?.remove();\n",
    "\n",
    "    document.body.outerHTML = newHtmlDocument.body.outerHTML;\n",
    "\n",
    "    removePopup(50, 0)\n",
    "}, 10)\n",
    "```\n",
    "\n",
    "***\n",
    "\n",
    "manifest.json\n",
    "\n",
    "```json\n",
    "{\n",
    "  \"manifest_version\": 3,\n",
    "  \"name\": \"Free Nation Media Articles - (For Education Purposes)\",\n",
    "  \"version\": \"1.2\",\n",
    "  \"description\": \"Free Nation Media Articles - (For Education Purposes). This is a proof of concept how to read premium articles from Nation Media Group for free.\",\n",
    "  \"content_scripts\": [\n",
    "    {\n",
    "      \"matches\": [\"*://nation.africa/*\"],\n",
    "      \"js\": [\"content.js\"]\n",
    "    },\n",
    "    {\n",
    "      \"matches\": [\"*://*.businessdailyafrica.com/*\"],\n",
    "      \"js\": [\"content.js\"]\n",
    "    },\n",
    "    {\n",
    "      \"matches\": [\"*://businessdailyafrica.com/*\"],\n",
    "      \"js\": [\"content.js\"]\n",
    "    }\n",
    "  ]\n",
    "}\n",
    "\n",
    "```"
   ]
  },
  {
   "cell_type": "markdown",
   "metadata": {},
   "source": [
    "## Appropriate Fix"
   ]
  },
  {
   "cell_type": "markdown",
   "metadata": {},
   "source": [
    "My suggested fix involves using cloudflare, which nation.africa is already using for DNS and CDN management. create a web worker that checks the IP address. if the ip address is from search engines, then return the extra paid content for SEO, otherwise reduct the extra content. with this, it would still be possible to see the content by routing the request with a https://pagespeed.web.dev/ , which makes it harder than simple jatascript and css!\n",
    "\n",
    "The IP check involves an IP reverse lookup"
   ]
  },
  {
   "cell_type": "code",
   "execution_count": null,
   "metadata": {},
   "outputs": [],
   "source": [
    "# create a python reverse lookup code, and some tests! test with major search engines!"
   ]
  },
  {
   "cell_type": "code",
   "execution_count": 1,
   "metadata": {},
   "outputs": [],
   "source": [
    "import socket\n",
    "from ipaddress import ip_address\n",
    "from urllib.parse import urlparse\n",
    "\n",
    "async def reverse_dns_lookup(ip_addr, *host_names):\n",
    "    \"\"\"\n",
    "    Perform reverse DNS lookup\n",
    "    \"\"\"\n",
    "    # Check if host_names is empty or ip_addr is invalid\n",
    "    if not host_names or not ip_addr or not is_valid_ip(ip_addr):\n",
    "        return False\n",
    "    \n",
    "    try:\n",
    "        # Get hostname from IP\n",
    "        hostname, _, _ = socket.gethostbyaddr(ip_addr)\n",
    "        # Check if IP matches any of the addresses for the hostname\n",
    "        valid_ip = ip_addr in (i[4][0] for i in socket.getaddrinfo(hostname, None))\n",
    "        # Check if hostname or its aliases match any of the allowed hosts\n",
    "        valid_host = any(host_intersection(h, *host_names) for h in [hostname] + socket.gethostbyaddr(hostname)[1])\n",
    "        return valid_ip and valid_host\n",
    "    except:\n",
    "        return False\n",
    "\n",
    "def host_intersection(target_uri, *hosts):\n",
    "    \"\"\"\n",
    "    Check if target_uri intersects with any of the hosts\n",
    "    \"\"\"\n",
    "    if not target_uri or not hosts:\n",
    "        return False\n",
    "    \n",
    "    try:\n",
    "        current_host = urlparse(f\"http://{target_uri}\").netloc.lower()\n",
    "        return any(\n",
    "            current_host.endswith(h.lower()) or h.lower().endswith(current_host)\n",
    "            for h in hosts\n",
    "        )\n",
    "    except:\n",
    "        return False\n",
    "\n",
    "def is_valid_ip(ip):\n",
    "    \"\"\"\n",
    "    Check if the given string is a valid IP address\n",
    "    \"\"\"\n",
    "    try:\n",
    "        ip_address(ip)\n",
    "        return True\n",
    "    except ValueError:\n",
    "        return False\n",
    "\n",
    "# Usage example:\n",
    "# import asyncio\n",
    "# result = asyncio.run(reverse_dns_lookup(\"8.8.8.8\", \"google.com\", \"googlebot.com\"))\n",
    "# print(result)"
   ]
  },
  {
   "cell_type": "code",
   "execution_count": 3,
   "metadata": {},
   "outputs": [
    {
     "data": {
      "text/plain": [
       "True"
      ]
     },
     "execution_count": 3,
     "metadata": {},
     "output_type": "execute_result"
    }
   ],
   "source": [
    "await reverse_dns_lookup(\"66.249.66.1\", \"googlebot.com\", \"google.com\")"
   ]
  },
  {
   "cell_type": "markdown",
   "metadata": {},
   "source": [
    "As one can tell, doing this for every request is resource intensive, and it is best to cache this for about 7 days. a verified ip address should be allowed to query for a week without firther checks for a week!"
   ]
  },
  {
   "cell_type": "markdown",
   "metadata": {},
   "source": [
    "Alternatives to doing this on the server is doing this on==in a CDN like cloudflare, using web workers in this case. this saves server resources and for a start, its free. web workers intercept a request to the server,  and is able to modify the request and the response."
   ]
  }
 ],
 "metadata": {
  "kernelspec": {
   "display_name": ".venv",
   "language": "python",
   "name": "python3"
  },
  "language_info": {
   "codemirror_mode": {
    "name": "ipython",
    "version": 3
   },
   "file_extension": ".py",
   "mimetype": "text/x-python",
   "name": "python",
   "nbconvert_exporter": "python",
   "pygments_lexer": "ipython3",
   "version": "3.10.12"
  }
 },
 "nbformat": 4,
 "nbformat_minor": 2
}
