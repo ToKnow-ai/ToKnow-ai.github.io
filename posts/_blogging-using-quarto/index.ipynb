{
 "cells": [
  {
   "cell_type": "markdown",
   "metadata": {},
   "source": [
    "The various extentions and pluggind used"
   ]
  },
  {
   "cell_type": "code",
   "execution_count": 39,
   "metadata": {},
   "outputs": [
    {
     "name": "stdout",
     "output_type": "stream",
     "text": [
      "format:\n",
      "  ipynb: default\n",
      "\n"
     ]
    }
   ],
   "source": [
    "import yaml\n",
    "\n",
    "def string_to_yaml(input_string):\n",
    "    def nested_dict(keys, value):\n",
    "        if len(keys) == 1:\n",
    "            return {keys[0]: value}\n",
    "        return {keys[0]: nested_dict(keys[1:], value)}\n",
    "\n",
    "    result = {}\n",
    "    for line in input_string.split('\\n'):\n",
    "        if '=' in line:\n",
    "            key_path, value = line.split('=')\n",
    "            keys = key_path.strip().split('.')\n",
    "            value = value.strip()\n",
    "            \n",
    "            temp = nested_dict(keys, value)\n",
    "            \n",
    "            def update(d, u):\n",
    "                for k, v in u.items():\n",
    "                    if isinstance(v, dict):\n",
    "                        d[k] = update(d.get(k, {}), v)\n",
    "                    else:\n",
    "                        d[k] = v\n",
    "                return d\n",
    "            \n",
    "            update(result, temp)\n",
    "\n",
    "    return yaml.dump(result, default_flow_style=False)\n",
    "\n",
    "# Example usage\n",
    "input_string = \"format.ipynb=default\"\n",
    "\n",
    "yaml_output = string_to_yaml(input_string)\n",
    "print(yaml_output)"
   ]
  },
  {
   "cell_type": "code",
   "execution_count": 30,
   "metadata": {},
   "outputs": [
    {
     "name": "stdout",
     "output_type": "stream",
     "text": [
      "format:\n",
      "\tipynb\n"
     ]
    }
   ],
   "source": [
    "print(\"format:\\n\\tipynb\")"
   ]
  }
 ],
 "metadata": {
  "kernelspec": {
   "display_name": ".venv",
   "language": "python",
   "name": "python3"
  },
  "language_info": {
   "codemirror_mode": {
    "name": "ipython",
    "version": 3
   },
   "file_extension": ".py",
   "mimetype": "text/x-python",
   "name": "python",
   "nbconvert_exporter": "python",
   "pygments_lexer": "ipython3",
   "version": "3.10.12"
  }
 },
 "nbformat": 4,
 "nbformat_minor": 2
}
