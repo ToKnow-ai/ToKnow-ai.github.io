{
 "cells": [
  {
   "cell_type": "markdown",
   "metadata": {},
   "source": [
    "The various extentions and pluggind used"
   ]
  },
  {
   "cell_type": "code",
   "execution_count": 7,
   "metadata": {},
   "outputs": [
    {
     "name": "stdout",
     "output_type": "stream",
     "text": [
      "format:\n",
      "  html:\n",
      "    output-file: '{name}.output.{ext}'\n",
      "  ipynb:\n",
      "    output-file: '{name}.output.{ext}'\n",
      "\n"
     ]
    }
   ],
   "source": [
    "from typing import Literal\n",
    "import yaml\n",
    "\n",
    "def string_to_yaml(input_string: str) -> str:\n",
    "    \"\"\"\n",
    "    Converts a dot-notated string into a nested YAML formatted string.\n",
    "    Args:\n",
    "        input_string (str): The input string containing key-value pairs separated by '='. \n",
    "                            Nested keys are separated by dots ('.'). Entries are separated \n",
    "                            by new lines ('\\n') or semicolons (';').\n",
    "    Returns:\n",
    "        str: A YAML formatted string representing the nested dictionary structure.\n",
    "    Example:\n",
    "        input_string = \"a.b.c=value1\\nd.e=value2\"\n",
    "        yaml_string = string_to_yaml(input_string)\n",
    "        # yaml_string will be:\n",
    "        # a:\n",
    "        #   b:\n",
    "        #     c: value1\n",
    "        # d:\n",
    "        #   e: value2\n",
    "    \"\"\"\n",
    "    def nested_dict(keys: list[str], value: str) -> dict[str, str] | dict[str, dict[str, str]]:\n",
    "        if len(keys) == 1:\n",
    "            return {keys[0]: value}\n",
    "        return {keys[0]: nested_dict(keys[1:], value)}\n",
    "    \n",
    "    def update(\n",
    "            merged_entries: dict[str, str] | dict[str, dict[str, str]], \n",
    "            single_entry: dict[str, str] | dict[str, dict[str, str]]):\n",
    "        for key, value in single_entry.items():\n",
    "            if isinstance(value, dict):\n",
    "                merged_entries[key] = update(merged_entries.get(key, {}), value)\n",
    "            else:\n",
    "                merged_entries[key] = value\n",
    "        return merged_entries\n",
    "\n",
    "    merged_entry_objs = {}\n",
    "    # the entries are split by new line (\\n) or `;`\n",
    "    entries = input_string.replace('\\n', ';').split(';')\n",
    "    for entry in entries:\n",
    "        if '=' in entry:\n",
    "            key_path, value = entry.split('=')\n",
    "            keys: list[str] = key_path.strip().split('.')\n",
    "            value: str = value.strip()\n",
    "            \n",
    "            entry_obj = nested_dict(keys, value)\n",
    "            \n",
    "            update(merged_entry_objs, entry_obj)\n",
    "\n",
    "    return yaml.dump(merged_entry_objs, default_flow_style=False)\n",
    "\n",
    "# Example usage\n",
    "input_string = \"format.ipynb.output-file={name}.output.{ext};format.html.output-file={name}.output.{ext}\"\n",
    "\n",
    "yaml_output = string_to_yaml(input_string)\n",
    "print(yaml_output)"
   ]
  },
  {
   "cell_type": "code",
   "execution_count": 30,
   "metadata": {},
   "outputs": [
    {
     "name": "stdout",
     "output_type": "stream",
     "text": [
      "format:\n",
      "\tipynb\n"
     ]
    }
   ],
   "source": [
    "print(\"format:\\n\\tipynb\")"
   ]
  }
 ],
 "metadata": {
  "kernelspec": {
   "display_name": ".venv",
   "language": "python",
   "name": "python3"
  },
  "language_info": {
   "codemirror_mode": {
    "name": "ipython",
    "version": 3
   },
   "file_extension": ".py",
   "mimetype": "text/x-python",
   "name": "python",
   "nbconvert_exporter": "python",
   "pygments_lexer": "ipython3",
   "version": "3.10.12"
  }
 },
 "nbformat": 4,
 "nbformat_minor": 2
}
