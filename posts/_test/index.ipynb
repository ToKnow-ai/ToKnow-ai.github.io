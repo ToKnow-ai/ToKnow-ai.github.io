{
 "cells": [
  {
   "cell_type": "markdown",
   "metadata": {},
   "source": [
    "---\n",
    "title: \"Toward a Unified Theory of High-Energy Metaphysics: Silly String Theory\"\n",
    "---"
   ]
  },
  {
   "cell_type": "markdown",
   "metadata": {},
   "source": [
    "# Step 1: # Start"
   ]
  },
  {
   "cell_type": "markdown",
   "metadata": {},
   "source": [
    "Formular: $s = \\sqrt{\\frac{1}{N-1} \\sum_{i=1}^N (x_i - \\overline{x})^2}$\n",
    "Video: {{< video https://www.youtube.com/embed/wo9vZccmqwc >}}"
   ]
  },
  {
   "cell_type": "markdown",
   "metadata": {},
   "source": [
    "# Step 2: # Import libraries"
   ]
  },
  {
   "cell_type": "code",
   "execution_count": null,
   "metadata": {},
   "outputs": [],
   "source": [
    "import pandas as pd\n",
    "import matplotlib.pyplot as plt\n",
    "import plotly.graph_objects as go\n",
    "import plotly.io as pio\n",
    "\n",
    "# https://github.com/microsoft/vscode-jupyter/issues/6999/\n",
    "# https://quarto.org/docs/interactive/widgets/jupyter.html\n",
    "pio.renderers.default = \"plotly_mimetype+notebook_connected\""
   ]
  },
  {
   "cell_type": "markdown",
   "metadata": {},
   "source": [
    "# Step 3: # Create dummy data"
   ]
  },
  {
   "cell_type": "code",
   "execution_count": null,
   "metadata": {},
   "outputs": [],
   "source": [
    "data = {'Month': ['January', 'February', 'March', 'April', 'May'],\n",
    "        'Temperature': [10, 15, 20, 25, 30]}\n",
    "\n",
    "# Create pandas DataFrame\n",
    "df = pd.DataFrame(data)\n",
    "\n",
    "# Display the DataFrame\n",
    "df"
   ]
  },
  {
   "cell_type": "markdown",
   "metadata": {},
   "source": [
    "# Step 4: Generate the static plot using Matplotlib"
   ]
  },
  {
   "cell_type": "code",
   "execution_count": null,
   "metadata": {},
   "outputs": [],
   "source": [
    "#| label: preview-image\n",
    "# https://stackoverflow.com/a/76274373\n",
    "# https://github.com/quarto-dev/quarto-cli/blob/82caf3f3f96b6c4c221db627e715a297dfb21ef5/src/project/types/website/util/discover-meta.ts#L59\n",
    "# https://github.com/quarto-dev/quarto-cli/issues/7302#issuecomment-1793635661\n",
    "# https://quarto.org/docs/websites/website-listings.html#listing-fields\n",
    "\n",
    "plt.plot(df['Month'], df['Temperature'])\n",
    "plt.xlabel('Month')\n",
    "plt.ylabel('Temperature')\n",
    "plt.title('Monthly Average Temperatures')\n",
    "plt.show()"
   ]
  },
  {
   "cell_type": "markdown",
   "metadata": {},
   "source": [
    "# Step 5: Generate the interactive plot"
   ]
  },
  {
   "cell_type": "markdown",
   "metadata": {},
   "source": [
    "## Plotly 1"
   ]
  },
  {
   "cell_type": "code",
   "execution_count": null,
   "metadata": {},
   "outputs": [],
   "source": [
    "#|output-when-format: \"html\"\n",
    "\n",
    "fig = go.Figure(data=go.Scatter(x=df['Month'], y=df['Temperature']))\n",
    "fig.update_layout(title='Monthly Average Temperatures', xaxis_title='Month', yaxis_title='Temperature')\n",
    "fig.show()"
   ]
  },
  {
   "cell_type": "markdown",
   "metadata": {},
   "source": [
    "## plotly 2"
   ]
  },
  {
   "cell_type": "markdown",
   "metadata": {},
   "source": [
    "<https://quarto.org/docs/authoring/variables.html#escaping>\n",
    "\n",
    "Escaping\n",
    "If you are writing documentation about using variable shortcodes (for example, this article!) you might need to prevent them from being processed. You can do this in two ways:\n",
    "\n",
    "Escape the shortcode reference with extra braces like this:\n",
    "\n",
    "    {{{{< var version >}}}}\n",
    "\n",
    "Add a shortcodes=false attribute to any code block you want to prevent processing of shortcodes within:\n",
    "\n",
    "\n",
    "    ```{{shortcodes=false}}\n",
    "    {{{< var version >}}}\n",
    "    ```\n",
    "\n",
    "<https://github.com/quarto-dev/quarto-web/blob/fd2a993e3274b3433a0088d5daf85080bdf68d71/docs/extensions/_shortcode-escaping.qmd#L13C1-L17C9>"
   ]
  },
  {
   "cell_type": "code",
   "execution_count": null,
   "metadata": {},
   "outputs": [],
   "source": [
    "#|output-when-format-pdf: \"Please visit <https://toknow.ai> to view the plot. {{< meta href >}}\"\n",
    "\n",
    "import plotly.express as px\n",
    "import plotly.io as pio\n",
    "df = px.data.iris()\n",
    "fig = px.scatter(df, x=\"sepal_width\", y=\"sepal_length\", \n",
    "                 color=\"species\", \n",
    "                 marginal_y=\"violin\", marginal_x=\"box\", \n",
    "                 trendline=\"ols\", template=\"simple_white\")\n",
    "fig.show()"
   ]
  },
  {
   "cell_type": "markdown",
   "metadata": {},
   "source": [
    "# Step 6: Animate"
   ]
  },
  {
   "cell_type": "code",
   "execution_count": null,
   "metadata": {},
   "outputs": [],
   "source": [
    "import pandas as pd\n",
    "import matplotlib.pyplot as plt\n",
    "from matplotlib import animation\n",
    "import requests\n",
    "from IPython.display import HTML\n",
    "\n",
    "# Fetch population data for Kenya from the World Bank API\n",
    "url = 'http://api.worldbank.org/v2/countries/KEN/indicators/SP.POP.TOTL?format=json'\n",
    "\n",
    "# Send a GET request to the World Bank API\n",
    "json = requests.get(url).json()[1]\n",
    "\n",
    "# Extract the JSON data\n",
    "data = pd.DataFrame(json)\n",
    "\n",
    "# Convert data to a DataFrame\n",
    "data = pd.DataFrame(data)\n",
    "data = data.rename(columns={'date': 'Year', 'value': 'Population'}).sort_values(by='Year', ascending=True)\n",
    "data.dropna(inplace=True)\n",
    "data['Year'] = data['Year'].astype(int)\n",
    "\n",
    "# Set up the figure and axis\n",
    "fig, ax = plt.subplots(figsize=(8, 6))\n",
    "ax.set_xlabel('Year')\n",
    "ax.set_ylabel('Population')\n",
    "ax.set_title('Kenya Population')\n",
    "\n",
    "# Create a line object\n",
    "line, = ax.plot([], [], lw=2)\n",
    "\n",
    "# Function to update the animation frame\n",
    "def animate(i):\n",
    "    year = data['Year'].min() + i\n",
    "    population = data[data['Year'] == year]['Population'].values[0]\n",
    "    line.set_data(data['Year'][:i+1], data['Population'][:i+1])\n",
    "    ax.set_xlim(data['Year'].min(), data['Year'].max())\n",
    "    ax.set_ylim(0, data['Population'].max() * 1.1)\n",
    "    ax.set_title(f'Kenya Population ({year})')\n",
    "    return line,\n",
    "\n",
    "# Create the animation\n",
    "ani = animation.FuncAnimation(fig, animate, frames=len(data), interval=200, blit=True, repeat=False)\n",
    "\n",
    "# ani.save()\n",
    "\n",
    "# Display the animation\n",
    "plt.close(ani._fig)"
   ]
  },
  {
   "cell_type": "markdown",
   "metadata": {},
   "source": [
    "## Video"
   ]
  },
  {
   "cell_type": "code",
   "execution_count": null,
   "metadata": {},
   "outputs": [],
   "source": [
    "#| video-src: \"https://www.youtube.com/watch?v=kCc8FmEb1nY\"\n",
    "\n",
    "HTML(f'<div class=\"ratio ratio-16x9\">{ani.to_html5_video()}</div>')"
   ]
  },
  {
   "cell_type": "markdown",
   "metadata": {},
   "source": [
    "## JSHTML"
   ]
  },
  {
   "cell_type": "markdown",
   "metadata": {},
   "source": [
    "You can also generate a series of images with a slider from `matplotlib import animation`, like below:"
   ]
  },
  {
   "cell_type": "code",
   "execution_count": null,
   "metadata": {},
   "outputs": [],
   "source": [
    "#|output: false\n",
    "HTML(ani.to_jshtml(default_mode=\"loop\", embed_frames=True))"
   ]
  },
  {
   "cell_type": "markdown",
   "metadata": {},
   "source": [
    "## Data"
   ]
  },
  {
   "cell_type": "code",
   "execution_count": null,
   "metadata": {},
   "outputs": [],
   "source": [
    "data.head(5)[['Year', 'Population']]"
   ]
  },
  {
   "cell_type": "markdown",
   "metadata": {},
   "source": [
    "## Finally"
   ]
  },
  {
   "cell_type": "markdown",
   "metadata": {},
   "source": [
    "Here is a footnote reference,[^1] and another.[^longnote]\n",
    "\n",
    "[^1]: Here is the footnote.\n",
    "\n",
    "[^longnote]: Here's one with multiple blocks.\n",
    "\n",
    "    Subsequent paragraphs are indented to show that they\n",
    "belong to the previous footnote.\n",
    "\n",
    "        { some.code }\n",
    "\n",
    "    The whole paragraph can be indented, or just the first\n",
    "    line.  In this way, multi-paragraph footnotes work like\n",
    "    multi-paragraph list items.\n",
    "\n",
    "This paragraph won't be part of the note, because it\n",
    "isn't indented.\n",
    "\n",
    "Here is an inline note.^[Inlines notes are easier to write,\n",
    "since you don't have to pick an identifier and move down to\n",
    "type the note.]\n",
    "\n",
    "You can learn more about tokens [here](https://tiktokenizer.vercel.app/?model=gpt-4-1106-preview).^[Learn More about tokens at <https://tiktokenizer.vercel.app/?model=gpt-4-1106-preview>]"
   ]
  },
  {
   "cell_type": "markdown",
   "metadata": {},
   "source": [
    "## HTML"
   ]
  },
  {
   "cell_type": "markdown",
   "metadata": {},
   "source": [
    "<b>ewfuhweufhuef weifj8w</b>"
   ]
  },
  {
   "cell_type": "code",
   "execution_count": null,
   "metadata": {},
   "outputs": [],
   "source": [
    "import watermark.watermark as watermark\n",
    "\n",
    "print(watermark(iversions=True, globals_=globals()))"
   ]
  },
  {
   "cell_type": "code",
   "execution_count": null,
   "metadata": {},
   "outputs": [],
   "source": [
    "# https://stackoverflow.com/a/76558104\n",
    "\n",
    "import types\n",
    "\n",
    "def imports():\n",
    "    for name, val in globals().items():\n",
    "        if isinstance(val, types.ModuleType):\n",
    "            yield val.__name__\n",
    "\n",
    "excludes = ['builtins', 'types', 'sys']\n",
    "\n",
    "imported_modules = [module for module in imports() if module not in excludes]\n",
    "\n",
    "clean_modules = []\n",
    "\n",
    "for module in imported_modules:\n",
    "\n",
    "    sep = '.'  # to handle 'matplotlib.pyplot' cases\n",
    "    rest = module.split(sep, 1)[0]\n",
    "    clean_modules.append(rest)\n",
    "\n",
    "changed_imported_modules = list(set(clean_modules))  # drop duplicates\n",
    "\n",
    "pip_modules = !pip freeze  # you could also use `!conda list` with anaconda\n",
    "\n",
    "for module in pip_modules:\n",
    "    name, version = module.split('==')\n",
    "    if name in changed_imported_modules:\n",
    "        print(name + '\\t' + version)"
   ]
  },
  {
   "cell_type": "code",
   "execution_count": null,
   "metadata": {},
   "outputs": [],
   "source": [
    "# https://stackoverflow.com/a/76558104"
   ]
  },
  {
   "cell_type": "code",
   "execution_count": null,
   "metadata": {},
   "outputs": [],
   "source": [
    "%load_ext watermark"
   ]
  },
  {
   "cell_type": "code",
   "execution_count": null,
   "metadata": {},
   "outputs": [],
   "source": [
    "%watermark --iversions"
   ]
  },
  {
   "cell_type": "markdown",
   "metadata": {},
   "source": [
    "![Alt text](https://img.youtube.com/vi/kCc8FmEb1nY/hqdefault.jpg)"
   ]
  },
  {
   "cell_type": "markdown",
   "metadata": {},
   "source": [
    "## 1+1"
   ]
  },
  {
   "cell_type": "code",
   "execution_count": null,
   "metadata": {},
   "outputs": [],
   "source": [
    "#| video-src: \"https://www.youtube.com/watch?v=g85WsxE1gAU\"\n",
    "\n",
    "1+1"
   ]
  },
  {
   "cell_type": "markdown",
   "metadata": {},
   "source": [
    "## MarkdowN Attributes"
   ]
  },
  {
   "cell_type": "markdown",
   "metadata": {},
   "source": [
    "You can add attributes and classes to markdown, such as special comments using the below logic:\n",
    "\n",
    "<https://quarto.org/docs/visual-editor/content.html#divs>\n",
    "\n",
    "Suppose we wanted to add an id (`#span-id`) or a css class (`.span-class`) or css inline styles (`color:red`) or a custom pandoc attribute (`pandoc-attribute=value`).\n",
    "\n",
    "    [Spans]{#span-id, .span-class, color:red, pandoc-attribute=value}"
   ]
  }
 ],
 "metadata": {
  "kernelspec": {
   "display_name": ".venv",
   "language": "python",
   "name": "python3"
  },
  "language_info": {
   "codemirror_mode": {
    "name": "ipython",
    "version": 3
   },
   "file_extension": ".py",
   "mimetype": "text/x-python",
   "name": "python",
   "nbconvert_exporter": "python",
   "pygments_lexer": "ipython3",
   "version": "3.10.12"
  }
 },
 "nbformat": 4,
 "nbformat_minor": 2
}
