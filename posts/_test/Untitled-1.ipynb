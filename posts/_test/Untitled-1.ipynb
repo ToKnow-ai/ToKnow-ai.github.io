{
 "cells": [
  {
   "cell_type": "code",
   "execution_count": 34,
   "metadata": {},
   "outputs": [],
   "source": [
    "# | echo: false\n",
    "# | output: false\n",
    "\n",
    "import sys\n",
    "import os\n",
    "\n",
    "sys.path.append(os.path.abspath(\"../../\"))\n",
    "\n",
    "%reload_ext autoreload\n",
    "%autoreload 2\n",
    "\n",
    "from python_utils.get_browser import get_browser_page_async\n",
    "\n",
    "class UsernameChecker:\n",
    "    def __init__(self, username):\n",
    "        self.username = username\n",
    "        self.results = {}\n",
    "        self.platforms = [\n",
    "            {\n",
    "                \"name\": \"LinkedIn Company\",\n",
    "                \"uri\": f\"https://www.linkedin.com/company/{username}/\",\n",
    "                \"not_available_match\": [\"Uh oh, we can\", \"seem to find the page you\", \"Try going back to the previous page\"],\n",
    "                \"available_match\": [username, \"Skip to main content\", \"followers\", \"Follow\"],\n",
    "            },\n",
    "            {\n",
    "                \"name\": \"LinkedIn User\",\n",
    "                \"uri\": f\"https://www.linkedin.com/in/{username}/\",\n",
    "                \"not_available_match\": [\"This profile may be private\", \"may not exist\", \"may be private\"],\n",
    "                \"available_match\": [username, \"Skip to main content\", \"followers\", \"Follow\"],\n",
    "            }\n",
    "        ]\n",
    "\n",
    "    async def check_availability_async(self):\n",
    "        for platform in self.platforms:\n",
    "            try:\n",
    "                page, close = await get_browser_page_async()\n",
    "                await page.goto(platform['uri'], wait_until='networkidle')\n",
    "                # Wait for 1 second after load\n",
    "                await page.wait_for_timeout(1000)\n",
    "                text_content = (await page.evaluate(\"document.body.innerText\") or '').lower()\n",
    "                not_available_match = any((i or '').lower() in text_content for i in platform[\"not_available_match\"])\n",
    "                available_match = any((i or '').lower() not in text_content for i in platform[\"available_match\"])\n",
    "                if not_available_match and available_match:\n",
    "                    self.results[platform['name']] = {\n",
    "                        'available': True,\n",
    "                        'message': f\"{self.username}: ✅ Available\",\n",
    "                        'url': platform['uri']\n",
    "                    }\n",
    "                else:\n",
    "                    self.results[platform['name']] = {\n",
    "                        'available': False,\n",
    "                        'message': f\"{self.username}: ❌ Taken\",\n",
    "                        'url': platform['uri']\n",
    "                    }\n",
    "                await close()\n",
    "            except Exception as e:\n",
    "                self.results[platform['name']] = {\n",
    "                    'available': None,\n",
    "                    'error': str(e)\n",
    "                }\n",
    "        return self.results"
   ]
  },
  {
   "cell_type": "code",
   "execution_count": 35,
   "metadata": {},
   "outputs": [
    {
     "data": {
      "text/plain": [
       "{'LinkedIn Company': {'available': True,\n",
       "  'message': 'toknowqwertyai: ✅ Available',\n",
       "  'url': 'https://www.linkedin.com/company/toknowqwertyai/'},\n",
       " 'LinkedIn User': {'available': False,\n",
       "  'message': 'toknowqwertyai: ❌ Taken',\n",
       "  'url': 'https://www.linkedin.com/in/toknowqwertyai/'}}"
      ]
     },
     "execution_count": 35,
     "metadata": {},
     "output_type": "execute_result"
    }
   ],
   "source": [
    "# Create checker instance\n",
    "checker = UsernameChecker(\"toknowqwertyai\")\n",
    "\n",
    "# Check availability\n",
    "await checker.check_availability_async()"
   ]
  }
 ],
 "metadata": {
  "kernelspec": {
   "display_name": ".venv",
   "language": "python",
   "name": "python3"
  },
  "language_info": {
   "codemirror_mode": {
    "name": "ipython",
    "version": 3
   },
   "file_extension": ".py",
   "mimetype": "text/x-python",
   "name": "python",
   "nbconvert_exporter": "python",
   "pygments_lexer": "ipython3",
   "version": "3.10.12"
  }
 },
 "nbformat": 4,
 "nbformat_minor": 2
}
