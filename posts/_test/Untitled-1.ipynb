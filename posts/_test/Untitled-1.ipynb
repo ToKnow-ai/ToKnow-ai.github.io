{
 "cells": [
  {
   "cell_type": "code",
   "execution_count": null,
   "metadata": {},
   "outputs": [],
   "source": [
    "# | echo: false\n",
    "# | output: false\n",
    "\n",
    "import sys\n",
    "import os\n",
    "\n",
    "sys.path.append(os.path.abspath(\"../../\"))\n",
    "\n",
    "%reload_ext autoreload\n",
    "%autoreload 2\n",
    "\n",
    "from python_utils.get_browser import get_browser_page_async\n",
    "\n",
    "async def resolve_linkedin_username(uri: str) -> bool:\n",
    "    page, close = await get_browser_page_async()\n",
    "    response = None\n",
    "    async def capture_response(resp):\n",
    "        nonlocal response\n",
    "        if uri in resp.url:\n",
    "            response = resp\n",
    "            await close()\n",
    "    page.on(\"response\", capture_response)\n",
    "    await page.goto(\"https://www.linkedin.com/\")\n",
    "    await page.evaluate(f\"\"\"\n",
    "    async () =>\n",
    "        await fetch(\"{uri}\", {{\n",
    "                \"mode\": \"no-cors\",\n",
    "                \"credentials\": \"include\"\n",
    "            }})\n",
    "    \"\"\")\n",
    "    await close()\n",
    "    return response.ok\n",
    "\n",
    "class UsernameChecker:\n",
    "    def __init__(self, username):\n",
    "        self.username = username\n",
    "        self.results = {}\n",
    "        self.platforms = [\n",
    "            # {\n",
    "            #     \"name\": \"LinkedIn Company\",\n",
    "            #     # can replace \"www.\" with \"de.\", \".ke\", \".ug\", etc\n",
    "            #     \"uri\": f\"https://ke.linkedin.com/company/{username}\",\n",
    "            #     \"resolve\": resolve_linkedin_username,\n",
    "            # },\n",
    "            {\n",
    "                \"name\": \"LinkedIn User\",\n",
    "                # can replace \"www.\" with \"de.\", \".ke\", \".ug\", etc\n",
    "                \"uri\": f\"https://ke.linkedin.com/in/{username}\",\n",
    "                \"resolve\": resolve_linkedin_username,\n",
    "            }\n",
    "        ]\n",
    "\n",
    "    async def check_availability_async(self):\n",
    "        for platform in self.platforms:\n",
    "            try:\n",
    "                is_available = await platform[\"resolve\"](platform['uri'])\n",
    "                if not is_available:\n",
    "                    self.results[platform['name']] = {\n",
    "                        'available': True,\n",
    "                        'message': f\"{self.username}: ✅ Available\",\n",
    "                        'url': platform['uri']\n",
    "                    }\n",
    "                else:\n",
    "                    self.results[platform['name']] = {\n",
    "                        'available': False,\n",
    "                        'message': f\"{self.username}: ❌ Taken\",\n",
    "                        'url': platform['uri']\n",
    "                    }\n",
    "            except Exception as e:\n",
    "                self.results[platform['name']] = {\n",
    "                    'available': None,\n",
    "                    'error': str(e)\n",
    "                }\n",
    "        return self.results"
   ]
  },
  {
   "cell_type": "code",
   "execution_count": 64,
   "metadata": {},
   "outputs": [
    {
     "data": {
      "text/plain": [
       "{'LinkedIn User': {'available': True,\n",
       "  'message': 'kamau: ✅ Available',\n",
       "  'url': 'https://ke.linkedin.com/in/kamau'}}"
      ]
     },
     "execution_count": 64,
     "metadata": {},
     "output_type": "execute_result"
    }
   ],
   "source": [
    "# Create checker instance\n",
    "checker = UsernameChecker(\"kamau\")\n",
    "\n",
    "# Check availability\n",
    "await checker.check_availability_async()"
   ]
  },
  {
   "cell_type": "code",
   "execution_count": 67,
   "metadata": {},
   "outputs": [
    {
     "data": {
      "text/plain": [
       "('kamau: ✅ Available', 'https://ke.linkedin.com/in/kamau')"
      ]
     },
     "execution_count": 67,
     "metadata": {},
     "output_type": "execute_result"
    }
   ],
   "source": [
    "username = \"kamau\"\n",
    "url = f\"https://ke.linkedin.com/in/{username}\"\n",
    "page, close = await get_browser_page_async()\n",
    "response = None\n",
    "async def capture_response(resp):\n",
    "    global response\n",
    "    if url in resp.url:\n",
    "        response = resp\n",
    "        await close()\n",
    "page.on(\"response\", capture_response)\n",
    "await page.goto(\"https://www.linkedin.com/\")\n",
    "await page.evaluate(f\"\"\"\n",
    "async () =>\n",
    "    await fetch(\"{url}\", {{\n",
    "            \"mode\": \"no-cors\",\n",
    "            \"credentials\": \"include\"\n",
    "        }})\n",
    "\"\"\")\n",
    "f\"{username}: ❌ Taken\" if response.ok else f\"{username}: ✅ Available\", response.url"
   ]
  },
  {
   "cell_type": "code",
   "execution_count": null,
   "metadata": {},
   "outputs": [
    {
     "data": {
      "text/plain": [
       "<coroutine object Response.text at 0xfd544c387ca0>"
      ]
     },
     "execution_count": 74,
     "metadata": {},
     "output_type": "execute_result"
    }
   ],
   "source": [
    "await response.text()"
   ]
  }
 ],
 "metadata": {
  "kernelspec": {
   "display_name": ".venv",
   "language": "python",
   "name": "python3"
  },
  "language_info": {
   "codemirror_mode": {
    "name": "ipython",
    "version": 3
   },
   "file_extension": ".py",
   "mimetype": "text/x-python",
   "name": "python",
   "nbconvert_exporter": "python",
   "pygments_lexer": "ipython3",
   "version": "3.10.12"
  }
 },
 "nbformat": 4,
 "nbformat_minor": 2
}
