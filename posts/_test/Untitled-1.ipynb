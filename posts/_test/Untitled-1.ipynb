{
 "cells": [
  {
   "cell_type": "code",
   "execution_count": 1,
   "metadata": {},
   "outputs": [],
   "source": [
    "# | echo: false\n",
    "# | output: false\n",
    "\n",
    "import sys\n",
    "import os\n",
    "\n",
    "sys.path.append(os.path.abspath(\"../../\"))\n",
    "\n",
    "%reload_ext autoreload\n",
    "%autoreload 2\n",
    "\n",
    "from python_utils.get_browser import get_browser_page_async\n",
    "\n",
    "class UsernameChecker:\n",
    "    def __init__(self, username):\n",
    "        self.username = username\n",
    "        self.results = {}\n",
    "        self.platforms = [\n",
    "            {\n",
    "                \"name\": \"LinkedIn Company\",\n",
    "                \"uri\": f\"https://www.linkedin.com/company/{username}/\",\n",
    "                \"not_available_match\": [\"Uh oh, we can\", \"seem to find the page you\", \"Try going back to the previous page\"],\n",
    "                \"available_match\": [username, \"Skip to main content\", \"followers\", \"Follow\"],\n",
    "            },\n",
    "            {\n",
    "                \"name\": \"LinkedIn User\",\n",
    "                \"uri\": f\"https://www.linkedin.com/in/{username}/\",\n",
    "                \"not_available_match\": [\"This profile may be private\", \"may not exist\", \"may be private\"],\n",
    "                \"available_match\": [username, \"Skip to main content\", \"followers\", \"Follow\"],\n",
    "            }\n",
    "        ]\n",
    "\n",
    "    async def check_availability_async(self):\n",
    "        for platform in self.platforms:\n",
    "            try:\n",
    "                page, close = await get_browser_page_async()\n",
    "                await page.goto(platform['uri'], wait_until='networkidle')\n",
    "                # Wait for 1 second after load\n",
    "                await page.wait_for_timeout(1000)\n",
    "                text_content = (await page.evaluate(\"document.body.innerText\") or '').lower()\n",
    "                not_available_match = any((i or '').lower() in text_content for i in platform[\"not_available_match\"])\n",
    "                available_match = any((i or '').lower() not in text_content for i in platform[\"available_match\"])\n",
    "                if not_available_match and available_match:\n",
    "                    self.results[platform['name']] = {\n",
    "                        'available': True,\n",
    "                        'message': f\"{self.username}: ✅ Available\",\n",
    "                        'url': platform['uri']\n",
    "                    }\n",
    "                else:\n",
    "                    self.results[platform['name']] = {\n",
    "                        'available': False,\n",
    "                        'message': f\"{self.username}: ❌ Taken\",\n",
    "                        'url': platform['uri']\n",
    "                    }\n",
    "                await close()\n",
    "            except Exception as e:\n",
    "                self.results[platform['name']] = {\n",
    "                    'available': None,\n",
    "                    'error': str(e)\n",
    "                }\n",
    "        return self.results"
   ]
  },
  {
   "cell_type": "code",
   "execution_count": 36,
   "metadata": {},
   "outputs": [
    {
     "data": {
      "text/plain": [
       "{'LinkedIn Company': {'available': True,\n",
       "  'message': 'toknowqwertyai: ✅ Available',\n",
       "  'url': 'https://www.linkedin.com/company/toknowqwertyai/'},\n",
       " 'LinkedIn User': {'available': False,\n",
       "  'message': 'toknowqwertyai: ❌ Taken',\n",
       "  'url': 'https://www.linkedin.com/in/toknowqwertyai/'}}"
      ]
     },
     "execution_count": 36,
     "metadata": {},
     "output_type": "execute_result"
    }
   ],
   "source": [
    "# Create checker instance\n",
    "checker = UsernameChecker(\"toknowqwertyai\")\n",
    "\n",
    "# Check availability\n",
    "await checker.check_availability_async()"
   ]
  },
  {
   "cell_type": "code",
   "execution_count": 17,
   "metadata": {},
   "outputs": [
    {
     "name": "stderr",
     "output_type": "stream",
     "text": [
      "/tmp/ipykernel_5887/2198986649.py:3: RuntimeWarning: coroutine 'Page.route' was never awaited\n",
      "  page.route(\"**/*\", lambda route: route.abort())\n",
      "RuntimeWarning: Enable tracemalloc to get the object allocation traceback\n",
      "/tmp/ipykernel_5887/2198986649.py:6: RuntimeWarning: coroutine 'Page.add_init_script' was never awaited\n",
      "  page.add_init_script(\"\"\"\n",
      "RuntimeWarning: Enable tracemalloc to get the object allocation traceback\n"
     ]
    },
    {
     "ename": "Error",
     "evalue": "Page.evaluate: Execution context was destroyed, most likely because of a navigation",
     "output_type": "error",
     "traceback": [
      "\u001b[0;31m---------------------------------------------------------------------------\u001b[0m",
      "\u001b[0;31mError\u001b[0m                                     Traceback (most recent call last)",
      "Cell \u001b[0;32mIn[17], line 20\u001b[0m\n\u001b[1;32m     16\u001b[0m \u001b[38;5;28;01mawait\u001b[39;00m page\u001b[38;5;241m.\u001b[39mgoto(\n\u001b[1;32m     17\u001b[0m     \u001b[38;5;124m'\u001b[39m\u001b[38;5;124mhttps://linkedin.com/in/irjfiejgpeigjiergijergerg/\u001b[39m\u001b[38;5;124m'\u001b[39m, \n\u001b[1;32m     18\u001b[0m     wait_until \u001b[38;5;241m=\u001b[39m \u001b[38;5;124m'\u001b[39m\u001b[38;5;124mdomcontentloaded\u001b[39m\u001b[38;5;124m'\u001b[39m)\n\u001b[1;32m     19\u001b[0m block_all_navigation_and_requests(page)\n\u001b[0;32m---> 20\u001b[0m text_content \u001b[38;5;241m=\u001b[39m (\u001b[38;5;28;01mawait\u001b[39;00m page\u001b[38;5;241m.\u001b[39mevaluate(\u001b[38;5;124m\"\u001b[39m\u001b[38;5;124mdocument.body.innerText\u001b[39m\u001b[38;5;124m\"\u001b[39m) \u001b[38;5;129;01mor\u001b[39;00m \u001b[38;5;124m'\u001b[39m\u001b[38;5;124m'\u001b[39m)\u001b[38;5;241m.\u001b[39mlower()\n\u001b[1;32m     21\u001b[0m \u001b[38;5;28mprint\u001b[39m(text_content), \u001b[38;5;28;01mawait\u001b[39;00m page\u001b[38;5;241m.\u001b[39mevaluate(\u001b[38;5;124m\"\u001b[39m\u001b[38;5;124mlocation.href\u001b[39m\u001b[38;5;124m\"\u001b[39m)\n",
      "File \u001b[0;32m~/Documents/toknow.ai/.venv/lib/python3.10/site-packages/playwright/async_api/_generated.py:8491\u001b[0m, in \u001b[0;36mPage.evaluate\u001b[0;34m(self, expression, arg)\u001b[0m\n\u001b[1;32m   8438\u001b[0m \u001b[38;5;28;01masync\u001b[39;00m \u001b[38;5;28;01mdef\u001b[39;00m \u001b[38;5;21mevaluate\u001b[39m(\n\u001b[1;32m   8439\u001b[0m     \u001b[38;5;28mself\u001b[39m, expression: \u001b[38;5;28mstr\u001b[39m, arg: typing\u001b[38;5;241m.\u001b[39mOptional[typing\u001b[38;5;241m.\u001b[39mAny] \u001b[38;5;241m=\u001b[39m \u001b[38;5;28;01mNone\u001b[39;00m\n\u001b[1;32m   8440\u001b[0m ) \u001b[38;5;241m-\u001b[39m\u001b[38;5;241m>\u001b[39m typing\u001b[38;5;241m.\u001b[39mAny:\n\u001b[1;32m   8441\u001b[0m \u001b[38;5;250m    \u001b[39m\u001b[38;5;124;03m\"\"\"Page.evaluate\u001b[39;00m\n\u001b[1;32m   8442\u001b[0m \n\u001b[1;32m   8443\u001b[0m \u001b[38;5;124;03m    Returns the value of the `expression` invocation.\u001b[39;00m\n\u001b[0;32m   (...)\u001b[0m\n\u001b[1;32m   8487\u001b[0m \u001b[38;5;124;03m    Any\u001b[39;00m\n\u001b[1;32m   8488\u001b[0m \u001b[38;5;124;03m    \"\"\"\u001b[39;00m\n\u001b[1;32m   8490\u001b[0m     \u001b[38;5;28;01mreturn\u001b[39;00m mapping\u001b[38;5;241m.\u001b[39mfrom_maybe_impl(\n\u001b[0;32m-> 8491\u001b[0m         \u001b[38;5;28;01mawait\u001b[39;00m \u001b[38;5;28mself\u001b[39m\u001b[38;5;241m.\u001b[39m_impl_obj\u001b[38;5;241m.\u001b[39mevaluate(\n\u001b[1;32m   8492\u001b[0m             expression\u001b[38;5;241m=\u001b[39mexpression, arg\u001b[38;5;241m=\u001b[39mmapping\u001b[38;5;241m.\u001b[39mto_impl(arg)\n\u001b[1;32m   8493\u001b[0m         )\n\u001b[1;32m   8494\u001b[0m     )\n",
      "File \u001b[0;32m~/Documents/toknow.ai/.venv/lib/python3.10/site-packages/playwright/_impl/_page.py:469\u001b[0m, in \u001b[0;36mPage.evaluate\u001b[0;34m(self, expression, arg)\u001b[0m\n\u001b[1;32m    468\u001b[0m \u001b[38;5;28;01masync\u001b[39;00m \u001b[38;5;28;01mdef\u001b[39;00m \u001b[38;5;21mevaluate\u001b[39m(\u001b[38;5;28mself\u001b[39m, expression: \u001b[38;5;28mstr\u001b[39m, arg: Serializable \u001b[38;5;241m=\u001b[39m \u001b[38;5;28;01mNone\u001b[39;00m) \u001b[38;5;241m-\u001b[39m\u001b[38;5;241m>\u001b[39m Any:\n\u001b[0;32m--> 469\u001b[0m     \u001b[38;5;28;01mreturn\u001b[39;00m \u001b[38;5;28;01mawait\u001b[39;00m \u001b[38;5;28mself\u001b[39m\u001b[38;5;241m.\u001b[39m_main_frame\u001b[38;5;241m.\u001b[39mevaluate(expression, arg)\n",
      "File \u001b[0;32m~/Documents/toknow.ai/.venv/lib/python3.10/site-packages/playwright/_impl/_frame.py:278\u001b[0m, in \u001b[0;36mFrame.evaluate\u001b[0;34m(self, expression, arg)\u001b[0m\n\u001b[1;32m    276\u001b[0m \u001b[38;5;28;01masync\u001b[39;00m \u001b[38;5;28;01mdef\u001b[39;00m \u001b[38;5;21mevaluate\u001b[39m(\u001b[38;5;28mself\u001b[39m, expression: \u001b[38;5;28mstr\u001b[39m, arg: Serializable \u001b[38;5;241m=\u001b[39m \u001b[38;5;28;01mNone\u001b[39;00m) \u001b[38;5;241m-\u001b[39m\u001b[38;5;241m>\u001b[39m Any:\n\u001b[1;32m    277\u001b[0m     \u001b[38;5;28;01mreturn\u001b[39;00m parse_result(\n\u001b[0;32m--> 278\u001b[0m         \u001b[38;5;28;01mawait\u001b[39;00m \u001b[38;5;28mself\u001b[39m\u001b[38;5;241m.\u001b[39m_channel\u001b[38;5;241m.\u001b[39msend(\n\u001b[1;32m    279\u001b[0m             \u001b[38;5;124m\"\u001b[39m\u001b[38;5;124mevaluateExpression\u001b[39m\u001b[38;5;124m\"\u001b[39m,\n\u001b[1;32m    280\u001b[0m             \u001b[38;5;28mdict\u001b[39m(\n\u001b[1;32m    281\u001b[0m                 expression\u001b[38;5;241m=\u001b[39mexpression,\n\u001b[1;32m    282\u001b[0m                 arg\u001b[38;5;241m=\u001b[39mserialize_argument(arg),\n\u001b[1;32m    283\u001b[0m             ),\n\u001b[1;32m    284\u001b[0m         )\n\u001b[1;32m    285\u001b[0m     )\n",
      "File \u001b[0;32m~/Documents/toknow.ai/.venv/lib/python3.10/site-packages/playwright/_impl/_connection.py:59\u001b[0m, in \u001b[0;36mChannel.send\u001b[0;34m(self, method, params)\u001b[0m\n\u001b[1;32m     58\u001b[0m \u001b[38;5;28;01masync\u001b[39;00m \u001b[38;5;28;01mdef\u001b[39;00m \u001b[38;5;21msend\u001b[39m(\u001b[38;5;28mself\u001b[39m, method: \u001b[38;5;28mstr\u001b[39m, params: Dict \u001b[38;5;241m=\u001b[39m \u001b[38;5;28;01mNone\u001b[39;00m) \u001b[38;5;241m-\u001b[39m\u001b[38;5;241m>\u001b[39m Any:\n\u001b[0;32m---> 59\u001b[0m     \u001b[38;5;28;01mreturn\u001b[39;00m \u001b[38;5;28;01mawait\u001b[39;00m \u001b[38;5;28mself\u001b[39m\u001b[38;5;241m.\u001b[39m_connection\u001b[38;5;241m.\u001b[39mwrap_api_call(\n\u001b[1;32m     60\u001b[0m         \u001b[38;5;28;01mlambda\u001b[39;00m: \u001b[38;5;28mself\u001b[39m\u001b[38;5;241m.\u001b[39minner_send(method, params, \u001b[38;5;28;01mFalse\u001b[39;00m)\n\u001b[1;32m     61\u001b[0m     )\n",
      "File \u001b[0;32m~/Documents/toknow.ai/.venv/lib/python3.10/site-packages/playwright/_impl/_connection.py:520\u001b[0m, in \u001b[0;36mConnection.wrap_api_call\u001b[0;34m(self, cb, is_internal)\u001b[0m\n\u001b[1;32m    518\u001b[0m     \u001b[38;5;28;01mreturn\u001b[39;00m \u001b[38;5;28;01mawait\u001b[39;00m cb()\n\u001b[1;32m    519\u001b[0m \u001b[38;5;28;01mexcept\u001b[39;00m \u001b[38;5;167;01mException\u001b[39;00m \u001b[38;5;28;01mas\u001b[39;00m error:\n\u001b[0;32m--> 520\u001b[0m     \u001b[38;5;28;01mraise\u001b[39;00m rewrite_error(error, \u001b[38;5;124mf\u001b[39m\u001b[38;5;124m\"\u001b[39m\u001b[38;5;132;01m{\u001b[39;00mparsed_st[\u001b[38;5;124m'\u001b[39m\u001b[38;5;124mapiName\u001b[39m\u001b[38;5;124m'\u001b[39m]\u001b[38;5;132;01m}\u001b[39;00m\u001b[38;5;124m: \u001b[39m\u001b[38;5;132;01m{\u001b[39;00merror\u001b[38;5;132;01m}\u001b[39;00m\u001b[38;5;124m\"\u001b[39m) \u001b[38;5;28;01mfrom\u001b[39;00m \u001b[38;5;28;01mNone\u001b[39;00m\n\u001b[1;32m    521\u001b[0m \u001b[38;5;28;01mfinally\u001b[39;00m:\n\u001b[1;32m    522\u001b[0m     \u001b[38;5;28mself\u001b[39m\u001b[38;5;241m.\u001b[39m_api_zone\u001b[38;5;241m.\u001b[39mset(\u001b[38;5;28;01mNone\u001b[39;00m)\n",
      "\u001b[0;31mError\u001b[0m: Page.evaluate: Execution context was destroyed, most likely because of a navigation"
     ]
    }
   ],
   "source": [
    "def block_all_navigation_and_requests(page):\n",
    "    # Block all subsequent navigations\n",
    "    page.route(\"**/*\", lambda route: route.abort())\n",
    "    \n",
    "    # Optionally, prevent JavaScript-triggered navigation\n",
    "    page.add_init_script(\"\"\"\n",
    "        history.pushState = function() {};\n",
    "        history.replaceState = function() {};\n",
    "        window.addEventListener('popstate', function(e) {\n",
    "            e.preventDefault();\n",
    "            e.stopPropagation();\n",
    "        }, true);\n",
    "    \"\"\")\n",
    "\n",
    "page, close = await get_browser_page_async()\n",
    "await page.goto(\n",
    "    'https://linkedin.com/in/irjfiejgpeigjiergijergerg/', \n",
    "    wait_until = 'domcontentloaded')\n",
    "block_all_navigation_and_requests(page)\n",
    "text_content = (await page.evaluate(\"document.body.innerText\") or '').lower()\n",
    "print(text_content), await page.evaluate(\"location.href\")"
   ]
  },
  {
   "cell_type": "code",
   "execution_count": 19,
   "metadata": {},
   "outputs": [
    {
     "data": {
      "text/plain": [
       "'https://www.linkedin.com/authwall?trk=gf&trkInfo=AQHj7AwuO6EKKAAAAZOMu8BY3iorSrbJNgKf1WxezDdif-WqG8bIU_wiJ4VA8w6JnMB3DEUuwYP3eguJDTEDpNehB7hnZRbojgUrzV3AGstroupN8b9GDzmYvMeC6jBk_Z4nMFM=&original_referer=&sessionRedirect=https%3A%2F%2Fwww.linkedin.com%2Fin%2Firjfiejgpeigjiergijergerg%2F'"
      ]
     },
     "execution_count": 19,
     "metadata": {},
     "output_type": "execute_result"
    }
   ],
   "source": [
    "await page.evaluate(\"location.href\")"
   ]
  }
 ],
 "metadata": {
  "kernelspec": {
   "display_name": ".venv",
   "language": "python",
   "name": "python3"
  },
  "language_info": {
   "codemirror_mode": {
    "name": "ipython",
    "version": 3
   },
   "file_extension": ".py",
   "mimetype": "text/x-python",
   "name": "python",
   "nbconvert_exporter": "python",
   "pygments_lexer": "ipython3",
   "version": "3.10.12"
  }
 },
 "nbformat": 4,
 "nbformat_minor": 2
}
