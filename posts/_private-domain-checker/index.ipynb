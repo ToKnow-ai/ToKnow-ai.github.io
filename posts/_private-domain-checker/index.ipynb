{
 "cells": [
  {
   "cell_type": "code",
   "execution_count": 1,
   "metadata": {},
   "outputs": [],
   "source": [
    "import sys\n",
    "import os\n",
    "\n",
    "# Add root directory as python path\n",
    "root_dir = os.path.abspath(\"private-domain-checker\")\n",
    "sys.path.append(root_dir)\n",
    "\n",
    "%reload_ext autoreload\n",
    "%autoreload 2\n",
    "\n",
    "from app import check_domain"
   ]
  },
  {
   "cell_type": "code",
   "execution_count": 2,
   "metadata": {},
   "outputs": [
    {
     "data": {
      "text/plain": [
       "{'domain': 'examplerhccvu.ly',\n",
       " 'available': False,\n",
       " 'method': 'Unsupported TLD, try at https://reg.ly/ly-domain/',\n",
       " 'logs': []}"
      ]
     },
     "execution_count": 2,
     "metadata": {},
     "output_type": "execute_result"
    }
   ],
   "source": [
    "check_domain(\"examplerhccvu.ly\")"
   ]
  },
  {
   "cell_type": "code",
   "execution_count": 3,
   "metadata": {},
   "outputs": [
    {
     "data": {
      "text/plain": [
       "{'domain': 'examplerhccvu.cn',\n",
       " 'method': 'Checked via WHOIS:whois.cnnic.cn',\n",
       " 'available': True,\n",
       " 'logs': ['dns_is_available:Exception:5',\n",
       "  'dns_is_available:Exception:3',\n",
       "  'dns_is_available:Exception:6',\n",
       "  'dns_is_available:Exception:5',\n",
       "  'dns_is_available:Exception:3',\n",
       "  'get_whois_server:no RDAP']}"
      ]
     },
     "execution_count": 3,
     "metadata": {},
     "output_type": "execute_result"
    }
   ],
   "source": [
    "check_domain(\"examplerhccvu.cn\")"
   ]
  },
  {
   "cell_type": "code",
   "execution_count": 10,
   "metadata": {},
   "outputs": [
    {
     "data": {
      "text/plain": [
       "{'domain': 'examplerhccvu.com',\n",
       " 'method': 'Checked via RDAP:https://rdap.verisign.com/com/v1/',\n",
       " 'available': True,\n",
       " 'logs': ['dns_is_available:ExceptionThe DNS query name does not exist: examplerhccvu.com.',\n",
       "  'dns_is_available:ExceptionThe DNS query name does not exist: examplerhccvu.com.',\n",
       "  'dns_is_available:ExceptionThe DNS query name does not exist: examplerhccvu.com.',\n",
       "  'dns_is_available:ExceptionThe DNS query name does not exist: examplerhccvu.com.',\n",
       "  'dns_is_available:ExceptionThe DNS query name does not exist: examplerhccvu.com.']}"
      ]
     },
     "execution_count": 10,
     "metadata": {},
     "output_type": "execute_result"
    }
   ],
   "source": [
    "check_domain(\"examplerhccvu.com\")"
   ]
  },
  {
   "cell_type": "code",
   "execution_count": 7,
   "metadata": {},
   "outputs": [
    {
     "data": {
      "text/plain": [
       "{'domain': 'example.com',\n",
       " 'method': 'Checked via DNS:NS',\n",
       " 'available': False,\n",
       " 'logs': []}"
      ]
     },
     "execution_count": 7,
     "metadata": {},
     "output_type": "execute_result"
    }
   ],
   "source": [
    "check_domain(\"example.com\")"
   ]
  },
  {
   "cell_type": "markdown",
   "metadata": {},
   "source": [
    "# Protecting Against Domain Front-Running: A Technical and Experiential Analysis\n",
    "## Understanding and Mitigating Domain Registration Interception\n",
    "\n",
    "**Keywords**: domain front-running, WHOIS privacy, RDAP, domain registrars, cybersquatting, domain privacy, DNS security\n",
    "\n",
    "### Abstract\n",
    "This research article examines the practice of domain front-running by registrars and presents a transparent, open-source solution for private domain availability checking. Drawing from personal experiences, community reports, and technical analysis, we explore how registrars potentially monitor domain searches and preemptively register domains of interest, and propose methods to conduct domain searches more privately.\n",
    "\n",
    "### Introduction\n",
    "Domain front-running, a controversial practice where domain registrars or affiliated parties monitor domain searches and preemptively register searched domains, has been a persistent concern in the domain name industry. While officially denied by major registrars, numerous personal experiences and community reports suggest the practice continues to affect domain name seekers.\n",
    "\n",
    "### Personal Experiences with Front-Running\n",
    "\n",
    "#### Direct Observations\n",
    "In my personal experience, several domains searched on major registrar platforms like Namecheap and GoDaddy became unavailable shortly after the initial search. Most notably, a domain related to tax services was registered within minutes of my search, suggesting automated monitoring of search queries.\n",
    "\n",
    "#### Community Evidence\n",
    "Similar experiences have been reported across various platforms:\n",
    "- Reddit's r/webdev and r/domains communities frequently discuss suspicious registration patterns\n",
    "- Numerous posts on WebHostingTalk forums document similar experiences\n",
    "- Technical forums like StackExchange feature discussions about mitigation strategies\n",
    "\n",
    "### Technical Analysis of Domain Checking Methods\n",
    "\n",
    "#### WHOIS vs. RDAP: A Comparative Analysis\n",
    "\n",
    "1. WHOIS Protocol\n",
    "   - Introduced: 1982\n",
    "   - Status: Legacy but still widely used\n",
    "   - Privacy Features: Limited\n",
    "   - Standardization: Varies by registrar\n",
    "   - Accuracy: Can be inconsistent\n",
    "   - Advantages:\n",
    "     * Widespread support\n",
    "     * Simple protocol\n",
    "   - Disadvantages:\n",
    "     * No standardized format\n",
    "     * Limited privacy protections\n",
    "     * Rate limiting issues\n",
    "\n",
    "2. RDAP (Registration Data Access Protocol)\n",
    "   - Introduced: 2015\n",
    "   - Status: Modern replacement for WHOIS\n",
    "   - Privacy Features: Built-in\n",
    "   - Standardization: JSON-based, consistent\n",
    "   - Accuracy: Generally more reliable\n",
    "   - Advantages:\n",
    "     * Standardized JSON responses\n",
    "     * Better privacy controls\n",
    "     * More efficient queries\n",
    "   - Disadvantages:\n",
    "     * Not yet universally adopted\n",
    "     * Requires more complex implementation\n",
    "\n",
    "### Best Practices for Private Domain Searches\n",
    "\n",
    "1. Technical Measures\n",
    "   - Use VPN/Tor for queries\n",
    "   - Rotate between different DNS resolvers\n",
    "   - Mix query methods (WHOIS, RDAP, DNS)\n",
    "   - Implement reasonable delays between searches\n",
    "   - Use local caching to reduce direct queries\n",
    "\n",
    "2. Operational Practices\n",
    "   - Batch check domains instead of individual searches\n",
    "   - Use multiple checking services\n",
    "   - Avoid major registrar platforms for initial checks\n",
    "   - Consider using command-line tools over web interfaces\n",
    "   - Register important domains immediately after checking\n",
    "\n",
    "### Industry Compliance and Regulations\n",
    "\n",
    "1. ICANN Policies\n",
    "   - Registrar Accreditation Agreement (RAA)\n",
    "   - WHOIS accuracy requirements\n",
    "   - Data privacy requirements\n",
    "   - Abuse reporting procedures\n",
    "\n",
    "2. Regional Regulations\n",
    "   - GDPR impact on domain privacy\n",
    "   - Regional data protection laws\n",
    "   - Consumer protection regulations\n",
    "\n",
    "### Scientific Research and Studies\n",
    "\n",
    "1. Academic Papers\n",
    "   - \"Domain Name Front Running\" (IEEE Security & Privacy, 2008)\n",
    "   - Various ICANN studies on domain registration patterns\n",
    "   - Research on DNS privacy and security\n",
    "\n",
    "2. Industry Reports\n",
    "   - ICANN compliance reports\n",
    "   - Verisign Domain Name Industry Briefs\n",
    "   - Independent security researcher findings\n",
    "\n",
    "### Transparent Solution\n",
    "\n",
    "Our tool, hosted on Hugging Face and with publicly available source code, provides a transparent alternative to registrar-based domain checks. Key features:\n",
    "- No affiliation with registrars\n",
    "- Open-source code for transparency\n",
    "- Multiple checking methods\n",
    "- Privacy-focused design\n",
    "- Community-driven development\n",
    "\n",
    "### Conclusion\n",
    "While domain front-running remains difficult to prove conclusively, the abundance of user experiences and technical evidence suggests the need for private domain checking solutions. Our open-source tool provides one approach to mitigating these risks, while industry-wide changes and better regulations may be needed for long-term solutions.\n",
    "\n",
    "### Recommendations for Future Research\n",
    "1. Systematic study of domain registration patterns\n",
    "2. Development of standardized testing methodologies\n",
    "3. Creation of centralized reporting mechanisms\n",
    "4. Investigation of machine learning detection methods\n",
    "5. Analysis of registration timing patterns\n",
    "\n",
    "### References\n",
    "[List of academic papers, industry reports, and other citations to be added]"
   ]
  },
  {
   "cell_type": "markdown",
   "metadata": {},
   "source": [
    "Some domaind not supported: eg; .ly\n",
    "\n",
    "whois.cnnic.cn is timming out in huggingface: https://www.chinatalk.media/p/hugging-face-blocked-self-castrating"
   ]
  }
 ],
 "metadata": {
  "kernelspec": {
   "display_name": ".venv",
   "language": "python",
   "name": "python3"
  },
  "language_info": {
   "codemirror_mode": {
    "name": "ipython",
    "version": 3
   },
   "file_extension": ".py",
   "mimetype": "text/x-python",
   "name": "python",
   "nbconvert_exporter": "python",
   "pygments_lexer": "ipython3",
   "version": "3.10.12"
  }
 },
 "nbformat": 4,
 "nbformat_minor": 2
}
