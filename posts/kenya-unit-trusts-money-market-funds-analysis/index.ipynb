{
 "cells": [
  {
   "cell_type": "markdown",
   "metadata": {},
   "source": [
    "<!-- metadata: title -->\n",
    "# Kenya Unit Trusts: Money Market Fund(KES) Analysis\n",
    "\n",
    "<!-- metadata: subtitle -->\n",
    "> ### Can Kenyan Money Market Funds gurantee capital preservation? "
   ]
  },
  {
   "cell_type": "markdown",
   "metadata": {},
   "source": [
    "<!-- metadata: date, type=date -->\n",
    "**Published Date:**\n",
    "2024-03-03\n",
    "\n",
    "<!-- metadata: date-modified, type=date-->\n",
    "**Date Modified:**\n",
    "2024-05-05\n",
    "\n",
    "<!-- metadata: keywords, type=array -->\n",
    "**Keywords:**\n",
    "  - money\n",
    "  - kenya\n",
    "  - unit-trusts\n",
    "  - money-market-funds\n",
    "  - MMF\n",
    "\n",
    "<!-- metadata: categories, type=array -->\n",
    "**Categories:**\n",
    "  - kenya unit trusts\n",
    "  - data science\n",
    "  - money"
   ]
  },
  {
   "cell_type": "markdown",
   "metadata": {},
   "source": [
    "## Description\n",
    "\n",
    "<!-- metadata: description -->\n",
    "Money market is a form of unit trust, where fund managers collect money from the group of investors, and invest on their behave. This reduces the overhead of managing your portfio and significantly reduces your risk. Let's statistically and critically analyze Money market funds in Kenya in general using publicly available information and hopefully paint a clearer picture of the state of unit trusts in Kenya. \n",
    "\n",
    "- What are the risk factors that exist? \n",
    "- What is the performance of money market funds?"
   ]
  },
  {
   "cell_type": "markdown",
   "metadata": {},
   "source": [
    "## Abstract\n",
    "\n",
    "<!-- metadata: abstract -->\n",
    "Lorem Ipsum is simply dummy text of the printing and typesetting industry. Lorem Ipsum has been the industry's standard dummy text ever since the 1500s, when an unknown printer took a galley of type and scrambled it to make a type specimen book. It has survived not only five centuries, but also the leap into electronic typesetting, remaining essentially unchanged. It was popularised in the 1960s with the release of Letraset sheets containing Lorem Ipsum passages, and more recently with desktop publishing software like Aldus PageMaker including versions of Lorem Ipsum."
   ]
  },
  {
   "cell_type": "markdown",
   "metadata": {},
   "source": [
    "## Introduction"
   ]
  },
  {
   "cell_type": "markdown",
   "metadata": {},
   "source": [
    "In Kenya, a good number of the population have a bank account, even if not the traditional bank account. It is estimated that by year 2029, 99.9% of Kenyans will be banked, ^[Population share with banking account in Kenya 2014-2029\n",
    "Published by J. Degenhard, Jan 30, 2024. <https://www.statista.com/forecasts/1149636/bank-account-penetration-forecast-in-kenya>]. With increase in financial access, financial literacy and regular individuals will want to venture in the teritory of finantial assets huunting for higher interest rates. One of the most attractive entry level high-yield financial asset is the unit trust, specifically the money market funds. Its easy to start, deposit, withdraw, and its interest is daily compunding, while offering higher interest than any bank.\n",
    "\n",
    "Unit trusts are required to publish their daily and effective annual yields on the daily newspapers, and thus an investor can therefore always confirm the value of their investment as well as benchmark the performance against other unit trusts. It is also mandatory for the scheme to issue monthly statements showing an investor’s investments position.^[Investing in Unit Trust Funds; 19 May, 2019; see <https://cytonn.com/topicals/investing-in-unit-1>]^[Publishing daily the price of units in at least two daily newspapers of national circulation,\n",
    "in English. <https://cma.or.ke/wp-content/uploads/2023/03/CMA-Handbook-2021.pdf> ]\n",
    "\n",
    "Unit Trust is required to have at least three trustees, ^[sshttps://cma.or.ke/wp-content/uploads/2023/03/CMA-Handbook-2021.pdf]\n",
    "\n",
    "^[https://www.google.com/search?q=unit+trusts+are+mandated+to+inform+customers+of+yileds+CMA&sca_esv=d7f5b94d2e0e1e85&sca_upv=1&rlz=1C5GCEM_en&sxsrf=ADLYWIIy4tzw-iKWAAcD-6cN8riYTbVjdA%3A1720446046799&ei=XuyLZqa8MLSOxc8Pw42giA4&ved=0ahUKEwim4-X7yJeHAxU0R_EDHcMGCOEQ4dUDCA8&uact=5&oq=unit+trusts+are+mandated+to+inform+customers+of+yileds+CMA&gs_lp=Egxnd3Mtd2l6LXNlcnAiOnVuaXQgdHJ1c3RzIGFyZSBtYW5kYXRlZCB0byBpbmZvcm0gY3VzdG9tZXJzIG9mIHlpbGVkcyBDTUEyBxAhGKABGAoyBxAhGKABGApI1RFQvwFYtw5wAXgBkAEAmAHeAqABlQmqAQUyLTMuMbgBA8gBAPgBAZgCBaACownCAgoQABiwAxjWBBhHwgIFECEYnwWYAwDiAwUSATEgQIgGAZAGCJIHBzEuMC4zLjGgB5cW&sclient=gws-wiz-serpsssss]\n",
    "\n"
   ]
  },
  {
   "cell_type": "markdown",
   "metadata": {},
   "source": [
    "## Data\n",
    "\n",
    "Despite the requirements to have the daily yield published in two national newspapers, it is fairly tasking to find a good data source. Also, since there dont have to publish the newspapers that have digital alternatives, it also becomes difficult to capture all yileds without visiting the library and grabbing the actual physical copies, which makes this task very expesnsive. Again, getting historical data is also not free, most old newspaper records are sold, adding up the cost. Fortunately, since 2014, Cytonn has been doing free makket research, and publishing them at <https://cytonnreport.com/>. A few fund managers publish their daily yields at their websites, but without historical data; just the current day's yield, which effectively makes this data unuseful for analysis.\n",
    "\n",
    "We settled on crawling and analysing the massive cytton research data that is publicly available since 2014. With over 600 reports with, crawl each of the reports in a way that doesnt break their systems, or deny others the service, extract the table, aggregate the table results and analyze the tables. We checked with Cytonn's terms of service. users are allowed to use their copyright data in accordance with fair use/dealing, ^[Reproduction is prohibited other than in accordance with the copyright notice, which forms part of these terms and conditions. <https://cytonn.com/terms-of-use> ]. To allow others to reproduce this analysys, we will save a copy of the crawled data for future researchers and data enthusisists."
   ]
  },
  {
   "cell_type": "markdown",
   "metadata": {},
   "source": [
    "## Analysis"
   ]
  },
  {
   "cell_type": "markdown",
   "metadata": {},
   "source": [
    "### Imports"
   ]
  },
  {
   "cell_type": "code",
   "execution_count": null,
   "metadata": {},
   "outputs": [],
   "source": [
    "import sys\n",
    "import os\n",
    "\n",
    "# Add parent directory to sys.path\n",
    "root_dir = os.path.abspath(os.path.join(os.getcwd(), '../..'))\n",
    "sys.path.append(root_dir)\n",
    "\n",
    "%load_ext autoreload\n",
    "%autoreload 2"
   ]
  },
  {
   "cell_type": "code",
   "execution_count": null,
   "metadata": {},
   "outputs": [],
   "source": [
    "import pandas as pd\n",
    "from pyppeteer.page import Page\n",
    "import asyncio\n",
    "import json\n",
    "import io\n",
    "from bs4 import BeautifulSoup, Tag\n",
    "from urllib.request import urlopen\n",
    "from pyppeteer.page import Request\n",
    "from tqdm import tqdm\n",
    "import re\n",
    "import webbrowser\n",
    "from typing import Callable\n",
    "from copy import copy\n",
    "from datetime import datetime, timedelta\n",
    "from python_utils.web_screenshot import web_screenshot_async\n",
    "from python_utils.get_browser import get_browser_page_async"
   ]
  },
  {
   "cell_type": "markdown",
   "metadata": {},
   "source": [
    "### Fund Managers"
   ]
  },
  {
   "cell_type": "markdown",
   "metadata": {},
   "source": [
    "Let's start of by listing all the certified fund mangers in Kenya by CMA.^[Approved Fund Managers by CMA. <https://www.cma.or.ke/licensees-market-players/>]"
   ]
  },
  {
   "cell_type": "markdown",
   "metadata": {},
   "source": [
    "Lets start with a screenshot of the webpage."
   ]
  },
  {
   "cell_type": "code",
   "execution_count": null,
   "metadata": {},
   "outputs": [],
   "source": [
    "async def action(page: Page):\n",
    "    await page.waitForSelector('ul.module-accordion')\n",
    "    elements = await page.querySelectorAll('li .accordion-title')\n",
    "    # Iterate through the elements to find the one containing 'FUND MANAGERS'\n",
    "    for element in elements:\n",
    "        text_content = await page.evaluate('(element) => element.textContent', element)\n",
    "        if 'FUND MANAGERS' in text_content:\n",
    "            # Click on the target element\n",
    "            await element.click()\n",
    "            break\n",
    "    else:\n",
    "        print('Element not found')\n",
    "    await page.waitForSelector('li.current.builder-accordion-active')\n",
    "    await asyncio.sleep(1)\n",
    "\n",
    "await web_screenshot_async(\n",
    "    \"https://www.cma.or.ke/licensees-market-players/\", \n",
    "    action = action,\n",
    "    width=1500)"
   ]
  },
  {
   "cell_type": "markdown",
   "metadata": {},
   "source": [
    "Let's query the \"Fund Managers\" table."
   ]
  },
  {
   "cell_type": "code",
   "execution_count": null,
   "metadata": {},
   "outputs": [],
   "source": [
    "url_response = urlopen(\"https://www.cma.or.ke/licensees-market-players/\").read()\n",
    "fund_managers_html_table = BeautifulSoup(url_response, \"html.parser\")\\\n",
    "    .find('span', string=\"FUND MANAGERS\")\\\n",
    "        .parent\\\n",
    "            .parent\\\n",
    "                .parent\\\n",
    "                    .find('table')\n",
    "\n",
    "fund_managers_df = pd.read_html(io.StringIO(str(fund_managers_html_table)))[0].dropna()\n",
    "fund_managers_df"
   ]
  },
  {
   "cell_type": "markdown",
   "metadata": {},
   "source": [
    "The address of `African Alliance Kenya Asset Management Limited` doesnt seem to be valid, lets populate it with `P.O. Box 27639 Nairobi 00506`"
   ]
  },
  {
   "cell_type": "code",
   "execution_count": null,
   "metadata": {},
   "outputs": [],
   "source": [
    "fund_managers_df.loc[fund_managers_df['LICENCE NO.'] == 165, 'ADDRESS'] = 'P.O. Box 27639 Nairobi 00506'\n",
    "fund_managers_df"
   ]
  },
  {
   "cell_type": "markdown",
   "metadata": {},
   "source": [
    "### Add Columns"
   ]
  },
  {
   "cell_type": "markdown",
   "metadata": {},
   "source": [
    "- Location Coordinates (and google map)\n",
    "- Headquter location/address/country\n",
    "- Launch Date\n",
    "- Risk Profile\n",
    "- Trustee\n",
    "- Custodian\n",
    "- Auditors\n",
    "- Minimum Investment\n",
    "- Minimum Additional Investment\n",
    "- Initial Fee\n",
    "- Annual Management Fee\n",
    "- Distribution\n",
    "- Asset Under Management/Market share\n",
    "- Advertised Rate [Gross, Net]\n",
    "- Duration to withdraw\n",
    "- Security - joint account verification/validation\n",
    "- has online portal\n",
    "- Withdraw chargessssss\n",
    "- Contacts\n",
    "- where are the daily yileds published!\n",
    "\n",
    "https://cytonnreport.com/research/cmmf-fact-sheet-june-2021\n",
    "\n",
    "https://cytonnreport.com/research/cmmf-fact-sheet-may-2021\n",
    "\n",
    "https://cytonnreport.com/research/cmmf-fact-sheet-april-2021\n",
    "\n",
    "https://ke.cicinsurancegroup.com/mmf/\n",
    "\n",
    "https://ke.britam.com/save-and-invest/business/invest/unit-trust-funds/unit-trusts"
   ]
  },
  {
   "cell_type": "markdown",
   "metadata": {},
   "source": [
    "### Getting the Perormance"
   ]
  },
  {
   "cell_type": "markdown",
   "metadata": {},
   "source": [
    "According to Capital Markets Authority, fund managers are required to publish their yields daily in a reputable newspaper. What this means accessing hostorical records requires a significant investment in time to collect, aggregate and validate the published yields. That not withstanding, two very important questions become obvious:\n",
    " - what is a reputbale newspaper? \n",
    " - what yield do they publish, gross or net?\n",
    " - What picture does an anualized daily rate paint?\n",
    " - Is interest deffered or carried forward (reporting a convervative figure and retaining the rest for rainy day to preserve a picture of good performance)?\n",
    "\n",
    "Luckily, one of the fund managers, one that has recently found its self in the courts far more often than it would have wished, does exelent investment and market research. It has a good-enough aggregate of fund managers and their performance weekly and monthly. We are going to crawl their data for analysis, and analyze it for manipulation.If the data comeout clean, we will analyze the trend of fund managers using the data."
   ]
  },
  {
   "cell_type": "markdown",
   "metadata": {},
   "source": [
    "### Cytton Research\n",
    "\n",
    "We are going to crawl the data from cytonn research, https://cytonn.com/researches/categories/1"
   ]
  },
  {
   "cell_type": "markdown",
   "metadata": {},
   "source": [
    "#### screen shots"
   ]
  },
  {
   "cell_type": "markdown",
   "metadata": {},
   "source": [
    "Lests start with a view of weekly reports"
   ]
  },
  {
   "cell_type": "code",
   "execution_count": null,
   "metadata": {},
   "outputs": [],
   "source": [
    "await web_screenshot_async(\n",
    "    \"https://cytonn.com/researches/categories/1\",\n",
    "    width=1000)"
   ]
  },
  {
   "cell_type": "markdown",
   "metadata": {},
   "source": [
    "Here is the latest report"
   ]
  },
  {
   "cell_type": "code",
   "execution_count": null,
   "metadata": {},
   "outputs": [],
   "source": [
    "await web_screenshot_async(\n",
    "    \"https://cytonnreport.com/research/cytonn-h12024-markets\",\n",
    "    width=1000)"
   ]
  },
  {
   "cell_type": "markdown",
   "metadata": {},
   "source": [
    "Instead of directly crawling HTML from https://cytonn.com/researches/ page, we can instead crawl JSON from https://cytonnreport.com/research page, using the link https://cytonnreport.com/get/allreports."
   ]
  },
  {
   "cell_type": "code",
   "execution_count": null,
   "metadata": {},
   "outputs": [],
   "source": [
    "async def get_all_cytonn_reports(per_page_count: int = 10):\n",
    "    page, browser = await get_browser_page_async()\n",
    "    reports_url = \"https://cytonnreport.com/get/allreports\"\n",
    "    reports_headers: dict = None\n",
    "    reports_method: str = None\n",
    "    async def catch_request(request: Request):\n",
    "        nonlocal reports_headers\n",
    "        nonlocal reports_method\n",
    "        if request.url == reports_url:\n",
    "            reports_headers = request.headers.copy()\n",
    "            reports_method = request.method\n",
    "            await request.continue_()\n",
    "        else:\n",
    "            await request.continue_()\n",
    "    async def get_cytonn_reports(current_page: int):\n",
    "        js_fetch_fn = f'''\n",
    "            async () => {{\n",
    "                const response = await fetch(\n",
    "                    \"{reports_url}\", \n",
    "                    {{\n",
    "                        \"headers\": {json.dumps(reports_headers)},\n",
    "                        \"referrer\": \"https://cytonnreport.com/research\",\n",
    "                        \"referrerPolicy\": \"no-referrer-when-downgrade\",\n",
    "                        \"body\": {json.dumps(json.dumps(\n",
    "                            {\n",
    "                                \"pagination\": {\n",
    "                                    \"per_page\": per_page_count, \n",
    "                                    \"current_page\": current_page\n",
    "                                }\n",
    "                            }))},\n",
    "                        \"method\": \"{reports_method}\",\n",
    "                        \"mode\": \"cors\",\n",
    "                        \"credentials\": \"include\"\n",
    "                    }});\n",
    "                const json = await response.json();\n",
    "                return json;\n",
    "            }}\n",
    "        '''\n",
    "        response_json = await page.evaluate(js_fetch_fn)\n",
    "        return response_json\n",
    "    # Enable request interception\n",
    "    await page.setRequestInterception(True)\n",
    "    # Attach the request handler\n",
    "    page.on('request', lambda request: asyncio.ensure_future(catch_request(request)))\n",
    "    # Navigate to the desired URL\n",
    "    await page.goto(\"https://cytonnreport.com/research\")\n",
    "    while not reports_headers:\n",
    "        await asyncio.sleep(1)\n",
    "    current_page = 1\n",
    "    all_reports = []\n",
    "    pbar: tqdm = None\n",
    "    while True:\n",
    "        reports_response = await get_cytonn_reports(current_page)\n",
    "        reports = reports_response['data'] if reports_response else []\n",
    "        if len(reports) > 0:\n",
    "            total = reports_response['total']\n",
    "            pbar = pbar or tqdm(total=total)\n",
    "            pbar.update(len(reports))\n",
    "            all_reports.extend(reports)\n",
    "            last_page = reports_response['last_page']\n",
    "            if last_page == current_page:\n",
    "                break\n",
    "            current_page += 1\n",
    "        else:\n",
    "            break\n",
    "    await browser.close()\n",
    "    if pbar:\n",
    "        pbar.close()\n",
    "    return all_reports\n",
    "\n",
    "all_cytonn_reports = await get_all_cytonn_reports()\n",
    "print(f'There are {len(all_cytonn_reports)} reports')"
   ]
  },
  {
   "cell_type": "code",
   "execution_count": null,
   "metadata": {},
   "outputs": [],
   "source": [
    "# https://charanhu.medium.com/converting-pandas-dataframe-into-a-dataset-and-pushing-to-hugging-face-146e2ccac38d\n",
    "all_cytonn_reports_df = pd.DataFrame(all_cytonn_reports)\n",
    "# with pd.option_context(\n",
    "#   'display.max_columns', None, \n",
    "#   'display.max_colwidth', 100):\n",
    "#   display(all_cytonn_reports_df)\n",
    "all_cytonn_reports_df"
   ]
  },
  {
   "cell_type": "code",
   "execution_count": null,
   "metadata": {},
   "outputs": [],
   "source": [
    "all_cytonn_reports_df.iloc[0]"
   ]
  },
  {
   "cell_type": "code",
   "execution_count": null,
   "metadata": {},
   "outputs": [],
   "source": [
    "all_cytonn_reports_df.columns"
   ]
  },
  {
   "cell_type": "code",
   "execution_count": null,
   "metadata": {},
   "outputs": [],
   "source": [
    "def parse_and_expand_date(date_string: str):\n",
    "    pattern = r\"^(FY|Q[1-4]|H[1-2])'(\\d{4})$\"\n",
    "    match = re.match(pattern, date_string, re.IGNORECASE)\n",
    "    if not match:\n",
    "        return None\n",
    "    period, year = match.groups()\n",
    "    year = int(year)\n",
    "    if period.upper() == 'FY':\n",
    "        start_date = datetime(year, 1, 1)\n",
    "        end_date = datetime(year, 12, 31)\n",
    "    elif period.upper().startswith('Q'):\n",
    "        quarter = int(period[1])\n",
    "        start_month = (quarter - 1) * 3 + 1\n",
    "        start_date = datetime(year, start_month, 1)\n",
    "        end_date = start_date.replace(month=start_month + 2) + timedelta(days=32)\n",
    "        end_date = end_date.replace(day=1) - timedelta(days=1)\n",
    "    elif period.upper().startswith('H'):\n",
    "        half = int(period[1])\n",
    "        start_month = (half - 1) * 6 + 1\n",
    "        start_date = datetime(year, start_month, 1)\n",
    "        end_date = start_date.replace(month=start_month + 5) + timedelta(days=32)\n",
    "        end_date = end_date.replace(day=1) - timedelta(days=1)\n",
    "    return (start_date.strftime('%Y-%m-%d'), end_date.strftime('%Y-%m-%d'))\n",
    "\n",
    "# Test the function\n",
    "test_dates = [\"FY'2019\", \"Q1'2020\", \"H1'2019\", \"fy'2018\", \"q3'2021\", \"h2'2022\"]\n",
    "\n",
    "for date in test_dates:\n",
    "    result = parse_and_expand_date(date)\n",
    "    if result:\n",
    "        print(f\"{date}: {result}\")\n",
    "    else:\n",
    "        print(f\"{date}: Invalid format\")"
   ]
  },
  {
   "cell_type": "code",
   "execution_count": null,
   "metadata": {},
   "outputs": [],
   "source": [
    "fund_manager_names = fund_managers_df.get('NAME').values.tolist()\n",
    "class RecordInfo:\n",
    "    TYPE_AUM: str = 'AUM' # 'AUM' - Assets Under Management\n",
    "    TYPE_EAR: str = 'EAR' # 'EAR' - Effective Annual Rate\n",
    "    def __init__(self, record_type: str, record_date: str, record_value: str, fund_manager: str):\n",
    "        self.record_type = RecordInfo.__validate_record_type(record_type)\n",
    "        self.record_date = parse_and_expand_date(record_date) or datetime.strptime(record_date, \"%Y-%m-%d\") or None\n",
    "        self.record_value = RecordInfo.__validate_record_value(record_value)\n",
    "        self.fund_manager = RecordInfo.__validate_fund_manager(fund_manager)\n",
    "    def is_valid(self) -> bool:\n",
    "        return bool(self.record_type and self.record_date and self.record_value and self.fund_manager)\n",
    "    @staticmethod\n",
    "    def __validate_fund_manager(value: str) -> str|None:\n",
    "        first_name = lambda i: str(i).lower().strip().split(' ')[0]\n",
    "        names = [i for i in fund_manager_names if first_name(i) in str(value).lower()]\n",
    "        if len(names) == 1:\n",
    "            return names[0]\n",
    "        if 'total' not in str(value or '').lower():\n",
    "            fund_manager_names.append(value)\n",
    "            return value\n",
    "        return None\n",
    "    @staticmethod\n",
    "    def __validate_record_value(value: str|float) -> str|None:\n",
    "        if type(value) == float:\n",
    "            return value\n",
    "        # remove percentage sign\n",
    "        value = value.rstrip('%')\n",
    "        # remove comma and white space\n",
    "        value = ''.join([i for i in value if i not in [' ', ',', '-']])\n",
    "        return float(value) if value else None\n",
    "    @staticmethod\n",
    "    def __validate_record_type(value: str) -> str|None:\n",
    "        value = value.upper()\n",
    "        return value if value in [RecordInfo.TYPE_AUM, RecordInfo.TYPE_EAR] else None\n",
    "\n",
    "table_columns_list: list[tuple[list[str], list[Callable[[pd.Series, dict], RecordInfo]]]] = [\n",
    "    (\n",
    "        ['Rank', 'Fund Manager', 'Effective Annual Rate'], \n",
    "        [\n",
    "            # https://cytonnreport.com/research/kenyas-fy2024-2025-budget\n",
    "            # https://cytonnreport.com/research/nairobi-metropolitan-area-serviced-apartments-report-2021\n",
    "            lambda row, record: RecordInfo(RecordInfo.TYPE_EAR, record['researchdate'], row['Effective Annual Rate'], row['Fund Manager'])\n",
    "        ]\n",
    "    ),\n",
    "    (\n",
    "        ['Rank', 'Fund Manager', 'Effective Annual'], \n",
    "        [\n",
    "            # https://cytonnreport.com/research/cytonn-monthly-may-2024\n",
    "            # https://cytonnreport.com/research/q12023-unit-trust-funds-performance-cytonn-monthly-july-2023\n",
    "            lambda row, record: RecordInfo(RecordInfo.TYPE_EAR, record['researchdate'], row['Effective Annual'], row['Fund Manager'])\n",
    "        ]\n",
    "    ),\n",
    "    (\n",
    "        ['Rank', 'Fund Manager', 'Daily Yield', 'Effective Annual Rate'], \n",
    "        [\n",
    "            # Effective Annual Rate is better than Daily Yield: https://cytonnreport.com/research/cytonn-monthly-october-2021\n",
    "            # https://cytonnreport.com/research/potential-effects-covid-19\n",
    "            lambda row, record: RecordInfo(RecordInfo.TYPE_EAR, record['researchdate'], row['Effective Annual Rate'], row['Fund Manager']),\n",
    "        ]\n",
    "    ),\n",
    "    (\n",
    "        ['no.', 'fund-managers', 'q1’2020-aum(kshs-mns)', 'q1’2020market-share', 'q2’2020-aum(kshs-mns)', 'q2’2020market-share', 'aum-growthq1’2020-–-q2’2020'], \n",
    "        [\n",
    "            # https://cytonnreport.com/research/unit-trust-funds-performance-q2-2020\n",
    "            lambda row, _: RecordInfo(RecordInfo.TYPE_AUM, 'q1’2020', row['q1’2020-aum(kshs-mns)'], row['fund-managers']),\n",
    "            lambda row, _: RecordInfo(RecordInfo.TYPE_AUM, 'q2’2020', row['q2’2020-aum(kshs-mns)'], row['fund-managers']),\n",
    "        ]\n",
    "    ),\n",
    "    (\n",
    "        ['no.', 'fund-managers', \"fy'2019-aum(kshs-mns)\", 'q1’2020-aum(kshs-mns)', \"aum-growth*fy'2019-–-q1’2020\"], \n",
    "        [\n",
    "            # https://cytonnreport.com/research/unit-trust-funds-perfomance-q1-2020-cytonn-weekly\n",
    "            lambda row, _: RecordInfo(RecordInfo.TYPE_AUM, \"fy'2019\", row[\"fy'2019-aum(kshs-mns)\"], row['fund-managers']),\n",
    "            lambda row, _: RecordInfo(RecordInfo.TYPE_AUM, \"q1’2020\", row['q1’2020-aum(kshs-mns)'], row['fund-managers']),\n",
    "        ]\n",
    "    ),\n",
    "    (\n",
    "        ['no.', 'fund-managers', \"fy'2018-aum-(kshs-mns)\", \"h1'2019-aum-(kshs-mns)\", \"aum-h1'2019-annualized-growth\"], \n",
    "        [\n",
    "            # https://cytonnreport.com/research/unit-trust-funds-performance\n",
    "            lambda row, _: RecordInfo(RecordInfo.TYPE_AUM, \"fy'2018\", row[\"fy'2018-aum-(kshs-mns)\"], row['fund-managers']),\n",
    "            lambda row, _: RecordInfo(RecordInfo.TYPE_AUM, \"h1'2019\", row[\"h1'2019-aum-(kshs-mns)\"], row['fund-managers']),\n",
    "        ]\n",
    "    ),\n",
    "    (\n",
    "        ['no.', 'money-market-fund', '2018-average-effective-annual-yield-p.a.'], \n",
    "        [\n",
    "            # https://cytonnreport.com/research/investing-in-unit\n",
    "            lambda row, record: RecordInfo(RecordInfo.TYPE_EAR, record['researchdate'], row['2018-average-effective-annual-yield-p.a.'], row['money-market-fund'])\n",
    "        ]\n",
    "    ),\n",
    "    (\n",
    "        ['no.', 'fund-managers', 'q2’2020-aum', 'q2’2020', 'q3’2020-aum', 'q3’2020', 'aum-growth'], \n",
    "        [\n",
    "            # https://cytonnreport.com/research/unit-trust-fund-performance-q3-1\n",
    "            lambda row, _: RecordInfo(RecordInfo.TYPE_AUM, \"Q2 2020\", row['q2’2020-aum'], row['fund-managers']),\n",
    "            lambda row, _: RecordInfo(RecordInfo.TYPE_AUM, \"Q3 2020\", row['q3’2020-aum'], row['fund-managers'])\n",
    "        ]\n",
    "    ),\n",
    "    (\n",
    "        ['rank', 'money-market-funds', 'effective-annual-rate-(average-q3’2020)'], \n",
    "        [\n",
    "            # https://cytonnreport.com/research/unit-trust-fund-performance-q3-1\n",
    "            lambda row, record: RecordInfo(RecordInfo.TYPE_EAR, record['researchdate'], row['effective-annual-rate-(average-q3’2020)'], row['money-market-funds'])\n",
    "        ]\n",
    "    ),\n",
    "    (\n",
    "        ['no.', 'fund-managers', \"fy'2018-aum(kshs-mns)\", \"fy'2019-aum(kshs-mns)\", \"aum-growthfy'2018---fy'2019\"], \n",
    "        [\n",
    "            # https://cytonnreport.com/research/fy2019-utf-performance\n",
    "            lambda row, _: RecordInfo(RecordInfo.TYPE_AUM, \"fy'2018\", row[\"fy'2018-aum(kshs-mns)\"], row['fund-managers']),\n",
    "            lambda row, _: RecordInfo(RecordInfo.TYPE_AUM, \"fy'2019\", row[\"fy'2019-aum(kshs-mns)\"], row['fund-managers']),\n",
    "        ]\n",
    "    ),\n",
    "    (\n",
    "        ['no.', 'fund-managers', \"fy'2018-money-market-fund(kshs-mns)\", \"fy'2019-money-market-fund(kshs-mns)\", \"fy'2018-market-share\", \"fy'2019-market-share\", 'variance'], \n",
    "        [\n",
    "            # https://cytonnreport.com/research/fy2019-utf-performance\n",
    "            lambda row, _: RecordInfo(RecordInfo.TYPE_AUM, \"fy'2018\", row[\"fy'2018-money-market-fund(kshs-mns)\"], row['fund-managers']),\n",
    "            lambda row, _: RecordInfo(RecordInfo.TYPE_AUM, \"fy'2019\", row[\"fy'2019-money-market-fund(kshs-mns)\"], row['fund-managers']),\n",
    "        ]\n",
    "    ),\n",
    "    (\n",
    "        ['rank', 'money-market-funds', 'effective-annual-rate-(average-fy’2019)'], \n",
    "        [\n",
    "            # https://cytonnreport.com/research/fy2019-utf-performance\n",
    "            lambda row, record: RecordInfo(RecordInfo.TYPE_EAR, record['researchdate'], row['effective-annual-rate-(average-fy’2019)'], row['money-market-funds']),\n",
    "        ]\n",
    "    ),\n",
    "    (\n",
    "        ['no.', 'unit-trust-fund-manager', 'aum', '%-of-market-share'], \n",
    "        [\n",
    "            # https://cytonnreport.com/research/investment-options-in-kenyan-market\n",
    "            lambda row, record: RecordInfo(RecordInfo.TYPE_AUM, record['researchdate'], row['aum'], row['unit-trust-fund-manager']),\n",
    "        ]\n",
    "    ),\n",
    "    (\n",
    "        ['no.', 'fund-managers', \"h1'2018-money-market-fund(kshs-mn)\", 'fy’2018-money-market-fund-(kshs-mn)', \"h1'2019-money-market-fund(kshs-mn)\", \"annualized-h1'2019-growth\"], \n",
    "        [\n",
    "            # https://cytonnreport.com/research/options-for-your-pension\n",
    "            lambda row, _: RecordInfo(RecordInfo.TYPE_AUM, \"h1'2018\", row[\"h1'2018-money-market-fund(kshs-mn)\"], row['fund-managers']),\n",
    "            lambda row, _: RecordInfo(RecordInfo.TYPE_AUM, \"fy’2018\", row['fy’2018-money-market-fund-(kshs-mn)'], row['fund-managers']),\n",
    "            lambda row, _: RecordInfo(RecordInfo.TYPE_AUM, \"h1'2019\", row[\"h1'2019-money-market-fund(kshs-mn)\"], row['fund-managers']),\n",
    "        ]\n",
    "    ),\n",
    "    (\n",
    "        ['#', 'fund-managers', \"h1'2018-money-market-fund-aum-(kshs-mn)\", \"fy'2018-money-market-fund-aum(kshs-mn)\", \"h1'2019-money-market-fund-aum(kshs-mn)\", \"annualized-h1'2019-aum-growth\"], \n",
    "        [\n",
    "            # https://cytonnreport.com/research/cytonn-monthly-august-2019\n",
    "            lambda row, _: RecordInfo(RecordInfo.TYPE_AUM, \"h1'2018\", row[\"h1'2018-money-market-fund-aum-(kshs-mn)\"], row['fund-managers']),\n",
    "            lambda row, _: RecordInfo(RecordInfo.TYPE_AUM, \"fy'2018\", row[\"fy'2018-money-market-fund-aum(kshs-mn)\"], row['fund-managers']),\n",
    "            lambda row, _: RecordInfo(RecordInfo.TYPE_AUM, \"h1'2019\", row[\"h1'2019-money-market-fund-aum(kshs-mn)\"], row['fund-managers']),\n",
    "        ]\n",
    "    ),\n",
    "    (\n",
    "        [ 'No.', 'Collective Investment Schemes', \"FY’2023 AUM\", \"FY’2023\", \"Q1'2024 AUM\", \"Q1’2024\", 'AUM Growth'], \n",
    "        [\n",
    "            # https://cytonnreport.com/research/q1-2024-unit-trust-funds-performance-note\n",
    "            lambda row, _: RecordInfo(RecordInfo.TYPE_AUM, 'FY’2023', row[\"FY’2023 AUM\"], row['Collective Investment Schemes']),\n",
    "            lambda row, _: RecordInfo(RecordInfo.TYPE_AUM, 'Q1’2024', row[\"Q1'2024 AUM\"], row['Collective Investment Schemes'])\n",
    "        ]\n",
    "    ),\n",
    "]\n",
    "\n",
    "def column_name_match_fn(x: str, y:str) -> bool:\n",
    "    x = x.strip().lower()\n",
    "    y = y.strip().lower()\n",
    "    z = lambda val: re.sub(r'\\s+', ' ', val).replace(\" \", \"-\")\n",
    "    return x == y or z(x) == z(y)\n",
    "\n",
    "def get_table(table: Tag):\n",
    "    for tag in table.find_all(True):\n",
    "        tag.attrs = {} # remove tags such as colspan and rowspan\n",
    "    for (table_columns, extractor_callbacks) in table_columns_list:\n",
    "        clean_up_tasks: list[Callable[[], None]] = []\n",
    "        header_tr_s: list[Tag] = table.select('thead tr')\n",
    "        is_match = False\n",
    "        for header_tr in header_tr_s:\n",
    "            header_td_s: list[Tag] = header_tr.find_all('td')\n",
    "            is_match_new = \\\n",
    "                len(header_td_s) == len(table_columns)\\\n",
    "                and all(\n",
    "                    [column_name_match_fn(header_td.get_text(strip=True), table_column) \n",
    "                     for header_td, table_column \n",
    "                     in zip(header_td_s, table_columns)])\n",
    "            if not is_match_new:\n",
    "                clean_up_tasks.append(header_tr.extract)\n",
    "            is_match = is_match or is_match_new\n",
    "        if is_match:\n",
    "            try:\n",
    "                [clean_up_task() for clean_up_task in clean_up_tasks]\n",
    "                table_df = pd.read_html(io.StringIO(str(table)))[0]\n",
    "                table_df.columns = table_columns\n",
    "                return (table_df, extractor_callbacks)\n",
    "            except Exception as e:\n",
    "                print('error', e, table)\n",
    "                continue\n",
    "    return (None, None)\n",
    "\n",
    "def is_valid_dataframe(df: pd.DataFrame | None) -> bool:\n",
    "    return df is not None and not df.empty\n",
    "\n",
    "def get_tables(html: str):\n",
    "    parsed_html = BeautifulSoup(html, \"html.parser\")\n",
    "    tables: list[Tag] = [table for table in parsed_html.find_all('table')]\n",
    "    for table in tables:\n",
    "        table_df, extractor_callbacks = get_table(copy(table))\n",
    "        if is_valid_dataframe(table_df):\n",
    "            yield (table_df, extractor_callbacks)\n",
    "\n",
    "def extract_table_by_column_names(record: pd.Series):\n",
    "    topics: list[dict] = record['topics']\n",
    "    all_topic_bodies = ' '.join([topic.get('body') for topic in topics])\n",
    "    raw_tables__extractor_callbacks = get_tables(all_topic_bodies)\n",
    "    for raw_table, extractor_callbacks in raw_tables__extractor_callbacks:\n",
    "        if len(extractor_callbacks) > 0:\n",
    "            for callback in extractor_callbacks:\n",
    "                extracted: list[RecordInfo] = [callback(raw_table_row, record) for _,raw_table_row in raw_table.iterrows()]\n",
    "                yield raw_table, pd.DataFrame([vars(i) for i in extracted if i.is_valid()])\n",
    "        else:\n",
    "            yield raw_table, None"
   ]
  },
  {
   "cell_type": "code",
   "execution_count": null,
   "metadata": {},
   "outputs": [],
   "source": [
    "# all_cytonn_reports_df.iloc[1]\n",
    "# some pages have more than one table, ge: https://cytonnreport.com/research/unit-trust-fund-performance-q3-1\n",
    "example_record = all_cytonn_reports_df.loc[\n",
    "    all_cytonn_reports_df['url'] == 'https://cytonnreport.com/research/unit-trust-fund-performance-q3-1'\n",
    "].iloc[0]\n",
    "raw_and_extracted_dataframes = extract_table_by_column_names(example_record)"
   ]
  },
  {
   "cell_type": "code",
   "execution_count": null,
   "metadata": {},
   "outputs": [],
   "source": [
    "raw_df, extracted_df = next(raw_and_extracted_dataframes)\n",
    "extracted_df"
   ]
  },
  {
   "cell_type": "code",
   "execution_count": null,
   "metadata": {},
   "outputs": [],
   "source": [
    "raw_df"
   ]
  },
  {
   "cell_type": "markdown",
   "metadata": {},
   "source": [
    "#### Saving"
   ]
  },
  {
   "cell_type": "code",
   "execution_count": null,
   "metadata": {},
   "outputs": [],
   "source": [
    "table_paths = 'extracted_tables'\n",
    "os.makedirs(table_paths, exist_ok=True)\n",
    "for _, record in tqdm(all_cytonn_reports_df.iterrows(), total=len(all_cytonn_reports_df)):\n",
    "    raw_and_extracted_dataframes = extract_table_by_column_names(record)\n",
    "    for _, extracted_df in raw_and_extracted_dataframes:\n",
    "        if is_valid_dataframe(extracted_df):\n",
    "            extracted_df.to_json(f'extracted_tables/{record.id}.json', orient='records')"
   ]
  },
  {
   "cell_type": "code",
   "execution_count": null,
   "metadata": {},
   "outputs": [],
   "source": [
    "from glob import glob\n",
    "\n",
    "dataframes = []\n",
    "for filename in  glob(f'{table_paths}/*.json'):\n",
    "    json_df = pd.read_json(filename)\n",
    "    dataframes.append(json_df)\n",
    "combined_df = pd.concat(dataframes, ignore_index=True)\n",
    "combined_df"
   ]
  },
  {
   "cell_type": "code",
   "execution_count": null,
   "metadata": {},
   "outputs": [],
   "source": [
    "effective_annual_rate_df = combined_df[combined_df['record_type'] == 'EAR'].drop(columns=['record_type']).copy()\n",
    "effective_annual_rate_df['record_date'] = pd.to_datetime(effective_annual_rate_df['record_date'])\n",
    "pivot = effective_annual_rate_df.pivot(index='record_date', columns='fund_manager', values='record_value')\n",
    "pivot"
   ]
  },
  {
   "cell_type": "code",
   "execution_count": null,
   "metadata": {},
   "outputs": [],
   "source": [
    "pivot.plot(figsize=(20, 12))"
   ]
  },
  {
   "cell_type": "markdown",
   "metadata": {},
   "source": [
    "<hr/>"
   ]
  },
  {
   "cell_type": "code",
   "execution_count": null,
   "metadata": {},
   "outputs": [],
   "source": [
    "def row_predicate(row: pd.Series):\n",
    "    row_str_value = ' '.join(str(column) for column in row).lower()\n",
    "    unwanted_regexes = ['cic\\s*group', 'cic\\s*insurance', 'cic\\s*academia']\n",
    "    for unwanted_regex in unwanted_regexes:\n",
    "        row_str_value = re.sub(unwanted_regex, \"\", row_str_value, flags=re.IGNORECASE)\n",
    "    return 'cic' in row_str_value\n",
    "def topics_tables_predicate(row: pd.Series):\n",
    "    html = ' '.join([topic.get('body') for topic in row['topics']])\n",
    "    parsed_html = BeautifulSoup(html, \"html.parser\")\n",
    "    tables: list[Tag] = [table for table in parsed_html.find_all('table')]\n",
    "    tables_str_value = ' '.join(str(table) for table in tables).lower()\n",
    "    unwanted_regexes = ['cic\\s*group', 'cic\\s*insurance', 'cic\\s*academia']\n",
    "    for unwanted_regex in unwanted_regexes:\n",
    "        tables_str_value = re.sub(unwanted_regex, \"\", tables_str_value, flags=re.IGNORECASE)\n",
    "    return 'cic' in tables_str_value\n",
    "\n",
    "matched_records = []\n",
    "for index, record in tqdm(all_cytonn_reports_df.iterrows(), total=len(all_cytonn_reports_df)):\n",
    "    raw_and_extracted_dataframes = extract_table_by_column_names(record)\n",
    "    extracts = list(raw_and_extracted_dataframes)\n",
    "    is_row_match = row_predicate(record)\n",
    "    is_topics_match = topics_tables_predicate(record)\n",
    "    matched_records.append((index, len(extracts), is_row_match, is_topics_match))"
   ]
  },
  {
   "cell_type": "code",
   "execution_count": null,
   "metadata": {},
   "outputs": [],
   "source": [
    "indexes_with_cic = [index for index, tables, is_row_match, is_topics_match in matched_records if tables == 0 and is_row_match and is_topics_match]\n",
    "indexes_with_cic"
   ]
  },
  {
   "cell_type": "markdown",
   "metadata": {},
   "source": [
    "<hr/>"
   ]
  },
  {
   "cell_type": "code",
   "execution_count": null,
   "metadata": {},
   "outputs": [],
   "source": [
    "len(indexes_with_cic)"
   ]
  },
  {
   "cell_type": "code",
   "execution_count": null,
   "metadata": {},
   "outputs": [],
   "source": [
    "webbrowser.get(\"/usr/bin/google-chrome %s\")\n",
    "for index in indexes_with_cic[20:]:\n",
    "    url = str(all_cytonn_reports_df.loc[index, 'url'])\n",
    "    webbrowser.open(url)"
   ]
  },
  {
   "cell_type": "code",
   "execution_count": null,
   "metadata": {},
   "outputs": [],
   "source": [
    "row = all_cytonn_reports_df.loc[\n",
    "    all_cytonn_reports_df['url'] == 'https://cytonnreport.com/research/unit-trust-fund-performance-q3-1'\n",
    "].iloc[0]\n",
    "dfs = extract_table_by_column_names(row)"
   ]
  },
  {
   "cell_type": "code",
   "execution_count": null,
   "metadata": {},
   "outputs": [],
   "source": [
    "dfs[0]"
   ]
  },
  {
   "cell_type": "markdown",
   "metadata": {},
   "source": [
    "<hr/>"
   ]
  },
  {
   "cell_type": "code",
   "execution_count": null,
   "metadata": {},
   "outputs": [],
   "source": [
    "row = all_cytonn_reports_df.loc[\n",
    "    all_cytonn_reports_df['url'] == 'https://cytonnreport.com/research/q1-2024-unit-trust-funds-performance-note'\n",
    "].iloc[0]\n",
    "table_columns_list = [\n",
    "    (\n",
    "        [ 'No.', 'Collective Investment Schemes', \"FY’2023 AUM\", \"FY’2023\", \"Q1'2024 AUM\", \"Q1’2024\", 'AUM Growth'], \n",
    "        [\n",
    "            # https://cytonnreport.com/research/q1-2024-unit-trust-funds-performance-note\n",
    "            lambda row, _: RecordInfo(\"AUM\", 'FY’2023', row[\"FY’2023 AUM\"], row['Collective Investment Schemes']),\n",
    "            lambda row, _: RecordInfo(\"AUM\", 'Q1’2024', row[\"Q1'2024 AUM\"], row['Collective Investment Schemes'])\n",
    "        ]\n",
    "    ),\n",
    "]\n",
    "dfs = extract_table_by_column_names(row)"
   ]
  },
  {
   "cell_type": "code",
   "execution_count": null,
   "metadata": {},
   "outputs": [],
   "source": [
    "one = next(dfs)"
   ]
  },
  {
   "cell_type": "code",
   "execution_count": null,
   "metadata": {},
   "outputs": [],
   "source": [
    "one[1]"
   ]
  }
 ],
 "metadata": {
  "kernelspec": {
   "display_name": ".venv",
   "language": "python",
   "name": "python3"
  },
  "language_info": {
   "codemirror_mode": {
    "name": "ipython",
    "version": 3
   },
   "file_extension": ".py",
   "mimetype": "text/x-python",
   "name": "python",
   "nbconvert_exporter": "python",
   "pygments_lexer": "ipython3",
   "version": "3.10.12"
  }
 },
 "nbformat": 4,
 "nbformat_minor": 2
}
