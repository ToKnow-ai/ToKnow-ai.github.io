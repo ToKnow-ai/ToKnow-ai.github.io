{
 "cells": [
  {
   "cell_type": "markdown",
   "metadata": {},
   "source": [
    "<!-- metadata: title -->\n",
    "# Kenya Unit Trusts: Money Market Fund(KES) Analysis\n",
    "\n",
    "<!-- metadata: subtitle -->\n",
    "> ### Can Kenyan Money Market Funds gurantee capital preservation? "
   ]
  },
  {
   "cell_type": "markdown",
   "metadata": {},
   "source": [
    "<!-- metadata: date, type=date -->\n",
    "**Published Date:**\n",
    "2024-03-03\n",
    "\n",
    "<!-- metadata: date-modified, type=date-->\n",
    "**Date Modified:**\n",
    "2024-05-05\n",
    "\n",
    "<!-- metadata: keywords, type=array -->\n",
    "**Keywords:**\n",
    "  - money\n",
    "  - kenya\n",
    "  - unit-trusts\n",
    "  - money-market-funds\n",
    "  - MMF\n",
    "\n",
    "<!-- metadata: categories, type=array -->\n",
    "**Categories:**\n",
    "  - kenya unit trusts\n",
    "  - data science\n",
    "  - money"
   ]
  },
  {
   "cell_type": "markdown",
   "metadata": {},
   "source": [
    "## Description\n",
    "\n",
    "<!-- metadata: description -->\n",
    "Money market is a form of unit trust, where fund managers collect money from the group of investors, and invest on their behave. This reduces the overhead of managing your portfio and significantly reduces your risk. Let's statistically and critically analyze Money market funds in Kenya in general using publicly available information and hopefully paint a clearer picture of the state of unit trusts in Kenya. \n",
    "\n",
    "- What are the risk factors that exist? \n",
    "- What is the performance of money market funds?"
   ]
  },
  {
   "cell_type": "markdown",
   "metadata": {},
   "source": [
    "## Abstract\n",
    "\n",
    "<!-- metadata: abstract -->\n",
    "Lorem Ipsum is simply dummy text of the printing and typesetting industry. Lorem Ipsum has been the industry's standard dummy text ever since the 1500s, when an unknown printer took a galley of type and scrambled it to make a type specimen book. It has survived not only five centuries, but also the leap into electronic typesetting, remaining essentially unchanged. It was popularised in the 1960s with the release of Letraset sheets containing Lorem Ipsum passages, and more recently with desktop publishing software like Aldus PageMaker including versions of Lorem Ipsum."
   ]
  },
  {
   "cell_type": "markdown",
   "metadata": {},
   "source": [
    "## Introduction"
   ]
  },
  {
   "cell_type": "markdown",
   "metadata": {},
   "source": [
    "In Kenya, a good number of the population have a bank account, even if not the traditional bank account. It is estimated that by year 2029, 99.9% of Kenyans will be banked, ^[Population share with banking account in Kenya 2014-2029\n",
    "Published by J. Degenhard, Jan 30, 2024. <https://www.statista.com/forecasts/1149636/bank-account-penetration-forecast-in-kenya>]. With increase in financial access, financial literacy and regular individuals will want to venture in the teritory of finantial assets huunting for higher interest rates. One of the most attractive entry level high-yield financial asset is the unit trust, specifically the money market funds. Its easy to start, deposit, withdraw, and its interest is daily compunding, while offering higher interest than any bank."
   ]
  },
  {
   "cell_type": "markdown",
   "metadata": {},
   "source": [
    "## Analysis"
   ]
  },
  {
   "cell_type": "markdown",
   "metadata": {},
   "source": [
    "### Imports"
   ]
  },
  {
   "cell_type": "code",
   "execution_count": null,
   "metadata": {},
   "outputs": [],
   "source": [
    "import sys\n",
    "import os\n",
    "\n",
    "# Add parent directory to sys.path\n",
    "root_dir = os.path.abspath(os.path.join(os.getcwd(), '../..'))\n",
    "sys.path.append(root_dir)\n",
    "\n",
    "%load_ext autoreload\n",
    "%autoreload 2"
   ]
  },
  {
   "cell_type": "code",
   "execution_count": null,
   "metadata": {},
   "outputs": [],
   "source": [
    "import pandas as pd\n",
    "from pyppeteer.page import Page\n",
    "import asyncio\n",
    "import json\n",
    "import io\n",
    "from bs4 import BeautifulSoup, Tag\n",
    "from urllib.request import urlopen\n",
    "from pyppeteer.page import Request\n",
    "from tqdm import tqdm\n",
    "from python_utils.web_screenshot import web_screenshot_async\n",
    "from python_utils.get_browser import get_browser_page_async"
   ]
  },
  {
   "cell_type": "markdown",
   "metadata": {},
   "source": [
    "### Fund Managers"
   ]
  },
  {
   "cell_type": "markdown",
   "metadata": {},
   "source": [
    "Let's start of by listing all the certified fund mangers in Kenya by CMA.^[Approved Fund Managers by CMA. <https://www.cma.or.ke/licensees-market-players/>]"
   ]
  },
  {
   "cell_type": "markdown",
   "metadata": {},
   "source": [
    "Lets start with a screenshot of the webpage."
   ]
  },
  {
   "cell_type": "code",
   "execution_count": null,
   "metadata": {},
   "outputs": [],
   "source": [
    "async def action(page: Page):\n",
    "    await page.waitForSelector('ul.module-accordion')\n",
    "    elements = await page.querySelectorAll('li .accordion-title')\n",
    "    # Iterate through the elements to find the one containing 'FUND MANAGERS'\n",
    "    for element in elements:\n",
    "        text_content = await page.evaluate('(element) => element.textContent', element)\n",
    "        if 'FUND MANAGERS' in text_content:\n",
    "            # Click on the target element\n",
    "            await element.click()\n",
    "            break\n",
    "    else:\n",
    "        print('Element not found')\n",
    "    await page.waitForSelector('li.current.builder-accordion-active')\n",
    "    await asyncio.sleep(1)\n",
    "\n",
    "await web_screenshot_async(\n",
    "    \"https://www.cma.or.ke/licensees-market-players/\", \n",
    "    action = action,\n",
    "    width=1500)"
   ]
  },
  {
   "cell_type": "markdown",
   "metadata": {},
   "source": [
    "Let's query the \"Fund Managers\" table."
   ]
  },
  {
   "cell_type": "code",
   "execution_count": null,
   "metadata": {},
   "outputs": [],
   "source": [
    "url_response = urlopen(\"https://www.cma.or.ke/licensees-market-players/\").read()\n",
    "fund_managers_html_table = BeautifulSoup(url_response, \"html.parser\")\\\n",
    "    .find('span', string=\"FUND MANAGERS\")\\\n",
    "        .parent\\\n",
    "            .parent\\\n",
    "                .parent\\\n",
    "                    .find('table')\n",
    "\n",
    "fund_managers_df = pd.read_html(io.StringIO(str(fund_managers_html_table)))[0].dropna()\n",
    "fund_managers_df"
   ]
  },
  {
   "cell_type": "markdown",
   "metadata": {},
   "source": [
    "The address of `African Alliance Kenya Asset Management Limited` doesnt seem to be valid, lets populate it with `P.O. Box 27639 Nairobi 00506`"
   ]
  },
  {
   "cell_type": "code",
   "execution_count": null,
   "metadata": {},
   "outputs": [],
   "source": [
    "fund_managers_df.loc[fund_managers_df['LICENCE NO.'] == 165, 'ADDRESS'] = 'P.O. Box 27639 Nairobi 00506'\n",
    "fund_managers_df"
   ]
  },
  {
   "cell_type": "markdown",
   "metadata": {},
   "source": [
    "### Add Columns"
   ]
  },
  {
   "cell_type": "markdown",
   "metadata": {},
   "source": [
    "- Location Coordinates (and google map)\n",
    "- Headquter location/address/country\n",
    "- Launch Date\n",
    "- Risk Profile\n",
    "- Trustee\n",
    "- Custodian\n",
    "- Auditors\n",
    "- Minimum Investment\n",
    "- Minimum Additional Investment\n",
    "- Initial Fee\n",
    "- Annual Management Fee\n",
    "- Distribution\n",
    "- Asset Under Management/Market share\n",
    "- Advertised Rate [Gross, Net]\n",
    "- Duration to withdraw\n",
    "- Security - joint account verification/validation\n",
    "- has online portal\n",
    "- Withdraw charges\n",
    "- Contacts\n",
    "\n",
    "<!-- https://cytonnreport.com/research/cmmf-fact-sheet-june-2021 -->\n",
    "<!-- https://ke.cicinsurancegroup.com/mmf/ -->"
   ]
  },
  {
   "cell_type": "markdown",
   "metadata": {},
   "source": [
    "### Getting the Perormance"
   ]
  },
  {
   "cell_type": "markdown",
   "metadata": {},
   "source": [
    "According to Capital Markets Authority, fund managers are required to publish their yields daily in a reputable newspaper. What this means accessing hostorical records requires a significant investment in time to collect, aggregate and validate the published yields. That not withstanding, two very important questions become obvious:\n",
    " - what is a reputbale newspaper? \n",
    " - what yield do they publish, gross or net?\n",
    " - What picture does an anualized daily rate paint?\n",
    " - Is interest deffered or carried forward (reporting a convervative figure and retaining the rest for rainy day to preserve a picture of good performance)?\n",
    "\n",
    "Luckily, one of the fund managers, one that has recently found its self in the courts far more often than it would have wished, does exelent investment and market research. It has a good-enough aggregate of fund managers and their performance weekly and monthly. We are going to crawl their data for analysis, and analyze it for manipulation.If the data comeout clean, we will analyze the trend of fund managers using the data."
   ]
  },
  {
   "cell_type": "markdown",
   "metadata": {},
   "source": [
    "### Cytton Research\n",
    "\n",
    "We are going to crawl the data from cytonn research, https://cytonn.com/researches/categories/1"
   ]
  },
  {
   "cell_type": "markdown",
   "metadata": {},
   "source": [
    "#### screen shots"
   ]
  },
  {
   "cell_type": "markdown",
   "metadata": {},
   "source": [
    "Lests start with a view of weekly reports"
   ]
  },
  {
   "cell_type": "code",
   "execution_count": null,
   "metadata": {},
   "outputs": [],
   "source": [
    "await web_screenshot_async(\n",
    "    \"https://cytonn.com/researches/categories/1\",\n",
    "    width=1000)"
   ]
  },
  {
   "cell_type": "markdown",
   "metadata": {},
   "source": [
    "Here is the latest report"
   ]
  },
  {
   "cell_type": "code",
   "execution_count": null,
   "metadata": {},
   "outputs": [],
   "source": [
    "await web_screenshot_async(\n",
    "    \"https://cytonnreport.com/research/progress-of-retirement\",\n",
    "    width=1000)"
   ]
  },
  {
   "cell_type": "markdown",
   "metadata": {},
   "source": [
    "Instead of directly crawling HTML from https://cytonn.com/researches/ page, we can instead crawl JSON from https://cytonnreport.com/research page, using the link https://cytonnreport.com/get/allreports."
   ]
  },
  {
   "cell_type": "code",
   "execution_count": null,
   "metadata": {},
   "outputs": [],
   "source": [
    "async def get_all_cytonn_reports(per_page_count: int = 10):\n",
    "    page, browser = await get_browser_page_async()\n",
    "    reports_url = \"https://cytonnreport.com/get/allreports\"\n",
    "    reports_headers: dict = None\n",
    "    reports_method: str = None\n",
    "    async def catch_request(request: Request):\n",
    "        nonlocal reports_headers\n",
    "        nonlocal reports_method\n",
    "        if request.url == reports_url:\n",
    "            reports_headers = request.headers.copy()\n",
    "            reports_method = request.method\n",
    "            await request.continue_()\n",
    "        else:\n",
    "            await request.continue_()\n",
    "    async def get_cytonn_reports(current_page: int):\n",
    "        js_fetch_fn = f'''\n",
    "            async () => {{\n",
    "                const response = await fetch(\n",
    "                        \"{reports_url}\", \n",
    "                        {{\n",
    "                            \"headers\": {json.dumps(reports_headers)},\n",
    "                            \"referrer\": \"https://cytonnreport.com/research\",\n",
    "                            \"referrerPolicy\": \"no-referrer-when-downgrade\",\n",
    "                            \"body\": {json.dumps(json.dumps(\n",
    "                                {\n",
    "                                    \"pagination\": {\n",
    "                                        \"per_page\": per_page_count, \n",
    "                                        'current_page': current_page\n",
    "                                    }\n",
    "                                }))},\n",
    "                            \"method\": \"{reports_method}\",\n",
    "                            \"mode\": \"cors\",\n",
    "                            \"credentials\": \"include\"\n",
    "                        }});\n",
    "                const json = await response.json();\n",
    "                return json;\n",
    "            }}\n",
    "        '''\n",
    "        response_json = await page.evaluate(js_fetch_fn)\n",
    "        return response_json\n",
    "    # Enable request interception\n",
    "    await page.setRequestInterception(True)\n",
    "    # Attach the request handler\n",
    "    page.on('request', lambda request: asyncio.ensure_future(catch_request(request)))\n",
    "    # Navigate to the desired URL\n",
    "    await page.goto(\"https://cytonnreport.com/research\")\n",
    "    while not reports_headers:\n",
    "        await asyncio.sleep(1)\n",
    "    current_page = 1\n",
    "    all_reports = []\n",
    "    pbar: tqdm = None\n",
    "    while True:\n",
    "        reports_response = await get_cytonn_reports(current_page)\n",
    "        reports = reports_response['data'] if reports_response else []\n",
    "        if len(reports) > 0:\n",
    "            total = reports_response['total']\n",
    "            pbar = pbar or tqdm(total=total)\n",
    "            pbar.update(len(reports))\n",
    "            all_reports.extend(reports)\n",
    "            last_page = reports_response['last_page']\n",
    "            if last_page == current_page:\n",
    "                break\n",
    "            current_page += 1\n",
    "        else:\n",
    "            break\n",
    "    await browser.close()\n",
    "    if pbar:\n",
    "        pbar.close()\n",
    "    return all_reports\n",
    "\n",
    "all_cytonn_reports = await get_all_cytonn_reports()\n",
    "print(f'There are {len(all_cytonn_reports)} reports')"
   ]
  },
  {
   "cell_type": "code",
   "execution_count": null,
   "metadata": {},
   "outputs": [],
   "source": [
    "# https://charanhu.medium.com/converting-pandas-dataframe-into-a-dataset-and-pushing-to-hugging-face-146e2ccac38d\n",
    "all_cytonn_reports_df = pd.DataFrame(all_cytonn_reports)\n",
    "with pd.option_context(\n",
    "  'display.max_columns', None, \n",
    "  'display.max_colwidth', 100):\n",
    "  display(all_cytonn_reports_df)\n",
    "\n",
    "# all_cytonn_reports_df[['researchdate', 'created_at', 'updated_at', 'deleted_at', 'date']]"
   ]
  },
  {
   "cell_type": "code",
   "execution_count": null,
   "metadata": {},
   "outputs": [],
   "source": [
    "import re\n",
    "\n",
    "def match_fn(x: str, y:str) -> bool:\n",
    "    return \\\n",
    "        x.strip().lower() == y.strip().lower() or\\\n",
    "        re.sub(r'\\s+', ' ', x.strip().lower()).replace(\" \", \"-\") == re.sub(r'\\s+', ' ', y.strip().lower()).replace(\" \", \"-\")\n",
    "\n",
    "def get_table_df(html: str, terms: list[str] = ['Rank', 'Fund Manager', 'Effective Annual Rate']) -> Tag:\n",
    "    first_report = BeautifulSoup(html, \"html.parser\")\n",
    "    for tag in first_report.find_all(True):\n",
    "        tag.attrs = {} # remove tage such as colspan and rowspan\n",
    "    tables: list[Tag] = [table for table in first_report.find_all('table')]\n",
    "    for table in tables:\n",
    "        header_tr_s: list[Tag] = table.select('thead tr')\n",
    "        is_match = False\n",
    "        for header_tr in header_tr_s:\n",
    "            header_td_s: list[Tag] = header_tr.find_all('td')\n",
    "            is_match_new = len(header_td_s) == len(terms) and all([match_fn(header_td.get_text(strip=True), term) for header_td, term in zip(header_td_s, terms)])\n",
    "            if not is_match_new:\n",
    "                header_tr.extract()\n",
    "            is_match = is_match or is_match_new\n",
    "        if is_match:\n",
    "            try:\n",
    "                table_dfs = pd.read_html(io.StringIO(str(table)))\n",
    "                if len(table_dfs) > 0:\n",
    "                    return table_dfs[0]\n",
    "            except:\n",
    "                continue\n",
    "    return None\n",
    "\n",
    "def get_table_with_df_by_topics(topics: list[dict], *args):\n",
    "    all_topic_bodies = ' '.join([i['body'] for i in topics])\n",
    "    table = get_table_df(all_topic_bodies, *args)\n",
    "    return table\n",
    "\n",
    "get_table_with_df_by_topics(all_cytonn_reports_df.loc[1, 'topics'])"
   ]
  },
  {
   "cell_type": "code",
   "execution_count": null,
   "metadata": {},
   "outputs": [],
   "source": [
    "def is_dataframe_empty(df: pd.DataFrame | None) -> bool:\n",
    "    return df is not None and not df.empty\n",
    "\n",
    "topics_columns_list = [\n",
    "    ['Rank', 'Fund Manager', 'Effective Annual Rate'],\n",
    "    ['Rank', 'Fund Manager', 'Effective Annual'],\n",
    "    ['Rank', 'Fund Manager', 'Daily Yield', 'Effective Annual Rate'],\n",
    "    ['(Kshs mn)', 'Market Share', '(Kshs mn)', 'Market Share', \"FY’2023 –Q1'2024\"],\n",
    "    ['no.', 'fund-managers', 'q1’2020-aum(kshs-mns)', 'q1’2020market-share', 'q2’2020-aum(kshs-mns)', 'q2’2020market-share', 'aum-growthq1’2020-–-q2’2020'],\n",
    "    ['no.', 'fund-managers', \"fy'2019-aum(kshs-mns)\", 'q1’2020-aum(kshs-mns)', \"aum-growth*fy'2019-–-q1’2020\"],\n",
    "    ['no.', 'fund-managers', \"fy'2018-aum-(kshs-mns)\", \"h1'2019-aum-(kshs-mns)\", \"aum-h1'2019-annualized-growth\"],\n",
    "    ['no.', 'money-market-fund', '2018-average-effective-annual-yield-p.a.'],\n",
    "    ['no.', 'fund-managers', 'q2’2020-aum', 'q2’2020', 'q3’2020-aum', 'q3’2020', 'aum-growth'],\n",
    "    ['rank', 'money-market-funds', 'effective-annual-rate-(average-q3’2020)'],\n",
    "    ['no.', 'fund-managers', \"fy'2018-aum(kshs-mns)\", \"fy'2019-aum(kshs-mns)\", \"aum-growthfy'2018---fy'2019\"],\n",
    "    ['no.', 'fund-managers', \"fy'2018-money-market-fund(kshs-mns)\", \"fy'2019-money-market-fund(kshs-mns)\", \"fy'2018-market-share\", \"fy'2019-market-share\", 'variance'],\n",
    "    ['rank', 'money-market-funds', 'effective-annual-rate-(average-fy’2019)']\n",
    "]\n",
    "\n",
    "# some pages have more than one table, ge: https://cytonnreport.com/research/unit-trust-fund-performance-q3-1\n",
    "def format_row(row) -> bool:\n",
    "    for topics_columns in topics_columns_list:\n",
    "        df = get_table_with_df_by_topics(row['topics'], topics_columns)\n",
    "        if is_dataframe_empty(df):\n",
    "            return True\n",
    "    return False\n",
    "\n",
    "tqdm.pandas(desc=\"by_topics\")\n",
    "all_cytonn_reports_df['by_topics'] = all_cytonn_reports_df.progress_apply(format_row, axis=1)"
   ]
  },
  {
   "cell_type": "code",
   "execution_count": null,
   "metadata": {},
   "outputs": [],
   "source": [
    "len(all_cytonn_reports_df[all_cytonn_reports_df['by_topics'] == True])"
   ]
  },
  {
   "cell_type": "code",
   "execution_count": null,
   "metadata": {},
   "outputs": [],
   "source": [
    "cant_get_by_topic_df = all_cytonn_reports_df[all_cytonn_reports_df['by_topics'] == False].reset_index(drop=True)\n",
    "cant_get_by_topic_df"
   ]
  },
  {
   "cell_type": "code",
   "execution_count": null,
   "metadata": {},
   "outputs": [],
   "source": [
    "no_unit_trust_tables = [436]"
   ]
  },
  {
   "cell_type": "code",
   "execution_count": null,
   "metadata": {},
   "outputs": [],
   "source": [
    "import re\n",
    "\n",
    "def regex_contains(text, substring):\n",
    "    pattern = re.escape(substring)\n",
    "    return bool(re.search(pattern, text, flags=re.IGNORECASE))\n",
    "\n",
    "keywords = [\n",
    "    \"Approved Collective Investment Schemes\", \n",
    "    # \"Collective Investment Schemes\", \n",
    "    # \"Unit Trust Fund\"\n",
    "]\n",
    "check_indexes = []\n",
    "\n",
    "for index, row in tqdm(cant_get_by_topic_df.iterrows()):\n",
    "    string_value = ' '.join(str(value) for value in row)\n",
    "    if any([regex_contains(string_value, i) for i in keywords]):\n",
    "        check_indexes.append(index)\n",
    "check_indexes"
   ]
  },
  {
   "cell_type": "code",
   "execution_count": null,
   "metadata": {},
   "outputs": [],
   "source": [
    "cant_get_by_topic_df.loc[57, 'url']"
   ]
  },
  {
   "cell_type": "code",
   "execution_count": null,
   "metadata": {},
   "outputs": [],
   "source": [
    "import webbrowser\n",
    "\n",
    "webbrowser.get(\"/usr/bin/google-chrome %s\")\n",
    "for check_index in check_indexes:\n",
    "    url = str(cant_get_by_topic_df.loc[check_index, 'url'])\n",
    "    webbrowser.open(url)"
   ]
  },
  {
   "cell_type": "code",
   "execution_count": null,
   "metadata": {},
   "outputs": [],
   "source": [
    "sdfdsfdsf = [\n",
    "    \"Rank\",\n",
    "\n",
    "\"Money Market  Funds\",\n",
    "\n",
    "\"Effective Annual Rate (Average FY’2019)\"\n",
    "]\n",
    "\n",
    "\n",
    "sdfdsfdsf = [re.sub(r'\\s+', ' ', i.strip().lower()).replace(\" \", \"-\") for i in sdfdsfdsf]\n",
    "sdfdsfdsf"
   ]
  },
  {
   "cell_type": "code",
   "execution_count": null,
   "metadata": {},
   "outputs": [],
   "source": [
    "get_table_with_df_by_topics(\n",
    "    cant_get_by_topic_df.loc[108, 'topics'], \n",
    "    sdfdsfdsf)"
   ]
  },
  {
   "cell_type": "code",
   "execution_count": null,
   "metadata": {},
   "outputs": [],
   "source": [
    "cant_get_by_topic_df.loc[31, 'topics']"
   ]
  }
 ],
 "metadata": {
  "kernelspec": {
   "display_name": ".venv",
   "language": "python",
   "name": "python3"
  },
  "language_info": {
   "codemirror_mode": {
    "name": "ipython",
    "version": 3
   },
   "file_extension": ".py",
   "mimetype": "text/x-python",
   "name": "python",
   "nbconvert_exporter": "python",
   "pygments_lexer": "ipython3",
   "version": "3.10.12"
  }
 },
 "nbformat": 4,
 "nbformat_minor": 2
}
