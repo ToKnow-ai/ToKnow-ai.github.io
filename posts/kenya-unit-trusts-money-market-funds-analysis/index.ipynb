{
 "cells": [
  {
   "cell_type": "markdown",
   "metadata": {},
   "source": [
    "<!-- metadata: title -->\n",
    "# Unit Trust Investments in Kenya: Money Market Fund(KES) Analysis\n",
    "\n",
    "<!-- metadata: subtitle -->\n",
    "> ### Can Investment in Money Market Funds in Kenya gurantee capital preservation? "
   ]
  },
  {
   "cell_type": "markdown",
   "metadata": {},
   "source": [
    "**Published Date:**\n",
    "<!-- metadata: date -->\n",
    "2024-03-03\n",
    "<!-- metadata: -->\n",
    "\n",
    "**Date Modified:**\n",
    "<!-- metadata: date-modified -->\n",
    "2024-05-05\n",
    "<!-- metadata: -->\n",
    "\n",
    "<!-- metadata: keywords, is_array=true -->\n",
    "**Keywords:**\n",
    "  - money\n",
    "  - kenya\n",
    "  - unit-trusts\n",
    "  - money-market-funds\n",
    "  - MMF\n",
    "\n",
    "<!-- metadata: categories, is_array=true -->\n",
    "**Categories:**\n",
    "  - kenya unit trusts\n",
    "  - data science\n",
    "  - money"
   ]
  },
  {
   "cell_type": "markdown",
   "metadata": {},
   "source": [
    "## Description\n",
    "\n",
    "<!-- metadata: description -->\n",
    "Money Market Fund (MMF) is a unit trust investment, where fund managers raise money from public investors, and invest it collectively. Money Market Fund as a financial asset is short-term and highly liquid. Compared to bank deposits, Money Market offers a higher interest with a lower barrier of entry, in Kenya. Besides a higher interest, money moarket accounts offer compound interest unlike bank deposts which mostly offer simple interest. We will analyze Money market funds in Kenya in general using public information and hopefully paint a picture of the state of unit trust investments in Kenya."
   ]
  },
  {
   "cell_type": "markdown",
   "metadata": {},
   "source": [
    "## Introduction"
   ]
  },
  {
   "cell_type": "markdown",
   "metadata": {},
   "source": [
    "According to Central Bank of Kenya records, Kenya had over 77.92 million registered mobile money accounts, as of June 2024 ^[[CBK Mobile Payments](https://www.centralbank.go.ke/national-payments-system/mobile-payments/), see [PDF](./www.centralbank.go.ke-national-payments-system-mobile-payments.pdf)]. Compared to the Kenyan population of slightly above 54 million ^[[Kenya Population from year 1974 to year 2022](https://toknow.ai/posts/kenya-population-from-1974-to-2022/)], nearly every Kenyan has a means to transact money, technically banked. Research by J. Degenhard ^[J. Degenhard, Jan 30, 2024. <https://www.statista.com/forecasts/1149636/bank-account-penetration-forecast-in-kenya>] estimates that the banking penetration in Kenya is approximately `96.43%` and will increase to `99.9%` by year 2026.\n",
    "\n",
    "Several research conclude that financial access often follows fiancial literacy. However, to know unit trusts investments requires understanding finacial instruments and assets beyoud the general fiancial education. One of the most attractive entry level high-yield financial asset is the unit trust, specifically the Money Market Funds (MMF). With some fund managers allowing mobile money accounts as an alternative to a bank account number, it becomes very easy to start, deposit, withdraw from a Money Market Fund account. Unlike bank deposits that usually offer simple interest, Money Market Fund accounts offer a **DAILY** compounding interest.\n",
    "\n",
    "<!-- ADD IFRAME OF THE CALCULATOR AT HUGGING SPACE SPACES -->\n",
    "\n",
    "### Who pays Fund Managers for managing money market fund investments?\n",
    "\n",
    "You don't manage money market funds accounts. Fund managers invest the money on your behave. They invest the funds mostly in shortterm government papers (T-bill), company papers, bank deposits and a small portion is invested in long term asserts like real estate or long term bonds. Fund managers take a `2%` fee from the profit made from each of their investors. This provides an incentive to maximize the profit their investors get. Typically, this leaves with an net interest of between `1% - 5%` below the government of Kenya T-bills. For example, the current Treasury Bills on Offer at <https://www.centralbank.go.ke/bills-bonds/treasury-bills/> are:\n",
    "\n",
    "\n",
    "| Term    | Issue Number | Auction Date    | Value Dated     | Previous Average Interest Rate |\n",
    "|---------|--------------|-----------------|-----------------|--------------------------------|\n",
    "| 91-DAY  | 2589/091     | 1st August 2024 | 5th August 2024 | 16.000%                        |\n",
    "| 182-DAY | 2562/182     | 1st August 2024 | 5th August 2024 | 16.8506%                       |\n",
    "| 364-DAY | 2516/364     | 1st August 2024 | 5th August 2024 | 16.9212%                       |\n",
    "\n",
    ": Treasury Bills on offer as at 29/07/2024 {#tbl-treasury-bills-on-offer-as-at-29-07-2024 .striped }\n",
    "\n",
    "Going by the previous assumption, our money market fund account should currently return between `15% - 11%` approximately. Its important to recognize that how the fund managers invest determine the yield. for example, a fund manager who priritizes security over interest invest most of their money in safer assets that may have less return. The size of the investment portfolio also matters. fund managers with big assets have a harder time adjusting to higher interests, but also lower chances of downward fluctuations. Also, reputable fund managers who have a small porfolo have more incentive to lure more customers, so they take a less fee. Also, with a less assets to manage, a fund manager can invest all in a government paper, significanly offering a higher return, but theoretically exposing the investors to risk. Although it may be safe to say that the government paper is safe in that the government of kenya has never defaulted on any of its debt obligations, the investment is not diversified, which is risky. Some fund managers certainly offer a higher interest that that this, sometimes matching or surpusing government papers. This might be okay, but you owe to yourself an even greater burden of due dilligence.\n",
    "\n",
    "\n",
    "\n",
    "### Are Money market funds regulated in Kenya?\n",
    "\n",
    "Unit trust Investments such as Money Market Funds are regulated by Capital Markets Authority (CMA)^[Capital Markets Authority (CMA) <https://www.cma.or.ke/about-us/>]. The Capital Markets Authority (CMA) is an independent public agency established in 1989 by an Act of Parliament, Capital Markets Act, Cap 485A ^[[THE CAPITAL MARKETS ACT - CHAPTER 485A - Revised Edition 2023 [1989] - Published by the National Council for Law Reporting](https://web.archive.org/web/20240730193048/https://www.cma.or.ke/download/18/acts/5077/capital-markets-act-2023.pdf)]. CMA is charged with the responsibility to oversee, license, and monitor the activities of market intermediaries, including the Stock Exchange, the Central Depository and Settlement Corporation(CDSC), Online Forex, Commodities and Regulated Exchanges^[CMA Regulatory Framework - Acts and Regulations - <https://www.cma.or.ke/regulatory-framework/>]. The CMA's primary mandate is to promote and maintain an orderly, fair, and efficient capital market in Kenya. Over the years, the CMA has regulated and supervised several market milestones such as the automation of trading at the Nairobi Securities Exchange^[[The Effect of Automation on Stock Market Trade](https://web.archive.org/web/20171031042240/http://erepository.uonbi.ac.ke/bitstream/handle/11295/93863/Mwangi%20Michael%20M_The%20Effect%20of%20Automation%20on%20Stock%20Market%20Trade%20Volume%20at%20the%20Nairobi%20Securities%20Exchange..pdf)] ^[[NSE HISTORY - PDF](https://web.archive.org/web/20240617053341/https://www.nse.co.ke/wp-content/uploads/final-ar-min.pdf), [NSE HISTORY - Website](https://web.archive.org/web/20240730203221/https://www.nse.co.ke/our-story/)], the introduction of derivative markets, and the development of a robust regulatory framework^[<https://web.archive.org/web/20240718122736/https://www.cma.or.ke/regulatory-framework/>]. However, it has also faced challenges, such as insider trading scandals^[[Legal battle deny CMA insider trading fines](https://web.archive.org/web/20221007173416/https://www.businessdailyafrica.com/bd/economy/legal-battle-deny-cma-insider-trading-fines-3680374)] ^[[Insider Trading in Kenya and the Effectiveness of Its Sentencing in Light of Its Definition and Punishment in the United States of America and the United Kingdom](https://dx.doi.org/10.2139/ssrn.4171294)] ^[[Tightening Loose Ends: Capital Markets Authority’s Power and Role in Combating Insider Trading](https://web.archive.org/web/20240730210258/https://www.oraro.co.ke/tightening-loose-ends-capital-markets-authoritys-power-and-role-in-combating-insider-trading/)] and the collapse of some investment firms^[[CMA to drop troubled firms from Kenyan stock market](https://web.archive.org/web/20240412114910/https://www.businessdailyafrica.com/bd/markets/capital-markets/cma-to-drop-troubled-firms-from-kenyan-stock-market-4536842)] ^[[Hard lessons in the collapse of stocks firms](https://web.archive.org/web/20240730212311/https://nation.africa/kenya/life-and-style/money/hard-lessons-in-the-collapse-of-stocks-firms-615610)] ^[[CMA to tighten unit trusts oversight after investor losses](https://web.archive.org/web/20240730212459/https://www.businessdailyafrica.com/bd/markets/market-news/cma-to-tighten-unit-trusts-oversight-after-investor-losses-2278788)], which have tested its regulatory effectiveness.\n",
    "\n",
    "Below is a non exhaustive summary of some key areas that are regulated by CMA regarding Money Market Funds.\n",
    "\n",
    "1. **Licensing requirements:** *Fund managers must obtain a license from the CMA and meet minimum capital requirements.*<br/>\n",
    "According to the Capital Markets (Collective Investment Schemes) Regulations, 2001 (last amended in 2021), fund managers in Kenya must obtain a license from the Capital Markets Authority (CMA) and meet specific capital requirements. For money market funds, the minimum paid-up capital requirement is 10 million Kenyan Shillings, while for other types of funds, it's 50 million Kenyan Shillings. Additionally, all fund managers must maintain a minimum net capital of 10 million Kenyan Shillings throughout their operations. These funds must be kept in a bank account or invested as specified by the CMA^[[Capital Markets (Collective Investment Schemes) Regulations, 2001 (last amended in 2021)](https://web.archive.org/web/20240730214559/https://www.cma.or.ke/download/34/regulations/5017/the-capital-markets-collective-investment-schemes-regulations-2023.pdf)].\n",
    "\n",
    "2. **Investment restrictions:**<br/>Money market funds are required to invest in low-risk, short-term debt instruments with a maximum maturity of 18 months ^[[Capital Markets (Collective Investment Schemes) Regulations, 2001 (last amended in 2021)](https://web.archive.org/web/20240730214559/https://www.cma.or.ke/download/34/regulations/5017/the-capital-markets-collective-investment-schemes-regulations-2023.pdf), Part VIII, section 102.1.a].\n",
    "\n",
    "3. **Diversification rules:** *Funds must maintain a diversified portfolio, with limits on exposure to single issuers or sectors.* <br/>\n",
    "Regulation 78(1) states that a scheme shall not invest more than 25% of its net asset value in any one issuer, with an exception for government securities where the limit is 30% ^[Regulation 78(1) and Regulation 78(2)(b) of the Capital Markets (Collective Investment Schemes) Regulations, 2001.].\n",
    "\n",
    "4. **Valuation and pricing:** *Daily valuation of fund assets and use of amortized cost^[[Amortized cost refers to the purchase price of an asset, adjusted for factors like interest rates and payments over the lifetime of the asset. It allows assets to be valued on financial statements in a way that accounts for changes in value over time as the asset is used or paid off.](https://www.google.com/search?q=amortized+cost)] method for certain short-term securities.* <br/>\n",
    "Fund managers must provide accurate and up-to-date valuations of their funds' assets, which is crucial for determining the price at which units in the fund can be bought or sold ^[Regulation 48(1) and Regulation 49(5) of the Capital Markets (Collective Investment Schemes) Regulations, 2001].\n",
    "\n",
    "5. **Disclosure requirements:** *Regular reporting of fund performance, fees, and portfolio composition to investors and the CMA.* <br/>\n",
    "The Capital Markets (Collective Investment Schemes) Regulations, 2001, outline key disclosure requirements for Kenyan fund managers. These include weekly publication of unit prices (Regulation 40), quarterly reports to the CMA and trustees on portfolio, activities, and performance (Regulation 42), and annual audited financial statements. Regulation 45 requires distribution of detailed annual and semi-annual reports to all investors, covering financial information, portfolio composition, and performance metrics. These rules ensure transparency in fund operations and regular communication with both regulators and investors.\n",
    "\n",
    "6. **Risk management:** *Implementation of robust risk management systems and stress testing procedures.* <br/> \n",
    "Part IV, Section 9 of the Capital Markets (Risk Based Supervision of Licensees of the Capital Markets Authority) Guidelines, 2020, guidelines requires licensees, including fund managers, to develop and implement a risk management framework that includes stress testing and covers the identification, assessment, monitoring, controlling, and reporting of all material risks.\n",
    "\n",
    "7. **Liquidity requirements:** *Maintaining a minimum percentage of assets in highly liquid instruments to meet redemption requests.* <br/> A person is eligible for a licence to act as a trustee of a collective investment fund if that person has a minimum liquid capital of five million shillings or eight per cent of its liabilities which must be maintained throughout the duration of the license^[PART V 32 (c), Capital Markets (Collective Investment Schemes)].\n",
    "\n",
    "8. **Corporate governance:** *Appointment of independent trustees and compliance with the Code of Corporate Governance Practices for Issuers of Securities to the Public.* <br/> \n",
    "A person is eligible for a licence to act as a trustee of a collective investment fund if has as its directors and shareholders, persons who are fit and proper as provided under section 24A of the Act ^[PART V 32 (c), Capital Markets (Collective Investment Schemes)]. Additionally, the Code of Corporate Governance Practices for Issuers of Securities to the Public, 2015, provides comprehensive guidelines for corporate governance, which fund managers issuing securities to the public must comply with.\n",
    "\n",
    "9. **Marketing and advertising:** *Adherence to strict guidelines on marketing materials and performance representations.* <br/>\n",
    "The Capital Markets (Collective Investment Schemes) Regulations, 2001, provide guidelines on marketing and advertising for collective investment schemes. These regulations require CMA approval for all advertisements, mandate disclosure of potential value fluctuations, set standards for performance representations, and require warnings about past performance.\n",
    "\n",
    "10. Investor protection: Establishment of clear procedures for handling investor complaints and maintaining segregated client accounts.\n",
    "\n",
    "\n",
    "If you see a fund manager breaking any of these regulations, take it as a red flag and prefarably follow up the matter with CMA at their complaint page, <https://portal.cma.or.ke/complaints/>.\n",
    "\n",
    "<!-- Unit trusts are required to publish their daily and effective annual yields on the daily newspapers, and thus an investor can therefore always confirm the value of their investment as well as benchmark the performance against other unit trusts. It is also mandatory for the scheme to issue monthly statements showing an investor’s investments position.^[Investing in Unit Trust Funds; 19 May, 2019; see <https://cytonn.com/topicals/investing-in-unit-1>]^[Publishing daily the price of units in at least two daily newspapers of national circulation,\n",
    "in English. <https://cma.or.ke/wp-content/uploads/2023/03/CMA-Handbook-2021.pdf> ]\n",
    "\n",
    "Unit Trust is required to have at least three trustees, ^[https://cma.or.ke/wp-content/uploads/2023/03/CMA-Handbook-2021.pdf]\n",
    "\n",
    "^[https://www.google.com/search?q=unit+trusts+are+mandated+to+inform+customers+of+yileds+CMA&sca_esv=d7f5b94d2e0e1e85&sca_upv=1&rlz=1C5GCEM_en&sxsrf=ADLYWIIy4tzw-iKWAAcD-6cN8riYTbVjdA%3A1720446046799&ei=XuyLZqa8MLSOxc8Pw42giA4&ved=0ahUKEwim4-X7yJeHAxU0R_EDHcMGCOEQ4dUDCA8&uact=5&oq=unit+trusts+are+mandated+to+inform+customers+of+yileds+CMA&gs_lp=Egxnd3Mtd2l6LXNlcnAiOnVuaXQgdHJ1c3RzIGFyZSBtYW5kYXRlZCB0byBpbmZvcm0gY3VzdG9tZXJzIG9mIHlpbGVkcyBDTUEyBxAhGKABGAoyBxAhGKABGApI1RFQvwFYtw5wAXgBkAEAmAHeAqABlQmqAQUyLTMuMbgBA8gBAPgBAZgCBaACownCAgoQABiwAxjWBBhHwgIFECEYnwWYAwDiAwUSATEgQIgGAZAGCJIHBzEuMC4zLjGgB5cW&sclient=gws-wiz-serpsssss] -->\n"
   ]
  },
  {
   "cell_type": "code",
   "execution_count": 1,
   "metadata": {},
   "outputs": [
    {
     "name": "stdout",
     "output_type": "stream",
     "text": [
      "Compounding Interval  Future Value  Future Value (Inflation Adjusted)  Total Deposits  Interest Earned\n",
      "      Daily (360/Yr)  36256.991502                       29743.361337           22000     14256.991502\n",
      "      Daily (365/Yr)  36257.195183                       29743.528427           22000     14257.195183\n",
      "   Monthly (12/Year)  35832.302474                       29394.968415           22000     13832.302474\n",
      "           Quarterly  34993.347673                       28706.733271           22000     12993.347673\n",
      "       Semi-annually  33827.861996                       27750.629077           22000     11827.861996\n",
      "            Annually  31788.151861                       26077.356335           22000      9788.151861\n"
     ]
    },
    {
     "data": {
      "application/vnd.plotly.v1+json": {
       "config": {
        "plotlyServerURL": "https://plot.ly"
       },
       "data": [
        {
         "mode": "lines",
         "name": "Daily (365/Yr)",
         "type": "scatter",
         "x": [
          0,
          0.08333333333333333,
          0.16666666666666666,
          0.25,
          0.3333333333333333,
          0.41666666666666663,
          0.5,
          0.5833333333333333,
          0.6666666666666666,
          0.75,
          0.8333333333333333,
          0.9166666666666666,
          1,
          1.0833333333333333,
          1.1666666666666665,
          1.25,
          1.3333333333333333,
          1.4166666666666665,
          1.5,
          1.5833333333333333,
          1.6666666666666665,
          1.75,
          1.8333333333333333,
          1.9166666666666665,
          2,
          2.083333333333333,
          2.1666666666666665,
          2.25,
          2.333333333333333,
          2.4166666666666665,
          2.5,
          2.583333333333333,
          2.6666666666666665,
          2.75,
          2.833333333333333,
          2.9166666666666665,
          3,
          3.083333333333333,
          3.1666666666666665,
          3.25,
          3.333333333333333,
          3.4166666666666665,
          3.5,
          3.583333333333333,
          3.6666666666666665,
          3.75,
          3.833333333333333,
          3.9166666666666665,
          4,
          4.083333333333333,
          4.166666666666666,
          4.25,
          4.333333333333333,
          4.416666666666666,
          4.5,
          4.583333333333333,
          4.666666666666666,
          4.75,
          4.833333333333333,
          4.916666666666666,
          5,
          5.083333333333333,
          5.166666666666666,
          5.25,
          5.333333333333333,
          5.416666666666666,
          5.5,
          5.583333333333333,
          5.666666666666666,
          5.75,
          5.833333333333333,
          5.916666666666666,
          6,
          6.083333333333333,
          6.166666666666666,
          6.25,
          6.333333333333333,
          6.416666666666666,
          6.5,
          6.583333333333333,
          6.666666666666666,
          6.75,
          6.833333333333333,
          6.916666666666666,
          7,
          7.083333333333333,
          7.166666666666666,
          7.25,
          7.333333333333333,
          7.416666666666666,
          7.5,
          7.583333333333333,
          7.666666666666666,
          7.75,
          7.833333333333333,
          7.916666666666666,
          8,
          8.083333333333332,
          8.166666666666666,
          8.25,
          8.333333333333332,
          8.416666666666666,
          8.5,
          8.583333333333332,
          8.666666666666666,
          8.75,
          8.833333333333332,
          8.916666666666666,
          9,
          9.083333333333332,
          9.166666666666666,
          9.25,
          9.333333333333332,
          9.416666666666666,
          9.5,
          9.583333333333332,
          9.666666666666666,
          9.75,
          9.833333333333332,
          9.916666666666666,
          10
         ],
         "y": [
          10000,
          10142.168234649773,
          10285.34813139805,
          10429.54565481059,
          10574.766801603688,
          10721.017600808555,
          10868.304113936558,
          10913.680074146614,
          11166.008691405246,
          11316.439042667847,
          11467.929682033624,
          11620.486835921698,
          11774.116764239961,
          11928.82576055604,
          11978.629475780534,
          12241.506300783067,
          12399.490601679117,
          12558.57948489115,
          12718.779414880553,
          12880.096890812445,
          13042.538446732666,
          13206.11065174567,
          13370.820110193312,
          13536.673461834433,
          13703.677382025428,
          13760.891231868003,
          14041.163808559697,
          14211.659845240674,
          14270.994558816601,
          14556.191663463684,
          14730.241193871767,
          14791.741022298602,
          15081.94214581474,
          15259.607538099053,
          15438.492250719184,
          15618.603362776705,
          15799.947991207662,
          15982.533290974978,
          16166.366455261932,
          16351.454715666365,
          16537.805342396052,
          16725.425644464896,
          16914.322969890196,
          17104.50470589076,
          17295.97827908612,
          17488.75115569662,
          17682.830841744588,
          17878.22488325639,
          18074.94086646556,
          18272.986418016888,
          18349.277465445313,
          18673.09693601318,
          18875.17735965498,
          18953.982598066665,
          19283.42748818998,
          19489.612898336007,
          19570.98344981425,
          19906.143987213734,
          20116.505623046985,
          20200.49349724957,
          20541.461288747425,
          20756.071531413807,
          20842.72963980431,
          21189.597691733743,
          21408.530081790006,
          21628.919732926097,
          21850.774990996328,
          22074.10424611625,
          22298.915932886797,
          22525.21853061932,
          22753.020563561775,
          22982.330601126017,
          23213.157258116353,
          23445.50919495894,
          23679.395117932505,
          23914.823779400227,
          24151.80397804255,
          24390.34455909133,
          24630.454414565083,
          24872.14248350533,
          25115.41775221412,
          25360.28925449276,
          25606.766071881644,
          25854.857333901375,
          26104.572218294918,
          26355.91995127106,
          26608.90980774888,
          26863.55111160376,
          27119.85323591419,
          27377.825603210145,
          27637.47768572235,
          27898.81900563307,
          28161.85913532781,
          28426.607697648607,
          28693.074366148223,
          28961.26886534584,
          29231.20097098376,
          29353.243361245055,
          29776.317362215745,
          30051.52145773962,
          30176.98874570126,
          30607.271365009598,
          30887.83730105649,
          31016.79626849559,
          31454.40184625261,
          31740.42089884552,
          31872.9394648203,
          32317.98407618909,
          32609.548968368556,
          32745.69620725186,
          33198.297687994644,
          33495.50261176883,
          33635.34877155546,
          34095.62674394891,
          34398.56738256682,
          34542.183903458324,
          35010.259802581684,
          35319.033353134335,
          35466.49288640543,
          35942.48998680777,
          36257.1951831616
         ]
        },
        {
         "mode": "lines",
         "name": "Monthly (12/Year)",
         "type": "scatter",
         "x": [
          0,
          0.08333333333333333,
          0.16666666666666666,
          0.25,
          0.3333333333333333,
          0.41666666666666663,
          0.5,
          0.5833333333333333,
          0.6666666666666666,
          0.75,
          0.8333333333333333,
          0.9166666666666666,
          1,
          1.0833333333333333,
          1.1666666666666665,
          1.25,
          1.3333333333333333,
          1.4166666666666665,
          1.5,
          1.5833333333333333,
          1.6666666666666665,
          1.75,
          1.8333333333333333,
          1.9166666666666665,
          2,
          2.083333333333333,
          2.1666666666666665,
          2.25,
          2.333333333333333,
          2.4166666666666665,
          2.5,
          2.583333333333333,
          2.6666666666666665,
          2.75,
          2.833333333333333,
          2.9166666666666665,
          3,
          3.083333333333333,
          3.1666666666666665,
          3.25,
          3.333333333333333,
          3.4166666666666665,
          3.5,
          3.583333333333333,
          3.6666666666666665,
          3.75,
          3.833333333333333,
          3.9166666666666665,
          4,
          4.083333333333333,
          4.166666666666666,
          4.25,
          4.333333333333333,
          4.416666666666666,
          4.5,
          4.583333333333333,
          4.666666666666666,
          4.75,
          4.833333333333333,
          4.916666666666666,
          5,
          5.083333333333333,
          5.166666666666666,
          5.25,
          5.333333333333333,
          5.416666666666666,
          5.5,
          5.583333333333333,
          5.666666666666666,
          5.75,
          5.833333333333333,
          5.916666666666666,
          6,
          6.083333333333333,
          6.166666666666666,
          6.25,
          6.333333333333333,
          6.416666666666666,
          6.5,
          6.583333333333333,
          6.666666666666666,
          6.75,
          6.833333333333333,
          6.916666666666666,
          7,
          7.083333333333333,
          7.166666666666666,
          7.25,
          7.333333333333333,
          7.416666666666666,
          7.5,
          7.583333333333333,
          7.666666666666666,
          7.75,
          7.833333333333333,
          7.916666666666666,
          8,
          8.083333333333332,
          8.166666666666666,
          8.25,
          8.333333333333332,
          8.416666666666666,
          8.5,
          8.583333333333332,
          8.666666666666666,
          8.75,
          8.833333333333332,
          8.916666666666666,
          9,
          9.083333333333332,
          9.166666666666666,
          9.25,
          9.333333333333332,
          9.416666666666666,
          9.5,
          9.583333333333332,
          9.666666666666666,
          9.75,
          9.833333333333332,
          9.916666666666666,
          10
         ],
         "y": [
          10000,
          10142.083333333332,
          10285.142149949068,
          10429.181978747021,
          10574.208377256282,
          10720.226931775826,
          10867.243257515838,
          10912.523437755486,
          11164.291828906642,
          11314.335450815071,
          11465.399596746587,
          11617.490028610684,
          11770.612538090118,
          11924.772946787001,
          11974.459500731944,
          12236.230898719521,
          12393.54023608045,
          12551.911061206427,
          12711.34934751171,
          12871.861099220981,
          13033.452351520362,
          13196.12917070908,
          13359.897654351926,
          13524.763931432377,
          13690.734162506482,
          13747.77888818359,
          14026.011287650987,
          14195.330662091357,
          14254.477873183409,
          14537.36247686404,
          14710.087591212661,
          14771.37962284271,
          15058.98816366434,
          15235.176492286124,
          15412.532151330013,
          15591.061659016566,
          15770.771567043195,
          15951.668460747733,
          16133.75895927286,
          16317.04971573124,
          16501.547417371487,
          16687.258785744863,
          16874.19057687283,
          17062.34958141533,
          17251.74262483992,
          17442.376567591647,
          17634.258305263764,
          17827.394768769274,
          18021.79292451319,
          18217.45977456573,
          18293.365856959754,
          18612.62774524805,
          18812.143049913895,
          18890.526979288526,
          19215.07203046598,
          19418.500109117496,
          19499.41052623882,
          19829.319726569003,
          20036.725890076897,
          20120.212247952226,
          20455.567768971712,
          20667.018334268327,
          20753.130910661104,
          21094.01612599751,
          21309.578430847116,
          21526.526458089025,
          21744.86784339907,
          21964.610261378304,
          22185.761425742392,
          22408.329089511833,
          22632.32104520304,
          22857.745125020432,
          23084.609201049345,
          23312.921185449868,
          23542.689030651592,
          23773.920729549336,
          24006.62431569968,
          24240.807863518494,
          24476.479488479494,
          24713.647347313476,
          24952.319638208734,
          25192.50460101231,
          25434.21051743224,
          25677.445711240653,
          25922.21854847798,
          26168.53743765797,
          26416.41082997381,
          26665.84721950509,
          26916.855143425804,
          27169.443182213356,
          27423.61995985849,
          27679.39414407627,
          27936.77444651794,
          28195.76962298396,
          28456.38847363786,
          28718.6398432212,
          28982.532621269555,
          29103.29317385818,
          29515.27818617631,
          29784.14897803359,
          29908.249598775405,
          30326.93193523406,
          30600.86238024937,
          30728.36597350041,
          31153.847249464277,
          31432.920232016717,
          31563.89073298344,
          31996.2740411311,
          32280.57370879081,
          32415.076099244106,
          32854.46603043248,
          33144.07781237888,
          33282.17813659712,
          33728.68080101458,
          34023.69142671508,
          34165.45680765973,
          34619.1798562716,
          34919.677374424726,
          35065.17603015149,
          35526.22867644206,
          35832.30247418847
         ]
        },
        {
         "mode": "lines",
         "name": "Quarterly",
         "type": "scatter",
         "x": [
          0,
          0.08333333333333333,
          0.16666666666666666,
          0.25,
          0.3333333333333333,
          0.41666666666666663,
          0.5,
          0.5833333333333333,
          0.6666666666666666,
          0.75,
          0.8333333333333333,
          0.9166666666666666,
          1,
          1.0833333333333333,
          1.1666666666666665,
          1.25,
          1.3333333333333333,
          1.4166666666666665,
          1.5,
          1.5833333333333333,
          1.6666666666666665,
          1.75,
          1.8333333333333333,
          1.9166666666666665,
          2,
          2.083333333333333,
          2.1666666666666665,
          2.25,
          2.333333333333333,
          2.4166666666666665,
          2.5,
          2.583333333333333,
          2.6666666666666665,
          2.75,
          2.833333333333333,
          2.9166666666666665,
          3,
          3.083333333333333,
          3.1666666666666665,
          3.25,
          3.333333333333333,
          3.4166666666666665,
          3.5,
          3.583333333333333,
          3.6666666666666665,
          3.75,
          3.833333333333333,
          3.9166666666666665,
          4,
          4.083333333333333,
          4.166666666666666,
          4.25,
          4.333333333333333,
          4.416666666666666,
          4.5,
          4.583333333333333,
          4.666666666666666,
          4.75,
          4.833333333333333,
          4.916666666666666,
          5,
          5.083333333333333,
          5.166666666666666,
          5.25,
          5.333333333333333,
          5.416666666666666,
          5.5,
          5.583333333333333,
          5.666666666666666,
          5.75,
          5.833333333333333,
          5.916666666666666,
          6,
          6.083333333333333,
          6.166666666666666,
          6.25,
          6.333333333333333,
          6.416666666666666,
          6.5,
          6.583333333333333,
          6.666666666666666,
          6.75,
          6.833333333333333,
          6.916666666666666,
          7,
          7.083333333333333,
          7.166666666666666,
          7.25,
          7.333333333333333,
          7.416666666666666,
          7.5,
          7.583333333333333,
          7.666666666666666,
          7.75,
          7.833333333333333,
          7.916666666666666,
          8,
          8.083333333333332,
          8.166666666666666,
          8.25,
          8.333333333333332,
          8.416666666666666,
          8.5,
          8.583333333333332,
          8.666666666666666,
          8.75,
          8.833333333333332,
          8.916666666666666,
          9,
          9.083333333333332,
          9.166666666666666,
          9.25,
          9.333333333333332,
          9.416666666666666,
          9.5,
          9.583333333333332,
          9.666666666666666,
          9.75,
          9.833333333333332,
          9.916666666666666,
          10
         ],
         "y": [
          10000,
          10141.909193744868,
          10284.71956547098,
          10428.435826058003,
          10573.06270895488,
          10718.604970282888,
          10865.067388939142,
          10910.151172528653,
          11160.771928328231,
          11310.023721672447,
          11460.215017777908,
          11611.350710989605,
          11763.435719059114,
          11916.47498325134,
          11965.921503927475,
          12225.436163274095,
          12381.36808016857,
          12538.274255530501,
          12696.15974980948,
          12855.029647619,
          13014.889057846549,
          13175.743113764242,
          13337.596973139878,
          13500.455818348562,
          13664.324856484738,
          13721.023949336543,
          13995.11446419013,
          14162.04557256071,
          14220.809920256163,
          14499.006933965306,
          14669.04787718133,
          14729.915992977125,
          15012.277205307304,
          15185.476433856056,
          15359.739310856054,
          15535.071322855207,
          15711.477982505034,
          15888.96482867934,
          16067.537426593444,
          16247.201367923934,
          16427.962270928932,
          16609.82578056892,
          16792.797568628062,
          16976.883333836104,
          17162.088801990765,
          17348.419726080752,
          17535.881886409188,
          17724.481090717713,
          17914.223174311053,
          18105.114000182202,
          18180.239815073935,
          18490.36546992577,
          18684.73797935945,
          18762.268900552426,
          19077.006422521066,
          19274.914391361483,
          19354.894205385575,
          19674.308125498774,
          19875.806097777488,
          19958.27926694454,
          20282.43498729283,
          20487.578285729607,
          20572.589957783042,
          20901.55376301103,
          21110.398499654348,
          21320.4896563547,
          21531.833586497716,
          21744.436673506796,
          21958.30533097919,
          22173.446002822668,
          22389.86516339278,
          22607.56931763077,
          22826.565001202005,
          23046.858780635102,
          23268.457253461653,
          23491.36704835655,
          23715.594825278884,
          23941.147275613574,
          24168.0311223135,
          24396.25312004238,
          24625.820055318156,
          24856.73874665711,
          25089.016044718566,
          25322.658832450237,
          25557.674025234228,
          25794.068571033666,
          26031.84945053996,
          26271.02367732076,
          26511.598297968536,
          26753.580392249773,
          26996.977073254926,
          27241.795487548894,
          27488.04281532232,
          27735.726270543404,
          27984.853101110497,
          28235.4305890053,
          28487.466050446736,
          28605.672657774317,
          28995.940330959707,
          29252.39395504993,
          29373.774573442337,
          29769.77144465756,
          30030.71032482479,
          30155.320508715788,
          30557.126157275594,
          30822.618336690462,
          30950.514483581206,
          31358.20955809141,
          31628.324042578402,
          31759.563404967103,
          32173.229637388547,
          32448.03640850864,
          32582.67710598237,
          33002.39732587716,
          33281.96735418373,
          33420.068385674516,
          33845.92653463702,
          34130.33179310757,
          34271.9530493149,
          34704.03419558972,
          34993.34767323512
         ]
        },
        {
         "mode": "lines",
         "name": "Semi-annually",
         "type": "scatter",
         "x": [
          0,
          0.08333333333333333,
          0.16666666666666666,
          0.25,
          0.3333333333333333,
          0.41666666666666663,
          0.5,
          0.5833333333333333,
          0.6666666666666666,
          0.75,
          0.8333333333333333,
          0.9166666666666666,
          1,
          1.0833333333333333,
          1.1666666666666665,
          1.25,
          1.3333333333333333,
          1.4166666666666665,
          1.5,
          1.5833333333333333,
          1.6666666666666665,
          1.75,
          1.8333333333333333,
          1.9166666666666665,
          2,
          2.083333333333333,
          2.1666666666666665,
          2.25,
          2.333333333333333,
          2.4166666666666665,
          2.5,
          2.583333333333333,
          2.6666666666666665,
          2.75,
          2.833333333333333,
          2.9166666666666665,
          3,
          3.083333333333333,
          3.1666666666666665,
          3.25,
          3.333333333333333,
          3.4166666666666665,
          3.5,
          3.583333333333333,
          3.6666666666666665,
          3.75,
          3.833333333333333,
          3.9166666666666665,
          4,
          4.083333333333333,
          4.166666666666666,
          4.25,
          4.333333333333333,
          4.416666666666666,
          4.5,
          4.583333333333333,
          4.666666666666666,
          4.75,
          4.833333333333333,
          4.916666666666666,
          5,
          5.083333333333333,
          5.166666666666666,
          5.25,
          5.333333333333333,
          5.416666666666666,
          5.5,
          5.583333333333333,
          5.666666666666666,
          5.75,
          5.833333333333333,
          5.916666666666666,
          6,
          6.083333333333333,
          6.166666666666666,
          6.25,
          6.333333333333333,
          6.416666666666666,
          6.5,
          6.583333333333333,
          6.666666666666666,
          6.75,
          6.833333333333333,
          6.916666666666666,
          7,
          7.083333333333333,
          7.166666666666666,
          7.25,
          7.333333333333333,
          7.416666666666666,
          7.5,
          7.583333333333333,
          7.666666666666666,
          7.75,
          7.833333333333333,
          7.916666666666666,
          8,
          8.083333333333332,
          8.166666666666666,
          8.25,
          8.333333333333332,
          8.416666666666666,
          8.5,
          8.583333333333332,
          8.666666666666666,
          8.75,
          8.833333333333332,
          8.916666666666666,
          9,
          9.083333333333332,
          9.166666666666666,
          9.25,
          9.333333333333332,
          9.416666666666666,
          9.5,
          9.583333333333332,
          9.666666666666666,
          9.75,
          9.833333333333332,
          9.916666666666666,
          10
         ],
         "y": [
          10000,
          10141.651546197958,
          10284.094084483992,
          10427.331302884897,
          10571.366905514165,
          10716.204612640113,
          10861.848160754329,
          10906.64150436451,
          11155.567807442874,
          11303.651460736626,
          11452.55606459638,
          11602.285437666602,
          11752.843415231673,
          11904.233849286342,
          11953.325903358109,
          12209.527578820147,
          12363.438662478893,
          12518.197779129452,
          12673.808865385648,
          12830.275875000674,
          12987.6027789396,
          13145.793565452248,
          13304.852240146336,
          13464.782826060933,
          13625.589363740233,
          13681.780142439067,
          13949.846544540063,
          14113.305356942781,
          14171.507435168582,
          14442.903982371667,
          14609.052071726253,
          14669.298567495942,
          14944.066629649464,
          15112.941482956985,
          15282.733672702996,
          15453.447436945538,
          15625.087032157355,
          15797.656733303762,
          15971.16083392085,
          16145.603646193998,
          16320.989501036722,
          16497.32274816987,
          16674.607756201123,
          16852.848912704816,
          17032.050624302174,
          17212.217316741753,
          17393.35343498033,
          17575.463443264067,
          17758.551825210045,
          17942.623083888124,
          18016.616944709018,
          18313.73234147746,
          18500.779444533888,
          18577.075095002423,
          18877.881507786118,
          19067.945691080487,
          19146.580287204466,
          19451.12356889212,
          19644.246606975354,
          19725.257819358965,
          20033.58439246225,
          20229.808605432314,
          20313.234625997167,
          20625.39148972701,
          20824.75975017077,
          21025.185650183277,
          21226.674036393277,
          21429.22977641567,
          21632.857758940085,
          21837.562893819857,
          22043.350112161366,
          22250.224366413793,
          22458.190630459136,
          22667.25389970275,
          22877.419191164154,
          23088.691543568257,
          23301.076017436964,
          23514.577695181153,
          23729.201681193073,
          23944.953101939063,
          24161.837106052706,
          24379.858864428377,
          24599.023570315123,
          24819.33643941101,
          25040.802709957825,
          25263.427642836137,
          25487.216521660852,
          25712.174652877056,
          25938.30736585634,
          26165.620012993477,
          26394.117969803538,
          26623.80663501937,
          26854.691430689552,
          27086.77780227666,
          27320.07121875603,
          27554.577172714893,
          27790.301180451912,
          27904.906033270992,
          28265.425541612538,
          28504.837047092504,
          28622.38858542242,
          28987.386768694887,
          29230.536281862398,
          29351.08054248963,
          29720.613038539712,
          29967.55172592444,
          30091.135375939495,
          30465.258513793775,
          30716.038206847352,
          30842.708551836524,
          31221.479360287867,
          31476.15256382546,
          31605.95755616666,
          31989.4337724673,
          32248.0536732152,
          32381.04192047898,
          32769.281999141596,
          33031.902474392096,
          33168.12324784937,
          33561.18636955752,
          33827.86199593241
         ]
        },
        {
         "mode": "lines",
         "name": "Annually",
         "type": "scatter",
         "x": [
          0,
          0.08333333333333333,
          0.16666666666666666,
          0.25,
          0.3333333333333333,
          0.41666666666666663,
          0.5,
          0.5833333333333333,
          0.6666666666666666,
          0.75,
          0.8333333333333333,
          0.9166666666666666,
          1,
          1.0833333333333333,
          1.1666666666666665,
          1.25,
          1.3333333333333333,
          1.4166666666666665,
          1.5,
          1.5833333333333333,
          1.6666666666666665,
          1.75,
          1.8333333333333333,
          1.9166666666666665,
          2,
          2.083333333333333,
          2.1666666666666665,
          2.25,
          2.333333333333333,
          2.4166666666666665,
          2.5,
          2.583333333333333,
          2.6666666666666665,
          2.75,
          2.833333333333333,
          2.9166666666666665,
          3,
          3.083333333333333,
          3.1666666666666665,
          3.25,
          3.333333333333333,
          3.4166666666666665,
          3.5,
          3.583333333333333,
          3.6666666666666665,
          3.75,
          3.833333333333333,
          3.9166666666666665,
          4,
          4.083333333333333,
          4.166666666666666,
          4.25,
          4.333333333333333,
          4.416666666666666,
          4.5,
          4.583333333333333,
          4.666666666666666,
          4.75,
          4.833333333333333,
          4.916666666666666,
          5,
          5.083333333333333,
          5.166666666666666,
          5.25,
          5.333333333333333,
          5.416666666666666,
          5.5,
          5.583333333333333,
          5.666666666666666,
          5.75,
          5.833333333333333,
          5.916666666666666,
          6,
          6.083333333333333,
          6.166666666666666,
          6.25,
          6.333333333333333,
          6.416666666666666,
          6.5,
          6.583333333333333,
          6.666666666666666,
          6.75,
          6.833333333333333,
          6.916666666666666,
          7,
          7.083333333333333,
          7.166666666666666,
          7.25,
          7.333333333333333,
          7.416666666666666,
          7.5,
          7.583333333333333,
          7.666666666666666,
          7.75,
          7.833333333333333,
          7.916666666666666,
          8,
          8.083333333333332,
          8.166666666666666,
          8.25,
          8.333333333333332,
          8.416666666666666,
          8.5,
          8.583333333333332,
          8.666666666666666,
          8.75,
          8.833333333333332,
          8.916666666666666,
          9,
          9.083333333333332,
          9.166666666666666,
          9.25,
          9.333333333333332,
          9.416666666666666,
          9.5,
          9.583333333333332,
          9.666666666666666,
          9.75,
          9.833333333333332,
          9.916666666666666,
          10
         ],
         "y": [
          10000,
          10141.14865021485,
          10282.872357502565,
          10425.173464716852,
          10568.05432425648,
          10711.517298104183,
          10855.564757865717,
          10899.79167243067,
          11145.422669903688,
          11291.23791386032,
          11437.647227170375,
          11584.653030145933,
          11732.257752959727,
          11880.46383568532,
          11928.866315959058,
          12178.689890912423,
          12328.714793429031,
          12479.350915969122,
          12630.600748718729,
          12782.466792009216,
          12934.951556358601,
          13088.057562513064,
          13241.787341488622,
          13396.143434612957,
          13551.128393567442,
          13606.337368050948,
          13862.995167714023,
          14019.88213841777,
          14077.000873681845,
          14335.576214727307,
          14494.388539114394,
          14553.440472191038,
          14813.956887136255,
          14974.718193598446,
          15136.13446152278,
          15298.208359303333,
          15460.942566205546,
          15624.339772410507,
          15788.402679059453,
          15953.13399829839,
          16118.53645332295,
          16284.612778423403,
          16451.365719029847,
          16618.798031757604,
          16786.9124844528,
          16955.711856238097,
          17125.19893755865,
          17295.37653022823,
          17466.247447475555,
          17637.81451399077,
          17709.67315359379,
          17983.048451173043,
          18156.72102894883,
          18230.69375792594,
          18506.19175794107,
          18681.99568630522,
          18758.108449256808,
          19035.75520200974,
          19213.71663739632,
          19291.995697321014,
          19571.81757280907,
          19751.96299265004,
          19832.43493485214,
          20114.458626691434,
          20296.81483335601,
          20479.913981779253,
          20663.75909879786,
          20848.353223580216,
          21033.699407676668,
          21219.80071506996,
          21406.66022222587,
          21594.281018144084,
          21782.666204409255,
          21971.81889524227,
          22161.742217551753,
          22352.439310985726,
          22543.91332798353,
          22736.167433827937,
          22929.20480669747,
          23123.028637718944,
          23317.64213102022,
          23513.04850378317,
          23709.25098629688,
          23906.252822011003,
          24104.057267589433,
          24302.667592964102,
          24502.08708138906,
          24702.319029494734,
          24903.366747342432,
          25105.23355847906,
          25307.92279999207,
          25511.437822564618,
          25715.781990530955,
          25920.958681932058,
          26126.971288571443,
          26333.823216071272,
          26541.517883928627,
          26649.651313193666,
          26959.449188418243,
          27169.692733929198,
          27280.38542529091,
          27592.752989362736,
          27805.5766929514,
          27918.86005427421,
          28233.828843017232,
          28449.26436898839,
          28565.17019358138,
          28882.772129834568,
          29100.851531084783,
          29219.412002431996,
          29539.679400798883,
          29760.435123585386,
          29881.6828201341,
          30204.648391790604,
          30428.1132805587,
          30552.08118056657,
          30877.778038127824,
          31103.98534039754,
          31230.706826839098,
          31559.168489286025,
          31788.151860598755
         ]
        }
       ],
       "layout": {
        "legend": {
         "title": {
          "text": "Compounding Interval"
         }
        },
        "template": {
         "data": {
          "bar": [
           {
            "error_x": {
             "color": "#2a3f5f"
            },
            "error_y": {
             "color": "#2a3f5f"
            },
            "marker": {
             "line": {
              "color": "#E5ECF6",
              "width": 0.5
             },
             "pattern": {
              "fillmode": "overlay",
              "size": 10,
              "solidity": 0.2
             }
            },
            "type": "bar"
           }
          ],
          "barpolar": [
           {
            "marker": {
             "line": {
              "color": "#E5ECF6",
              "width": 0.5
             },
             "pattern": {
              "fillmode": "overlay",
              "size": 10,
              "solidity": 0.2
             }
            },
            "type": "barpolar"
           }
          ],
          "carpet": [
           {
            "aaxis": {
             "endlinecolor": "#2a3f5f",
             "gridcolor": "white",
             "linecolor": "white",
             "minorgridcolor": "white",
             "startlinecolor": "#2a3f5f"
            },
            "baxis": {
             "endlinecolor": "#2a3f5f",
             "gridcolor": "white",
             "linecolor": "white",
             "minorgridcolor": "white",
             "startlinecolor": "#2a3f5f"
            },
            "type": "carpet"
           }
          ],
          "choropleth": [
           {
            "colorbar": {
             "outlinewidth": 0,
             "ticks": ""
            },
            "type": "choropleth"
           }
          ],
          "contour": [
           {
            "colorbar": {
             "outlinewidth": 0,
             "ticks": ""
            },
            "colorscale": [
             [
              0,
              "#0d0887"
             ],
             [
              0.1111111111111111,
              "#46039f"
             ],
             [
              0.2222222222222222,
              "#7201a8"
             ],
             [
              0.3333333333333333,
              "#9c179e"
             ],
             [
              0.4444444444444444,
              "#bd3786"
             ],
             [
              0.5555555555555556,
              "#d8576b"
             ],
             [
              0.6666666666666666,
              "#ed7953"
             ],
             [
              0.7777777777777778,
              "#fb9f3a"
             ],
             [
              0.8888888888888888,
              "#fdca26"
             ],
             [
              1,
              "#f0f921"
             ]
            ],
            "type": "contour"
           }
          ],
          "contourcarpet": [
           {
            "colorbar": {
             "outlinewidth": 0,
             "ticks": ""
            },
            "type": "contourcarpet"
           }
          ],
          "heatmap": [
           {
            "colorbar": {
             "outlinewidth": 0,
             "ticks": ""
            },
            "colorscale": [
             [
              0,
              "#0d0887"
             ],
             [
              0.1111111111111111,
              "#46039f"
             ],
             [
              0.2222222222222222,
              "#7201a8"
             ],
             [
              0.3333333333333333,
              "#9c179e"
             ],
             [
              0.4444444444444444,
              "#bd3786"
             ],
             [
              0.5555555555555556,
              "#d8576b"
             ],
             [
              0.6666666666666666,
              "#ed7953"
             ],
             [
              0.7777777777777778,
              "#fb9f3a"
             ],
             [
              0.8888888888888888,
              "#fdca26"
             ],
             [
              1,
              "#f0f921"
             ]
            ],
            "type": "heatmap"
           }
          ],
          "heatmapgl": [
           {
            "colorbar": {
             "outlinewidth": 0,
             "ticks": ""
            },
            "colorscale": [
             [
              0,
              "#0d0887"
             ],
             [
              0.1111111111111111,
              "#46039f"
             ],
             [
              0.2222222222222222,
              "#7201a8"
             ],
             [
              0.3333333333333333,
              "#9c179e"
             ],
             [
              0.4444444444444444,
              "#bd3786"
             ],
             [
              0.5555555555555556,
              "#d8576b"
             ],
             [
              0.6666666666666666,
              "#ed7953"
             ],
             [
              0.7777777777777778,
              "#fb9f3a"
             ],
             [
              0.8888888888888888,
              "#fdca26"
             ],
             [
              1,
              "#f0f921"
             ]
            ],
            "type": "heatmapgl"
           }
          ],
          "histogram": [
           {
            "marker": {
             "pattern": {
              "fillmode": "overlay",
              "size": 10,
              "solidity": 0.2
             }
            },
            "type": "histogram"
           }
          ],
          "histogram2d": [
           {
            "colorbar": {
             "outlinewidth": 0,
             "ticks": ""
            },
            "colorscale": [
             [
              0,
              "#0d0887"
             ],
             [
              0.1111111111111111,
              "#46039f"
             ],
             [
              0.2222222222222222,
              "#7201a8"
             ],
             [
              0.3333333333333333,
              "#9c179e"
             ],
             [
              0.4444444444444444,
              "#bd3786"
             ],
             [
              0.5555555555555556,
              "#d8576b"
             ],
             [
              0.6666666666666666,
              "#ed7953"
             ],
             [
              0.7777777777777778,
              "#fb9f3a"
             ],
             [
              0.8888888888888888,
              "#fdca26"
             ],
             [
              1,
              "#f0f921"
             ]
            ],
            "type": "histogram2d"
           }
          ],
          "histogram2dcontour": [
           {
            "colorbar": {
             "outlinewidth": 0,
             "ticks": ""
            },
            "colorscale": [
             [
              0,
              "#0d0887"
             ],
             [
              0.1111111111111111,
              "#46039f"
             ],
             [
              0.2222222222222222,
              "#7201a8"
             ],
             [
              0.3333333333333333,
              "#9c179e"
             ],
             [
              0.4444444444444444,
              "#bd3786"
             ],
             [
              0.5555555555555556,
              "#d8576b"
             ],
             [
              0.6666666666666666,
              "#ed7953"
             ],
             [
              0.7777777777777778,
              "#fb9f3a"
             ],
             [
              0.8888888888888888,
              "#fdca26"
             ],
             [
              1,
              "#f0f921"
             ]
            ],
            "type": "histogram2dcontour"
           }
          ],
          "mesh3d": [
           {
            "colorbar": {
             "outlinewidth": 0,
             "ticks": ""
            },
            "type": "mesh3d"
           }
          ],
          "parcoords": [
           {
            "line": {
             "colorbar": {
              "outlinewidth": 0,
              "ticks": ""
             }
            },
            "type": "parcoords"
           }
          ],
          "pie": [
           {
            "automargin": true,
            "type": "pie"
           }
          ],
          "scatter": [
           {
            "fillpattern": {
             "fillmode": "overlay",
             "size": 10,
             "solidity": 0.2
            },
            "type": "scatter"
           }
          ],
          "scatter3d": [
           {
            "line": {
             "colorbar": {
              "outlinewidth": 0,
              "ticks": ""
             }
            },
            "marker": {
             "colorbar": {
              "outlinewidth": 0,
              "ticks": ""
             }
            },
            "type": "scatter3d"
           }
          ],
          "scattercarpet": [
           {
            "marker": {
             "colorbar": {
              "outlinewidth": 0,
              "ticks": ""
             }
            },
            "type": "scattercarpet"
           }
          ],
          "scattergeo": [
           {
            "marker": {
             "colorbar": {
              "outlinewidth": 0,
              "ticks": ""
             }
            },
            "type": "scattergeo"
           }
          ],
          "scattergl": [
           {
            "marker": {
             "colorbar": {
              "outlinewidth": 0,
              "ticks": ""
             }
            },
            "type": "scattergl"
           }
          ],
          "scattermapbox": [
           {
            "marker": {
             "colorbar": {
              "outlinewidth": 0,
              "ticks": ""
             }
            },
            "type": "scattermapbox"
           }
          ],
          "scatterpolar": [
           {
            "marker": {
             "colorbar": {
              "outlinewidth": 0,
              "ticks": ""
             }
            },
            "type": "scatterpolar"
           }
          ],
          "scatterpolargl": [
           {
            "marker": {
             "colorbar": {
              "outlinewidth": 0,
              "ticks": ""
             }
            },
            "type": "scatterpolargl"
           }
          ],
          "scatterternary": [
           {
            "marker": {
             "colorbar": {
              "outlinewidth": 0,
              "ticks": ""
             }
            },
            "type": "scatterternary"
           }
          ],
          "surface": [
           {
            "colorbar": {
             "outlinewidth": 0,
             "ticks": ""
            },
            "colorscale": [
             [
              0,
              "#0d0887"
             ],
             [
              0.1111111111111111,
              "#46039f"
             ],
             [
              0.2222222222222222,
              "#7201a8"
             ],
             [
              0.3333333333333333,
              "#9c179e"
             ],
             [
              0.4444444444444444,
              "#bd3786"
             ],
             [
              0.5555555555555556,
              "#d8576b"
             ],
             [
              0.6666666666666666,
              "#ed7953"
             ],
             [
              0.7777777777777778,
              "#fb9f3a"
             ],
             [
              0.8888888888888888,
              "#fdca26"
             ],
             [
              1,
              "#f0f921"
             ]
            ],
            "type": "surface"
           }
          ],
          "table": [
           {
            "cells": {
             "fill": {
              "color": "#EBF0F8"
             },
             "line": {
              "color": "white"
             }
            },
            "header": {
             "fill": {
              "color": "#C8D4E3"
             },
             "line": {
              "color": "white"
             }
            },
            "type": "table"
           }
          ]
         },
         "layout": {
          "annotationdefaults": {
           "arrowcolor": "#2a3f5f",
           "arrowhead": 0,
           "arrowwidth": 1
          },
          "autotypenumbers": "strict",
          "coloraxis": {
           "colorbar": {
            "outlinewidth": 0,
            "ticks": ""
           }
          },
          "colorscale": {
           "diverging": [
            [
             0,
             "#8e0152"
            ],
            [
             0.1,
             "#c51b7d"
            ],
            [
             0.2,
             "#de77ae"
            ],
            [
             0.3,
             "#f1b6da"
            ],
            [
             0.4,
             "#fde0ef"
            ],
            [
             0.5,
             "#f7f7f7"
            ],
            [
             0.6,
             "#e6f5d0"
            ],
            [
             0.7,
             "#b8e186"
            ],
            [
             0.8,
             "#7fbc41"
            ],
            [
             0.9,
             "#4d9221"
            ],
            [
             1,
             "#276419"
            ]
           ],
           "sequential": [
            [
             0,
             "#0d0887"
            ],
            [
             0.1111111111111111,
             "#46039f"
            ],
            [
             0.2222222222222222,
             "#7201a8"
            ],
            [
             0.3333333333333333,
             "#9c179e"
            ],
            [
             0.4444444444444444,
             "#bd3786"
            ],
            [
             0.5555555555555556,
             "#d8576b"
            ],
            [
             0.6666666666666666,
             "#ed7953"
            ],
            [
             0.7777777777777778,
             "#fb9f3a"
            ],
            [
             0.8888888888888888,
             "#fdca26"
            ],
            [
             1,
             "#f0f921"
            ]
           ],
           "sequentialminus": [
            [
             0,
             "#0d0887"
            ],
            [
             0.1111111111111111,
             "#46039f"
            ],
            [
             0.2222222222222222,
             "#7201a8"
            ],
            [
             0.3333333333333333,
             "#9c179e"
            ],
            [
             0.4444444444444444,
             "#bd3786"
            ],
            [
             0.5555555555555556,
             "#d8576b"
            ],
            [
             0.6666666666666666,
             "#ed7953"
            ],
            [
             0.7777777777777778,
             "#fb9f3a"
            ],
            [
             0.8888888888888888,
             "#fdca26"
            ],
            [
             1,
             "#f0f921"
            ]
           ]
          },
          "colorway": [
           "#636efa",
           "#EF553B",
           "#00cc96",
           "#ab63fa",
           "#FFA15A",
           "#19d3f3",
           "#FF6692",
           "#B6E880",
           "#FF97FF",
           "#FECB52"
          ],
          "font": {
           "color": "#2a3f5f"
          },
          "geo": {
           "bgcolor": "white",
           "lakecolor": "white",
           "landcolor": "#E5ECF6",
           "showlakes": true,
           "showland": true,
           "subunitcolor": "white"
          },
          "hoverlabel": {
           "align": "left"
          },
          "hovermode": "closest",
          "mapbox": {
           "style": "light"
          },
          "paper_bgcolor": "white",
          "plot_bgcolor": "#E5ECF6",
          "polar": {
           "angularaxis": {
            "gridcolor": "white",
            "linecolor": "white",
            "ticks": ""
           },
           "bgcolor": "#E5ECF6",
           "radialaxis": {
            "gridcolor": "white",
            "linecolor": "white",
            "ticks": ""
           }
          },
          "scene": {
           "xaxis": {
            "backgroundcolor": "#E5ECF6",
            "gridcolor": "white",
            "gridwidth": 2,
            "linecolor": "white",
            "showbackground": true,
            "ticks": "",
            "zerolinecolor": "white"
           },
           "yaxis": {
            "backgroundcolor": "#E5ECF6",
            "gridcolor": "white",
            "gridwidth": 2,
            "linecolor": "white",
            "showbackground": true,
            "ticks": "",
            "zerolinecolor": "white"
           },
           "zaxis": {
            "backgroundcolor": "#E5ECF6",
            "gridcolor": "white",
            "gridwidth": 2,
            "linecolor": "white",
            "showbackground": true,
            "ticks": "",
            "zerolinecolor": "white"
           }
          },
          "shapedefaults": {
           "line": {
            "color": "#2a3f5f"
           }
          },
          "ternary": {
           "aaxis": {
            "gridcolor": "white",
            "linecolor": "white",
            "ticks": ""
           },
           "baxis": {
            "gridcolor": "white",
            "linecolor": "white",
            "ticks": ""
           },
           "bgcolor": "#E5ECF6",
           "caxis": {
            "gridcolor": "white",
            "linecolor": "white",
            "ticks": ""
           }
          },
          "title": {
           "x": 0.05
          },
          "xaxis": {
           "automargin": true,
           "gridcolor": "white",
           "linecolor": "white",
           "ticks": "",
           "title": {
            "standoff": 15
           },
           "zerolinecolor": "white",
           "zerolinewidth": 2
          },
          "yaxis": {
           "automargin": true,
           "gridcolor": "white",
           "linecolor": "white",
           "ticks": "",
           "title": {
            "standoff": 15
           },
           "zerolinecolor": "white",
           "zerolinewidth": 2
          }
         }
        },
        "title": {
         "text": "Compound Interest Comparison"
        },
        "xaxis": {
         "title": {
          "text": "Years"
         }
        },
        "yaxis": {
         "title": {
          "text": "Account Balance"
         }
        }
       }
      }
     },
     "metadata": {},
     "output_type": "display_data"
    }
   ],
   "source": [
    "import numpy as np\n",
    "import pandas as pd\n",
    "import plotly.graph_objects as go\n",
    "from typing import List, Tuple\n",
    "\n",
    "def compound_interest(principal: float, rate: float, time: float, n: int, additions: float, addition_frequency: int) -> Tuple[float, float, float]:\n",
    "    total_deposits = principal + additions * addition_frequency * time\n",
    "    amount = principal * (1 + rate/n)**(n*time)\n",
    "    for i in range(int(time * addition_frequency)):\n",
    "        amount += additions * (1 + rate/n)**(n*time - i/addition_frequency)\n",
    "    interest_earned = amount - total_deposits\n",
    "    return amount, total_deposits, interest_earned\n",
    "\n",
    "def inflation_adjusted_value(future_value: float, inflation_rate: float, time: float) -> float:\n",
    "    return future_value / (1 + inflation_rate)**time\n",
    "\n",
    "def calculate_compound_interest(initial_balance: float, annual_rate: float, years: float, \n",
    "                                addition: float, addition_frequency: int, inflation_rate: float) -> pd.DataFrame:\n",
    "    compounding_intervals = {\n",
    "        'Daily (360/Yr)': 360,\n",
    "        'Daily (365/Yr)': 365,\n",
    "        'Monthly (12/Year)': 12,\n",
    "        'Quarterly': 4,\n",
    "        'Semi-annually': 2,\n",
    "        'Annually': 1\n",
    "    }\n",
    "    \n",
    "    results = []\n",
    "    for interval, n in compounding_intervals.items():\n",
    "        future_value, total_deposits, interest_earned = compound_interest(initial_balance, annual_rate, years, n, addition, addition_frequency)\n",
    "        inflation_adjusted = inflation_adjusted_value(future_value, inflation_rate, years)\n",
    "        results.append({\n",
    "            'Compounding Interval': interval,\n",
    "            'Future Value': future_value,\n",
    "            'Future Value (Inflation Adjusted)': inflation_adjusted,\n",
    "            'Total Deposits': total_deposits,\n",
    "            'Interest Earned': interest_earned\n",
    "        })\n",
    "    \n",
    "    return pd.DataFrame(results)\n",
    "\n",
    "def plot_compound_interest(initial_balance: float, annual_rate: float, years: float, \n",
    "                           addition: float, addition_frequency: int) -> go.Figure:\n",
    "    compounding_intervals = {\n",
    "        'Daily (365/Yr)': 365,\n",
    "        'Monthly (12/Year)': 12,\n",
    "        'Quarterly': 4,\n",
    "        'Semi-annually': 2,\n",
    "        'Annually': 1\n",
    "    }\n",
    "    \n",
    "    fig = go.Figure()\n",
    "    \n",
    "    for interval, n in compounding_intervals.items():\n",
    "        x = np.linspace(0, years, int(years * 12) + 1)\n",
    "        y = [compound_interest(initial_balance, annual_rate, t, n, addition, addition_frequency)[0] for t in x]\n",
    "        fig.add_trace(go.Scatter(x=x, y=y, mode='lines', name=interval))\n",
    "    \n",
    "    fig.update_layout(\n",
    "        title='Compound Interest Comparison',\n",
    "        xaxis_title='Years',\n",
    "        yaxis_title='Account Balance',\n",
    "        legend_title='Compounding Interval'\n",
    "    )\n",
    "    \n",
    "    return fig\n",
    "\n",
    "# Example usage\n",
    "initial_balance = 10000\n",
    "annual_rate = 0.05\n",
    "years = 10\n",
    "addition = 100\n",
    "addition_frequency = 12  # monthly\n",
    "inflation_rate = 0.02\n",
    "\n",
    "# Calculate and display the comparison table\n",
    "df = calculate_compound_interest(initial_balance, annual_rate, years, addition, addition_frequency, inflation_rate)\n",
    "print(df.to_string(index=False))\n",
    "\n",
    "# Plot the compound interest comparison\n",
    "fig = plot_compound_interest(initial_balance, annual_rate, years, addition, addition_frequency)\n",
    "fig.show()"
   ]
  },
  {
   "cell_type": "code",
   "execution_count": null,
   "metadata": {},
   "outputs": [],
   "source": []
  },
  {
   "cell_type": "markdown",
   "metadata": {},
   "source": [
    "## Comparison: Money Market Investments vs. Bank Deposits in Kenya\n",
    "\n",
    "| Feature | Money Market Funds (KES) | Bank Deposits (KES) |\n",
    "|---------|--------------------------|----------------|\n",
    "| Withdraw time | Same day to 3 business days depending on account type and fund manager. Joint accounts may take longer than personal accounts. Withdrwal via bank account may take longer than MPESA withdrwals. | Same day to 7 business days, depending on account type. Same day for Saving account. |\n",
    "| Adding new Money | Can be done easily, often with minimum amounts | Can be done easily, sometimes with minimum amounts depending on account type  |\n",
    "| Interest type | Generally Compound Interest | Usually Simple interest |\n",
    "| Risk level | Low to moderate. There is about 25% chance you can loose your principal investment, or part ot it. | Low. There is about 15% you can loose your principle investment, or part of it. |\n",
    "| Secured | Not secured by government | Secured up to Ksh 500,000 by KDIC^[[Kenya Deposit Insurance Corporation](https://kdic.go.ke/)] |\n",
    "| Penalties | May have penalties for more than two withdrawals per month. No penalty for Cancelation. | Savings accounts - no penalty for withdrawal, may have penalty on cancelation; <br/><br/> Fixed deposits - may have penalties for withdrawing and cancelation. |\n",
    "| Creating an account | Simpler process and usually require lower initial deposit, approximately Ksh 5,000; your KRA PIN and one or more KYC documents | Simple process, higher initial deposit, averagely Ksh 20,000. |\n",
    "| Interest rate | Generally higher than inflation (approximately 10-17% p.a.)**<br/>The interest rates determined by daily market yield, with factors such as Treasury bills greately determining the yield. | Generally lower than inflation with exception of bank campaign offers to attract new customers. |\n",
    "| Minimum balance | Often No minumum balance. You can withdrawl all your money. | Savings accounts may have minimum balance. Fixed deposits can be withdrawn fully withput a minimum balance. |\n",
    "| Account management | Fund managers manage the account, taking a percentage of the profit, usually 2%. | No necessary management. |\n",
    "| Accessibility | Less accessible, may require sending an email to initiate withdrawals. Some fund managers have mobile or wen applications but transactions need to be approved. | Highly accessible through bank branches and digital platforms |\n",
    "| Investment options | Mostly T-bills, commercial papers, and bank deposits. | No disclosure of where the money is invested. |\n",
    "| Term length | Flexible, short-term to long-term. You can invest today and withdraw after one week, without a pernalty, and having earned interest for that one week. | Fixed on either minimum period before withdrwal (approximately 6 months), or fixed intervals of withdrawal. |\n",
    "| Yield fluctuations | More sensitive to market conditions | More stable, fixed interest. |"
   ]
  },
  {
   "cell_type": "markdown",
   "metadata": {},
   "source": [
    "## Data\n",
    "\n",
    "Despite the requirements to have the daily yield published in two national newspapers, it is fairly tasking to find a good data source. Also, since there dont have to publish the newspapers that have digital alternatives, it also becomes difficult to capture all yileds without visiting the library and grabbing the actual physical copies, which makes this task very expesnsive. Again, getting historical data is also not free, most old newspaper records are sold, adding up the cost. Fortunately, since 2014, Cytonn has been doing free makket research, and publishing them at <https://cytonnreport.com/>. A few fund managers publish their daily yields at their websites, but without historical data; just the current day's yield, which effectively makes this data unuseful for analysis.\n",
    "\n",
    "We settled on crawling and analysing the massive cytton research data that is publicly available since 2014. With over 600 reports with, crawl each of the reports in a way that doesnt break their systems, or deny others the service, extract the table, aggregate the table results and analyze the tables. We checked with Cytonn's terms of service. users are allowed to use their copyright data in accordance with fair use/dealing, ^[Reproduction is prohibited other than in accordance with the copyright notice, which forms part of these terms and conditions. <https://cytonn.com/terms-of-use> ]. To allow others to reproduce this analysys, we will save a copy of the crawled data for future researchers and data enthusisists."
   ]
  },
  {
   "cell_type": "markdown",
   "metadata": {},
   "source": [
    "## Analysis"
   ]
  },
  {
   "cell_type": "markdown",
   "metadata": {},
   "source": [
    "### Imports"
   ]
  },
  {
   "cell_type": "code",
   "execution_count": null,
   "metadata": {},
   "outputs": [],
   "source": [
    "import sys\n",
    "import os\n",
    "\n",
    "# Add parent directory to sys.path\n",
    "root_dir = os.path.abspath(os.path.join(os.getcwd(), '../..'))\n",
    "sys.path.append(root_dir)\n",
    "\n",
    "%load_ext autoreload\n",
    "%autoreload 2"
   ]
  },
  {
   "cell_type": "code",
   "execution_count": null,
   "metadata": {},
   "outputs": [],
   "source": [
    "import pandas as pd\n",
    "from pyppeteer.page import Page\n",
    "import asyncio\n",
    "import json\n",
    "import io\n",
    "from bs4 import BeautifulSoup, Tag\n",
    "from urllib.request import urlopen\n",
    "from pyppeteer.page import Request\n",
    "from matplotlib import pyplot as plt\n",
    "from tqdm import tqdm\n",
    "import re\n",
    "import webbrowser\n",
    "from typing import Callable\n",
    "from copy import copy\n",
    "from datetime import datetime, timedelta\n",
    "import plotly.io as pio\n",
    "import plotly.express as px\n",
    "from python_utils.web_screenshot import web_screenshot_async\n",
    "from python_utils.get_browser import get_browser_page_async\n",
    "\n",
    "pio.renderers.default = \"plotly_mimetype+notebook_connected\""
   ]
  },
  {
   "cell_type": "markdown",
   "metadata": {},
   "source": [
    "### Fund Managers"
   ]
  },
  {
   "cell_type": "markdown",
   "metadata": {},
   "source": [
    "Let's start of by listing all the certified fund mangers in Kenya by CMA.^[Approved Fund Managers by CMA. <https://www.cma.or.ke/licensees-market-players/>]"
   ]
  },
  {
   "cell_type": "markdown",
   "metadata": {},
   "source": [
    "Lets start with a screenshot of the webpage."
   ]
  },
  {
   "cell_type": "code",
   "execution_count": null,
   "metadata": {},
   "outputs": [],
   "source": [
    "async def action(page: Page):\n",
    "    await page.waitForSelector('ul.module-accordion')\n",
    "    elements = await page.querySelectorAll('li .accordion-title')\n",
    "    # Iterate through the elements to find the one containing 'FUND MANAGERS'\n",
    "    for element in elements:\n",
    "        text_content = await page.evaluate('(element) => element.textContent', element)\n",
    "        if 'FUND MANAGERS' in text_content:\n",
    "            # Click on the target element\n",
    "            await element.click()\n",
    "            break\n",
    "    else:\n",
    "        print('Element not found')\n",
    "    await page.waitForSelector('li.current.builder-accordion-active')\n",
    "    await asyncio.sleep(1)\n",
    "\n",
    "await web_screenshot_async(\n",
    "    \"https://www.cma.or.ke/licensees-market-players/\", \n",
    "    action = action,\n",
    "    width=1500)"
   ]
  },
  {
   "cell_type": "markdown",
   "metadata": {},
   "source": [
    "Let's query the \"Fund Managers\" table."
   ]
  },
  {
   "cell_type": "code",
   "execution_count": null,
   "metadata": {},
   "outputs": [],
   "source": [
    "url_response = urlopen(\"https://www.cma.or.ke/licensees-market-players/\").read()\n",
    "fund_managers_html_table = BeautifulSoup(url_response, \"html.parser\")\\\n",
    "    .find('span', string=\"FUND MANAGERS\")\\\n",
    "        .parent\\\n",
    "            .parent\\\n",
    "                .parent\\\n",
    "                    .find('table')\n",
    "\n",
    "fund_managers_df = pd.read_html(io.StringIO(str(fund_managers_html_table)))[0].dropna()\n",
    "fund_managers_df"
   ]
  },
  {
   "cell_type": "markdown",
   "metadata": {},
   "source": [
    "The address of `African Alliance Kenya Asset Management Limited` doesnt seem to be valid, lets populate it with `P.O. Box 27639 Nairobi 00506`"
   ]
  },
  {
   "cell_type": "code",
   "execution_count": null,
   "metadata": {},
   "outputs": [],
   "source": [
    "fund_managers_df.loc[fund_managers_df['LICENCE NO.'] == 165, 'ADDRESS'] = 'P.O. Box 27639 Nairobi 00506'\n",
    "fund_managers_df"
   ]
  },
  {
   "cell_type": "markdown",
   "metadata": {},
   "source": [
    "### Add Columns"
   ]
  },
  {
   "cell_type": "markdown",
   "metadata": {},
   "source": [
    "- Location Coordinates (and google map)\n",
    "- Headquter location/address/country\n",
    "- Launch Date\n",
    "- Risk Profile\n",
    "- Trustee\n",
    "- Custodian\n",
    "- Auditors\n",
    "- Minimum Investment\n",
    "- Minimum Additional Investment\n",
    "- Initial Fee\n",
    "- Annual Management Fee\n",
    "- Distribution\n",
    "- Asset Under Management/Market share\n",
    "- Advertised Rate [Gross, Net]\n",
    "- Duration to withdraw\n",
    "- Security - joint account verification/validation\n",
    "- has online portal\n",
    "- Withdraw chargessssss\n",
    "- Contacts\n",
    "- where are the daily yileds published!\n",
    "- allows MPESA\n",
    "\n",
    "https://cytonnreport.com/research/cmmf-fact-sheet-june-2021\n",
    "\n",
    "https://cytonnreport.com/research/cmmf-fact-sheet-may-2021\n",
    "\n",
    "https://cytonnreport.com/research/cmmf-fact-sheet-april-2021\n",
    "\n",
    "https://ke.cicinsurancegroup.com/mmf/\n",
    "\n",
    "https://ke.britam.com/save-and-invest/business/invest/unit-trust-funds/unit-trusts\n",
    "\n",
    "\n",
    "TAKE NOTE OF USD MMF\n",
    "TAKE NOTE OF MERGED OBSOLTELE MANAGERS, EG ALPHA/KASHA NPW ORIENT"
   ]
  },
  {
   "cell_type": "markdown",
   "metadata": {},
   "source": [
    "### Getting the Perormance"
   ]
  },
  {
   "cell_type": "markdown",
   "metadata": {},
   "source": [
    "According to Capital Markets Authority, fund managers are required to publish their yields daily in a reputable newspaper. What this means accessing hostorical records requires a significant investment in time to collect, aggregate and validate the published yields. That not withstanding, two very important questions become obvious:\n",
    " - what is a reputbale newspaper? \n",
    " - what yield do they publish, gross or net?\n",
    " - What picture does an anualized daily rate paint?\n",
    " - Is interest deffered or carried forward (reporting a convervative figure and retaining the rest for rainy day to preserve a picture of good performance)?\n",
    "\n",
    "Luckily, one of the fund managers, one that has recently found its self in the courts far more often than it would have wished, does exelent investment and market research. It has a good-enough aggregate of fund managers and their performance weekly and monthly. We are going to crawl their data for analysis, and analyze it for manipulation.If the data comeout clean, we will analyze the trend of fund managers using the data."
   ]
  },
  {
   "cell_type": "markdown",
   "metadata": {},
   "source": [
    "### Cytton Research\n",
    "\n",
    "We are going to crawl the data from cytonn research, https://cytonn.com/researches/categories/1"
   ]
  },
  {
   "cell_type": "markdown",
   "metadata": {},
   "source": [
    "#### screen shots"
   ]
  },
  {
   "cell_type": "markdown",
   "metadata": {},
   "source": [
    "Lests start with a view of weekly reports"
   ]
  },
  {
   "cell_type": "code",
   "execution_count": null,
   "metadata": {},
   "outputs": [],
   "source": [
    "await web_screenshot_async(\n",
    "    \"https://cytonn.com/researches/categories/1\",\n",
    "    width=1000)"
   ]
  },
  {
   "cell_type": "markdown",
   "metadata": {},
   "source": [
    "Here is the latest report"
   ]
  },
  {
   "cell_type": "code",
   "execution_count": null,
   "metadata": {},
   "outputs": [],
   "source": [
    "await web_screenshot_async(\n",
    "    \"https://cytonnreport.com/research/cytonn-h12024-markets\",\n",
    "    width=1000)"
   ]
  },
  {
   "cell_type": "markdown",
   "metadata": {},
   "source": [
    "Instead of directly crawling HTML from https://cytonn.com/researches/ page, we can instead crawl JSON from https://cytonnreport.com/research page, using the link https://cytonnreport.com/get/allreports."
   ]
  },
  {
   "cell_type": "code",
   "execution_count": null,
   "metadata": {},
   "outputs": [],
   "source": [
    "async def get_all_cytonn_reports(per_page_count: int = 10):\n",
    "    page, browser = await get_browser_page_async()\n",
    "    reports_url = \"https://cytonnreport.com/get/allreports\"\n",
    "    reports_headers: dict = None\n",
    "    reports_method: str = None\n",
    "    async def catch_request(request: Request):\n",
    "        nonlocal reports_headers\n",
    "        nonlocal reports_method\n",
    "        if request.url == reports_url:\n",
    "            reports_headers = request.headers.copy()\n",
    "            reports_method = request.method\n",
    "            await request.continue_()\n",
    "        else:\n",
    "            await request.continue_()\n",
    "    async def get_cytonn_reports(current_page: int):\n",
    "        javascript_fetch_fn = f'''\n",
    "            async () => {{\n",
    "                try {{\n",
    "                    const response = await fetch(\n",
    "                        \"{reports_url}\", \n",
    "                        {{\n",
    "                            \"headers\": {json.dumps(reports_headers)},\n",
    "                            \"method\": \"{reports_method}\",\n",
    "                            \"body\": {json.dumps(json.dumps(\n",
    "                                {\n",
    "                                    \"pagination\": {\n",
    "                                        \"per_page\": per_page_count, \n",
    "                                        \"current_page\": current_page\n",
    "                                    }\n",
    "                                }))},\n",
    "                            \"referrer\": \"https://cytonnreport.com/research\",\n",
    "                            \"referrerPolicy\": \"no-referrer-when-downgrade\",\n",
    "                            \"mode\": \"cors\",\n",
    "                            \"credentials\": \"include\"\n",
    "                        }});\n",
    "                    if (!response.ok) {{\n",
    "                        throw new Error(`HTTP error! status: ${{response.status}}`);\n",
    "                    }}\n",
    "                    const json = await response.json();\n",
    "                    return json;\n",
    "                }} catch (error) {{\n",
    "                    console.error('Fetch error:', error);\n",
    "                    throw error; // Re-throw to allow calling code to handle it\n",
    "                }}\n",
    "            }}\n",
    "        '''\n",
    "        response_json = await page.evaluate(javascript_fetch_fn)\n",
    "        return response_json\n",
    "    # Enable request interception\n",
    "    await page.setRequestInterception(True)\n",
    "    # Attach the request handler\n",
    "    page.on('request', lambda request: asyncio.ensure_future(catch_request(request)))\n",
    "    # Navigate to the desired URL\n",
    "    await page.goto(\"https://cytonnreport.com/research\")\n",
    "    while not reports_headers:\n",
    "        await asyncio.sleep(1)\n",
    "    current_page = 1\n",
    "    all_reports = []\n",
    "    pbar: tqdm = None\n",
    "    while True:\n",
    "        reports_response = await get_cytonn_reports(current_page)\n",
    "        reports = reports_response['data'] if reports_response else []\n",
    "        if len(reports) > 0:\n",
    "            total = reports_response['total']\n",
    "            pbar = pbar or tqdm(total=total)\n",
    "            pbar.update(len(reports))\n",
    "            all_reports.extend(reports)\n",
    "            last_page = reports_response['last_page']\n",
    "            if last_page == current_page:\n",
    "                break\n",
    "            current_page += 1\n",
    "        else:\n",
    "            break\n",
    "        await asyncio.sleep(0.5)\n",
    "    await browser.close()\n",
    "    if pbar:\n",
    "        pbar.close()\n",
    "    return all_reports\n",
    "\n",
    "all_cytonn_reports = await get_all_cytonn_reports()\n",
    "print(f'There are {len(all_cytonn_reports)} reports')"
   ]
  },
  {
   "cell_type": "code",
   "execution_count": null,
   "metadata": {},
   "outputs": [],
   "source": [
    "# https://charanhu.medium.com/converting-pandas-dataframe-into-a-dataset-and-pushing-to-hugging-face-146e2ccac38d\n",
    "all_cytonn_reports_df = pd.DataFrame(all_cytonn_reports)\n",
    "# with pd.option_context(\n",
    "#   'display.max_columns', None, \n",
    "#   'display.max_colwidth', 100):\n",
    "#   display(all_cytonn_reports_df)\n",
    "all_cytonn_reports_df"
   ]
  },
  {
   "cell_type": "code",
   "execution_count": null,
   "metadata": {},
   "outputs": [],
   "source": [
    "#|output: false\n",
    "\n",
    "# from python_utils.upload_dataset import upload_dataframe_to_huggingface\n",
    "\n",
    "# repo_id = \"ToKnow-ai/money-market-funds-in-kenya__july-2024-archive\"\n",
    "\n",
    "# upload_dataframe_to_huggingface(fund_managers_df, repo_id=repo_id, dataset_name=\"cma_approved_fund_managers\", split=\"raw_data\")\n",
    "\n",
    "# upload_dataframe_to_huggingface(all_cytonn_reports_df, repo_id=repo_id, dataset_name=\"cytonn_reports\", split=\"raw_data\")"
   ]
  },
  {
   "cell_type": "code",
   "execution_count": null,
   "metadata": {},
   "outputs": [],
   "source": [
    "all_cytonn_reports_df.iloc[0]"
   ]
  },
  {
   "cell_type": "code",
   "execution_count": null,
   "metadata": {},
   "outputs": [],
   "source": [
    "all_cytonn_reports_df.columns"
   ]
  },
  {
   "cell_type": "code",
   "execution_count": null,
   "metadata": {},
   "outputs": [],
   "source": [
    "def parse_grouped_dates(date_string: str):\n",
    "    pattern = r\"^(FY|Q[1-4]|H[1-2])'(\\d{4})$\"\n",
    "    match = re.match(pattern, date_string, re.IGNORECASE)\n",
    "    if not match:\n",
    "        return None\n",
    "    period, year = match.groups()\n",
    "    year = int(year)\n",
    "    if period.upper() == 'FY':\n",
    "        start_date = datetime(year, 1, 1)\n",
    "        end_date = datetime(year, 12, 31)\n",
    "    elif period.upper().startswith('Q'):\n",
    "        quarter = int(period[1])\n",
    "        start_month = (quarter - 1) * 3 + 1\n",
    "        start_date = datetime(year, start_month, 1)\n",
    "        end_date = start_date.replace(month=start_month + 2) + timedelta(days=32)\n",
    "        end_date = end_date.replace(day=1) - timedelta(days=1)\n",
    "    elif period.upper().startswith('H'):\n",
    "        half = int(period[1])\n",
    "        start_month = (half - 1) * 6 + 1\n",
    "        start_date = datetime(year, start_month, 1)\n",
    "        end_date = start_date.replace(month=start_month + 5) + timedelta(days=32)\n",
    "        end_date = end_date.replace(day=1) - timedelta(days=1)\n",
    "    return (start_date.strftime('%Y-%m-%d'), end_date.strftime('%Y-%m-%d'))\n",
    "\n",
    "# Test the function\n",
    "test_dates = [\"FY'2019\", \"Q1'2020\", \"H1'2019\", \"fy'2018\", \"q3'2021\", \"h2'2022\"]\n",
    "\n",
    "for expanding_value in test_dates:\n",
    "    result = parse_grouped_dates(expanding_value)\n",
    "    if result:\n",
    "        print(f\"{expanding_value}: {result}\")\n",
    "    else:\n",
    "        print(f\"{expanding_value}: Invalid format\")"
   ]
  },
  {
   "cell_type": "code",
   "execution_count": null,
   "metadata": {},
   "outputs": [],
   "source": [
    "fund_manager_maps = [\n",
    "    # (['etica'], 'Etica Capital Limited'),\n",
    "    # (['lofty-corban'], 'Lofty-Corban Investments Limited'),\n",
    "    # (['genafrica'], 'GenAfrica Asset Managers Limited'),\n",
    "    # (['nabo'], 'Nabo Capital Limited'),\n",
    "    # (['cytonn'], 'Cytonn Asset Managers Limited'),\n",
    "    # (['apollo'], 'Apollo Asset Management Company Limited'),\n",
    "    # (['kuza'], 'Kuza Asset Management Limited'),\n",
    "    # (['enwealth'], 'Enwealth Money Market Fund'),\n",
    "    # (['madison'], 'Madison Investment Managers Limited'),\n",
    "    # (['co-op'], 'Co-op Trust Investment Services Limited'),\n",
    "    # (['sanlam'], 'Sanlam Investments East Africa Limited'),\n",
    "    # (['gencap', 'imara'], 'GenCap Hela Imara Money Market Fund'),\n",
    "    # (['mayfair'], 'Mayfair Asset Managers Limited'),\n",
    "    # (['aa'], 'AA kenya shillings fund'),\n",
    "    # (['jubilee'], 'Jubilee Financial Services Limited'),\n",
    "    # (['orient', 'kasha', 'alpha', 'alphafrica'], 'Orient Asset Managers Limited'), # 'Alpha Africa Asset Managers'\n",
    "    # (['mutual', 'old'], 'Old Mutual Investment Group'),\n",
    "    # (['absa'], 'ABSA Asset Management Limited'),\n",
    "    # (['dry'], 'Dry Associates Money Market Fund'),\n",
    "    # (['kcb', 'natbank'], 'KCB Asset Management Limited (formerly Natbank Trustee and Investment Services Limited)'),\n",
    "    # (['cic'], 'CIC Asset Managers Limited'),\n",
    "    # (['icea'], 'ICEA Asset Lion Asset Management Limited'),\n",
    "    # (['equity'], 'Equity money market fund'),\n",
    "    # (['mali'], 'Mali Money Market Fund'),\n",
    "    # (['britam', 'british-american', 'british', 'american'], 'Britam Asset Managers (Kenya) Limited'),\n",
    "    # (['zimele'], 'Zimele Asset Management Company Limited'),\n",
    "    # (['ncba'], 'NCBA Unit Trust Scheme'),\n",
    "    # (['genghis'], 'Genghis Unit Trust Fund'),\n",
    "    # (['commercial'], 'Commercial Bank of Africa'),\n",
    "    # (['alliance'], 'African Alliance Kenya'),\n",
    "    # (['stanlib'], 'Stanlib Kenya'),\n",
    "    # (['amana'], 'Amana Capital Limited'),\n",
    "    # # (['alpha', 'alphafrica'], 'Alpha Africa Asset Managers'),\n",
    "    # (['arvocap'], 'Arvocap Money Market Fund'),\n",
    "    # (['madisson'], 'Madisson Money Market Fund'),\n",
    "    # (['wanafunzi'], 'Wanafunzi Investments')\n",
    "    (['orient', 'kasha', 'alpha', 'alphafrica'], 'Orient Asset Managers Limited'),\n",
    "    (['amana'], 'Amana Capital Limited'),\n",
    "    (['apollo'], 'Apollo Asset Management Company Limited'),\n",
    "    (['britam', 'british-american', 'british', 'american'], 'Britam Asset Managers (Kenya) Limited'),\n",
    "    (['metropolitan'], 'Metropolitan Canon Asset Managers Limited'),\n",
    "    (['nabo'], 'Nabo Capital Limited'),\n",
    "    (['cic'], 'CIC Asset Managers Limited'),\n",
    "    (['co-op'], 'Co-op Trust Investment Services Limited'),\n",
    "    (['fcb'], 'FCB Capital Limited'),\n",
    "    (['fusion'], 'Fusion Investment Management Limited'),\n",
    "    (['genafrica'], 'GenAfrica Asset Managers Limited'),\n",
    "    (['icea'], 'ICEA Asset Lion Asset Management Limited'),\n",
    "    (['madison'], 'Madison Investment Managers Limited'),\n",
    "    (['mutual', 'old'], 'Old Mutual Investment Group'),\n",
    "    (['sanlam'], 'Sanlam Investments East Africa Limited'),\n",
    "    (['standard'], 'Standard Chartered Investment Services Limited'),\n",
    "    (['zimele'], 'Zimele Asset Management Company Limited'),\n",
    "    (['kcb', 'natbank'], 'KCB Asset Management Limited'), # (formerly Natbank Trustee and Investment Services Limited)\n",
    "    (['cytonn'], 'Cytonn Asset Managers Limited'),\n",
    "    (['altree'], 'Altree Capital Kenya Limited'),\n",
    "    (['jubilee'], 'Jubilee Financial Services Limited'),\n",
    "    (['absa'], 'ABSA Asset Management Limited'),\n",
    "    (['african'], 'African Diaspora Asset Managers Limited'),\n",
    "    (['cfs'], 'CFS Asset Management Limited'),\n",
    "    (['i&m'], 'I&M Capital Limited'),\n",
    "    (['globetec'], 'Globetec Asset Managers Limited'),\n",
    "    (['african'], 'African Alliance Kenya Asset Management Limited'),\n",
    "    (['cpf'], 'CPF Financial Services Limited'),\n",
    "    (['kuza'], 'Kuza Asset Management Limited'),\n",
    "    (['waanzilishi'], 'Waanzilishi Capital Limited'),\n",
    "    (['mayfair'], 'Mayfair Asset Managers Limited'),\n",
    "    (['etica'], 'Etica Capital Limited'),\n",
    "    (['star'], 'Star Capital Management Limited'),\n",
    "    (['lofty-corban'], 'Lofty-Corban Investments Limited')\n",
    "]\n",
    "fund_manager_maps"
   ]
  },
  {
   "cell_type": "code",
   "execution_count": null,
   "metadata": {},
   "outputs": [],
   "source": [
    "non_existent_fund_manager_maps = []\n",
    "invalids = []\n",
    "class RecordInfo:\n",
    "    TYPE_AUM: str = 'AUM' # 'AUM' - Assets Under Management\n",
    "    TYPE_EAR: str = 'EAR' # 'EAR' - Effective Annual Rate\n",
    "    def __init__(self, record_type: str, record_date: str, record_value: str, fund_manager: str):\n",
    "        self.record_type = RecordInfo.__validate_record_type(record_type)\n",
    "        self.record_date = parse_grouped_dates(record_date) or datetime.strptime(record_date, \"%Y-%m-%d\").strftime('%Y-%m-%d') or None\n",
    "        self.record_value = RecordInfo.__validate_record_value(record_value)\n",
    "        self.fund_manager = RecordInfo.__validate_fund_manager(fund_manager)\n",
    "    def is_valid(self) -> bool:\n",
    "        is_valid = bool(self.record_type) and bool(self.record_date) and bool(self.record_value) and bool(self.fund_manager)\n",
    "        return is_valid\n",
    "    @staticmethod\n",
    "    def __validate_fund_manager(value: str) -> str|None:\n",
    "        value = str(value or '').lower()\n",
    "        excludes = ['Dollar', 'USD']\n",
    "        if not any((exclude.lower() in value) for exclude in excludes):\n",
    "            names = [j for i, j in fund_manager_maps if any(k in value for k in i)]\n",
    "            if len(names) == 1:\n",
    "                return names[0]\n",
    "        non_existent_fund_manager_maps.append(value)\n",
    "        return None\n",
    "    @staticmethod\n",
    "    def __validate_record_value(value: str|float) -> str|None:\n",
    "        if type(value) == float:\n",
    "            return value\n",
    "        # remove percentage sign\n",
    "        value = value.rstrip('%')\n",
    "        # remove comma and white space\n",
    "        value = ''.join([i for i in value if i not in [' ', ',', '-']])\n",
    "        return float(value) if value else None\n",
    "    @staticmethod\n",
    "    def __validate_record_type(value: str) -> str|None:\n",
    "        value = value.upper()\n",
    "        return value if value in [RecordInfo.TYPE_AUM, RecordInfo.TYPE_EAR] else None\n",
    "\n",
    "# some pages have more than one table, ge: https://cytonnreport.com/research/unit-trust-fund-performance-q3-1\n",
    "table_columns_list: list[tuple[list[str], list[Callable[[pd.Series, dict], RecordInfo]]]] = [\n",
    "    (\n",
    "        ['Rank', 'Fund Manager', 'Effective Annual Rate'], \n",
    "        [\n",
    "            # https://cytonnreport.com/research/kenyas-fy2024-2025-budget\n",
    "            # https://cytonnreport.com/research/nairobi-metropolitan-area-serviced-apartments-report-2021\n",
    "            lambda row, record: RecordInfo(\n",
    "                RecordInfo.TYPE_EAR, record['researchdate'], row['Effective Annual Rate'], row['Fund Manager'])\n",
    "        ]\n",
    "    ),\n",
    "    (\n",
    "        ['Rank', 'Fund Manager', 'Effective Annual'], \n",
    "        [\n",
    "            # https://cytonnreport.com/research/cytonn-monthly-may-2024\n",
    "            # https://cytonnreport.com/research/q12023-unit-trust-funds-performance-cytonn-monthly-july-2023\n",
    "            lambda row, record: RecordInfo(\n",
    "                RecordInfo.TYPE_EAR, record['researchdate'], row['Effective Annual'], row['Fund Manager'])\n",
    "        ]\n",
    "    ),\n",
    "    (\n",
    "        ['Rank', 'Fund Manager', 'Daily Yield', 'Effective Annual Rate'], \n",
    "        [\n",
    "            # Effective Annual Rate is better than Daily Yield: https://cytonnreport.com/research/cytonn-monthly-october-2021\n",
    "            # https://cytonnreport.com/research/potential-effects-covid-19\n",
    "            lambda row, record: RecordInfo(\n",
    "                RecordInfo.TYPE_EAR, record['researchdate'], row['Effective Annual Rate'], row['Fund Manager']),\n",
    "        ]\n",
    "    ),\n",
    "    (\n",
    "        [ \n",
    "            'no.', 'fund-managers', 'q1’2020-aum(kshs-mns)', 'q1’2020market-share', 'q2’2020-aum(kshs-mns)', \n",
    "            'q2’2020market-share', 'aum-growthq1’2020-–-q2’2020'], \n",
    "        [\n",
    "            # https://cytonnreport.com/research/unit-trust-funds-performance-q2-2020\n",
    "            lambda row, _: RecordInfo(\n",
    "                RecordInfo.TYPE_AUM, \"Q1'2020\", row['q1’2020-aum(kshs-mns)'], row['fund-managers']),\n",
    "            lambda row, _: RecordInfo(\n",
    "                RecordInfo.TYPE_AUM, \"Q2'2020\", row['q2’2020-aum(kshs-mns)'], row['fund-managers']),\n",
    "        ]\n",
    "    ),\n",
    "    (\n",
    "        ['no.', 'fund-managers', \"fy'2019-aum(kshs-mns)\", 'q1’2020-aum(kshs-mns)', \"aum-growth*fy'2019-–-q1’2020\"], \n",
    "        [\n",
    "            # https://cytonnreport.com/research/unit-trust-funds-perfomance-q1-2020-cytonn-weekly\n",
    "            lambda row, _: RecordInfo(\n",
    "                RecordInfo.TYPE_AUM, \"FY'2019\", row[\"fy'2019-aum(kshs-mns)\"], row['fund-managers']),\n",
    "            lambda row, _: RecordInfo(\n",
    "                RecordInfo.TYPE_AUM, \"Q1'2020\", row['q1’2020-aum(kshs-mns)'], row['fund-managers']),\n",
    "        ]\n",
    "    ),\n",
    "    (\n",
    "        ['no.', 'fund-managers', \"fy'2018-aum-(kshs-mns)\", \"h1'2019-aum-(kshs-mns)\", \"aum-h1'2019-annualized-growth\"], \n",
    "        [\n",
    "            # https://cytonnreport.com/research/unit-trust-funds-performance\n",
    "            lambda row, _: RecordInfo(\n",
    "                RecordInfo.TYPE_AUM, \"FY'2018\", row[\"fy'2018-aum-(kshs-mns)\"], row['fund-managers']),\n",
    "            lambda row, _: RecordInfo(\n",
    "                RecordInfo.TYPE_AUM, \"H1'2019\", row[\"h1'2019-aum-(kshs-mns)\"], row['fund-managers']),\n",
    "        ]\n",
    "    ),\n",
    "    (\n",
    "        ['no.', 'money-market-fund', '2018-average-effective-annual-yield-p.a.'], \n",
    "        [\n",
    "            # https://cytonnreport.com/research/investing-in-unit\n",
    "            lambda row, record: RecordInfo(\n",
    "                RecordInfo.TYPE_EAR, record['researchdate'], row['2018-average-effective-annual-yield-p.a.'], \n",
    "                row['money-market-fund'])\n",
    "        ]\n",
    "    ),\n",
    "    (\n",
    "        ['no.', 'fund-managers', 'q2’2020-aum', 'q2’2020', 'q3’2020-aum', 'q3’2020', 'aum-growth'], \n",
    "        [\n",
    "            # https://cytonnreport.com/research/unit-trust-fund-performance-q3-1\n",
    "            lambda row, _: RecordInfo(RecordInfo.TYPE_AUM, \"Q2'2020\", row['q2’2020-aum'], row['fund-managers']),\n",
    "            lambda row, _: RecordInfo(RecordInfo.TYPE_AUM, \"Q3'2020\", row['q3’2020-aum'], row['fund-managers'])\n",
    "        ]\n",
    "    ),\n",
    "    (\n",
    "        ['rank', 'money-market-funds', 'effective-annual-rate-(average-q3’2020)'], \n",
    "        [\n",
    "            # https://cytonnreport.com/research/unit-trust-fund-performance-q3-1\n",
    "            lambda row, record: RecordInfo(\n",
    "                RecordInfo.TYPE_EAR, record['researchdate'], row['effective-annual-rate-(average-q3’2020)'], \n",
    "                row['money-market-funds'])\n",
    "        ]\n",
    "    ),\n",
    "    (\n",
    "        ['no.', 'fund-managers', \"fy'2018-aum(kshs-mns)\", \"fy'2019-aum(kshs-mns)\", \"aum-growthfy'2018---fy'2019\"], \n",
    "        [\n",
    "            # https://cytonnreport.com/research/fy2019-utf-performance\n",
    "            lambda row, _: RecordInfo(RecordInfo.TYPE_AUM, \"FY'2018\", row[\"fy'2018-aum(kshs-mns)\"], row['fund-managers']),\n",
    "            lambda row, _: RecordInfo(RecordInfo.TYPE_AUM, \"FY'2019\", row[\"fy'2019-aum(kshs-mns)\"], row['fund-managers']),\n",
    "        ]\n",
    "    ),\n",
    "    (\n",
    "        [\n",
    "            'no.', 'fund-managers', \"fy'2018-money-market-fund(kshs-mns)\", \"fy'2019-money-market-fund(kshs-mns)\", \n",
    "            \"fy'2018-market-share\", \"fy'2019-market-share\", 'variance'\n",
    "        ], \n",
    "        [\n",
    "            # https://cytonnreport.com/research/fy2019-utf-performance\n",
    "            lambda row, _: RecordInfo(\n",
    "                RecordInfo.TYPE_AUM, \"FY'2018\", row[\"fy'2018-money-market-fund(kshs-mns)\"], row['fund-managers']),\n",
    "            lambda row, _: RecordInfo(\n",
    "                RecordInfo.TYPE_AUM, \"FY'2019\", row[\"fy'2019-money-market-fund(kshs-mns)\"], row['fund-managers']),\n",
    "        ]\n",
    "    ),\n",
    "    (\n",
    "        ['rank', 'money-market-funds', 'effective-annual-rate-(average-fy’2019)'], \n",
    "        [\n",
    "            # https://cytonnreport.com/research/fy2019-utf-performance\n",
    "            lambda row, record: RecordInfo(\n",
    "                RecordInfo.TYPE_EAR, record['researchdate'], row['effective-annual-rate-(average-fy’2019)'], \n",
    "                row['money-market-funds']),\n",
    "        ]\n",
    "    ),\n",
    "    (\n",
    "        ['no.', 'unit-trust-fund-manager', 'aum', '%-of-market-share'], \n",
    "        [\n",
    "            # https://cytonnreport.com/research/investment-options-in-kenyan-market\n",
    "            lambda row, record: RecordInfo(\n",
    "                RecordInfo.TYPE_AUM, record['researchdate'], row['aum'], row['unit-trust-fund-manager']),\n",
    "        ]\n",
    "    ),\n",
    "    (\n",
    "        [\n",
    "            'no.', 'fund-managers', \"h1'2018-money-market-fund(kshs-mn)\", 'fy’2018-money-market-fund-(kshs-mn)', \n",
    "            \"h1'2019-money-market-fund(kshs-mn)\", \"annualized-h1'2019-growth\"\n",
    "        ], \n",
    "        [\n",
    "            # https://cytonnreport.com/research/options-for-your-pension\n",
    "            lambda row, _: RecordInfo(\n",
    "                RecordInfo.TYPE_AUM, \"H1'2018\", row[\"h1'2018-money-market-fund(kshs-mn)\"], row['fund-managers']),\n",
    "            lambda row, _: RecordInfo(\n",
    "                RecordInfo.TYPE_AUM, \"FY'2018\", row['fy’2018-money-market-fund-(kshs-mn)'], row['fund-managers']),\n",
    "            lambda row, _: RecordInfo(\n",
    "                RecordInfo.TYPE_AUM, \"H1'2019\", row[\"h1'2019-money-market-fund(kshs-mn)\"], row['fund-managers']),\n",
    "        ]\n",
    "    ),\n",
    "    (\n",
    "        [\n",
    "            '#', 'fund-managers', \"h1'2018-money-market-fund-aum-(kshs-mn)\", \"fy'2018-money-market-fund-aum(kshs-mn)\", \n",
    "            \"h1'2019-money-market-fund-aum(kshs-mn)\", \"annualized-h1'2019-aum-growth\"\n",
    "        ], \n",
    "        [\n",
    "            # https://cytonnreport.com/research/cytonn-monthly-august-2019\n",
    "            lambda row, _: RecordInfo(\n",
    "                RecordInfo.TYPE_AUM, \"H1'2018\", row[\"h1'2018-money-market-fund-aum-(kshs-mn)\"], row['fund-managers']),\n",
    "            lambda row, _: RecordInfo(\n",
    "                RecordInfo.TYPE_AUM, \"FY'2018\", row[\"fy'2018-money-market-fund-aum(kshs-mn)\"], row['fund-managers']),\n",
    "            lambda row, _: RecordInfo(\n",
    "                RecordInfo.TYPE_AUM, \"H1'2019\", row[\"h1'2019-money-market-fund-aum(kshs-mn)\"], row['fund-managers']),\n",
    "        ]\n",
    "    ),\n",
    "    (\n",
    "        [ 'No.', 'Collective Investment Schemes', \"FY’2023 AUM\", \"FY’2023\", \"Q1'2024 AUM\", \"Q1’2024\", 'AUM Growth'], \n",
    "        [\n",
    "            # https://cytonnreport.com/research/q1-2024-unit-trust-funds-performance-note\n",
    "            lambda row, _: RecordInfo(\n",
    "                RecordInfo.TYPE_AUM, \"FY'2023\", row[\"FY’2023 AUM\"], row['Collective Investment Schemes']),\n",
    "            lambda row, _: RecordInfo(\n",
    "                RecordInfo.TYPE_AUM, \"Q1'2024\", row[\"Q1'2024 AUM\"], row['Collective Investment Schemes'])\n",
    "        ]\n",
    "    ),\n",
    "]\n",
    "\n",
    "def column_name_match_fn(x: str, y:str) -> bool:\n",
    "    x = x.strip().lower()\n",
    "    y = y.strip().lower()\n",
    "    z = lambda val: re.sub(r'\\s+', ' ', val).replace(\" \", \"-\")\n",
    "    return x == y or z(x) == z(y)\n",
    "\n",
    "def get_table(table: Tag):\n",
    "    for tag in table.find_all(True):\n",
    "        tag.attrs = {} # remove tags such as colspan and rowspan\n",
    "    for (table_columns, extractor_callbacks) in table_columns_list:\n",
    "        clean_up_tasks: list[Callable[[], None]] = []\n",
    "        header_tr_s: list[Tag] = table.select('thead tr')\n",
    "        is_match = False\n",
    "        for header_tr in header_tr_s:\n",
    "            header_td_s: list[Tag] = header_tr.find_all('td')\n",
    "            is_match_new = \\\n",
    "                len(header_td_s) == len(table_columns)\\\n",
    "                and all(\n",
    "                    [column_name_match_fn(header_td.get_text(strip=True), table_column) \n",
    "                     for header_td, table_column \n",
    "                     in zip(header_td_s, table_columns)])\n",
    "            if not is_match_new:\n",
    "                clean_up_tasks.append(header_tr.extract)\n",
    "            is_match = is_match or is_match_new\n",
    "        if is_match:\n",
    "            try:\n",
    "                [clean_up_task() for clean_up_task in clean_up_tasks]\n",
    "                table_df = pd.read_html(io.StringIO(str(table)))[0]\n",
    "                table_df.columns = table_columns\n",
    "                return (table_df, extractor_callbacks)\n",
    "            except Exception as e:\n",
    "                print('error', e, table)\n",
    "                continue\n",
    "    return (None, None)\n",
    "\n",
    "def is_valid_dataframe(df: pd.DataFrame | None) -> bool:\n",
    "    return df is not None and not df.empty\n",
    "\n",
    "def get_tables(html: str):\n",
    "    parsed_html = BeautifulSoup(html, \"html.parser\")\n",
    "    tables: list[Tag] = [table for table in parsed_html.find_all('table')]\n",
    "    for table in tables:\n",
    "        table_df, extractor_callbacks = get_table(copy(table))\n",
    "        if is_valid_dataframe(table_df):\n",
    "            yield (table_df, extractor_callbacks)\n",
    "\n",
    "def extract_table_by_column_names(record: pd.Series):\n",
    "    topics: list[dict] = record['topics']\n",
    "    all_topic_bodies = ' '.join([topic.get('body') for topic in topics])\n",
    "    raw_tables__extractor_callbacks = get_tables(all_topic_bodies)\n",
    "    for raw_table, extractor_callbacks in raw_tables__extractor_callbacks:\n",
    "        if len(extractor_callbacks) > 0:\n",
    "            for callback in extractor_callbacks:\n",
    "                extracted: list[tuple[RecordInfo, pd.Series]] = [(callback(raw_table_row, record), raw_table_row) for _,raw_table_row in raw_table.iterrows()]\n",
    "                _invalids = [i for i in extracted if not i[0].is_valid()]\n",
    "                if len(_invalids) > 0:\n",
    "                    invalids.append((record, _invalids, raw_table))\n",
    "                yield raw_table, pd.DataFrame([vars(i) for i, _ in extracted if i.is_valid()])\n",
    "        else:\n",
    "            yield raw_table, None"
   ]
  },
  {
   "cell_type": "code",
   "execution_count": null,
   "metadata": {},
   "outputs": [],
   "source": [
    "non_existent_fund_manager_maps"
   ]
  },
  {
   "cell_type": "code",
   "execution_count": null,
   "metadata": {},
   "outputs": [],
   "source": [
    "invalids"
   ]
  },
  {
   "cell_type": "markdown",
   "metadata": {},
   "source": [
    "#### Saving"
   ]
  },
  {
   "cell_type": "code",
   "execution_count": null,
   "metadata": {},
   "outputs": [],
   "source": [
    "table_paths = 'extracted_tables'\n",
    "os.makedirs(table_paths, exist_ok=True)\n",
    "for _, record in tqdm(all_cytonn_reports_df.iterrows(), total=len(all_cytonn_reports_df)):\n",
    "    raw_and_extracted_dataframes = extract_table_by_column_names(record)\n",
    "    for _, extracted_df in raw_and_extracted_dataframes:\n",
    "        if is_valid_dataframe(extracted_df):\n",
    "            extracted_df.to_json(f'extracted_tables/{record.id}.json', orient='records')"
   ]
  },
  {
   "cell_type": "markdown",
   "metadata": {},
   "source": [
    "#### Testing for Valid"
   ]
  },
  {
   "cell_type": "code",
   "execution_count": null,
   "metadata": {},
   "outputs": [],
   "source": [
    "good = [i for i in non_existent_fund_manager_maps if not any([(j in i) for j in ['total', 'average', 'nan']])]\n",
    "len(good), good"
   ]
  },
  {
   "cell_type": "code",
   "execution_count": null,
   "metadata": {},
   "outputs": [],
   "source": [
    "# pd.set_option('display.max_colwidth', None)\n",
    "with pd.option_context(\n",
    "  'display.max_columns', None, \n",
    "  'display.max_colwidth', None):\n",
    "  display(pd.DataFrame([{**vars(i), \"row\": j} for i, j, in invalids[0][1]]))"
   ]
  },
  {
   "cell_type": "markdown",
   "metadata": {},
   "source": [
    "<hr/>"
   ]
  },
  {
   "cell_type": "code",
   "execution_count": null,
   "metadata": {},
   "outputs": [],
   "source": [
    "from glob import glob\n",
    "\n",
    "dataframes = []\n",
    "for filename in  glob(f'extracted_tables/*.json'):\n",
    "    json_df = pd.read_json(filename)\n",
    "    dataframes.append(json_df)\n",
    "combined_df = pd.concat(dataframes, ignore_index=True)\n",
    "combined_df"
   ]
  },
  {
   "cell_type": "code",
   "execution_count": null,
   "metadata": {},
   "outputs": [],
   "source": [
    "def expand_date_column(df: pd.DataFrame, expand_column: str):\n",
    "    for _, row in df.iterrows():\n",
    "        expanding_values = row[expand_column]\n",
    "        if type(expanding_values) == list:\n",
    "            start_date = datetime.strptime(expanding_values[0], \"%Y-%m-%d\")\n",
    "            end_date = datetime.strptime(expanding_values[1], \"%Y-%m-%d\")\n",
    "            start_end_diff_days = (end_date - start_date).days\n",
    "            day_list = [\n",
    "                (start_date + timedelta(days=i)).strftime('%Y-%m-%d') \n",
    "                for i \n",
    "                in range(start_end_diff_days + 1)\n",
    "            ]\n",
    "            for day in day_list:\n",
    "                yield { **row.to_dict(), expand_column: day }\n",
    "        else:\n",
    "            yield row.to_dict()\n",
    "\n",
    "combined_df = pd.DataFrame(expand_date_column(combined_df, 'record_date'))\n",
    "combined_df"
   ]
  },
  {
   "cell_type": "code",
   "execution_count": null,
   "metadata": {},
   "outputs": [],
   "source": [
    "grouped_df = combined_df.groupby(\n",
    "    ['record_type', 'record_date', 'fund_manager'])['record_value'].mean().reset_index()\n",
    "grouped_df"
   ]
  },
  {
   "cell_type": "code",
   "execution_count": null,
   "metadata": {},
   "outputs": [],
   "source": [
    "EAR_df = grouped_df[grouped_df['record_type'] == 'EAR'].drop(columns=['record_type']).copy()\n",
    "EAR_df['record_date'] = pd.to_datetime(EAR_df['record_date'])\n",
    "EAR_pivot = EAR_df.pivot(index='record_date', columns='fund_manager', values='record_value')\n",
    "EAR_pivot"
   ]
  },
  {
   "cell_type": "code",
   "execution_count": null,
   "metadata": {},
   "outputs": [],
   "source": [
    "EAR_fig = px.line(EAR_pivot, x=EAR_pivot.index, y=EAR_pivot.columns)\n",
    "EAR_fig.update_layout(\n",
    "    height=800,\n",
    "    margin=dict(t=100),\n",
    "    title=dict(\n",
    "        text=\"Effective Annual Rate\",  # Your title here\n",
    "        y=0.98,                   # Adjust the title's vertical position\n",
    "        x=0.5,                    # Center the title\n",
    "        xanchor='center',\n",
    "        yanchor='top'\n",
    "    ),\n",
    "    xaxis=dict(\n",
    "        side=\"top\",    # This moves the x-axis to the top\n",
    "        title=\"Date\"   # This sets the title for the x-axis\n",
    "    ),\n",
    "    yaxis=dict(\n",
    "        title=\"Effective Annual Rate\"   # This sets the title for the x-axis\n",
    "    ),\n",
    "\n",
    "    legend=dict(\n",
    "        orientation=\"h\",  # horizontal orientation\n",
    "        yanchor=\"bottom\",\n",
    "        y=-4.5,  # move the legend below the plot\n",
    "        xanchor=\"center\",\n",
    "        x=0.5\n",
    "    ))\n",
    "EAR_fig.update_traces(\n",
    "    hovertemplate=\"<br>\".join([\n",
    "        \"fund_manager=%{fullData.name}\",\n",
    "        \"date=%{x|%Y-%m-%d}\",\n",
    "        \"annual_rate=%{y}%\",\n",
    "        # removes any additional trace information that Plotly might add by default.\n",
    "        \"<extra></extra>\"\n",
    "    ])\n",
    ")\n",
    "EAR_fig.show()"
   ]
  },
  {
   "cell_type": "code",
   "execution_count": null,
   "metadata": {},
   "outputs": [],
   "source": [
    "start_date = '2022-09-01'\n",
    "end_date = '2022-09-30'\n",
    "\n",
    "# Filter the DataFrame\n",
    "filtered_df = all_cytonn_reports_df[\n",
    "    (pd.to_datetime(all_cytonn_reports_df['researchdate']) >= start_date) & \\\n",
    "    (pd.to_datetime(all_cytonn_reports_df['researchdate']) <= end_date)\n",
    "]\n",
    "list(filtered_df.loc[:,'url'])"
   ]
  },
  {
   "cell_type": "code",
   "execution_count": null,
   "metadata": {},
   "outputs": [],
   "source": [
    "all_cytonn_reports_df"
   ]
  },
  {
   "cell_type": "markdown",
   "metadata": {},
   "source": [
    "<hr/>"
   ]
  },
  {
   "cell_type": "code",
   "execution_count": null,
   "metadata": {},
   "outputs": [],
   "source": [
    "AUM_df = grouped_df[grouped_df['record_type'] == 'AUM'].drop(columns=['record_type']).copy()\n",
    "AUM_df['record_date'] = pd.to_datetime(AUM_df['record_date'])\n",
    "AUM_pivot = AUM_df.pivot(index='record_date', columns='fund_manager', values='record_value')\n",
    "AUM_pivot"
   ]
  },
  {
   "cell_type": "code",
   "execution_count": null,
   "metadata": {},
   "outputs": [],
   "source": [
    "AUM_fig = px.line(AUM_pivot, x=AUM_pivot.index, y=AUM_pivot.columns)\n",
    "AUM_fig.update_layout(\n",
    "    height=800,\n",
    "    margin=dict(t=100),\n",
    "    title=dict(\n",
    "        text=\"Assets Under Management\",  # Your title here\n",
    "        y=0.98,                   # Adjust the title's vertical position\n",
    "        x=0.5,                    # Center the title\n",
    "        xanchor='center',\n",
    "        yanchor='top'\n",
    "    ),\n",
    "    xaxis=dict(\n",
    "        side=\"top\",    # This moves the x-axis to the top\n",
    "        title=\"Date\"   # This sets the title for the x-axis\n",
    "    ),\n",
    "    yaxis=dict(\n",
    "        title=\"Assets Under Management\"   # This sets the title for the x-axis\n",
    "    ),\n",
    "\n",
    "    legend=dict(\n",
    "        orientation=\"h\",  # horizontal orientation\n",
    "        yanchor=\"bottom\",\n",
    "        y=-4.5,  # move the legend below the plot\n",
    "        xanchor=\"center\",\n",
    "        x=0.5\n",
    "    ))\n",
    "AUM_fig.update_traces(\n",
    "    hovertemplate=\"<br>\".join([\n",
    "        \"fund_manager=%{fullData.name}\",\n",
    "        \"date=%{x|%Y-%m-%d}\",\n",
    "        \"annual_rate=%{y}%\",\n",
    "        # removes any additional trace information that Plotly might add by default.\n",
    "        \"<extra></extra>\"\n",
    "    ])\n",
    ")\n",
    "AUM_fig.show()"
   ]
  },
  {
   "cell_type": "markdown",
   "metadata": {},
   "source": [
    "<hr/>"
   ]
  },
  {
   "cell_type": "code",
   "execution_count": null,
   "metadata": {},
   "outputs": [],
   "source": [
    "def topics_tables_predicate(row: pd.Series):\n",
    "    html = ' '.join([topic.get('body') for topic in row['topics']])\n",
    "    parsed_html = BeautifulSoup(html, \"html.parser\")\n",
    "    tables: list[Tag] = [table for table in parsed_html.find_all('table')]\n",
    "    tables_str_value = ' '.join(str(table) for table in tables).lower()\n",
    "    unwanted_regexes = ['cic\\s*group', 'cic\\s*insurance', 'cic\\s*academia']\n",
    "    for unwanted_regex in unwanted_regexes:\n",
    "        tables_str_value = re.sub(unwanted_regex, \"\", tables_str_value, flags=re.IGNORECASE)\n",
    "    return 'cic' in tables_str_value\n",
    "\n",
    "matched_records = []\n",
    "for index, record in tqdm(all_cytonn_reports_df.iterrows(), total=len(all_cytonn_reports_df)):\n",
    "    raw_and_extracted_dataframes = extract_table_by_column_names(record)\n",
    "    extracts = list(raw_and_extracted_dataframes)\n",
    "    is_topics_match = topics_tables_predicate(record)\n",
    "    matched_records.append((index, len(extracts), is_topics_match))"
   ]
  },
  {
   "cell_type": "code",
   "execution_count": null,
   "metadata": {},
   "outputs": [],
   "source": [
    "indexes_with_cic = [index for index, tables, is_topics_match in matched_records if tables == 0 and is_topics_match]\n",
    "indexes_with_cic"
   ]
  },
  {
   "cell_type": "markdown",
   "metadata": {},
   "source": [
    "<hr/>"
   ]
  },
  {
   "cell_type": "code",
   "execution_count": null,
   "metadata": {},
   "outputs": [],
   "source": [
    "len(indexes_with_cic)"
   ]
  },
  {
   "cell_type": "code",
   "execution_count": null,
   "metadata": {},
   "outputs": [],
   "source": [
    "webbrowser.get(\"/usr/bin/google-chrome %s\")\n",
    "for index in indexes_with_cic[20:]:\n",
    "    url = str(all_cytonn_reports_df.loc[index, 'url'])\n",
    "    webbrowser.open(url)"
   ]
  },
  {
   "cell_type": "code",
   "execution_count": null,
   "metadata": {},
   "outputs": [],
   "source": [
    "row = all_cytonn_reports_df.loc[\n",
    "    all_cytonn_reports_df['url'] == 'https://cytonnreport.com/research/unit-trust-fund-performance-q3-1'\n",
    "].iloc[0]\n",
    "dfs = extract_table_by_column_names(row)"
   ]
  },
  {
   "cell_type": "code",
   "execution_count": null,
   "metadata": {},
   "outputs": [],
   "source": [
    "dfs[0]"
   ]
  },
  {
   "cell_type": "markdown",
   "metadata": {},
   "source": [
    "<hr/>"
   ]
  },
  {
   "cell_type": "code",
   "execution_count": null,
   "metadata": {},
   "outputs": [],
   "source": [
    "row = all_cytonn_reports_df.loc[\n",
    "    all_cytonn_reports_df['url'] == 'https://cytonnreport.com/research/q1-2024-unit-trust-funds-performance-note'\n",
    "].iloc[0]\n",
    "table_columns_list = [\n",
    "    (\n",
    "        [ 'No.', 'Collective Investment Schemes', \"FY’2023 AUM\", \"FY’2023\", \"Q1'2024 AUM\", \"Q1’2024\", 'AUM Growth'], \n",
    "        [\n",
    "            # https://cytonnreport.com/research/q1-2024-unit-trust-funds-performance-note\n",
    "            lambda row, _: RecordInfo(\"AUM\", 'FY’2023', row[\"FY’2023 AUM\"], row['Collective Investment Schemes']),\n",
    "            lambda row, _: RecordInfo(\"AUM\", 'Q1’2024', row[\"Q1'2024 AUM\"], row['Collective Investment Schemes'])\n",
    "        ]\n",
    "    ),\n",
    "]\n",
    "dfs = extract_table_by_column_names(row)"
   ]
  },
  {
   "cell_type": "code",
   "execution_count": null,
   "metadata": {},
   "outputs": [],
   "source": [
    "one = next(dfs)"
   ]
  },
  {
   "cell_type": "code",
   "execution_count": null,
   "metadata": {},
   "outputs": [],
   "source": [
    "one[1]"
   ]
  },
  {
   "cell_type": "markdown",
   "metadata": {},
   "source": [
    "## Achrives\n",
    "\n",
    "To ensure perpetuity and reproducibility of this analysis, the crawled [Cytton reports](https://huggingface.co/datasets/ToKnow-ai/money-market-funds-in-kenya__july-2024-archive/viewer/cytonn_reports) and [CMA Approved Fund Managers](https://huggingface.co/datasets/ToKnow-ai/money-market-funds-in-kenya__july-2024-archive/viewer/cma_approved_fund_managers) has been archived at <https://huggingface.co/datasets/ToKnow-ai/money-market-funds-in-kenya__july-2024-archive>.\n",
    "\n",
    "At the time of this writing...\n",
    "\n",
    "https://cytonnreport.com/robots.txt:\n",
    "```\n",
    "User-agent: *\n",
    "Disallow:\n",
    "```\n",
    "\n",
    "https://www.cma.or.ke/robots.txt:\n",
    "```\n",
    "User-agent: BotName\n",
    "Disallow: /\n",
    "```"
   ]
  },
  {
   "cell_type": "markdown",
   "metadata": {},
   "source": [
    "<!-- #|output-when-format: \"html\" -->\n",
    "\n",
    "### CMA Approved Fund Managers\n",
    "\n",
    "{{< iframe \n",
    "  'Loading Approved Fund Managers...' \n",
    "  src=\"https://huggingface.co/datasets/ToKnow-ai/money-market-funds-in-kenya__july-2024-archive/embed/viewer/cma_approved_fund_managers\"\n",
    "  frameborder=\"0\"\n",
    "  width=\"100%\"\n",
    "  height=\"560px\" >}}"
   ]
  },
  {
   "cell_type": "markdown",
   "metadata": {},
   "source": [
    "<!-- #|output-when-format: \"pdf\" -->\n",
    "\n",
    "### Cytonn Reports\n",
    "\n",
    "{{< iframe \n",
    "  'Loading Cytonn Reports...' \n",
    "  src=\"https://huggingface.co/datasets/ToKnow-ai/money-market-funds-in-kenya__july-2024-archive/embed/viewer/cytonn_reports\"\n",
    "  frameborder=\"0\" \n",
    "  width=\"100%\" \n",
    "  height=\"560px\" >}}"
   ]
  },
  {
   "cell_type": "markdown",
   "metadata": {},
   "source": [
    "## Conclusion\n",
    "\n",
    "<!-- metadata: abstract, preserve_cell=true -->\n",
    "It seems like good investment. blah blah blah blah blah blah blah blah...\n",
    "<!-- metadata: -->\n",
    "\n",
    "Lorem Ipsum is simply dummy text of the printing and typesetting industry. Lorem Ipsum has been the industry's standard dummy text ever since the 1500s, when an unknown printer took a galley of type and scrambled it to make a type specimen book. It has survived not only five centuries, but also the leap into electronic typesetting, remaining essentially unchanged. It was popularised in the 1960s with the release of Letraset sheets containing Lorem Ipsum passages, and more recently with desktop publishing software like Aldus PageMaker including versions of Lorem Ipsum."
   ]
  }
 ],
 "metadata": {
  "kernelspec": {
   "display_name": ".venv",
   "language": "python",
   "name": "python3"
  },
  "language_info": {
   "codemirror_mode": {
    "name": "ipython",
    "version": 3
   },
   "file_extension": ".py",
   "mimetype": "text/x-python",
   "name": "python",
   "nbconvert_exporter": "python",
   "pygments_lexer": "ipython3",
   "version": "3.10.12"
  }
 },
 "nbformat": 4,
 "nbformat_minor": 2
}
