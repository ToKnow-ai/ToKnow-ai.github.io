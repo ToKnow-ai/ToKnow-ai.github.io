{
 "cells": [
  {
   "cell_type": "markdown",
   "metadata": {},
   "source": [
    "# Summary of Registered Entities in Kenya"
   ]
  },
  {
   "cell_type": "code",
   "execution_count": 10,
   "metadata": {},
   "outputs": [],
   "source": [
    "#| code-summary: \"Show python imports\"\n",
    "\n",
    "import sys\n",
    "import os\n",
    "from pathlib import Path\n",
    "\n",
    "# Add root directory as python path\n",
    "root_dir = os.path.abspath(Path(sys.executable).parents[2])\n",
    "sys.path.append(root_dir)\n",
    "\n",
    "%reload_ext autoreload\n",
    "%autoreload 2\n",
    "\n",
    "# Other imports\n",
    "import pandas as pd\n",
    "from pyppeteer.page import Page\n",
    "from python_utils.web_screenshot import web_screenshot_async\n",
    "import io\n",
    "from urllib.request import urlopen\n",
    "from bs4 import BeautifulSoup\n",
    "import numpy as np\n",
    "from datetime import date\n",
    "from calendar import monthrange, month_abbr\n",
    "from matplotlib import pyplot as plt\n",
    "import matplotlib.dates as mdates"
   ]
  },
  {
   "cell_type": "code",
   "execution_count": null,
   "metadata": {},
   "outputs": [],
   "source": [
    "async def page_action_fn(page: Page):\n",
    "    return await page.waitForSelector('.elementor-widget-container > [role=\"tablist\"]')\n",
    "\n",
    "# Take a screenshot\n",
    "await web_screenshot_async(\n",
    "    \"https://brs.go.ke/companies-registry-statistics/\",\n",
    "    action = page_action_fn,\n",
    "    width = 1200,\n",
    "    height = 1200,\n",
    "    screenshot_options = {'fullPage': False })"
   ]
  },
  {
   "cell_type": "code",
   "execution_count": 3,
   "metadata": {},
   "outputs": [],
   "source": [
    "html: str = urlopen(\"https://brs.go.ke/companies-registry-statistics/\").read()\n",
    "html_parser = BeautifulSoup(html, \"html.parser\").select_one('.elementor-widget-container > [role=\"tablist\"]')\n",
    "years = { i.attrs['data-tab']: i.get_text(separator='', strip=True) for i in html_parser.select(\".ha-tabs__nav .ha-tab__title\")}\n",
    "records = { i.attrs['data-tab']: i.find('table') for i in html_parser.select('.ha-tabs__content [role=\"tabpanel\"]') }\n",
    "years_records = [(year, records[id]) for id, year in years.items()]"
   ]
  },
  {
   "cell_type": "code",
   "execution_count": null,
   "metadata": {},
   "outputs": [],
   "source": [
    "def get_date(month, year):\n",
    "    # Convert month name to number\n",
    "    month_num = [i.lower() for i in month_abbr].index(month.lower())\n",
    "    # Get the last day of the month\n",
    "    _, last_day = monthrange(int(year), month_num)\n",
    "    return date(int(year), month_num, last_day)\n",
    "\n",
    "def get_table(index: int):\n",
    "    (finantial_year, table_str) = years_records[index]\n",
    "    (finantial_year_1, finantial_year_2) = finantial_year.split('/')\n",
    "    df = pd.read_html(io.StringIO(str(table_str)))[0]\n",
    "    first_column = df.columns[0]\n",
    "    # Remove last row (`Total Entities Registered`) and last column (`Grand Total`)\n",
    "    df = df[df[first_column] != \"Total Entities Registered\"].drop(\"Grand Total\", axis=1)\n",
    "    # replace - with NaN\n",
    "    df = df.replace(\"-\", np.nan)\n",
    "    df[first_column] = df[first_column].astype(str)\n",
    "    for column in df.columns[1:]:\n",
    "        df[column] = df[column].astype(float)\n",
    "    indexes = [get_date(month, finantial_year_1) for month in df.columns[1:7]] + \\\n",
    "        [get_date(month, finantial_year_2) for month in df.columns[7:]]\n",
    "    df = df.set_index(first_column).T\n",
    "    df.index = indexes\n",
    "    df.columns = [i.lower().strip() for i in df.columns]\n",
    "    return df\n",
    "\n",
    "get_table(9)"
   ]
  },
  {
   "cell_type": "code",
   "execution_count": null,
   "metadata": {},
   "outputs": [],
   "source": [
    "all_registrations = pd.concat([get_table(i) for i in range(len(years_records))]).sort_index(ascending=True)\n",
    "all_registrations"
   ]
  },
  {
   "cell_type": "code",
   "execution_count": 124,
   "metadata": {},
   "outputs": [],
   "source": [
    "def plot_columns(columns_to_use: list[str], election_dates_y = (7000, 7500), era_x = 1000):\n",
    "    _, ax = plt.subplots(figsize=(20, 12))\n",
    "    ax.set_title(\n",
    "    (\n",
    "        'Summary of Registered Entities in Kenya, between '\n",
    "        f'{min(all_registrations.index)} and {max(all_registrations.index)}'\n",
    "    ), \n",
    "    fontsize=24, pad=45)\n",
    "    ax.text(\n",
    "        0.5, \n",
    "        1.02, \n",
    "        f'{\", \".join(columns_to_use[:-1]) + \" and \" + columns_to_use[-1]}', \n",
    "        transform=ax.transAxes, fontsize=14, \n",
    "        ha='center', \n",
    "        style='italic')\n",
    "    all_registrations[columns_to_use].rolling(6).mean().plot(ax=ax, linewidth=4)\n",
    "    # Add a vertical line at the split date\n",
    "    election_date_2017 = date(2017, 8, 9)\n",
    "    election_date_2022 = date(2022, 8, 9)\n",
    "    ax.axvline(\n",
    "        x=election_date_2017, color='green', linestyle='--', linewidth=2, zorder=4)\n",
    "    ax.axvline(\n",
    "        x=election_date_2022, color='green', linestyle='--', linewidth=2, zorder=4)\n",
    "    # Fill the regions\n",
    "    # Convert dates to matplotlib date format\n",
    "    dates_mpl = mdates.date2num(all_registrations.index)\n",
    "    split_date_mpl = mdates.date2num(election_date_2022)\n",
    "    ax.fill_between(\n",
    "        dates_mpl, 0, 100, where=dates_mpl < split_date_mpl, \n",
    "        facecolor='#f62f3c', alpha=0.05, transform=ax.get_xaxis_transform())\n",
    "    ax.fill_between(\n",
    "        dates_mpl, 0, 100, where=dates_mpl >= split_date_mpl,\n",
    "        facecolor='#f8c811', alpha=0.05, transform=ax.get_xaxis_transform())\n",
    "    ax.legend(loc='upper left', fontsize=18)\n",
    "    ax.text(date(2017, 1, 1), era_x, 'Uhuru/Jubilee Era', fontsize = 22)\n",
    "    ax.text(date(2023, 1, 1), era_x, 'Ruto/UDA Era', fontsize = 22)\n",
    "    ax.text(\n",
    "        election_date_2017, election_dates_y[0], '2017 Election', fontsize = 18, \n",
    "        rotation=90, zorder=6, ha='right')\n",
    "    ax.text(\n",
    "        election_date_2022, election_dates_y[1], '2022 Election', fontsize = 18, \n",
    "        rotation=90, zorder=6, ha='right')"
   ]
  },
  {
   "cell_type": "code",
   "execution_count": null,
   "metadata": {},
   "outputs": [],
   "source": [
    "columns = ['business names', 'private companies']\n",
    "plot_columns(columns)"
   ]
  },
  {
   "cell_type": "code",
   "execution_count": null,
   "metadata": {},
   "outputs": [],
   "source": [
    "plot_columns(\n",
    "    [i for i in all_registrations.columns if i not in columns], \n",
    "    election_dates_y = (100, 200), \n",
    "    era_x = -40)"
   ]
  }
 ],
 "metadata": {
  "kernelspec": {
   "display_name": ".env",
   "language": "python",
   "name": "python3"
  },
  "language_info": {
   "codemirror_mode": {
    "name": "ipython",
    "version": 3
   },
   "file_extension": ".py",
   "mimetype": "text/x-python",
   "name": "python",
   "nbconvert_exporter": "python",
   "pygments_lexer": "ipython3",
   "version": "3.10.12"
  }
 },
 "nbformat": 4,
 "nbformat_minor": 2
}
