{
 "cells": [
  {
   "cell_type": "code",
   "execution_count": null,
   "metadata": {},
   "outputs": [],
   "source": [
    "%pip install google-auth-oauthlib\n",
    "%pip install --upgrade google-api-python-client"
   ]
  },
  {
   "cell_type": "code",
   "execution_count": 4,
   "metadata": {},
   "outputs": [
    {
     "name": "stdout",
     "output_type": "stream",
     "text": [
      "Collecting aiofiles\n",
      "  Downloading aiofiles-24.1.0-py3-none-any.whl.metadata (10 kB)\n",
      "Downloading aiofiles-24.1.0-py3-none-any.whl (15 kB)\n",
      "Installing collected packages: aiofiles\n",
      "Successfully installed aiofiles-24.1.0\n",
      "Note: you may need to restart the kernel to use updated packages.\n"
     ]
    }
   ],
   "source": [
    "%pip install aiofiles"
   ]
  },
  {
   "cell_type": "code",
   "execution_count": 1,
   "metadata": {},
   "outputs": [],
   "source": [
    "import aiohttp\n",
    "import aiofiles\n",
    "import json\n",
    "from google.oauth2.service_account import Credentials\n",
    "from datetime import datetime, timedelta\n",
    "\n",
    "async def get_views(page_path: str):\n",
    "    SCOPES = ['https://www.googleapis.com/auth/analytics.readonly']\n",
    "    \n",
    "    async with aiofiles.open('/home/anon-b/Downloads/toknowviews-1730747751593-d5a762fdba11.json', mode='r') as f:\n",
    "        service_account_info = json.loads(await f.read())\n",
    "    \n",
    "    credentials = Credentials.from_service_account_info(service_account_info, scopes=SCOPES)\n",
    "    token = credentials.token\n",
    "    \n",
    "    tomorrow_date = (datetime.now() + timedelta(days=1)).strftime('%Y-%m-%d')\n",
    "    body = {\n",
    "        \"dateRanges\": [{\n",
    "            \"startDate\": \"2024-01-01\",\n",
    "            \"endDate\": tomorrow_date\n",
    "        }],\n",
    "        \"dimensions\": [{\n",
    "            \"name\": \"pagePath\"\n",
    "        }],\n",
    "        \"dimensionFilter\": {\n",
    "            \"filter\": {\n",
    "                \"fieldName\": \"pagePath\",\n",
    "                \"stringFilter\": {\n",
    "                    \"matchType\": \"CONTAINS\",\n",
    "                    \"value\": page_path\n",
    "                }\n",
    "            }\n",
    "        },\n",
    "        \"metrics\": [{\n",
    "            \"name\": \"screenPageViews\"\n",
    "        }]\n",
    "    }\n",
    "    \n",
    "    headers = {\n",
    "        'Authorization': f'Bearer {token}',\n",
    "        'Content-Type': 'application/json'\n",
    "    }\n",
    "    \n",
    "    async with aiohttp.ClientSession() as session:\n",
    "        async with session.post('https://analyticsdata.googleapis.com/v1beta/properties/447265843:runReport', headers=headers, json=body) as response:\n",
    "            response_json = await response.json()\n",
    "    \n",
    "    counts = [\n",
    "        int(metricValue.get('value', 0))\n",
    "        for row \n",
    "        in response_json.get('rows', []) \n",
    "            for metricKey, metricValues \n",
    "            in row.items() \n",
    "                for metricValue \n",
    "                in metricValues\n",
    "                if metricKey == 'metricValues'\n",
    "    ]\n",
    "    return sum(counts)"
   ]
  },
  {
   "cell_type": "code",
   "execution_count": 5,
   "metadata": {},
   "outputs": [
    {
     "data": {
      "text/plain": [
       "0"
      ]
     },
     "execution_count": 5,
     "metadata": {},
     "output_type": "execute_result"
    }
   ],
   "source": [
    "await get_views(\"/about\")"
   ]
  },
  {
   "cell_type": "markdown",
   "metadata": {},
   "source": [
    "<https://gemini.google.com/app/9a1a99a1df31aab5>\n",
    "\n",
    "<https://claude.ai/chat/4309b5b3-dae7-44d1-ab94-4e3cd4a21633>\n",
    "\n",
    "<https://claude.ai/chat/30125116-bf87-42b5-9d71-09962e619a7e>\n",
    "\n",
    "<https://developers.cloudflare.com/workers/languages/python/packages/#supported-packages>"
   ]
  },
  {
   "cell_type": "code",
   "execution_count": 27,
   "metadata": {},
   "outputs": [],
   "source": [
    "from google.oauth2.service_account import Credentials\n",
    "from googleapiclient.discovery import build\n",
    "from datetime import datetime, timedelta\n",
    "\n",
    "# get_views(\"/posts/private-domain-checker\")\n",
    "# get_views(\"/about\")\n",
    "# get_views(\"/posts/artificial-general-intelligence\")\n",
    "def get_views(page_path: str):\n",
    "    SCOPES = ['https://www.googleapis.com/auth/analytics.readonly']\n",
    "    credentials = Credentials.from_service_account_file(\n",
    "        '/home/anon-b/Downloads/toknowviews-1730747751593-d5a762fdba11.json', \n",
    "        scopes=SCOPES)\n",
    "    analytics = build('analyticsdata', 'v1beta', credentials = credentials)\n",
    "    tomorrow_date = (datetime.now() + timedelta(days=1)).strftime('%Y-%m-%d')\n",
    "    body = {\n",
    "        \"dateRanges\": [{\n",
    "            \"startDate\": \"2024-01-01\",\n",
    "            \"endDate\": tomorrow_date\n",
    "        }],\n",
    "        \"dimensions\": [{\n",
    "            \"name\": \"pagePath\"\n",
    "        }],\n",
    "        \"dimensionFilter\": {\n",
    "            \"filter\": {\n",
    "                \"fieldName\": \"pagePath\",\n",
    "                \"stringFilter\": {\n",
    "                    \"matchType\": \"CONTAINS\",\n",
    "                    \"value\": page_path\n",
    "                }\n",
    "            }\n",
    "        },\n",
    "        \"metrics\": [{\n",
    "            \"name\": \"screenPageViews\"\n",
    "        }]\n",
    "    }\n",
    "    response = analytics.properties().runReport(\n",
    "        property=\"properties/447265843\",\n",
    "        body=body).execute()\n",
    "    counts = [\n",
    "        int(metricValue.get('value', 0))\n",
    "        for row \n",
    "        in response.get('rows', []) \n",
    "            for metricKey,metricValues \n",
    "            in row.items() \n",
    "                for metricValue \n",
    "                in metricValues\n",
    "                if metricKey == 'metricValues'\n",
    "    ]\n",
    "    return sum(counts)\n",
    "\n",
    "# New helper function to generate SVG badge\n",
    "def generate_views_badge(views: int):\n",
    "  views_text = str(views)\n",
    "  text_width = len(views_text) * 8 + 10 # Approximate width calculation\n",
    "  total_width = 80 + text_width  # Label + padding + views width\n",
    "  \n",
    "  return f'''<?xml version=\"1.0\" encoding=\"UTF-8\"?>\n",
    "    <svg xmlns=\"http://www.w3.org/2000/svg\" width=\"{total_width}\" height=\"20\">\n",
    "      <linearGradient id=\"b\" x2=\"0\" y2=\"100%\">\n",
    "        <stop offset=\"0\" stop-color=\"#bbb\" stop-opacity=\".1\"/>\n",
    "        <stop offset=\"1\" stop-opacity=\".1\"/>\n",
    "      </linearGradient>\n",
    "      <mask id=\"a\">\n",
    "        <rect width=\"{total_width}\" height=\"20\" rx=\"3\" fill=\"#fff\"/>\n",
    "      </mask>\n",
    "      <g mask=\"url(#a)\">\n",
    "        <rect width=\"80\" height=\"20\" fill=\"#555\"/>\n",
    "        <rect x=\"80\" width=\"{text_width}\" height=\"20\" fill=\"#4c1\"/>\n",
    "        <rect width=\"{total_width}\" height=\"20\" fill=\"url(#b)\"/>\n",
    "      </g>\n",
    "      <g fill=\"#fff\" text-anchor=\"middle\" font-family=\"DejaVu Sans,Verdana,Geneva,sans-serif\" font-size=\"11\">\n",
    "        <text x=\"40\" y=\"15\" fill=\"#010101\" fill-opacity=\".3\">Page Views</text>\n",
    "        <text x=\"40\" y=\"14\">Page Views</text>\n",
    "        <text x=\"{80 + text_width/2}\" y=\"15\" fill=\"#010101\" fill-opacity=\".3\">{views_text}</text>\n",
    "        <text x=\"{80 + text_width/2}\" y=\"14\">{views_text}</text>\n",
    "      </g>\n",
    "    </svg>'''.strip()\n",
    "\n",
    "def format_number(num: int|float):\n",
    "    \"\"\"\n",
    "    Format a number similar to YouTube's style:\n",
    "    - Less than 1000: show as is (100, 999)\n",
    "    - Thousands: show as K (1K, 1.3K)\n",
    "    - Millions: show as M (1.1M, 2.4M)\n",
    "    \n",
    "    Args:\n",
    "        num (int/float): Number to format\n",
    "        \n",
    "    Returns:\n",
    "        str: Formatted number string\n",
    "    \"\"\"\n",
    "    abs_num = abs(num)\n",
    "    sign = '-' if num < 0 else ''\n",
    "    \n",
    "    if abs_num < 1000:\n",
    "        return f\"{sign}{abs_num:d}\"\n",
    "        \n",
    "    elif abs_num < 1000000:\n",
    "        formatted = abs_num / 1000\n",
    "        # If the decimal part is 0, don't show it\n",
    "        if formatted.is_integer():\n",
    "            return f\"{sign}{int(formatted)}K\"\n",
    "        return f\"{sign}{formatted:.1f}K\"\n",
    "        \n",
    "    else:\n",
    "        formatted = abs_num / 1000000\n",
    "        if formatted.is_integer():\n",
    "            return f\"{sign}{int(formatted)}M\"\n",
    "        return f\"{sign}{formatted:.1f}M\""
   ]
  },
  {
   "cell_type": "code",
   "execution_count": 28,
   "metadata": {},
   "outputs": [
    {
     "data": {
      "image/svg+xml": [
       "<svg xmlns=\"http://www.w3.org/2000/svg\" width=\"122\" height=\"20\">\n",
       "      <linearGradient id=\"b\" x2=\"0\" y2=\"100%\">\n",
       "        <stop offset=\"0\" stop-color=\"#bbb\" stop-opacity=\".1\"/>\n",
       "        <stop offset=\"1\" stop-opacity=\".1\"/>\n",
       "      </linearGradient>\n",
       "      <mask id=\"a\">\n",
       "        <rect width=\"122\" height=\"20\" rx=\"3\" fill=\"#fff\"/>\n",
       "      </mask>\n",
       "      <g mask=\"url(#a)\">\n",
       "        <rect width=\"80\" height=\"20\" fill=\"#555\"/>\n",
       "        <rect x=\"80\" width=\"42\" height=\"20\" fill=\"#4c1\"/>\n",
       "        <rect width=\"122\" height=\"20\" fill=\"url(#b)\"/>\n",
       "      </g>\n",
       "      <g fill=\"#fff\" text-anchor=\"middle\" font-family=\"DejaVu Sans,Verdana,Geneva,sans-serif\" font-size=\"11\">\n",
       "        <text x=\"40\" y=\"15\" fill=\"#010101\" fill-opacity=\".3\">Page Views</text>\n",
       "        <text x=\"40\" y=\"14\">Page Views</text>\n",
       "        <text x=\"101.0\" y=\"15\" fill=\"#010101\" fill-opacity=\".3\">2.2M</text>\n",
       "        <text x=\"101.0\" y=\"14\">2.2M</text>\n",
       "      </g>\n",
       "    </svg>"
      ],
      "text/plain": [
       "<IPython.core.display.SVG object>"
      ]
     },
     "metadata": {},
     "output_type": "display_data"
    }
   ],
   "source": [
    "from IPython.display import SVG, display\n",
    "\n",
    "svg_code = generate_views_badge(format_number(2235433))\n",
    "display(SVG(svg_code))"
   ]
  }
 ],
 "metadata": {
  "kernelspec": {
   "display_name": ".venv",
   "language": "python",
   "name": "python3"
  },
  "language_info": {
   "codemirror_mode": {
    "name": "ipython",
    "version": 3
   },
   "file_extension": ".py",
   "mimetype": "text/x-python",
   "name": "python",
   "nbconvert_exporter": "python",
   "pygments_lexer": "ipython3",
   "version": "3.10.12"
  }
 },
 "nbformat": 4,
 "nbformat_minor": 2
}
