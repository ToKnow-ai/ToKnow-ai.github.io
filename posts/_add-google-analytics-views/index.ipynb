{
 "cells": [
  {
   "cell_type": "code",
   "execution_count": null,
   "metadata": {},
   "outputs": [],
   "source": [
    "%pip install google-auth-oauthlib\n",
    "%pip install --upgrade google-api-python-client"
   ]
  },
  {
   "cell_type": "code",
   "execution_count": 1,
   "metadata": {},
   "outputs": [],
   "source": [
    "from google.oauth2.service_account import Credentials\n",
    "from googleapiclient.discovery import build\n",
    "from datetime import datetime, timedelta\n",
    "\n",
    "# get_views(\"/posts/private-domain-checker\")\n",
    "# get_views(\"/about\")\n",
    "# get_views(\"/posts/artificial-general-intelligence\")\n",
    "def get_views(page_path: str):\n",
    "    SCOPES = ['https://www.googleapis.com/auth/analytics.readonly']\n",
    "    credentials = Credentials.from_service_account_file(\n",
    "        '/home/anon-b/Downloads/toknowviews-1730747751593-d5a762fdba11.json', \n",
    "        scopes=SCOPES)\n",
    "    analytics = build('analyticsdata', 'v1beta', credentials = credentials)\n",
    "    tomorrow_date = (datetime.now() + timedelta(days=1)).strftime('%Y-%m-%d')\n",
    "    body = {\n",
    "        \"dateRanges\": [{\n",
    "            \"startDate\": \"2024-01-01\",\n",
    "            \"endDate\": tomorrow_date\n",
    "        }],\n",
    "        \"dimensions\": [{\n",
    "            \"name\": \"pagePath\"\n",
    "        }],\n",
    "        \"dimensionFilter\": {\n",
    "            \"filter\": {\n",
    "                \"fieldName\": \"pagePath\",\n",
    "                \"stringFilter\": {\n",
    "                    \"matchType\": \"CONTAINS\",\n",
    "                    \"value\": page_path\n",
    "                }\n",
    "            }\n",
    "        },\n",
    "        \"metrics\": [{\n",
    "            \"name\": \"screenPageViews\"\n",
    "        }]\n",
    "    }\n",
    "    response = analytics.properties().runReport(\n",
    "        property=\"properties/447265843\",\n",
    "        body=body).execute()\n",
    "    counts = [\n",
    "        int(metricValue.get('value', 0))\n",
    "        for row \n",
    "        in response.get('rows', []) \n",
    "            for metricKey,metricValues \n",
    "            in row.items() \n",
    "                for metricValue \n",
    "                in metricValues\n",
    "                if metricKey == 'metricValues'\n",
    "    ]\n",
    "    return sum(counts)"
   ]
  },
  {
   "cell_type": "markdown",
   "metadata": {},
   "source": [
    "<https://gemini.google.com/app/9a1a99a1df31aab5>\n",
    "\n",
    "<https://claude.ai/chat/4309b5b3-dae7-44d1-ab94-4e3cd4a21633>\n",
    "\n",
    "<https://claude.ai/chat/30125116-bf87-42b5-9d71-09962e619a7e>"
   ]
  }
 ],
 "metadata": {
  "kernelspec": {
   "display_name": ".venv",
   "language": "python",
   "name": "python3"
  },
  "language_info": {
   "codemirror_mode": {
    "name": "ipython",
    "version": 3
   },
   "file_extension": ".py",
   "mimetype": "text/x-python",
   "name": "python",
   "nbconvert_exporter": "python",
   "pygments_lexer": "ipython3",
   "version": "3.10.12"
  }
 },
 "nbformat": 4,
 "nbformat_minor": 2
}
