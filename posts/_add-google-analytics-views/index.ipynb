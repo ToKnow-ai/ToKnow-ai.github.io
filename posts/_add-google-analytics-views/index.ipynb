{
 "cells": [
  {
   "cell_type": "code",
   "execution_count": null,
   "metadata": {},
   "outputs": [],
   "source": [
    "%pip install google-auth-oauthlib\n",
    "%pip install --upgrade google-api-python-client"
   ]
  },
  {
   "cell_type": "code",
   "execution_count": 4,
   "metadata": {},
   "outputs": [
    {
     "name": "stdout",
     "output_type": "stream",
     "text": [
      "Collecting aiofiles\n",
      "  Downloading aiofiles-24.1.0-py3-none-any.whl.metadata (10 kB)\n",
      "Downloading aiofiles-24.1.0-py3-none-any.whl (15 kB)\n",
      "Installing collected packages: aiofiles\n",
      "Successfully installed aiofiles-24.1.0\n",
      "Note: you may need to restart the kernel to use updated packages.\n"
     ]
    }
   ],
   "source": [
    "%pip install aiofiles"
   ]
  },
  {
   "cell_type": "code",
   "execution_count": 1,
   "metadata": {},
   "outputs": [],
   "source": [
    "import aiohttp\n",
    "import aiofiles\n",
    "import json\n",
    "from google.oauth2.service_account import Credentials\n",
    "from datetime import datetime, timedelta\n",
    "\n",
    "async def get_views(page_path: str):\n",
    "    SCOPES = ['https://www.googleapis.com/auth/analytics.readonly']\n",
    "    \n",
    "    async with aiofiles.open('/home/anon-b/Downloads/toknowviews-1730747751593-d5a762fdba11.json', mode='r') as f:\n",
    "        service_account_info = json.loads(await f.read())\n",
    "    \n",
    "    credentials = Credentials.from_service_account_info(service_account_info, scopes=SCOPES)\n",
    "    token = credentials.token\n",
    "    \n",
    "    tomorrow_date = (datetime.now() + timedelta(days=1)).strftime('%Y-%m-%d')\n",
    "    body = {\n",
    "        \"dateRanges\": [{\n",
    "            \"startDate\": \"2024-01-01\",\n",
    "            \"endDate\": tomorrow_date\n",
    "        }],\n",
    "        \"dimensions\": [{\n",
    "            \"name\": \"pagePath\"\n",
    "        }],\n",
    "        \"dimensionFilter\": {\n",
    "            \"filter\": {\n",
    "                \"fieldName\": \"pagePath\",\n",
    "                \"stringFilter\": {\n",
    "                    \"matchType\": \"CONTAINS\",\n",
    "                    \"value\": page_path\n",
    "                }\n",
    "            }\n",
    "        },\n",
    "        \"metrics\": [{\n",
    "            \"name\": \"screenPageViews\"\n",
    "        }]\n",
    "    }\n",
    "    \n",
    "    headers = {\n",
    "        'Authorization': f'Bearer {token}',\n",
    "        'Content-Type': 'application/json'\n",
    "    }\n",
    "    \n",
    "    async with aiohttp.ClientSession() as session:\n",
    "        async with session.post('https://analyticsdata.googleapis.com/v1beta/properties/447265843:runReport', headers=headers, json=body) as response:\n",
    "            response_json = await response.json()\n",
    "    \n",
    "    counts = [\n",
    "        int(metricValue.get('value', 0))\n",
    "        for row \n",
    "        in response_json.get('rows', []) \n",
    "            for metricKey, metricValues \n",
    "            in row.items() \n",
    "                for metricValue \n",
    "                in metricValues\n",
    "                if metricKey == 'metricValues'\n",
    "    ]\n",
    "    return sum(counts)"
   ]
  },
  {
   "cell_type": "code",
   "execution_count": 5,
   "metadata": {},
   "outputs": [
    {
     "data": {
      "text/plain": [
       "0"
      ]
     },
     "execution_count": 5,
     "metadata": {},
     "output_type": "execute_result"
    }
   ],
   "source": [
    "await get_views(\"/about\")"
   ]
  },
  {
   "cell_type": "markdown",
   "metadata": {},
   "source": [
    "<https://gemini.google.com/app/9a1a99a1df31aab5>\n",
    "\n",
    "<https://claude.ai/chat/4309b5b3-dae7-44d1-ab94-4e3cd4a21633>\n",
    "\n",
    "<https://claude.ai/chat/30125116-bf87-42b5-9d71-09962e619a7e>\n",
    "\n",
    "<https://developers.cloudflare.com/workers/languages/python/packages/#supported-packages>"
   ]
  }
 ],
 "metadata": {
  "kernelspec": {
   "display_name": ".venv",
   "language": "python",
   "name": "python3"
  },
  "language_info": {
   "codemirror_mode": {
    "name": "ipython",
    "version": 3
   },
   "file_extension": ".py",
   "mimetype": "text/x-python",
   "name": "python",
   "nbconvert_exporter": "python",
   "pygments_lexer": "ipython3",
   "version": "3.10.12"
  }
 },
 "nbformat": 4,
 "nbformat_minor": 2
}
